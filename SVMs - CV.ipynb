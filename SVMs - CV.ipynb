{
 "cells": [
  {
   "cell_type": "code",
   "execution_count": 5,
   "metadata": {
    "collapsed": true
   },
   "outputs": [],
   "source": [
    "import pandas as pd\n",
    "import pickle\n",
    "from ast import literal_eval\n",
    "import numpy as np\n",
    "from sklearn.feature_extraction.text import TfidfVectorizer\n",
    "from sklearn.model_selection import train_test_split\n",
    "from sklearn.metrics import accuracy_score, precision_score, recall_score, cohen_kappa_score, f1_score , confusion_matrix\n",
    "from nltk.corpus import stopwords\n",
    "from sklearn.svm import LinearSVC , NuSVC\n",
    "from germeval import *\n",
    "from utils import subtask_A_evaluation ,subtask_A_confusion_matrix , subtask_A_classification_report"
   ]
  },
  {
   "cell_type": "code",
   "execution_count": 6,
   "metadata": {},
   "outputs": [],
   "source": [
    "mlb =  pickle.load(open(\"tpv_tl_mlb_author_year_without_num.pickle\",'rb'))\n",
    "year_lb = pickle.load(open(\"tpv_tl_lb_author_year_without_num.pickle\",'rb'))\n",
    "vectorizer =  pickle.load(open(\"tpv_tl_train_author_vectorizer_without_num.pickle\",'rb'))\n",
    "\n",
    "X_train = pickle.load(open(\"tpv_tl_train_author_X_train_without_num.pickle\", \"rb\"))\n",
    "X_test = pickle.load(open(\"tpv_tl_train_author_X_test_without_num.pickle\", \"rb\"))\n",
    "y_train = pickle.load( open(\"tpv_tl_train_author_y_train_without_num.pickle\", \"rb\"))\n",
    "y_test = pickle.load(open(\"tpv_tl_train_author_y_test_without_num.pickle\", \"rb\"))\n",
    "# le_mapping = pickle.load(open(\"tpv_tl_train_author_le_mapping.pickle\", \"rb\")) # LabelEncoder Mapping"
   ]
  },
  {
   "cell_type": "code",
   "execution_count": 7,
   "metadata": {
    "collapsed": true
   },
   "outputs": [],
   "source": [
    "def build_model(clf, X_train,y_train):\n",
    "    clf.fit(X_train, y_train)\n",
    "    return clf"
   ]
  },
  {
   "cell_type": "markdown",
   "metadata": {},
   "source": [
    "## Linear SVC"
   ]
  },
  {
   "cell_type": "code",
   "execution_count": 8,
   "metadata": {
    "scrolled": true
   },
   "outputs": [
    {
     "data": {
      "text/plain": [
       "<19356x727991 sparse matrix of type '<class 'numpy.float64'>'\n",
       "\twith 2029432 stored elements in COOrdinate format>"
      ]
     },
     "execution_count": 8,
     "metadata": {},
     "output_type": "execute_result"
    }
   ],
   "source": [
    "X_train"
   ]
  },
  {
   "cell_type": "code",
   "execution_count": 9,
   "metadata": {
    "scrolled": true
   },
   "outputs": [
    {
     "data": {
      "text/plain": [
       "<4840x727991 sparse matrix of type '<class 'numpy.float64'>'\n",
       "\twith 391465 stored elements in COOrdinate format>"
      ]
     },
     "execution_count": 9,
     "metadata": {},
     "output_type": "execute_result"
    }
   ],
   "source": [
    "X_test"
   ]
  },
  {
   "cell_type": "code",
   "execution_count": 10,
   "metadata": {},
   "outputs": [
    {
     "name": "stdout",
     "output_type": "stream",
     "text": [
      "CPU times: user 44.4 ms, sys: 1.22 ms, total: 45.6 ms\n",
      "Wall time: 44 ms\n"
     ]
    }
   ],
   "source": [
    "%%time\n",
    "from scipy import sparse\n",
    "\n",
    "X_full = sparse.vstack((X_train,X_test))\n",
    "Y_full = np.concatenate((y_train,y_test))"
   ]
  },
  {
   "cell_type": "code",
   "execution_count": 11,
   "metadata": {},
   "outputs": [
    {
     "data": {
      "text/plain": [
       "(24196, 727991)"
      ]
     },
     "execution_count": 11,
     "metadata": {},
     "output_type": "execute_result"
    }
   ],
   "source": [
    "X_full.shape"
   ]
  },
  {
   "cell_type": "code",
   "execution_count": 12,
   "metadata": {},
   "outputs": [
    {
     "data": {
      "text/plain": [
       "Literatur & Unterhaltung      8318\n",
       "Kinderbuch & Jugendbuch       3616\n",
       "Sachbuch                      3048\n",
       "Ratgeber                      2298\n",
       "Ganzheitliches Bewusstsein     963\n",
       "Glaube & Ethik                 802\n",
       "Architektur & Garten           179\n",
       "Künste                         132\n",
       "Name: toplevel, dtype: int64"
      ]
     },
     "execution_count": 12,
     "metadata": {},
     "output_type": "execute_result"
    }
   ],
   "source": [
    "y_train.value_counts()"
   ]
  },
  {
   "cell_type": "code",
   "execution_count": 13,
   "metadata": {},
   "outputs": [
    {
     "data": {
      "text/plain": [
       "94"
      ]
     },
     "execution_count": 13,
     "metadata": {},
     "output_type": "execute_result"
    }
   ],
   "source": [
    "del X_test\n",
    "del X_train\n",
    "del y_train\n",
    "del y_test\n",
    "import gc\n",
    "gc.collect()"
   ]
  },
  {
   "cell_type": "code",
   "execution_count": 14,
   "metadata": {
    "collapsed": true,
    "scrolled": false
   },
   "outputs": [],
   "source": [
    "# from sklearn.grid_search import GridSearchCV\n",
    "\n",
    "# param_grid = {'C':[1,10,100,1000],'max_iter' : [1000,2000]}\n",
    "# grid = GridSearchCV(LinearSVC(),param_grid,refit = True, verbose=2)\n",
    "# grid.fit(X_train.toarray(),y_train)\n"
   ]
  },
  {
   "cell_type": "code",
   "execution_count": 15,
   "metadata": {
    "collapsed": true
   },
   "outputs": [],
   "source": [
    "# del X_full\n",
    "# del Y_full\n",
    "# gc.collect()"
   ]
  },
  {
   "cell_type": "code",
   "execution_count": 16,
   "metadata": {},
   "outputs": [],
   "source": [
    "X_full_array = X_full.tocsr()"
   ]
  },
  {
   "cell_type": "code",
   "execution_count": null,
   "metadata": {
    "collapsed": true
   },
   "outputs": [],
   "source": []
  },
  {
   "cell_type": "code",
   "execution_count": 20,
   "metadata": {},
   "outputs": [
    {
     "name": "stdout",
     "output_type": "stream",
     "text": [
      "[LibLinear][LibLinear]"
     ]
    },
    {
     "data": {
      "text/plain": [
       "array(['Glaube & Ethik', 'Sachbuch', 'Ratgeber', ...,\n",
       "       'Literatur & Unterhaltung', 'Literatur & Unterhaltung',\n",
       "       'Literatur & Unterhaltung'], dtype=object)"
      ]
     },
     "execution_count": 20,
     "metadata": {},
     "output_type": "execute_result"
    }
   ],
   "source": [
    "from sklearn.model_selection import cross_val_score , cross_val_predict\n",
    "lsvcclf = LinearSVC(random_state=42,max_iter=3000,verbose=1,class_weight= {'Kinderbuch & Jugendbuch': 1.8, 'Ratgeber': 3, 'Sachbuch': 2,'Glaube & Ethik' : 2 ,'Künste' : 6,'Architektur & Garten' : 6 })\n",
    "scores = cross_val_predict(lsvcclf,X_full,y=Y_full, cv=2)\n",
    "scores"
   ]
  },
  {
   "cell_type": "code",
   "execution_count": 45,
   "metadata": {},
   "outputs": [
    {
     "name": "stdout",
     "output_type": "stream",
     "text": [
      "Train Index:  [ 5772  5830  5854 ... 24193 24194 24195] \n",
      "\n",
      "Test Index:  6052\n",
      "[LibLinear]Train Index:  [    0     1     2 ... 24193 24194 24195] \n",
      "\n",
      "Test Index:  6051\n",
      "[LibLinear]Train Index:  [    0     1     2 ... 24193 24194 24195] \n",
      "\n",
      "Test Index:  6047\n",
      "[LibLinear]Train Index:  [    0     1     2 ... 18318 18325 18407] \n",
      "\n",
      "Test Index:  6046\n",
      "[LibLinear]"
     ]
    }
   ],
   "source": [
    "from sklearn.model_selection import StratifiedKFold\n",
    "fold_classes = []\n",
    "probas = []\n",
    "cv = StratifiedKFold(n_splits=4, random_state=42)\n",
    "for train_index, test_index in cv.split(X_full_array,Y_full):\n",
    "    print(\"Train Index: \", train_index, \"\\n\")\n",
    "    print(\"Test Index: \", len(test_index))\n",
    "    lsvcclf = LinearSVC(random_state=42,max_iter=3000,verbose=1,class_weight= {'Kinderbuch & Jugendbuch': 1.8, 'Ratgeber': 3, 'Sachbuch': 2,'Glaube & Ethik' : 2 ,'Künste' : 6,'Architektur & Garten' : 6 })\n",
    "    X_train, X_test, y_train, y_test = X_full_array[train_index,:727990], X_full_array[test_index,:727990], Y_full[train_index], Y_full[test_index]\n",
    "    lsvcclf.fit(X_train, y_train)\n",
    "    isbn_probas = list(zip(X_full_array[test_index,-1].toarray().astype(int),lsvcclf._predict_proba_lr(X_test)))\n",
    "    probas.append(isbn_probas)\n",
    "    fold_classes.append(lsvcclf.classes_)"
   ]
  },
  {
   "cell_type": "code",
   "execution_count": 46,
   "metadata": {},
   "outputs": [
    {
     "data": {
      "text/plain": [
       "[array(['Architektur & Garten', 'Ganzheitliches Bewusstsein',\n",
       "        'Glaube & Ethik', 'Kinderbuch & Jugendbuch', 'Künste',\n",
       "        'Literatur & Unterhaltung', 'Ratgeber', 'Sachbuch'], dtype=object),\n",
       " array(['Architektur & Garten', 'Ganzheitliches Bewusstsein',\n",
       "        'Glaube & Ethik', 'Kinderbuch & Jugendbuch', 'Künste',\n",
       "        'Literatur & Unterhaltung', 'Ratgeber', 'Sachbuch'], dtype=object),\n",
       " array(['Architektur & Garten', 'Ganzheitliches Bewusstsein',\n",
       "        'Glaube & Ethik', 'Kinderbuch & Jugendbuch', 'Künste',\n",
       "        'Literatur & Unterhaltung', 'Ratgeber', 'Sachbuch'], dtype=object),\n",
       " array(['Architektur & Garten', 'Ganzheitliches Bewusstsein',\n",
       "        'Glaube & Ethik', 'Kinderbuch & Jugendbuch', 'Künste',\n",
       "        'Literatur & Unterhaltung', 'Ratgeber', 'Sachbuch'], dtype=object)]"
      ]
     },
     "execution_count": 46,
     "metadata": {},
     "output_type": "execute_result"
    }
   ],
   "source": [
    "fold_classes"
   ]
  },
  {
   "cell_type": "code",
   "execution_count": 57,
   "metadata": {},
   "outputs": [],
   "source": [
    "all_probas = np.concatenate(probas)"
   ]
  },
  {
   "cell_type": "code",
   "execution_count": 66,
   "metadata": {},
   "outputs": [],
   "source": [
    "all_isbns = [i[0][0] for i in all_probas]"
   ]
  },
  {
   "cell_type": "code",
   "execution_count": 71,
   "metadata": {},
   "outputs": [],
   "source": [
    "classes = [ \"_\".join(i.split(\" \"))  for i in  ['Architektur & Garten', 'Ganzheitliches Bewusstsein',\n",
    "        'Glaube & Ethik', 'Kinderbuch & Jugendbuch', 'Künste',\n",
    "        'Literatur & Unterhaltung', 'Ratgeber', 'Sachbuch']]\n",
    "\n",
    "prob_dict = {}\n",
    "\n",
    "for idx,ele in enumerate(classes):\n",
    "    prob_dict[ele] = [i[1][idx] for i in all_probas]"
   ]
  },
  {
   "cell_type": "code",
   "execution_count": 73,
   "metadata": {},
   "outputs": [],
   "source": [
    "prob_dict[\"isbn\"] = all_isbns"
   ]
  },
  {
   "cell_type": "code",
   "execution_count": 74,
   "metadata": {},
   "outputs": [],
   "source": [
    "final_df = pd.DataFrame(prob_dict)"
   ]
  },
  {
   "cell_type": "code",
   "execution_count": 76,
   "metadata": {},
   "outputs": [
    {
     "data": {
      "text/html": [
       "<div>\n",
       "<style scoped>\n",
       "    .dataframe tbody tr th:only-of-type {\n",
       "        vertical-align: middle;\n",
       "    }\n",
       "\n",
       "    .dataframe tbody tr th {\n",
       "        vertical-align: top;\n",
       "    }\n",
       "\n",
       "    .dataframe thead th {\n",
       "        text-align: right;\n",
       "    }\n",
       "</style>\n",
       "<table border=\"1\" class=\"dataframe\">\n",
       "  <thead>\n",
       "    <tr style=\"text-align: right;\">\n",
       "      <th></th>\n",
       "      <th>Architektur_&amp;_Garten</th>\n",
       "      <th>Ganzheitliches_Bewusstsein</th>\n",
       "      <th>Glaube_&amp;_Ethik</th>\n",
       "      <th>Kinderbuch_&amp;_Jugendbuch</th>\n",
       "      <th>Künste</th>\n",
       "      <th>Literatur_&amp;_Unterhaltung</th>\n",
       "      <th>Ratgeber</th>\n",
       "      <th>Sachbuch</th>\n",
       "      <th>isbn</th>\n",
       "    </tr>\n",
       "  </thead>\n",
       "  <tbody>\n",
       "    <tr>\n",
       "      <th>0</th>\n",
       "      <td>0.106866</td>\n",
       "      <td>0.112087</td>\n",
       "      <td>0.158457</td>\n",
       "      <td>0.096202</td>\n",
       "      <td>0.101156</td>\n",
       "      <td>0.136062</td>\n",
       "      <td>0.132551</td>\n",
       "      <td>0.156619</td>\n",
       "      <td>9783466370498</td>\n",
       "    </tr>\n",
       "    <tr>\n",
       "      <th>1</th>\n",
       "      <td>0.109238</td>\n",
       "      <td>0.108080</td>\n",
       "      <td>0.112470</td>\n",
       "      <td>0.104316</td>\n",
       "      <td>0.114177</td>\n",
       "      <td>0.133175</td>\n",
       "      <td>0.112870</td>\n",
       "      <td>0.205674</td>\n",
       "      <td>9783791383057</td>\n",
       "    </tr>\n",
       "    <tr>\n",
       "      <th>2</th>\n",
       "      <td>0.106624</td>\n",
       "      <td>0.104510</td>\n",
       "      <td>0.110698</td>\n",
       "      <td>0.120817</td>\n",
       "      <td>0.099058</td>\n",
       "      <td>0.152557</td>\n",
       "      <td>0.175001</td>\n",
       "      <td>0.130735</td>\n",
       "      <td>9783641034382</td>\n",
       "    </tr>\n",
       "    <tr>\n",
       "      <th>3</th>\n",
       "      <td>0.100739</td>\n",
       "      <td>0.092295</td>\n",
       "      <td>0.105038</td>\n",
       "      <td>0.093231</td>\n",
       "      <td>0.099225</td>\n",
       "      <td>0.113389</td>\n",
       "      <td>0.277256</td>\n",
       "      <td>0.118827</td>\n",
       "      <td>9783641094867</td>\n",
       "    </tr>\n",
       "  </tbody>\n",
       "</table>\n",
       "</div>"
      ],
      "text/plain": [
       "   Architektur_&_Garten  Ganzheitliches_Bewusstsein  Glaube_&_Ethik  \\\n",
       "0              0.106866                    0.112087        0.158457   \n",
       "1              0.109238                    0.108080        0.112470   \n",
       "2              0.106624                    0.104510        0.110698   \n",
       "3              0.100739                    0.092295        0.105038   \n",
       "\n",
       "   Kinderbuch_&_Jugendbuch    Künste  Literatur_&_Unterhaltung  Ratgeber  \\\n",
       "0                 0.096202  0.101156                  0.136062  0.132551   \n",
       "1                 0.104316  0.114177                  0.133175  0.112870   \n",
       "2                 0.120817  0.099058                  0.152557  0.175001   \n",
       "3                 0.093231  0.099225                  0.113389  0.277256   \n",
       "\n",
       "   Sachbuch           isbn  \n",
       "0  0.156619  9783466370498  \n",
       "1  0.205674  9783791383057  \n",
       "2  0.130735  9783641034382  \n",
       "3  0.118827  9783641094867  "
      ]
     },
     "execution_count": 76,
     "metadata": {},
     "output_type": "execute_result"
    }
   ],
   "source": [
    "final_df.head(4)"
   ]
  },
  {
   "cell_type": "code",
   "execution_count": 78,
   "metadata": {},
   "outputs": [],
   "source": [
    "final_df.to_csv(\"predict_proba.csv\",index=False)"
   ]
  },
  {
   "cell_type": "code",
   "execution_count": null,
   "metadata": {
    "collapsed": true
   },
   "outputs": [],
   "source": []
  },
  {
   "cell_type": "markdown",
   "metadata": {},
   "source": [
    "# JUNK COPIED "
   ]
  },
  {
   "cell_type": "code",
   "execution_count": 30,
   "metadata": {},
   "outputs": [
    {
     "data": {
      "text/plain": [
       "<3x727991 sparse matrix of type '<class 'numpy.float64'>'\n",
       "\twith 361 stored elements in Compressed Sparse Row format>"
      ]
     },
     "execution_count": 30,
     "metadata": {},
     "output_type": "execute_result"
    }
   ],
   "source": [
    "X_full_array[[5772,5830,5854],:727990]"
   ]
  },
  {
   "cell_type": "code",
   "execution_count": 31,
   "metadata": {},
   "outputs": [
    {
     "data": {
      "text/plain": [
       "array([9783791356303, 9783453703421, 9783466306008])"
      ]
     },
     "execution_count": 31,
     "metadata": {},
     "output_type": "execute_result"
    }
   ],
   "source": [
    "np.concatenate(X_full_array[[5772,5830,5854],-1].toarray()).astype(int)"
   ]
  },
  {
   "cell_type": "code",
   "execution_count": 48,
   "metadata": {},
   "outputs": [
    {
     "data": {
      "text/plain": [
       "727990"
      ]
     },
     "execution_count": 48,
     "metadata": {},
     "output_type": "execute_result"
    }
   ],
   "source": [
    "X_full_array.shape[1]"
   ]
  },
  {
   "cell_type": "code",
   "execution_count": 21,
   "metadata": {},
   "outputs": [
    {
     "data": {
      "text/plain": [
       "array([0.10686607, 0.11208715, 0.15845702, 0.09620181, 0.10115622,\n",
       "       0.13606174, 0.13255078, 0.15661921])"
      ]
     },
     "execution_count": 21,
     "metadata": {},
     "output_type": "execute_result"
    }
   ],
   "source": [
    "probas"
   ]
  },
  {
   "cell_type": "code",
   "execution_count": 1,
   "metadata": {},
   "outputs": [
    {
     "ename": "NameError",
     "evalue": "name 'LinearSVC' is not defined",
     "output_type": "error",
     "traceback": [
      "\u001b[0;31m---------------------------------------------------------------------------\u001b[0m",
      "\u001b[0;31mNameError\u001b[0m                                 Traceback (most recent call last)",
      "\u001b[0;32m<timed exec>\u001b[0m in \u001b[0;36m<module>\u001b[0;34m()\u001b[0m\n",
      "\u001b[0;31mNameError\u001b[0m: name 'LinearSVC' is not defined"
     ]
    }
   ],
   "source": [
    "%%time\n",
    "# data = X_train.toarray(), X_test.toarray(), y_train, y_test\n",
    "lsvcclf = LinearSVC(random_state=42,max_iter=3000,verbose=1,class_weight= {'Kinderbuch & Jugendbuch': 1.8, 'Ratgeber': 3, 'Sachbuch': 2,'Glaube & Ethik' : 2 ,'Künste' : 6,'Architektur & Garten' : 6 })\n",
    "clf = build_model(lsvcclf,X_full,Y_full)"
   ]
  },
  {
   "cell_type": "markdown",
   "metadata": {},
   "source": [
    "## Plotting important features"
   ]
  },
  {
   "cell_type": "code",
   "execution_count": 54,
   "metadata": {
    "scrolled": true
   },
   "outputs": [
    {
     "ename": "MemoryError",
     "evalue": "",
     "output_type": "error",
     "traceback": [
      "\u001b[0;31m---------------------------------------------------------------------------\u001b[0m",
      "\u001b[0;31mMemoryError\u001b[0m                               Traceback (most recent call last)",
      "\u001b[0;32m<ipython-input-54-6540a7879ab4>\u001b[0m in \u001b[0;36m<module>\u001b[0;34m()\u001b[0m\n\u001b[1;32m     16\u001b[0m     \u001b[0mplt\u001b[0m\u001b[0;34m.\u001b[0m\u001b[0mshow\u001b[0m\u001b[0;34m(\u001b[0m\u001b[0;34m)\u001b[0m\u001b[0;34m\u001b[0m\u001b[0;34m\u001b[0m\u001b[0m\n\u001b[1;32m     17\u001b[0m \u001b[0;34m\u001b[0m\u001b[0m\n\u001b[0;32m---> 18\u001b[0;31m \u001b[0mplot_coefficients\u001b[0m\u001b[0;34m(\u001b[0m\u001b[0mlsvcclf\u001b[0m\u001b[0;34m,\u001b[0m \u001b[0mvectorizer\u001b[0m\u001b[0;34m.\u001b[0m\u001b[0mget_feature_names\u001b[0m\u001b[0;34m(\u001b[0m\u001b[0;34m)\u001b[0m\u001b[0;34m)\u001b[0m\u001b[0;34m\u001b[0m\u001b[0;34m\u001b[0m\u001b[0m\n\u001b[0m",
      "\u001b[0;32m<ipython-input-54-6540a7879ab4>\u001b[0m in \u001b[0;36mplot_coefficients\u001b[0;34m(classifier, vectorizer, top_features)\u001b[0m\n\u001b[1;32m      9\u001b[0m     \u001b[0mtop_coefficients\u001b[0m \u001b[0;34m=\u001b[0m \u001b[0mnp\u001b[0m\u001b[0;34m.\u001b[0m\u001b[0mhstack\u001b[0m\u001b[0;34m(\u001b[0m\u001b[0;34m[\u001b[0m\u001b[0mtop_negative_coefficients\u001b[0m\u001b[0;34m,\u001b[0m \u001b[0mtop_positive_coefficients\u001b[0m\u001b[0;34m]\u001b[0m\u001b[0;34m)\u001b[0m\u001b[0;34m\u001b[0m\u001b[0;34m\u001b[0m\u001b[0m\n\u001b[1;32m     10\u001b[0m     \u001b[0mplt\u001b[0m\u001b[0;34m.\u001b[0m\u001b[0mfigure\u001b[0m\u001b[0;34m(\u001b[0m\u001b[0mfigsize\u001b[0m\u001b[0;34m=\u001b[0m\u001b[0;34m(\u001b[0m\u001b[0;36m15\u001b[0m\u001b[0;34m,\u001b[0m \u001b[0;36m5\u001b[0m\u001b[0;34m)\u001b[0m\u001b[0;34m)\u001b[0m\u001b[0;34m\u001b[0m\u001b[0;34m\u001b[0m\u001b[0m\n\u001b[0;32m---> 11\u001b[0;31m     \u001b[0mco\u001b[0m \u001b[0;34m=\u001b[0m \u001b[0mcoef\u001b[0m\u001b[0;34m[\u001b[0m\u001b[0mtop_coefficients\u001b[0m\u001b[0;34m]\u001b[0m\u001b[0;34m\u001b[0m\u001b[0;34m\u001b[0m\u001b[0m\n\u001b[0m\u001b[1;32m     12\u001b[0m     \u001b[0mcolors\u001b[0m \u001b[0;34m=\u001b[0m \u001b[0;34m[\u001b[0m\u001b[0;34m\"red\"\u001b[0m \u001b[0;32mif\u001b[0m \u001b[0mc\u001b[0m \u001b[0;34m<\u001b[0m \u001b[0;36m0\u001b[0m \u001b[0;32melse\u001b[0m \u001b[0;34m\"blue\"\u001b[0m \u001b[0;32mfor\u001b[0m \u001b[0mc\u001b[0m \u001b[0;32min\u001b[0m \u001b[0mco\u001b[0m\u001b[0;34m]\u001b[0m\u001b[0;34m\u001b[0m\u001b[0;34m\u001b[0m\u001b[0m\n\u001b[1;32m     13\u001b[0m     \u001b[0mplt\u001b[0m\u001b[0;34m.\u001b[0m\u001b[0mbar\u001b[0m\u001b[0;34m(\u001b[0m\u001b[0mnp\u001b[0m\u001b[0;34m.\u001b[0m\u001b[0marange\u001b[0m\u001b[0;34m(\u001b[0m\u001b[0;36m2\u001b[0m \u001b[0;34m*\u001b[0m \u001b[0mtop_features\u001b[0m\u001b[0;34m)\u001b[0m\u001b[0;34m,\u001b[0m \u001b[0mco\u001b[0m\u001b[0;34m,\u001b[0m \u001b[0mcolor\u001b[0m\u001b[0;34m=\u001b[0m\u001b[0mcolors\u001b[0m\u001b[0;34m)\u001b[0m\u001b[0;34m\u001b[0m\u001b[0;34m\u001b[0m\u001b[0m\n",
      "\u001b[0;31mMemoryError\u001b[0m: "
     ]
    }
   ],
   "source": [
    "from sklearn.feature_extraction.text import CountVectorizer\n",
    "from sklearn.svm import LinearSVC\n",
    "import matplotlib.pyplot as plt\n",
    "\n",
    "def plot_coefficients(classifier, vectorizer, top_features=1):\n",
    "    coef = classifier.coef_\n",
    "    top_positive_coefficients = np.argsort(coef)[-top_features:]\n",
    "    top_negative_coefficients = np.argsort(coef)[:top_features]\n",
    "    top_coefficients = np.hstack([top_negative_coefficients, top_positive_coefficients])\n",
    "    plt.figure(figsize=(15, 5))\n",
    "    co = coef[top_coefficients]\n",
    "    colors = [\"red\" if c < 0 else \"blue\" for c in co]\n",
    "    plt.bar(np.arange(2 * top_features), co, color=colors)\n",
    "    feature_names = np.array(vectorizer.get_feature_names())\n",
    "    plt.xticks(np.arange(1, 1 + 2 * top_features), feature_names[top_coefficients], rotation=60, ha=\"right\")\n",
    "    plt.show()\n",
    "    \n",
    "plot_coefficients(lsvcclf, vectorizer.get_feature_names())"
   ]
  },
  {
   "cell_type": "code",
   "execution_count": null,
   "metadata": {
    "collapsed": true
   },
   "outputs": [],
   "source": [
    "a = np.argsort(lsvcclf.coef_.ravel())[:20].tolist()"
   ]
  },
  {
   "cell_type": "code",
   "execution_count": null,
   "metadata": {
    "collapsed": true
   },
   "outputs": [],
   "source": [
    "b = lsvcclf.coef_.ravel()[a]"
   ]
  },
  {
   "cell_type": "code",
   "execution_count": null,
   "metadata": {
    "collapsed": true
   },
   "outputs": [],
   "source": [
    "b"
   ]
  },
  {
   "cell_type": "code",
   "execution_count": null,
   "metadata": {
    "collapsed": true
   },
   "outputs": [],
   "source": [
    "c = np.argsort(lsvcclf.coef_.ravel())[-20:].tolist()"
   ]
  },
  {
   "cell_type": "code",
   "execution_count": null,
   "metadata": {
    "collapsed": true
   },
   "outputs": [],
   "source": [
    "d = lsvcclf.coef_.ravel()[c]"
   ]
  },
  {
   "cell_type": "code",
   "execution_count": null,
   "metadata": {
    "collapsed": true
   },
   "outputs": [],
   "source": [
    "d"
   ]
  },
  {
   "cell_type": "code",
   "execution_count": null,
   "metadata": {
    "collapsed": true
   },
   "outputs": [],
   "source": [
    "len(lsvcclf.coef_)"
   ]
  },
  {
   "cell_type": "code",
   "execution_count": null,
   "metadata": {
    "collapsed": true
   },
   "outputs": [],
   "source": [
    "len(lsvcclf.coef_[0])"
   ]
  },
  {
   "cell_type": "code",
   "execution_count": null,
   "metadata": {
    "collapsed": true
   },
   "outputs": [],
   "source": []
  },
  {
   "cell_type": "code",
   "execution_count": null,
   "metadata": {
    "collapsed": true
   },
   "outputs": [],
   "source": [
    "plt.figure(figsize=(15, 5))\n",
    "co = np.hstack((b,d))\n",
    "top_coefficients = np.hstack((a,c))\n",
    "print(top_coefficients)\n",
    "len()\n",
    "print(co)\n",
    "colors = [\"red\" if c < 0 else \"blue\" for c in co]\n",
    "print(len(co))\n",
    "plt.bar(np.arange(2 * 20), co, color=colors)\n",
    "feature_names = np.array(vectorizer.get_feature_names())\n",
    "plt.xticks(np.arange(1, 1 + 2 * 20), feature_names[top_coefficients], rotation=60, ha=\"right\")\n",
    "plt.show()"
   ]
  },
  {
   "cell_type": "markdown",
   "metadata": {},
   "source": [
    "# Lets get some metrics"
   ]
  },
  {
   "cell_type": "code",
   "execution_count": null,
   "metadata": {
    "collapsed": true
   },
   "outputs": [],
   "source": [
    "set(y_test.values.tolist())"
   ]
  },
  {
   "cell_type": "code",
   "execution_count": null,
   "metadata": {
    "collapsed": true
   },
   "outputs": [],
   "source": [
    "class_weight = {\"Kinderbuch & Jugendbuch\":1.8}"
   ]
  },
  {
   "cell_type": "code",
   "execution_count": 12,
   "metadata": {},
   "outputs": [
    {
     "name": "stdout",
     "output_type": "stream",
     "text": [
      "[LibLinear]"
     ]
    },
    {
     "name": "stderr",
     "output_type": "stream",
     "text": [
      "WARNING: It is not secure to place API token in your source code. You should treat it as a password to your account. It is strongly recommended to use NEPTUNE_API_TOKEN environment variable instead. Remember not to upload source file with API token to any public repository.\n"
     ]
    },
    {
     "name": "stdout",
     "output_type": "stream",
     "text": [
      "CPU times: user 3.46 s, sys: 139 ms, total: 3.6 s\n",
      "Wall time: 28.1 s\n"
     ]
    }
   ],
   "source": [
    "%%time\n",
    "import gc\n",
    "# data = X_train.toarray(), X_test.toarray(), y_train, y_test\n",
    "lsvcclf = LinearSVC(random_state=42,verbose=1,class_weight=class_weight)\n",
    "clf = build_model(lsvcclf,X_train,y_train)\n",
    "y_pred = clf.predict(X_test)\n",
    "push_metrics(y_pred,y_test,\"linearSVC : \" + str(class_weight))"
   ]
  },
  {
   "cell_type": "code",
   "execution_count": null,
   "metadata": {
    "collapsed": true
   },
   "outputs": [],
   "source": [
    "%matplotlib inline\n",
    "import seaborn as sns\n",
    "import pandas as pd\n",
    "import matplotlib.pyplot as plt\n",
    "array = confusion_matrix(y_pred,y_test.values)\n",
    "np.fill_diagonal(array,0)\n",
    "df_cm = pd.DataFrame(array, index = list(le_mapping.keys()),\n",
    "                  columns = list(le_mapping.keys()))\n",
    "plt.figure(figsize = (10,7))\n",
    "sn.heatmap(df_cm, annot=True,fmt=\".5g\")"
   ]
  },
  {
   "cell_type": "code",
   "execution_count": 9,
   "metadata": {
    "collapsed": true,
    "scrolled": true
   },
   "outputs": [],
   "source": [
    "# %%time\n",
    "# from sklearn.linear_model import SGDClassifier\n",
    "# # data = X_train.toarray(), X_test.toarray(), y_train, y_test\n",
    "# lsvcclf = SGDClassifier(random_state=42,verbose=1)\n",
    "# clf = build_model(lsvcclf,X_train,y_train)\n",
    "# y_pred = clf.predict(X_test)\n",
    "# push_metrics(y_pred,y_test,\"SGDC\")"
   ]
  },
  {
   "cell_type": "markdown",
   "metadata": {},
   "source": [
    "### Run the predictions on valiation for submission"
   ]
  },
  {
   "cell_type": "code",
   "execution_count": 13,
   "metadata": {
    "collapsed": true
   },
   "outputs": [],
   "source": [
    "validation_data = pd.read_csv(\"../../data/labeled_validation_data.csv\")"
   ]
  },
  {
   "cell_type": "code",
   "execution_count": 14,
   "metadata": {
    "collapsed": true
   },
   "outputs": [],
   "source": [
    "def combine_title_desc(row):\n",
    "    \"\"\"Combines the Title and Description fields in the given row\n",
    "    and returns the combined result\"\"\"\n",
    "    return str(row[\"title\"]) + \" \" + str(row[\"description\"])\n",
    "    #return str(row[\"title\"]) + \" \" + str(row[\"description\"]) + \" \" + str(row[\"author\"])"
   ]
  },
  {
   "cell_type": "code",
   "execution_count": 15,
   "metadata": {
    "collapsed": true
   },
   "outputs": [],
   "source": [
    "validation_tf_idf = vectorizer.transform(validation_data.apply(lambda row: combine_title_desc(row),axis=1))"
   ]
  },
  {
   "cell_type": "code",
   "execution_count": 16,
   "metadata": {
    "collapsed": true
   },
   "outputs": [],
   "source": [
    "validation_data[\"authors\"] = validation_data[\"author\"].apply(lambda x:[ i.strip() for i in str(x).split(\",\")])"
   ]
  },
  {
   "cell_type": "code",
   "execution_count": 17,
   "metadata": {
    "collapsed": true
   },
   "outputs": [],
   "source": [
    "validation_data[\"published_date_parsed\"] = pd.to_datetime(validation_data[\"published_date\"],infer_datetime_format=True)"
   ]
  },
  {
   "cell_type": "code",
   "execution_count": 18,
   "metadata": {
    "collapsed": true
   },
   "outputs": [],
   "source": [
    "validation_data[\"year\"] = validation_data[\"published_date_parsed\"].apply(lambda x: x.year)"
   ]
  },
  {
   "cell_type": "code",
   "execution_count": 19,
   "metadata": {},
   "outputs": [
    {
     "data": {
      "text/plain": [
       "(2079, 638284)"
      ]
     },
     "execution_count": 19,
     "metadata": {},
     "output_type": "execute_result"
    }
   ],
   "source": [
    "validation_tf_idf.shape"
   ]
  },
  {
   "cell_type": "code",
   "execution_count": 20,
   "metadata": {},
   "outputs": [
    {
     "data": {
      "text/plain": [
       "array([list(['Hans-Martin Lübking']), list(['Cate Tiernan']),\n",
       "       list(['Titus Müller']), ..., list(['Arthur C. Clarke']),\n",
       "       list(['Paul Levine']), list(['Robert Greene'])], dtype=object)"
      ]
     },
     "execution_count": 20,
     "metadata": {},
     "output_type": "execute_result"
    }
   ],
   "source": [
    "validation_data[\"authors\"].values"
   ]
  },
  {
   "cell_type": "code",
   "execution_count": 21,
   "metadata": {
    "collapsed": true
   },
   "outputs": [],
   "source": [
    "pickle.dump(validation_data[\"authors\"], open(\"validation_authors\", \"wb\"))"
   ]
  },
  {
   "cell_type": "code",
   "execution_count": 22,
   "metadata": {
    "collapsed": true
   },
   "outputs": [],
   "source": [
    "from scipy import sparse\n",
    "\n",
    "validation_author = mlb.transform(validation_data[\"authors\"].values)\n",
    "validation_year = year_lb.transform(validation_data[\"year\"].values)\n",
    "validation_all = sparse.hstack((validation_tf_idf,sparse.csr_matrix(validation_author),sparse.csr_matrix(validation_year)))"
   ]
  },
  {
   "cell_type": "code",
   "execution_count": 23,
   "metadata": {
    "collapsed": true
   },
   "outputs": [],
   "source": [
    "predictions = clf._predict_proba_lr(validation_all)"
   ]
  },
  {
   "cell_type": "code",
   "execution_count": 24,
   "metadata": {
    "collapsed": true
   },
   "outputs": [],
   "source": [
    "del X_full\n",
    "del Y_full"
   ]
  },
  {
   "cell_type": "code",
   "execution_count": 25,
   "metadata": {},
   "outputs": [
    {
     "data": {
      "text/plain": [
       "14"
      ]
     },
     "execution_count": 25,
     "metadata": {},
     "output_type": "execute_result"
    }
   ],
   "source": [
    "import gc\n",
    "gc.collect()"
   ]
  },
  {
   "cell_type": "code",
   "execution_count": 26,
   "metadata": {
    "collapsed": true
   },
   "outputs": [],
   "source": [
    "class_counts = pd.read_csv(\"class_count_predictions_from_svc_validation_set.csv\",header=None)"
   ]
  },
  {
   "cell_type": "code",
   "execution_count": 27,
   "metadata": {
    "collapsed": true
   },
   "outputs": [],
   "source": [
    "def getClasses(class_probs,class_count):\n",
    "    arr = np.array(class_probs)\n",
    "    return arr.argsort()[-1 * class_count:][::-1]"
   ]
  },
  {
   "cell_type": "code",
   "execution_count": 28,
   "metadata": {
    "collapsed": true
   },
   "outputs": [],
   "source": [
    "y_prob_list = [i.tolist() for i in predictions]"
   ]
  },
  {
   "cell_type": "code",
   "execution_count": 29,
   "metadata": {
    "collapsed": true
   },
   "outputs": [],
   "source": [
    "validation_data[\"class_probs\"] = y_prob_list"
   ]
  },
  {
   "cell_type": "code",
   "execution_count": 30,
   "metadata": {
    "collapsed": true
   },
   "outputs": [],
   "source": [
    "validation_data[\"class_count\"] = class_counts.values"
   ]
  },
  {
   "cell_type": "code",
   "execution_count": 31,
   "metadata": {
    "collapsed": true
   },
   "outputs": [],
   "source": [
    "# validation_data[\"predictions\"]  = \n",
    "validation_data[\"class_predictions_e\"] = validation_data.apply(lambda x:getClasses(x[\"class_probs\"],x[\"class_count\"]),axis=1)"
   ]
  },
  {
   "cell_type": "code",
   "execution_count": 32,
   "metadata": {
    "collapsed": true
   },
   "outputs": [],
   "source": [
    "le_mapping_inv = {v: k for k, v in le_mapping.items()}\n",
    "\n",
    "def reverseMap(number):\n",
    "    return le_mapping_inv[number]"
   ]
  },
  {
   "cell_type": "code",
   "execution_count": 33,
   "metadata": {
    "collapsed": true
   },
   "outputs": [],
   "source": [
    "validation_data[\"class_predictions\"] = validation_data[\"class_predictions_e\"].apply(lambda x: [reverseMap(i) for i in x])"
   ]
  },
  {
   "cell_type": "code",
   "execution_count": 34,
   "metadata": {
    "collapsed": true
   },
   "outputs": [],
   "source": [
    "def formatOutput(isbn,class_predictions):\n",
    "    classes = [\"\\t\"+str(i) for i in class_predictions]\n",
    "    return str(isbn) + \"\".join(classes) + \"\\n\""
   ]
  },
  {
   "cell_type": "code",
   "execution_count": 35,
   "metadata": {
    "collapsed": true
   },
   "outputs": [],
   "source": [
    "validation_data[\"class_predictions_top_level\"] = validation_data[\"class_predictions\"].apply(lambda cat_paths: [x.split(\" > \")[0] for x in cat_paths])"
   ]
  },
  {
   "cell_type": "code",
   "execution_count": 36,
   "metadata": {
    "collapsed": true
   },
   "outputs": [],
   "source": [
    "validation_data[\"categories\"] = validation_data[\"categories\"].apply(lambda x : literal_eval(x))"
   ]
  },
  {
   "cell_type": "code",
   "execution_count": 37,
   "metadata": {
    "collapsed": true
   },
   "outputs": [],
   "source": [
    "validation_data[\"actual_toplevel\"] = validation_data[\"categories\"].apply(lambda x:list(set([i.split(\" > \")[0] for i in x]))).values"
   ]
  },
  {
   "cell_type": "code",
   "execution_count": 38,
   "metadata": {},
   "outputs": [
    {
     "data": {
      "text/html": [
       "<div>\n",
       "<style scoped>\n",
       "    .dataframe tbody tr th:only-of-type {\n",
       "        vertical-align: middle;\n",
       "    }\n",
       "\n",
       "    .dataframe tbody tr th {\n",
       "        vertical-align: top;\n",
       "    }\n",
       "\n",
       "    .dataframe thead th {\n",
       "        text-align: right;\n",
       "    }\n",
       "</style>\n",
       "<table border=\"1\" class=\"dataframe\">\n",
       "  <thead>\n",
       "    <tr style=\"text-align: right;\">\n",
       "      <th></th>\n",
       "      <th>Unnamed: 0</th>\n",
       "      <th>title</th>\n",
       "      <th>description</th>\n",
       "      <th>categories</th>\n",
       "      <th>author</th>\n",
       "      <th>published_date</th>\n",
       "      <th>isbn</th>\n",
       "      <th>authors</th>\n",
       "      <th>published_date_parsed</th>\n",
       "      <th>year</th>\n",
       "      <th>class_probs</th>\n",
       "      <th>class_count</th>\n",
       "      <th>class_predictions_e</th>\n",
       "      <th>class_predictions</th>\n",
       "      <th>class_predictions_top_level</th>\n",
       "      <th>actual_toplevel</th>\n",
       "    </tr>\n",
       "  </thead>\n",
       "  <tbody>\n",
       "    <tr>\n",
       "      <th>0</th>\n",
       "      <td>14548</td>\n",
       "      <td>Selbstständig werden im Glauben</td>\n",
       "      <td>Die Konfirmandenzeit wird für Jugendliche beso...</td>\n",
       "      <td>[Glaube &amp; Ethik &gt; Gemeindearbeit &gt; Konfirmatio...</td>\n",
       "      <td>Hans-Martin Lübking</td>\n",
       "      <td>2013-07-22</td>\n",
       "      <td>9783579074030</td>\n",
       "      <td>[Hans-Martin Lübking]</td>\n",
       "      <td>2013-07-22</td>\n",
       "      <td>2013</td>\n",
       "      <td>[0.10417449185542187, 0.09689940202485316, 0.2...</td>\n",
       "      <td>1</td>\n",
       "      <td>[2]</td>\n",
       "      <td>[Glaube &amp; Ethik]</td>\n",
       "      <td>[Glaube &amp; Ethik]</td>\n",
       "      <td>[Glaube &amp; Ethik]</td>\n",
       "    </tr>\n",
       "    <tr>\n",
       "      <th>1</th>\n",
       "      <td>14549</td>\n",
       "      <td>Das Buch der Schatten - Schwarze Seelen</td>\n",
       "      <td>Als Morgan von einer prophetischen Vision heim...</td>\n",
       "      <td>[Kinderbuch &amp; Jugendbuch &gt; Echtes Leben, Reali...</td>\n",
       "      <td>Cate Tiernan</td>\n",
       "      <td>2013-06-10</td>\n",
       "      <td>9783570380093</td>\n",
       "      <td>[Cate Tiernan]</td>\n",
       "      <td>2013-06-10</td>\n",
       "      <td>2013</td>\n",
       "      <td>[0.10656294486286495, 0.10047678792001151, 0.1...</td>\n",
       "      <td>1</td>\n",
       "      <td>[3]</td>\n",
       "      <td>[Kinderbuch &amp; Jugendbuch]</td>\n",
       "      <td>[Kinderbuch &amp; Jugendbuch]</td>\n",
       "      <td>[Kinderbuch &amp; Jugendbuch]</td>\n",
       "    </tr>\n",
       "  </tbody>\n",
       "</table>\n",
       "</div>"
      ],
      "text/plain": [
       "   Unnamed: 0                                    title  \\\n",
       "0       14548          Selbstständig werden im Glauben   \n",
       "1       14549  Das Buch der Schatten - Schwarze Seelen   \n",
       "\n",
       "                                         description  \\\n",
       "0  Die Konfirmandenzeit wird für Jugendliche beso...   \n",
       "1  Als Morgan von einer prophetischen Vision heim...   \n",
       "\n",
       "                                          categories               author  \\\n",
       "0  [Glaube & Ethik > Gemeindearbeit > Konfirmatio...  Hans-Martin Lübking   \n",
       "1  [Kinderbuch & Jugendbuch > Echtes Leben, Reali...         Cate Tiernan   \n",
       "\n",
       "  published_date           isbn                authors published_date_parsed  \\\n",
       "0     2013-07-22  9783579074030  [Hans-Martin Lübking]            2013-07-22   \n",
       "1     2013-06-10  9783570380093         [Cate Tiernan]            2013-06-10   \n",
       "\n",
       "   year                                        class_probs  class_count  \\\n",
       "0  2013  [0.10417449185542187, 0.09689940202485316, 0.2...            1   \n",
       "1  2013  [0.10656294486286495, 0.10047678792001151, 0.1...            1   \n",
       "\n",
       "  class_predictions_e          class_predictions class_predictions_top_level  \\\n",
       "0                 [2]           [Glaube & Ethik]            [Glaube & Ethik]   \n",
       "1                 [3]  [Kinderbuch & Jugendbuch]   [Kinderbuch & Jugendbuch]   \n",
       "\n",
       "             actual_toplevel  \n",
       "0           [Glaube & Ethik]  \n",
       "1  [Kinderbuch & Jugendbuch]  "
      ]
     },
     "execution_count": 38,
     "metadata": {},
     "output_type": "execute_result"
    }
   ],
   "source": [
    "validation_data.head(2)"
   ]
  },
  {
   "cell_type": "code",
   "execution_count": 39,
   "metadata": {},
   "outputs": [
    {
     "data": {
      "text/plain": [
       "[0.8340807174887892,\n",
       " 0.8736496007515265,\n",
       " 0.8534067446662079,\n",
       " 0.8186628186628186]"
      ]
     },
     "execution_count": 39,
     "metadata": {},
     "output_type": "execute_result"
    }
   ],
   "source": [
    "y_true = validation_data[\"actual_toplevel\"].values\n",
    "y_pred = validation_data[\"class_predictions_top_level\"]\n",
    "subtask_A_evaluation(y_true,y_pred)"
   ]
  },
  {
   "cell_type": "code",
   "execution_count": 40,
   "metadata": {},
   "outputs": [
    {
     "data": {
      "text/plain": [
       "array([[[2061,    1],\n",
       "        [  10,    7]],\n",
       "\n",
       "       [[1961,    6],\n",
       "        [  38,   74]],\n",
       "\n",
       "       [[1983,    6],\n",
       "        [  27,   63]],\n",
       "\n",
       "       [[1778,   13],\n",
       "        [  76,  212]],\n",
       "\n",
       "       [[2060,    1],\n",
       "        [  10,    8]],\n",
       "\n",
       "       [[ 833,  139],\n",
       "        [  41, 1066]],\n",
       "\n",
       "       [[1770,   49],\n",
       "        [  62,  198]],\n",
       "\n",
       "       [[1687,   54],\n",
       "        [ 106,  232]]])"
      ]
     },
     "execution_count": 40,
     "metadata": {},
     "output_type": "execute_result"
    }
   ],
   "source": [
    "y_true = validation_data[\"actual_toplevel\"].values\n",
    "y_pred = validation_data[\"class_predictions_top_level\"]\n",
    "subtask_A_confusion_matrix(y_true,y_pred)"
   ]
  },
  {
   "cell_type": "code",
   "execution_count": 41,
   "metadata": {},
   "outputs": [
    {
     "name": "stdout",
     "output_type": "stream",
     "text": [
      "                            precision    recall  f1-score   support\n",
      "\n",
      "      Architektur & Garten       0.88      0.41      0.56        17\n",
      "Ganzheitliches Bewusstsein       0.93      0.66      0.77       112\n",
      "            Glaube & Ethik       0.91      0.70      0.79        90\n",
      "   Kinderbuch & Jugendbuch       0.94      0.74      0.83       288\n",
      "                    Künste       0.89      0.44      0.59        18\n",
      "  Literatur & Unterhaltung       0.88      0.96      0.92      1107\n",
      "                  Ratgeber       0.80      0.76      0.78       260\n",
      "                  Sachbuch       0.81      0.69      0.74       338\n",
      "\n",
      "                 micro avg       0.87      0.83      0.85      2230\n",
      "                 macro avg       0.88      0.67      0.75      2230\n",
      "              weighted avg       0.87      0.83      0.85      2230\n",
      "               samples avg       0.88      0.85      0.86      2230\n",
      "\n"
     ]
    }
   ],
   "source": [
    "y_true = validation_data[\"actual_toplevel\"].values\n",
    "y_pred = validation_data[\"class_predictions_top_level\"]\n",
    "print(subtask_A_classification_report(y_true,y_pred))"
   ]
  },
  {
   "cell_type": "code",
   "execution_count": 84,
   "metadata": {},
   "outputs": [
    {
     "data": {
      "text/plain": [
       "array([list(['Glaube & Ethik']), list(['Kinderbuch & Jugendbuch']),\n",
       "       list(['Literatur & Unterhaltung']), ...,\n",
       "       list(['Literatur & Unterhaltung']),\n",
       "       list(['Literatur & Unterhaltung']),\n",
       "       list(['Sachbuch', 'Ganzheitliches Bewusstsein', 'Ratgeber'])],\n",
       "      dtype=object)"
      ]
     },
     "execution_count": 84,
     "metadata": {},
     "output_type": "execute_result"
    }
   ],
   "source": [
    "y_true"
   ]
  },
  {
   "cell_type": "code",
   "execution_count": 45,
   "metadata": {
    "collapsed": true,
    "scrolled": true
   },
   "outputs": [],
   "source": [
    "submissions = validation_data.apply(lambda x:formatOutput(x[\"isbn\"],x[\"class_predictions_top_level\"]),axis=1).values"
   ]
  },
  {
   "cell_type": "code",
   "execution_count": 44,
   "metadata": {
    "collapsed": true
   },
   "outputs": [],
   "source": [
    "submissions = np.insert(submissions,0,\"subtask_a\\n\")"
   ]
  },
  {
   "cell_type": "code",
   "execution_count": 45,
   "metadata": {
    "collapsed": true
   },
   "outputs": [],
   "source": [
    "submission_format = \"\".join(submissions)"
   ]
  },
  {
   "cell_type": "code",
   "execution_count": 46,
   "metadata": {
    "collapsed": true
   },
   "outputs": [],
   "source": [
    "submission_file = open(\"../../data/answers_svm_with_class_unsampling_with_author_year_test_set.txt\",'w')"
   ]
  },
  {
   "cell_type": "code",
   "execution_count": 47,
   "metadata": {
    "collapsed": true
   },
   "outputs": [],
   "source": [
    "submission_file.writelines(submission_format)"
   ]
  },
  {
   "cell_type": "code",
   "execution_count": null,
   "metadata": {
    "collapsed": true
   },
   "outputs": [],
   "source": []
  },
  {
   "cell_type": "markdown",
   "metadata": {},
   "source": [
    "## Lets check the confusion matrix (Do not run this , this will take long time and will not yield good results)"
   ]
  },
  {
   "cell_type": "code",
   "execution_count": 9,
   "metadata": {},
   "outputs": [
    {
     "data": {
      "text/plain": [
       "array(['Literatur & Unterhaltung', 'Literatur & Unterhaltung', 'Sachbuch',\n",
       "       ..., 'Ratgeber', 'Kinderbuch & Jugendbuch',\n",
       "       'Literatur & Unterhaltung'], dtype=object)"
      ]
     },
     "execution_count": 9,
     "metadata": {},
     "output_type": "execute_result"
    }
   ],
   "source": [
    "y_test.values"
   ]
  },
  {
   "cell_type": "code",
   "execution_count": null,
   "metadata": {
    "collapsed": true
   },
   "outputs": [],
   "source": [
    "import seaborn as sn\n",
    "import pandas as pd\n",
    "import matplotlib.pyplot as plt\n",
    "array = confusion_matrix(y_pred,y_test.values)\n",
    "np.fill_diagonal(array,0)\n",
    "df_cm = pd.DataFrame(array, index = list(le_mapping.keys()),\n",
    "                  columns = list(le_mapping.keys()))\n",
    "plt.figure(figsize = (10,7))\n",
    "sn.heatmap(df_cm, annot=True,fmt=\".5g\")\n"
   ]
  },
  {
   "cell_type": "code",
   "execution_count": null,
   "metadata": {
    "collapsed": true
   },
   "outputs": [],
   "source": [
    "inv_map = {v: k for k, v in le_mapping.items()}"
   ]
  },
  {
   "cell_type": "code",
   "execution_count": null,
   "metadata": {
    "collapsed": true
   },
   "outputs": [],
   "source": [
    "y_pred_top = [inv_map[i].split(\" > \")[0] for i in y_pred]"
   ]
  },
  {
   "cell_type": "code",
   "execution_count": null,
   "metadata": {
    "collapsed": true
   },
   "outputs": [],
   "source": [
    "y_test_top = [inv_map[i].split(\" > \")[0] for i in y_test]"
   ]
  },
  {
   "cell_type": "code",
   "execution_count": null,
   "metadata": {
    "collapsed": true
   },
   "outputs": [],
   "source": [
    "confarray = confusion_matrix(y_test_top, y_pred_top,labels=list(set(y_test_top)))\n",
    "confarray.shape"
   ]
  },
  {
   "cell_type": "code",
   "execution_count": null,
   "metadata": {
    "collapsed": true
   },
   "outputs": [],
   "source": [
    "conf = pd.DataFrame(confarray,columns=list(set(y_test_top)))\n",
    "conf.index = list(set(y_test_top))"
   ]
  },
  {
   "cell_type": "code",
   "execution_count": null,
   "metadata": {
    "collapsed": true
   },
   "outputs": [],
   "source": [
    "import matplotlib.pyplot as plt\n",
    "import seaborn as sns\n",
    "plt.figure(figsize = (10,7))\n",
    "sns.heatmap(conf, annot=True,fmt=\"0.5g\")"
   ]
  },
  {
   "cell_type": "code",
   "execution_count": 17,
   "metadata": {},
   "outputs": [
    {
     "data": {
      "text/plain": [
       "0.8235294117647058"
      ]
     },
     "execution_count": 17,
     "metadata": {},
     "output_type": "execute_result"
    }
   ],
   "source": [
    "accuracy_score(y_pred_top,y_test_top)"
   ]
  },
  {
   "cell_type": "code",
   "execution_count": 21,
   "metadata": {},
   "outputs": [
    {
     "data": {
      "text/plain": [
       "array([[  36,    0,    0,    1,    0,    0,    3,    1],\n",
       "       [   1,  144,   11,    0,    0,    1,   35,   14],\n",
       "       [   0,    8,  123,    2,    0,    9,    0,   28],\n",
       "       [   0,    3,    1,  687,    2,   83,   19,    9],\n",
       "       [   0,    0,    2,    2,   19,    0,    2,    8],\n",
       "       [   2,    8,   19,   77,    3, 1697,   22,  123],\n",
       "       [   3,   46,    4,   14,    2,    5,  363,   59],\n",
       "       [   0,    2,   13,    5,    3,   35,   57,  417]])"
      ]
     },
     "execution_count": 21,
     "metadata": {},
     "output_type": "execute_result"
    }
   ],
   "source": [
    "confusion_matrix(y_pred_top,y_test_top)"
   ]
  },
  {
   "cell_type": "code",
   "execution_count": 2,
   "metadata": {},
   "outputs": [
    {
     "name": "stdout",
     "output_type": "stream",
     "text": [
      "Apples 8566208034543834098 apple\n",
      "and 2283656566040971221 and\n",
      "oranges 2208928596161743350 orange\n",
      "are 10382539506755952630 be\n",
      "similar 18166476740537071113 similar\n",
      ". 12646065887601541794 .\n",
      "Boots 9918665227421442029 boot\n",
      "and 2283656566040971221 and\n",
      "hippos 6542994350242320795 hippo\n",
      "are 10382539506755952630 be\n",
      "n't 447765159362469301 not\n",
      ". 12646065887601541794 .\n"
     ]
    }
   ],
   "source": [
    "import spacy\n",
    "nlp = spacy.load('en')\n",
    "\n",
    "doc = nlp(u\"Apples and oranges are similar. Boots and hippos aren't.\")\n",
    "\n",
    "for token in doc:\n",
    "    print(token, token.lemma, token.lemma_)"
   ]
  },
  {
   "cell_type": "code",
   "execution_count": 4,
   "metadata": {},
   "outputs": [
    {
     "data": {
      "text/plain": [
       "['duck']"
      ]
     },
     "execution_count": 4,
     "metadata": {},
     "output_type": "execute_result"
    }
   ],
   "source": [
    "lemmas"
   ]
  },
  {
   "cell_type": "markdown",
   "metadata": {
    "collapsed": true
   },
   "source": [
    "### Analyse the confusions "
   ]
  },
  {
   "cell_type": "code",
   "execution_count": 12,
   "metadata": {
    "collapsed": true
   },
   "outputs": [],
   "source": [
    "test_books = pd.read_csv(\"tl_test_books.csv\")"
   ]
  },
  {
   "cell_type": "code",
   "execution_count": 15,
   "metadata": {
    "collapsed": true
   },
   "outputs": [],
   "source": [
    "test_books[\"y_test\"] = y_test.values\n",
    "test_books[\"y_pred\"] = y_pred"
   ]
  },
  {
   "cell_type": "code",
   "execution_count": 23,
   "metadata": {
    "collapsed": true
   },
   "outputs": [],
   "source": [
    "mistakes = test_books[(test_books[\"y_pred\"] == \"Literatur & Unterhaltung\") & (test_books[\"y_test\"] == \"Kinderbuch & Jugendbuch\")]"
   ]
  },
  {
   "cell_type": "code",
   "execution_count": 24,
   "metadata": {},
   "outputs": [
    {
     "data": {
      "text/plain": [
       "94"
      ]
     },
     "execution_count": 24,
     "metadata": {},
     "output_type": "execute_result"
    }
   ],
   "source": [
    "len(mistakes)"
   ]
  },
  {
   "cell_type": "code",
   "execution_count": null,
   "metadata": {
    "collapsed": true
   },
   "outputs": [],
   "source": [
    "mistakes"
   ]
  },
  {
   "cell_type": "code",
   "execution_count": null,
   "metadata": {
    "collapsed": true
   },
   "outputs": [],
   "source": []
  },
  {
   "cell_type": "code",
   "execution_count": 51,
   "metadata": {
    "collapsed": true
   },
   "outputs": [],
   "source": [
    "pred_test = list(zip(y_pred,y_test))\n",
    "e = enumerate(pred_test)\n",
    "ids = [i[0] for i in e if i[1] == (\"Literatur & Unterhaltung\",\"Kinderbuch & Jugendbuch\")]"
   ]
  },
  {
   "cell_type": "code",
   "execution_count": 52,
   "metadata": {},
   "outputs": [
    {
     "data": {
      "text/plain": [
       "[7,\n",
       " 93,\n",
       " 102,\n",
       " 286,\n",
       " 287,\n",
       " 415,\n",
       " 416,\n",
       " 463,\n",
       " 529,\n",
       " 539,\n",
       " 542,\n",
       " 553,\n",
       " 574,\n",
       " 575,\n",
       " 594,\n",
       " 638,\n",
       " 644,\n",
       " 671,\n",
       " 756,\n",
       " 799,\n",
       " 806,\n",
       " 904,\n",
       " 928,\n",
       " 970,\n",
       " 995,\n",
       " 1008,\n",
       " 1066,\n",
       " 1068,\n",
       " 1225,\n",
       " 1234,\n",
       " 1291,\n",
       " 1301,\n",
       " 1302,\n",
       " 1369,\n",
       " 1435,\n",
       " 1547,\n",
       " 1648,\n",
       " 1650,\n",
       " 1684,\n",
       " 1694,\n",
       " 1727,\n",
       " 1848,\n",
       " 1849,\n",
       " 1928,\n",
       " 1961,\n",
       " 2023,\n",
       " 2034,\n",
       " 2076,\n",
       " 2091,\n",
       " 2126,\n",
       " 2180,\n",
       " 2188,\n",
       " 2189,\n",
       " 2223,\n",
       " 2334,\n",
       " 2356,\n",
       " 2509,\n",
       " 2543,\n",
       " 2544,\n",
       " 2671,\n",
       " 2734,\n",
       " 2745,\n",
       " 2781,\n",
       " 2811,\n",
       " 2820,\n",
       " 2880,\n",
       " 2963,\n",
       " 2966,\n",
       " 3016,\n",
       " 3057,\n",
       " 3070,\n",
       " 3093,\n",
       " 3103,\n",
       " 3112,\n",
       " 3127,\n",
       " 3296,\n",
       " 3299,\n",
       " 3470,\n",
       " 3536,\n",
       " 3574,\n",
       " 3637,\n",
       " 3734,\n",
       " 3805,\n",
       " 3810,\n",
       " 3829,\n",
       " 3838,\n",
       " 3910,\n",
       " 3925,\n",
       " 3948,\n",
       " 3953,\n",
       " 4092,\n",
       " 4155,\n",
       " 4204,\n",
       " 4231]"
      ]
     },
     "execution_count": 52,
     "metadata": {},
     "output_type": "execute_result"
    }
   ],
   "source": [
    "ids"
   ]
  },
  {
   "cell_type": "code",
   "execution_count": null,
   "metadata": {
    "collapsed": true
   },
   "outputs": [],
   "source": []
  },
  {
   "cell_type": "code",
   "execution_count": 36,
   "metadata": {},
   "outputs": [
    {
     "data": {
      "text/plain": [
       "[('Literatur & Unterhaltung', 'Literatur & Unterhaltung'),\n",
       " ('Literatur & Unterhaltung', 'Literatur & Unterhaltung'),\n",
       " ('Sachbuch', 'Literatur & Unterhaltung'),\n",
       " ('Architektur & Garten', 'Architektur & Garten'),\n",
       " ('Literatur & Unterhaltung', 'Literatur & Unterhaltung'),\n",
       " ('Literatur & Unterhaltung', 'Literatur & Unterhaltung'),\n",
       " ('Ratgeber', 'Ratgeber'),\n",
       " ('Ganzheitliches Bewusstsein', 'Ganzheitliches Bewusstsein'),\n",
       " ('Ganzheitliches Bewusstsein', 'Ganzheitliches Bewusstsein'),\n",
       " ('Architektur & Garten', 'Architektur & Garten'),\n",
       " ('Sachbuch', 'Sachbuch'),\n",
       " ('Ratgeber', 'Ratgeber'),\n",
       " ('Literatur & Unterhaltung', 'Literatur & Unterhaltung'),\n",
       " ('Literatur & Unterhaltung', 'Literatur & Unterhaltung'),\n",
       " ('Kinderbuch & Jugendbuch', 'Kinderbuch & Jugendbuch'),\n",
       " ('Kinderbuch & Jugendbuch', 'Kinderbuch & Jugendbuch'),\n",
       " ('Literatur & Unterhaltung', 'Literatur & Unterhaltung'),\n",
       " ('Literatur & Unterhaltung', 'Literatur & Unterhaltung'),\n",
       " ('Sachbuch', 'Sachbuch'),\n",
       " ('Kinderbuch & Jugendbuch', 'Kinderbuch & Jugendbuch'),\n",
       " ('Ratgeber', 'Ratgeber'),\n",
       " ('Sachbuch', 'Sachbuch'),\n",
       " ('Literatur & Unterhaltung', 'Literatur & Unterhaltung'),\n",
       " ('Kinderbuch & Jugendbuch', 'Kinderbuch & Jugendbuch'),\n",
       " ('Literatur & Unterhaltung', 'Literatur & Unterhaltung'),\n",
       " ('Ratgeber', 'Ratgeber'),\n",
       " ('Literatur & Unterhaltung', 'Literatur & Unterhaltung'),\n",
       " ('Sachbuch', 'Sachbuch'),\n",
       " ('Ratgeber', 'Sachbuch'),\n",
       " ('Kinderbuch & Jugendbuch', 'Kinderbuch & Jugendbuch')]"
      ]
     },
     "execution_count": 36,
     "metadata": {},
     "output_type": "execute_result"
    }
   ],
   "source": [
    "pred_test[10:40]"
   ]
  },
  {
   "cell_type": "code",
   "execution_count": null,
   "metadata": {
    "collapsed": true
   },
   "outputs": [],
   "source": []
  }
 ],
 "metadata": {
  "kernelspec": {
   "display_name": "deeplearning_36",
   "language": "python",
   "name": "deeplearning_36"
  },
  "language_info": {
   "codemirror_mode": {
    "name": "ipython",
    "version": 3
   },
   "file_extension": ".py",
   "mimetype": "text/x-python",
   "name": "python",
   "nbconvert_exporter": "python",
   "pygments_lexer": "ipython3",
   "version": "3.6.8"
  }
 },
 "nbformat": 4,
 "nbformat_minor": 2
}
