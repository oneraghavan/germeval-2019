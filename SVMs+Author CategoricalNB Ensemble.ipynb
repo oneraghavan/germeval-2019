{
 "cells": [
  {
   "cell_type": "code",
   "execution_count": 51,
   "metadata": {
    "collapsed": true
   },
   "outputs": [],
   "source": [
    "import pandas as pd\n",
    "import pickle\n",
    "from ast import literal_eval\n",
    "import numpy as np\n",
    "from sklearn.feature_extraction.text import TfidfVectorizer\n",
    "from sklearn.model_selection import train_test_split\n",
    "from sklearn.metrics import accuracy_score, precision_score, recall_score, cohen_kappa_score, f1_score , confusion_matrix\n",
    "from nltk.corpus import stopwords\n",
    "from sklearn.svm import LinearSVC, NuSVC\n",
    "from sklearn.preprocessing import MultiLabelBinarizer\n",
    "from sklearn.naive_bayes import MultinomialNB\n",
    "import seaborn as sns\n",
    "\n",
    "from germeval import *"
   ]
  },
  {
   "cell_type": "code",
   "execution_count": 3,
   "metadata": {
    "collapsed": true
   },
   "outputs": [],
   "source": [
    "vectorizer =  pickle.load(open(\"vectorizer_without_num.pickle\",'rb'))\n",
    "# Text with the numbers removed\n",
    "X_train = pickle.load(open(\"X_train_without_num.pickle\", \"rb\"))\n",
    "X_test = pickle.load(open(\"X_test_without_num.pickle\", \"rb\"))\n",
    "y_train = pickle.load( open(\"y_train_without_num.pickle\", \"rb\"))\n",
    "y_test = pickle.load(open(\"y_test_without_num.pickle\", \"rb\"))\n",
    "le_mapping = pickle.load(open(\"le_mapping.pickle\", \"rb\")) # LabelEncoder Mapping"
   ]
  },
  {
   "cell_type": "code",
   "execution_count": 4,
   "metadata": {
    "collapsed": true
   },
   "outputs": [],
   "source": [
    "def build_model(clf, X_train,y_train):\n",
    "    clf.fit(X_train, y_train)\n",
    "    return clf"
   ]
  },
  {
   "cell_type": "markdown",
   "metadata": {},
   "source": [
    "## Linear SVC"
   ]
  },
  {
   "cell_type": "code",
   "execution_count": 4,
   "metadata": {
    "scrolled": true
   },
   "outputs": [
    {
     "data": {
      "text/plain": [
       "(16929, 638284)"
      ]
     },
     "execution_count": 4,
     "metadata": {},
     "output_type": "execute_result"
    }
   ],
   "source": [
    "X_train.shape"
   ]
  },
  {
   "cell_type": "code",
   "execution_count": 5,
   "metadata": {
    "scrolled": true
   },
   "outputs": [
    {
     "data": {
      "text/plain": [
       "(4233, 638284)"
      ]
     },
     "execution_count": 5,
     "metadata": {},
     "output_type": "execute_result"
    }
   ],
   "source": [
    "X_test.shape"
   ]
  },
  {
   "cell_type": "code",
   "execution_count": 6,
   "metadata": {},
   "outputs": [
    {
     "name": "stdout",
     "output_type": "stream",
     "text": [
      "CPU times: user 27.6 s, sys: 1min 24s, total: 1min 51s\n",
      "Wall time: 2min 12s\n"
     ]
    }
   ],
   "source": [
    "%%time\n",
    "X_full = np.concatenate((X_train.toarray(),X_test.toarray()))\n",
    "Y_full = np.concatenate((y_train,y_test))"
   ]
  },
  {
   "cell_type": "code",
   "execution_count": 7,
   "metadata": {},
   "outputs": [
    {
     "data": {
      "text/plain": [
       "98"
      ]
     },
     "execution_count": 7,
     "metadata": {},
     "output_type": "execute_result"
    }
   ],
   "source": [
    "del X_test\n",
    "del X_train\n",
    "del y_train\n",
    "del y_test\n",
    "import gc\n",
    "gc.collect()"
   ]
  },
  {
   "cell_type": "code",
   "execution_count": 8,
   "metadata": {},
   "outputs": [
    {
     "name": "stdout",
     "output_type": "stream",
     "text": [
      "[LibLinear]CPU times: user 2min 15s, sys: 38.2 s, total: 2min 53s\n",
      "Wall time: 2min 54s\n"
     ]
    }
   ],
   "source": [
    "%%time\n",
    "# data = X_train.toarray(), X_test.toarray(), y_train, y_test\n",
    "lsvcclf = LinearSVC(random_state=42,verbose=1)\n",
    "clf = build_model(lsvcclf,X_full,Y_full)"
   ]
  },
  {
   "cell_type": "markdown",
   "metadata": {},
   "source": []
  },
  {
   "cell_type": "raw",
   "metadata": {},
   "source": [
    "%%time\n",
    "# Pickle the model\n",
    "with open('svm_tfidf_clf.pickle', 'wb') as handle:\n",
    "pickle.dump(clf, handle)"
   ]
  },
  {
   "cell_type": "code",
   "execution_count": 111,
   "metadata": {
    "collapsed": true
   },
   "outputs": [],
   "source": [
    "# Load from the pickled model\n",
    "with open('svm_tfidf_clf.pickle', 'rb') as handle:\n",
    "    clf = pickle.load(handle)"
   ]
  },
  {
   "cell_type": "code",
   "execution_count": 112,
   "metadata": {
    "collapsed": true
   },
   "outputs": [],
   "source": [
    "validation_data = pd.read_csv(\"../../data/validation_data.csv\")"
   ]
  },
  {
   "cell_type": "code",
   "execution_count": 113,
   "metadata": {
    "collapsed": true
   },
   "outputs": [],
   "source": [
    "def combine_title_desc(row):\n",
    "    \"\"\"Combines the Title and Description fields in the given row\n",
    "    and returns the combined result\"\"\"\n",
    "    return str(row[\"title\"]) + \" \" + str(row[\"description\"])\n",
    "    #return str(row[\"title\"]) + \" \" + str(row[\"description\"]) + \" \" + str(row[\"author\"])"
   ]
  },
  {
   "cell_type": "code",
   "execution_count": 114,
   "metadata": {
    "collapsed": true
   },
   "outputs": [],
   "source": [
    "validation_tf_idf = vectorizer.transform(validation_data.apply(lambda row: combine_title_desc(row),axis=1))"
   ]
  },
  {
   "cell_type": "code",
   "execution_count": 115,
   "metadata": {},
   "outputs": [
    {
     "data": {
      "text/plain": [
       "(2079, 638284)"
      ]
     },
     "execution_count": 115,
     "metadata": {},
     "output_type": "execute_result"
    }
   ],
   "source": [
    "validation_tf_idf.shape"
   ]
  },
  {
   "cell_type": "code",
   "execution_count": 116,
   "metadata": {},
   "outputs": [],
   "source": [
    "predictions = clf._predict_proba_lr(validation_tf_idf)"
   ]
  },
  {
   "cell_type": "code",
   "execution_count": 117,
   "metadata": {},
   "outputs": [
    {
     "data": {
      "text/plain": [
       "array([  0,   1,   2,   3,   4,   5,   6,   7,   8,   9,  10,  11,  12,\n",
       "        13,  14,  15,  16,  17,  18,  19,  20,  21,  22,  23,  24,  25,\n",
       "        26,  27,  28,  29,  30,  31,  32,  33,  34,  35,  36,  37,  38,\n",
       "        39,  40,  41,  42,  43,  44,  45,  46,  47,  48,  49,  50,  51,\n",
       "        52,  53,  54,  55,  56,  57,  58,  59,  60,  61,  62,  63,  64,\n",
       "        65,  66,  67,  68,  69,  70,  71,  72,  73,  74,  75,  76,  77,\n",
       "        78,  79,  80,  81,  82,  83,  84,  85,  86,  87,  88,  89,  90,\n",
       "        91,  92,  93,  94,  95,  96,  97,  98,  99, 100, 101, 102, 103,\n",
       "       104, 105, 106, 107, 108, 109, 110, 111, 112, 113, 114, 115, 116,\n",
       "       117, 118, 119, 120, 121, 122, 123, 124, 125, 126, 127, 128, 129,\n",
       "       130, 131, 132, 133, 134, 135, 136, 137, 138, 139, 140, 141, 142,\n",
       "       143, 144, 145, 146, 147, 148, 149, 150, 151, 152, 153, 154, 155,\n",
       "       156, 157, 158, 159, 160, 161, 162, 163, 164, 165, 166, 167, 168,\n",
       "       169, 170, 171, 172, 173, 174, 175, 176, 177, 178, 179, 180, 181,\n",
       "       182, 183, 184, 185, 186, 187, 188, 189, 190, 191, 192, 193, 194,\n",
       "       195, 196, 197, 198, 199, 200, 201, 202, 203, 204, 205, 206, 207,\n",
       "       208, 209, 210, 211, 212, 213, 214, 215, 216, 217, 218, 219, 220,\n",
       "       221, 222, 223, 224, 225, 226, 227, 228, 229, 230, 231, 232, 233,\n",
       "       234, 235, 236, 237, 238, 239, 240, 241, 242, 243, 244, 245, 246,\n",
       "       247, 248, 249, 250, 251, 252, 253, 254, 255, 256, 257, 258, 259,\n",
       "       260, 261, 262, 263, 264, 265, 266, 267, 268, 269, 270, 271, 272,\n",
       "       273, 274, 275, 276, 277, 278, 279, 280, 281, 282, 283, 284, 285,\n",
       "       286, 287, 288, 289, 290, 291, 292, 293, 294, 295, 296, 297, 298,\n",
       "       299, 300, 301, 302, 303, 304, 305, 306, 307, 308, 309, 310, 311,\n",
       "       312, 313, 314, 315, 316, 317, 318, 319, 320, 321, 322, 323, 324,\n",
       "       325, 326, 327, 328, 329])"
      ]
     },
     "execution_count": 117,
     "metadata": {},
     "output_type": "execute_result"
    }
   ],
   "source": [
    "clf.classes_"
   ]
  },
  {
   "cell_type": "code",
   "execution_count": 118,
   "metadata": {},
   "outputs": [
    {
     "ename": "NameError",
     "evalue": "name 'X_full' is not defined",
     "output_type": "error",
     "traceback": [
      "\u001b[0;31m---------------------------------------------------------------------------\u001b[0m",
      "\u001b[0;31mNameError\u001b[0m                                 Traceback (most recent call last)",
      "\u001b[0;32m<ipython-input-118-d0f0dd22cb21>\u001b[0m in \u001b[0;36m<module>\u001b[0;34m()\u001b[0m\n\u001b[0;32m----> 1\u001b[0;31m \u001b[0;32mdel\u001b[0m \u001b[0mX_full\u001b[0m\u001b[0;34m\u001b[0m\u001b[0;34m\u001b[0m\u001b[0m\n\u001b[0m\u001b[1;32m      2\u001b[0m \u001b[0;32mdel\u001b[0m \u001b[0mY_full\u001b[0m\u001b[0;34m\u001b[0m\u001b[0;34m\u001b[0m\u001b[0m\n",
      "\u001b[0;31mNameError\u001b[0m: name 'X_full' is not defined"
     ]
    }
   ],
   "source": [
    "del X_full\n",
    "del Y_full"
   ]
  },
  {
   "cell_type": "code",
   "execution_count": 16,
   "metadata": {},
   "outputs": [
    {
     "data": {
      "text/plain": [
       "1696"
      ]
     },
     "execution_count": 16,
     "metadata": {},
     "output_type": "execute_result"
    }
   ],
   "source": [
    "import gc\n",
    "gc.collect()"
   ]
  },
  {
   "cell_type": "code",
   "execution_count": 13,
   "metadata": {
    "collapsed": true
   },
   "outputs": [],
   "source": [
    "class_counts = pd.read_csv(\"class_count_predictions_from_svc.csv\",header=None)"
   ]
  },
  {
   "cell_type": "code",
   "execution_count": 14,
   "metadata": {
    "collapsed": true
   },
   "outputs": [],
   "source": [
    "def getClasses(class_probs,class_count):\n",
    "    arr = np.array(class_probs)\n",
    "#     print(\"===\")\n",
    "#     print(class_probs)\n",
    "#     print(class_count)\n",
    "#     print(arr.argsort()[-1 * class_count:][::-1])\n",
    "    return arr.argsort()[-1 * class_count:][::-1]"
   ]
  },
  {
   "cell_type": "markdown",
   "metadata": {},
   "source": [
    "## Fixing missing category maps"
   ]
  },
  {
   "cell_type": "code",
   "execution_count": 66,
   "metadata": {
    "collapsed": true
   },
   "outputs": [],
   "source": [
    "book_df = load_data()\n",
    "book_df = repeat_categories(book_df)\n",
    "\n",
    "map_id = max(le_mapping.values())\n",
    "for sample in book_df[\"categories\"]:\n",
    "    for category in sample:\n",
    "        if category not in le_mapping:\n",
    "            map_id += 1\n",
    "            le_mapping[category] = map_id\n",
    "            \n",
    "book_df[\"cat_map\"] = book_df[\"category\"].apply(lambda x: le_mapping[x])"
   ]
  },
  {
   "cell_type": "markdown",
   "metadata": {},
   "source": [
    "## Multinominal Naive Bayes"
   ]
  },
  {
   "cell_type": "code",
   "execution_count": 47,
   "metadata": {},
   "outputs": [
    {
     "data": {
      "text/plain": [
       "[['Hans-Martin Lübking'],\n",
       " ['Cate Tiernan'],\n",
       " ['Titus Müller'],\n",
       " ['Dalai Lama'],\n",
       " ['John Hart'],\n",
       " ['Marc Levy'],\n",
       " ['Paolo Bacigalupi'],\n",
       " ['Anne Østby'],\n",
       " ['Karin Slaughter'],\n",
       " ['Tom Segev'],\n",
       " ['Jeffery Deaver'],\n",
       " ['Clemens Berger'],\n",
       " ['Jesper Juul'],\n",
       " ['T.C. Boyle'],\n",
       " ['Selahattin Demirtaş'],\n",
       " ['Hannelore Hoger'],\n",
       " ['Susan Pinker'],\n",
       " ['Zoé Armbruster'],\n",
       " ['Stephen Leather'],\n",
       " ['Tim Jürgens',\n",
       "  'Philipp Köster',\n",
       "  '11 Freunde Verlags GmbH & Co. KG Tim Jürgens'],\n",
       " ['Michael Köhlmeier'],\n",
       " ['Susan Forward', 'Donna Frazier Glynn'],\n",
       " ['Monica Murphy'],\n",
       " ['Loretta Napoleoni'],\n",
       " ['David Brooks'],\n",
       " ['James P. Hogan'],\n",
       " ['Helene Tursten'],\n",
       " ['John Burnside'],\n",
       " ['Katrina Leno'],\n",
       " ['David Drake'],\n",
       " ['Franz Schuier'],\n",
       " ['David F. Ross'],\n",
       " ['Jeri Taylor'],\n",
       " ['Yvonne C. Heiler'],\n",
       " ['Paolo Bacigalupi'],\n",
       " ['Laura Griffin'],\n",
       " ['Uwe Christiansen'],\n",
       " ['Arthur Miller'],\n",
       " ['Cecilie Enger'],\n",
       " ['Peter Wawerzinek'],\n",
       " ['Christoph Borchelt'],\n",
       " ['Marcel Reich-Ranicki'],\n",
       " ['Bahar Yilmaz'],\n",
       " ['Dorothee Meyer-Kahrweg', 'Hans Sarkowicz'],\n",
       " ['José Carreras', 'Màrius Carol'],\n",
       " ['Adina Rishe Gewirtz'],\n",
       " ['Richard Laymon'],\n",
       " ['L.A. Banks'],\n",
       " ['Joachim Bauer'],\n",
       " ['Harlan Coben'],\n",
       " ['J. R. Ward'],\n",
       " ['Kathy Stinson'],\n",
       " ['Stephan Heinrich Nolte'],\n",
       " ['Sasha Wagstaff'],\n",
       " ['Tessa Korber'],\n",
       " ['Emma Wildes'],\n",
       " ['Brian Herbert', 'Kevin J. Anderson'],\n",
       " ['Sabine Raml'],\n",
       " ['Stephan Valentin'],\n",
       " ['Burhan Sönmez'],\n",
       " ['Reinhold Lackner'],\n",
       " ['Andy Haller'],\n",
       " ['Jürgen Roth'],\n",
       " ['Charlotte Guillain'],\n",
       " ['François Truffaut'],\n",
       " ['Herbert Günther'],\n",
       " ['Carolin Kebekus'],\n",
       " ['Usch Luhn', 'Steffi Korda'],\n",
       " ['Henning Mankell'],\n",
       " ['Andreas Gruber'],\n",
       " ['Ruediger Dahlke'],\n",
       " ['Bernd Brucker'],\n",
       " ['Jonathan Kellerman'],\n",
       " ['K.B. Wagers'],\n",
       " ['Atze Schröder'],\n",
       " ['Alex Berenson'],\n",
       " ['Rainer Bielfeldt', 'Otto Senn'],\n",
       " ['Petra Morsbach'],\n",
       " ['Rachel Harris'],\n",
       " ['Andrea Vanoni'],\n",
       " ['Bronnie Ware'],\n",
       " ['Stella Gemmell'],\n",
       " ['Sandra Brown'],\n",
       " ['Pierre Lota'],\n",
       " ['Naomi Alderman'],\n",
       " ['Alexander McCall Smith'],\n",
       " ['Georg Vetten'],\n",
       " ['S. Quinn'],\n",
       " ['John Scalzi'],\n",
       " ['Noah Gordon'],\n",
       " ['Katherine Webb'],\n",
       " ['Jeaniene Frost'],\n",
       " ['Carola Kleinschmidt'],\n",
       " ['Chris Harrison'],\n",
       " ['Ulrich Janßen', 'Ulla Steuernagel'],\n",
       " ['Christopher Moore'],\n",
       " ['Anne Perry'],\n",
       " ['David Chang'],\n",
       " ['Ingo Siegner'],\n",
       " ['Martin Buber', 'Ran HaCohen'],\n",
       " ['Felix Anschütz', 'Nico Degenkolb', 'Krischan Dietmaier', 'Thomas Neumann'],\n",
       " ['Thomas Arnold',\n",
       "  'Benedikt Dolzer',\n",
       "  'Judith Lurweg',\n",
       "  'Lucia Pfeiffer',\n",
       "  'Christian Schröder',\n",
       "  'Florian Sobetzko',\n",
       "  'Klaus Vellguth'],\n",
       " ['Otto de Kat'],\n",
       " ['Eleanor Prescott'],\n",
       " ['Paul Cleave'],\n",
       " ['Kevin Way Jeter'],\n",
       " ['Robert A. Heinlein'],\n",
       " ['Sven Siedenberg'],\n",
       " ['nan'],\n",
       " ['Enid Blyton'],\n",
       " ['nan'],\n",
       " ['Christian Wilhelm Echter'],\n",
       " ['Barbara von Bellingen'],\n",
       " ['Proschat Madani'],\n",
       " ['Tracy Kidder'],\n",
       " ['Jimi Hendrix'],\n",
       " ['Mark Twain'],\n",
       " ['Lou Paget'],\n",
       " ['Diverse'],\n",
       " ['Tiffany Baker'],\n",
       " ['Ingeborg Feustel'],\n",
       " ['Norbert Pautner'],\n",
       " ['Helmut Vorndran'],\n",
       " ['John L. Campbell'],\n",
       " ['Fadumo Korn'],\n",
       " ['Doris Cramer'],\n",
       " ['Jan Costin Wagner'],\n",
       " ['Nora Roberts'],\n",
       " ['Jason Shulman'],\n",
       " ['Joachim Penzel'],\n",
       " ['Dieter Hildebrandt'],\n",
       " ['Sylvia Day'],\n",
       " ['Andreas Gruber'],\n",
       " ['J. M. Dillard'],\n",
       " ['Sophie Andresky'],\n",
       " ['Susan Elizabeth Phillips'],\n",
       " ['nan'],\n",
       " ['Anna Mansell'],\n",
       " ['Catherine MacPhail'],\n",
       " ['Timothy Ferriss'],\n",
       " ['Mark Twain'],\n",
       " ['Kami Garcia', 'Margaret Stohl'],\n",
       " ['Jürgen Schmieder'],\n",
       " ['Julie Plec'],\n",
       " ['Lisa J. Smith'],\n",
       " ['Theresia Graw'],\n",
       " ['Marcel Reich-Ranicki', 'Thomas Anz'],\n",
       " ['Lydie Salvayre'],\n",
       " ['George R.R. Martin'],\n",
       " ['Josef Wilfling'],\n",
       " ['Ingo Siegner'],\n",
       " ['James Barclay'],\n",
       " ['Nina Blazon'],\n",
       " ['Hans Conrad Zander'],\n",
       " ['Peter V. Brett'],\n",
       " ['John Stephens'],\n",
       " ['Christian Gerlach'],\n",
       " ['Johann Wolfgang von Goethe', 'Hermann Hesse', 'Elizabeth von Arnim'],\n",
       " [\"Alessandro D'Avenia\"],\n",
       " ['Robert Silverberg'],\n",
       " ['Lisa Ballantyne'],\n",
       " ['E L James'],\n",
       " ['Annelie Wendeberg'],\n",
       " ['Kathy Reichs'],\n",
       " ['Ingo Siegner'],\n",
       " ['Luis Sellano'],\n",
       " ['Fearne Cotton'],\n",
       " ['Ingo Siegner'],\n",
       " ['Stan Nicholls'],\n",
       " ['Harlan Coben'],\n",
       " ['Dietmar Bittrich'],\n",
       " ['Alexandra Ivy'],\n",
       " ['John Grisham'],\n",
       " ['Amy Bratley'],\n",
       " ['Agatha Christie'],\n",
       " ['Charles Chadwick'],\n",
       " ['Michael McCollum'],\n",
       " ['Jonathan Stroud'],\n",
       " ['Scott Turow'],\n",
       " ['Ingo Siegner'],\n",
       " ['Brian Herbert', 'Kevin J. Anderson'],\n",
       " ['Christiane zu Salm'],\n",
       " ['Nathaniel Hawthorne'],\n",
       " ['Carly Phillips'],\n",
       " ['Brendan Simms'],\n",
       " ['nan'],\n",
       " ['Alexandra Potter'],\n",
       " ['Jorge Bucay'],\n",
       " ['Mandy Baggot'],\n",
       " ['Willie Nelson', 'David Ritz'],\n",
       " ['Håkan Nesser'],\n",
       " ['John Vornholt'],\n",
       " ['Stefan Limmer'],\n",
       " ['Louise Voss', 'Mark Edwards'],\n",
       " ['Stuart MacBride'],\n",
       " ['Peter Ensikat'],\n",
       " ['Santo Cilauro', 'Tom Gleisner', 'Rob Sitch'],\n",
       " ['Hunter S. Thompson'],\n",
       " ['J. R. Ward'],\n",
       " ['Hans Neuenfels'],\n",
       " ['Frank Schirrmacher', 'Jakob Augstein'],\n",
       " ['Albrecht Beutelspacher'],\n",
       " ['Tom McCarthy'],\n",
       " ['Caroline Graham'],\n",
       " ['Kathy Reichs'],\n",
       " ['Helmut Merklein'],\n",
       " ['Glenda Larke'],\n",
       " ['Martin Buber',\n",
       "  'Francesco Ferrari',\n",
       "  'Stefano Franchini',\n",
       "  'Massimiliano De Villa'],\n",
       " ['Katarzyna Bonda'],\n",
       " ['Jeffery Deaver'],\n",
       " ['David Campany', 'Hripsimé Visser', 'Nan Goldin'],\n",
       " ['Marc Beise'],\n",
       " ['Miroslav Volf'],\n",
       " ['Michael J. Sullivan'],\n",
       " ['Wim Luijpers'],\n",
       " ['Sibylle Rieckhoff'],\n",
       " ['Mary Higgins Clark'],\n",
       " ['Frode Granhus'],\n",
       " ['Gillian Anderson', 'Jennifer Nadel'],\n",
       " ['Michael Pollan'],\n",
       " ['Roger MacBride Allen'],\n",
       " ['Jörg Zittlau'],\n",
       " ['Mo Hayder'],\n",
       " ['Oliver Noelle'],\n",
       " ['Andreas Kossert'],\n",
       " ['Robert Ludlum'],\n",
       " ['Eckhard Frick SJ', 'Bruno Lautenschlager SJ'],\n",
       " ['Evie Blake'],\n",
       " ['John Scalzi'],\n",
       " ['Hans Wagner'],\n",
       " ['Faye Kellerman'],\n",
       " ['Anna Todd'],\n",
       " ['Rebecca James'],\n",
       " ['Suren Zormudjan'],\n",
       " ['Thomas Mann'],\n",
       " ['Peter Hess'],\n",
       " ['David S. Goyer', 'Michael Cassutt'],\n",
       " ['Torsten Fink'],\n",
       " ['Sue Stratford'],\n",
       " ['Dean Koontz'],\n",
       " ['Maria Rossbauer'],\n",
       " ['Lianne Pot'],\n",
       " ['Tove Jansson'],\n",
       " ['Volker Weidermann'],\n",
       " ['Kate Wilhelm'],\n",
       " ['Mari Jungstedt'],\n",
       " ['Greg Bear'],\n",
       " ['Susanne Kliem'],\n",
       " ['Steve Alten'],\n",
       " ['Hanns-Josef Ortheil'],\n",
       " ['Peter Heimdall'],\n",
       " ['Monica Murphy'],\n",
       " ['Matthias Wittekindt'],\n",
       " ['Arthur Benjamin', 'Michael Shermer'],\n",
       " ['Geneva Lee'],\n",
       " ['Agatha Christie'],\n",
       " ['Jena Pincott'],\n",
       " ['Lea Ackermann', 'Mary Kreutzer', 'Alicia Allgäuer'],\n",
       " ['Kôji Suzuki'],\n",
       " ['Robin Palmer'],\n",
       " ['James Oswald'],\n",
       " ['Jutta Allmendinger'],\n",
       " ['Tiziano Terzani'],\n",
       " ['Ingo Siegner'],\n",
       " ['Robert Low'],\n",
       " ['Annie Proulx'],\n",
       " ['J. Kenner'],\n",
       " ['Jenny Lawson'],\n",
       " ['Iris Hanika'],\n",
       " ['Franck Goddio', 'David Fabre'],\n",
       " ['Ulrich Drüner'],\n",
       " ['Volker Mehl', 'Christina Raftery'],\n",
       " ['Marianne Berglund'],\n",
       " ['Wulfing von Rohr', 'Jutta Fuezi'],\n",
       " ['Christine Janson'],\n",
       " ['Margot Käßmann'],\n",
       " ['Peter Gaymann'],\n",
       " ['Markus Lutteman'],\n",
       " ['Daniela Wattenbach'],\n",
       " ['Miriam Kalliwoda'],\n",
       " ['Dr. Oetker'],\n",
       " ['Janet Chapman'],\n",
       " ['Jess McConkey'],\n",
       " ['Kathy Benjamin'],\n",
       " ['Heike Gade'],\n",
       " ['Giles Kristian'],\n",
       " ['Andrew Britton'],\n",
       " ['Stephen King'],\n",
       " ['Günter de Bruyn'],\n",
       " ['Iris Bosold', 'Peter Kliemann'],\n",
       " ['Jalid Sehouli'],\n",
       " ['Jonas Herlin'],\n",
       " ['Karl Ove Knausgård'],\n",
       " ['Johanna Lindsey'],\n",
       " ['Beth Kery'],\n",
       " ['Franz Brandl'],\n",
       " ['Felix Anschütz', 'Nico Degenkolb', 'Krischan Dietmaier', 'Thomas Neumann'],\n",
       " ['Jan Guillou'],\n",
       " ['Chade-Meng Tan'],\n",
       " ['Clive Cussler'],\n",
       " ['Homer'],\n",
       " ['Florian Rauch', 'Nicole Rinder', 'Tita Kern'],\n",
       " ['Amelie Fried', 'Peter Probst'],\n",
       " ['Sabine Zett'],\n",
       " ['Juli Zeh'],\n",
       " ['Miles Cameron'],\n",
       " ['Christoph Hardebusch'],\n",
       " ['Peter Scholl-Latour'],\n",
       " ['Nora Roberts'],\n",
       " ['Martin Buber'],\n",
       " ['Sascha Mamczak', 'Wolfgang Jeschke'],\n",
       " ['Univ. Doz. Dr. med. Maximilian Ledochowski'],\n",
       " ['Joachim Köhler'],\n",
       " ['Terry Goodkind'],\n",
       " ['Steve Jenkins', 'Derek Walter', 'Caprice Crane'],\n",
       " ['Greg Behrendt', 'Liz Tuccillo'],\n",
       " ['Ian Rankin'],\n",
       " ['Wladimir Kaminer'],\n",
       " ['Christian Meier'],\n",
       " ['Henry James'],\n",
       " ['Peter V. Brett'],\n",
       " ['Steven Erikson'],\n",
       " ['John Grisham'],\n",
       " ['Walter Kempowski'],\n",
       " ['Douglas Adams', 'Mark Carwardine'],\n",
       " ['James Rollins', 'Rebecca Cantrell'],\n",
       " ['Enid Blyton'],\n",
       " ['Maria Konnikova'],\n",
       " ['Nora Roberts'],\n",
       " ['Fiona Harrison'],\n",
       " ['Sophie Bush'],\n",
       " ['Mary Higgins Clark'],\n",
       " ['Royce Buckingham'],\n",
       " ['Sharon Bolton'],\n",
       " ['Harry Harrison'],\n",
       " ['Anke Precht'],\n",
       " ['Simon Scarrow'],\n",
       " ['Diane Carey'],\n",
       " ['Carrie Vaughn'],\n",
       " ['David Levithan'],\n",
       " ['Joe Kirschvink', 'Peter Ward'],\n",
       " ['Jon Skovron'],\n",
       " ['Gilbert Keith Chesterton'],\n",
       " ['Lothar Seiwert'],\n",
       " ['Homer'],\n",
       " ['Markus Lanz'],\n",
       " ['Markus Roßmann', 'Bernd Neumann'],\n",
       " ['Alex Thomas'],\n",
       " ['Peter Wohlleben'],\n",
       " ['Dieter Wartenweiler'],\n",
       " ['Ingo Siegner'],\n",
       " ['Dietrich Bonhoeffer'],\n",
       " ['J. M. Dillard'],\n",
       " ['Howard Jacobson'],\n",
       " ['Olaf Gersemann'],\n",
       " ['Bettina Alberti'],\n",
       " ['Lisa J. Smith'],\n",
       " ['Timothy Zahn'],\n",
       " ['Antonia Edwards'],\n",
       " ['Megan Kreiner'],\n",
       " ['Mary Higgins Clark'],\n",
       " ['Claire Winter'],\n",
       " ['Jan-Christof Scheibe'],\n",
       " ['Prof. Dr. Eran Segal', 'Prof. Dr. Eran Elinav'],\n",
       " ['Simone van der Vlugt'],\n",
       " ['Louise Hay'],\n",
       " ['Usch Luhn'],\n",
       " ['Axel Mengewein'],\n",
       " ['Dr. David Perlmutter'],\n",
       " ['nan'],\n",
       " ['Luigi Pirandello'],\n",
       " ['Cecily von Ziegesar'],\n",
       " ['Alexander Deeg', 'David Plüss'],\n",
       " ['Jamie Thomson'],\n",
       " ['S. Quinn'],\n",
       " ['Richard J. Evans'],\n",
       " ['Marina Caba Rall'],\n",
       " ['Jonathan Stroud'],\n",
       " ['Thomas Bernhard'],\n",
       " ['Sabine Schonert-Hirz'],\n",
       " ['11 Freunde Verlag'],\n",
       " ['Ayelet Waldman'],\n",
       " ['William Dietz'],\n",
       " ['Hanna Lindberg'],\n",
       " ['Alex Thomas'],\n",
       " ['Stephan Lermer'],\n",
       " ['Mark Barnes'],\n",
       " ['Antonio Damasio'],\n",
       " ['nan'],\n",
       " ['Bjarne Schilling', 'Gorm Vølver'],\n",
       " ['Ross Antony', 'Sabine Zett'],\n",
       " ['Georg Frhr. von Gayl', 'Christa Brand'],\n",
       " ['Richard Laymon'],\n",
       " ['Stephen King'],\n",
       " ['Bernhard Hennen', 'Robert Corvus'],\n",
       " ['Eva-Maria Zurhorst', 'Wolfram Zurhorst'],\n",
       " ['Alan Dean Foster'],\n",
       " ['Alyson Noël'],\n",
       " ['Annie Sloan'],\n",
       " ['Ulla Lena Lundberg'],\n",
       " ['Nate Silver'],\n",
       " ['Marjorie M. Liu'],\n",
       " ['Micaela Jary'],\n",
       " ['Emmy Laybourne'],\n",
       " ['Enid Blyton'],\n",
       " ['Fritz Bachmann', 'Walter Duwe', 'Friedrich Haase', 'Traugott Kuhlo'],\n",
       " ['Lisa Yee'],\n",
       " ['Thomas Gordon'],\n",
       " ['Deborah Harkness'],\n",
       " ['Jan Anderson', 'Christian Koch'],\n",
       " ['Hedwig Kellner'],\n",
       " ['Sharon Bolton'],\n",
       " ['C.J. Box'],\n",
       " ['Amitav Ghosh'],\n",
       " ['Thomas Enger'],\n",
       " ['Petra Morsbach'],\n",
       " ['Patricia Schröder'],\n",
       " ['Boris Koch'],\n",
       " ['Clive Barker'],\n",
       " ['Alexi Zentner'],\n",
       " ['Stefanie Kasper'],\n",
       " ['Nora Roberts'],\n",
       " ['Martina Kink'],\n",
       " ['Siri Kolu'],\n",
       " ['Martin Nusch'],\n",
       " ['Sandra Ingerman'],\n",
       " ['Walter Kempowski', 'Walter Adler'],\n",
       " ['Arthur Conan Doyle'],\n",
       " ['William Horwood'],\n",
       " ['Tine Ratig', 'Hannah Wilhelm'],\n",
       " ['Frank R. Tallis'],\n",
       " ['Vera Griebert-Schröder', 'Franziska Muri'],\n",
       " ['Tracy Chevalier'],\n",
       " ['Werner Toporski'],\n",
       " ['Oliver Versch', 'Martin Nusch', 'Ingo Zamperoni'],\n",
       " ['Adam Soboczynski'],\n",
       " ['Simone Elkeles'],\n",
       " ['Stefan Klein'],\n",
       " ['William Gibson', 'John Shirley'],\n",
       " ['Amber Dusick'],\n",
       " ['Kate Wilhelm'],\n",
       " ['James P. Hogan'],\n",
       " ['Sandra Runge'],\n",
       " ['Nataša Dragnić'],\n",
       " ['Catherine Aurel'],\n",
       " ['Paul McAuley'],\n",
       " ['Emily Giffin'],\n",
       " ['Tom Clancy'],\n",
       " ['Timothy Zahn'],\n",
       " ['Michael Jan Friedman'],\n",
       " ['Mirja Winkelmann'],\n",
       " ['nan'],\n",
       " ['Horst Gorski'],\n",
       " ['Diane Duane'],\n",
       " ['Steve White', 'David Weber'],\n",
       " ['Dagmar Knecht'],\n",
       " ['Meg Cabot'],\n",
       " ['Sofja Tolstaja'],\n",
       " ['Thomas Bernhard'],\n",
       " ['Jean-Philippe Blondel'],\n",
       " ['Michaela Axt-Gadermann'],\n",
       " ['Karina Halle'],\n",
       " ['Claire'],\n",
       " ['Doris Kutschbach'],\n",
       " ['Robert Gernhardt'],\n",
       " ['Frank Fabian'],\n",
       " ['Georg Haddenbach'],\n",
       " ['nan'],\n",
       " ['Brigitte Blobel'],\n",
       " ['nan'],\n",
       " ['Franziska Sperr'],\n",
       " ['Meg Leder'],\n",
       " ['John Lydon'],\n",
       " ['Pamela Druckerman'],\n",
       " ['Doreen Virtue', 'Robert Reeves'],\n",
       " ['Heinz-Richard Heinemann'],\n",
       " ['Gilbert Keith Chesterton'],\n",
       " ['Carl Hoffman'],\n",
       " ['Elana Rosenbaum'],\n",
       " ['Johanna Paungger', 'Thomas Poppe'],\n",
       " ['M. Agejew'],\n",
       " ['Jessica Sorensen'],\n",
       " ['Anna Barnes'],\n",
       " ['Jan Andersen'],\n",
       " ['Martin Bucer'],\n",
       " ['Tobias O. Meißner'],\n",
       " ['Patrick Mauriès'],\n",
       " ['Helen Fielding'],\n",
       " ['J. R. Ward'],\n",
       " ['Johanna Handschmann'],\n",
       " ['Lisa J. Smith'],\n",
       " ['Britta Teckentrup'],\n",
       " ['Titus Müller'],\n",
       " ['Jes Tyng-Yee Lim', 'Julie A. Lim'],\n",
       " ['Heike Höfler'],\n",
       " ['Alan Bradley'],\n",
       " ['Jessica Sorensen'],\n",
       " ['Rebecca Sky'],\n",
       " ['Amanda Quick'],\n",
       " ['Karen M. McManus'],\n",
       " ['Frederick Forsyth'],\n",
       " ['Gisa Klönne'],\n",
       " ['Sarah Jane Arnold'],\n",
       " ['Annie Proulx'],\n",
       " ['Sara Raasch'],\n",
       " ['Kristina Ohlsson'],\n",
       " ['Roselies Taube', 'Hella Thomas', 'Susanne Witschkowski'],\n",
       " ['Martin Cruz Smith'],\n",
       " ['Lynn Weingarten'],\n",
       " ['M. Leighton'],\n",
       " ['Giorgio Panariello'],\n",
       " ['Robert Ludlum'],\n",
       " ['Trudi Canavan'],\n",
       " ['nan'],\n",
       " ['J.L. Bourne'],\n",
       " ['Holly Black'],\n",
       " ['S.P. Somtow'],\n",
       " ['Piet Klocke'],\n",
       " ['Vanessa Kullmann'],\n",
       " ['Stephen Baxter'],\n",
       " ['Dr. Ruth K. Westheimer'],\n",
       " ['Mike Nicol'],\n",
       " ['Andreas Englisch'],\n",
       " ['Franziska Gehm'],\n",
       " ['Michael Köhlmeier'],\n",
       " ['Pinchas Lapide', 'Viktor E. Frankl'],\n",
       " ['Gabrielle Williams'],\n",
       " ['Meg Cabot'],\n",
       " ['Alison Tyler'],\n",
       " ['Barbara Bartos-Höppner'],\n",
       " ['Wolfgang Pehnt'],\n",
       " ['Jeffery Deaver'],\n",
       " ['Grace Paley'],\n",
       " ['Federica de Cesco'],\n",
       " ['Tim Collins'],\n",
       " ['nan'],\n",
       " ['Barbara Hambly'],\n",
       " ['Willigis Jäger OSB'],\n",
       " ['Hans Wagner'],\n",
       " ['Julie Plec'],\n",
       " ['Walter Moers', 'Anja Dollinger'],\n",
       " ['Poul Anderson'],\n",
       " ['Anna Schädlich', 'Susanne Schädlich'],\n",
       " ['Johannes Kottjé'],\n",
       " ['Vanna Vannuccini'],\n",
       " ['nan'],\n",
       " ['Birgit Schlieper'],\n",
       " ['Ulrich Strunz'],\n",
       " ['George R.R. Martin'],\n",
       " ['Hal Clement'],\n",
       " ['Gianrico Carofiglio'],\n",
       " ['Gail Carriger'],\n",
       " ['Hans Christian Andersen'],\n",
       " ['Stefanie Lohaus', 'Tobias Scholz'],\n",
       " ['Paul Cleave'],\n",
       " ['Robert Sheckley'],\n",
       " ['Orson Scott Card'],\n",
       " ['Haruki Murakami'],\n",
       " ['Ruediger Dahlke'],\n",
       " ['Michaela Seul'],\n",
       " ['Mary Higgins Clark'],\n",
       " ['Julia Heilmann', 'Thomas Lindemann'],\n",
       " ['Ella Montgomery'],\n",
       " ['George R.R. Martin'],\n",
       " ['Karin Wahlberg'],\n",
       " ['Harald Lesch', 'Jörn Müller'],\n",
       " ['Wolf Schreiner'],\n",
       " ['Susanne Mierau'],\n",
       " ['Martin Nusch'],\n",
       " ['Bettina Schümann'],\n",
       " ['Ali McNamara'],\n",
       " ['Rachel Kramer Bussel'],\n",
       " ['Murasaki Shikibu'],\n",
       " ['Cathy Woodman'],\n",
       " ['Alexej Rakitin'],\n",
       " ['Lauren Weisberger'],\n",
       " ['Stefanie Zweig'],\n",
       " ['Martin Nusch'],\n",
       " ['Annie Barrows'],\n",
       " ['Franz Werfel'],\n",
       " ['Michael J. Sullivan'],\n",
       " ['Salman Rushdie'],\n",
       " ['Monica McCarty'],\n",
       " ['Carola Kleinschmidt'],\n",
       " ['Jude Watson'],\n",
       " ['Michael Kleeberg'],\n",
       " ['Robert Wilson'],\n",
       " ['Thomas Sonnenburg', 'Simone Winkelmann'],\n",
       " ['Susan Juby'],\n",
       " ['Alexander Neubacher'],\n",
       " ['Sally Kempton'],\n",
       " ['Eleonore Jacobi'],\n",
       " ['Wilhelm Goldmann Verlag GmbH'],\n",
       " ['Kevin J. Anderson'],\n",
       " ['Robert Galbraith'],\n",
       " ['Simone Neumann'],\n",
       " ['Hanns-Josef Ortheil'],\n",
       " ['J.D. Robb'],\n",
       " ['Johannes Bobrowski', 'Eberhard Haufe'],\n",
       " ['Ingo Siegner'],\n",
       " ['John Connell'],\n",
       " ['Nadja Hermann'],\n",
       " ['Harriet Quick'],\n",
       " ['Lucie Marshall'],\n",
       " ['Tess Gerritsen'],\n",
       " ['Mary Higgins Clark'],\n",
       " ['Bettina Obrecht'],\n",
       " ['Sara Raasch'],\n",
       " ['Tessa Korber'],\n",
       " ['Udo Weigelt'],\n",
       " ['Christian Schwarz'],\n",
       " ['Katie Kirby'],\n",
       " ['Teja Fiedler', 'Marc Goergen'],\n",
       " ['Jaiya Hanauer', 'Jon Hanauer'],\n",
       " ['Frank Witzel'],\n",
       " ['Ian Whates'],\n",
       " ['Lorna Byrne', 'Bettina Lemke'],\n",
       " ['Luise Schorn-Schütte'],\n",
       " ['Richard Burton', 'Chris Williams'],\n",
       " ['Ulrich Strunz'],\n",
       " ['Robert C. Solomon'],\n",
       " ['Johanna Paungger', 'Thomas Poppe'],\n",
       " ['Alexander Kern'],\n",
       " ['Harry Rowohlt', 'David Sedaris', 'David Lodge'],\n",
       " ['Serdar Somuncu'],\n",
       " ['Thomas Vašek'],\n",
       " ['Matti Y. Joensuu'],\n",
       " ['Joachim Bernd Vollmer'],\n",
       " ['Rainer Hank'],\n",
       " ['Oscar de Muriel'],\n",
       " ['Brandon Sanderson'],\n",
       " ['Wolfgang Jeschke'],\n",
       " ['Paul Cleave'],\n",
       " ['Howard Weinstein'],\n",
       " ['Michael Jürgs'],\n",
       " ['Nina Garcia'],\n",
       " ['Vivian Dittmar'],\n",
       " ['Manfred Gortz'],\n",
       " ['Stephen King'],\n",
       " ['Charlotte Bronte'],\n",
       " ['Helga Föger'],\n",
       " ['Birgit Hasselbusch', 'Stefan Grothoff'],\n",
       " ['Rachel Gibson'],\n",
       " ['Roger Pihl'],\n",
       " ['Horst Evers'],\n",
       " ['Michael Grumley'],\n",
       " ['Hans-Martin Lübking'],\n",
       " ['Naomi Novik'],\n",
       " ['Erik Axl Sund'],\n",
       " ['Prof. Dr. Thomas Kretschmar', 'Martin Tzschaschel'],\n",
       " ['Wolfgang Hohlbein'],\n",
       " ['Anja Janotta'],\n",
       " ['Kester Schlenz'],\n",
       " ['Jan Moran'],\n",
       " ['Burkhard Spinnen'],\n",
       " ['Oliver Geyer'],\n",
       " ['Donna Tartt'],\n",
       " ['Brian Staveley'],\n",
       " ['Richard David Precht'],\n",
       " ['Michaela Karl'],\n",
       " ['Stefan Wilfert'],\n",
       " ['Vadim Tschenze', 'Dani Felber'],\n",
       " ['Homer'],\n",
       " ['Thomas Greanias'],\n",
       " ['Bernhard Aichner'],\n",
       " ['Gisbert Haefs'],\n",
       " ['Andreas Pietsch', 'Barbara Stollberg-Rilinger'],\n",
       " ['Diana Faust'],\n",
       " ['Karen Swan'],\n",
       " ['Paul McAuley'],\n",
       " ['Karsten Brandt'],\n",
       " ['Raymond Feist'],\n",
       " ['Richard Morgan'],\n",
       " ['Simon Scarrow', 'T. J. Andrews'],\n",
       " ['Deborah Crombie'],\n",
       " ['Thomas Cathcart', 'Daniel Klein'],\n",
       " ['Wladimir Kaminer', 'Axel Hacke', 'Håkan Nesser'],\n",
       " ['Shabnam Arzt', 'Wolfgang Arzt'],\n",
       " ['Dennis L. McKiernan'],\n",
       " ['Kristin Halbrook'],\n",
       " ['Raoul Schrott'],\n",
       " ['James Corey'],\n",
       " ['Anne Berest'],\n",
       " ['Thea Dorn'],\n",
       " ['Sharon Bolton'],\n",
       " ['Kurt Langbein'],\n",
       " ['Thorsten Schröder'],\n",
       " ['Andrea Richter'],\n",
       " ['Tamara Dietl'],\n",
       " ['Thomas Weiß'],\n",
       " ['Nuno Mendes'],\n",
       " ['Anna Enquist'],\n",
       " ['Hans Greissing', 'Charlotte Rogers'],\n",
       " ['Christopher Hitchens'],\n",
       " ['Gundula Fuchsberger'],\n",
       " ['Liz Balfour'],\n",
       " ['Anne Jones'],\n",
       " ['Serdar Somuncu'],\n",
       " ['Manfred Theisen'],\n",
       " ['Dirk Hempel'],\n",
       " ['Wolfgang Hohlbein'],\n",
       " ['Hademar Bankhofer'],\n",
       " ['Tenzin Wangyal Rinpoche'],\n",
       " ['P.C. Cast'],\n",
       " ['Harald Lesch', 'Wilhelm Vossenkuhl'],\n",
       " ['Ulf Torreck'],\n",
       " ['Karen Clarke'],\n",
       " ['Gerhart Hauptmann'],\n",
       " ['Steven Erikson'],\n",
       " ['Usch Luhn'],\n",
       " ['Peter Stepan'],\n",
       " ['Ute Krause'],\n",
       " ['Enid Blyton'],\n",
       " ['Dagmar Trodler'],\n",
       " ['Lynn Raven'],\n",
       " ['Meg Cabot'],\n",
       " ['Enid Blyton'],\n",
       " ['Sara Shepard'],\n",
       " ['Jon Stock'],\n",
       " ['Ingo Siegner'],\n",
       " ['Uwe Birnstein'],\n",
       " ['Neale Donald Walsch'],\n",
       " ['Geneva Lee'],\n",
       " ['Terry Brooks'],\n",
       " ['Annette Roeder'],\n",
       " ['S.C. Stephens'],\n",
       " ['NEON', 'Marc Schürmann'],\n",
       " ['Rudy Rucker'],\n",
       " ['Charles Dickens'],\n",
       " ['Ingeborg Bachmann'],\n",
       " ['Kalayna Price'],\n",
       " ['Fabian Lenk'],\n",
       " ['Robert Charles Wilson'],\n",
       " ['Angelika Felenda'],\n",
       " ['Simon Scarrow', 'T. J. Andrews'],\n",
       " ['Ajahn Brahm'],\n",
       " ['Ernst Piper'],\n",
       " ['Jean M. Auel'],\n",
       " ['Tanja Heitmann'],\n",
       " ['Melanie Raabe'],\n",
       " ['Stephanie Laurens'],\n",
       " ['Alan Bradley'],\n",
       " ['Tobias Haberl'],\n",
       " ['Donald Ray Pollock'],\n",
       " ['nan'],\n",
       " ['Celeste Bradley'],\n",
       " ['Paul Cleave'],\n",
       " ['Annette Roeder'],\n",
       " ['Heike Schwarz', 'Sara Appelhagen', 'Kirsten Witte'],\n",
       " ['Martha Conway'],\n",
       " ['Einar Kárason'],\n",
       " ['J. R. Ward'],\n",
       " ['António Lobo Antunes'],\n",
       " ['Tina Georgescu', 'Razvan Georgescu'],\n",
       " ['Royce Buckingham'],\n",
       " ['Sara Raasch'],\n",
       " ['Dr. Michael Mosley', 'Peta Bee'],\n",
       " ['Vina Jackson'],\n",
       " ['N.K. Jemisin'],\n",
       " ['Elizabeth Craft', 'Shea Olsen'],\n",
       " ['Julie Kagawa'],\n",
       " ['Clive Cussler'],\n",
       " ['David Brooks'],\n",
       " ['Sandra Ingerman'],\n",
       " ['Ingo Siegner'],\n",
       " ['Markus Reiter'],\n",
       " ['Pierre Franckh'],\n",
       " ['Jeffery Deaver'],\n",
       " ['James Swallow'],\n",
       " ['Wolf Funfack'],\n",
       " ['Ulrich Strunz'],\n",
       " ['Britta Sabbag', 'Maite Kelly'],\n",
       " ['Sara Nović'],\n",
       " ['Werner Eberwein'],\n",
       " ['Shelly Kaldunski'],\n",
       " ['Mitchell Hogan'],\n",
       " ['Colin Taylor'],\n",
       " ['Günter M. Ziegler'],\n",
       " ['Harald Martenstein'],\n",
       " ['Claudia Dornieden', 'Stefan Rieß'],\n",
       " ['René Freund'],\n",
       " ['Adam Hamdy'],\n",
       " ['Michael Moss'],\n",
       " ['John Cleese'],\n",
       " ['Jeanne Siaud-Facchin'],\n",
       " ['Keri Arthur'],\n",
       " ['Giuseppe Furno'],\n",
       " ['Ursula James'],\n",
       " ['Jenny Erpenbeck'],\n",
       " ['Courtney Roulston'],\n",
       " ['Willi Fährmann'],\n",
       " ['Nina Grunenberg'],\n",
       " ['Melda Akbas'],\n",
       " ['Sharon Salzberg', 'Robert Thurman'],\n",
       " ['Ruth Rendell'],\n",
       " ['nan'],\n",
       " ['James Patterson', 'David Ellis'],\n",
       " ['nan'],\n",
       " ['Bora Ćosić'],\n",
       " ['Gisela Anna Erler'],\n",
       " ['Richard David Precht'],\n",
       " ['Dr. med. Rosemarie Unshelm'],\n",
       " ['Richard Yates'],\n",
       " ['Petra Durst-Benning'],\n",
       " ['Denise Mina'],\n",
       " ['Tad Williams'],\n",
       " ['Tami Hoag'],\n",
       " ['Karl Ove Knausgård'],\n",
       " ['Eberhard Krüger'],\n",
       " ['Meg Cabot'],\n",
       " ['Michael Marcus Thurner'],\n",
       " ['Wolf Jobst Siedler'],\n",
       " ['Galina Schatalova'],\n",
       " ['Ellen Sandberg'],\n",
       " ['Abby Hanlon'],\n",
       " ['Jörg Zittlau'],\n",
       " ['Rebekka Reinhard'],\n",
       " ['Harlan Ellison'],\n",
       " ['Diverse'],\n",
       " ['Karl Ove Knausgård'],\n",
       " ['Meg Cabot'],\n",
       " ['Hollis Seamon'],\n",
       " ['Jana Lukas'],\n",
       " ['Marc Levy'],\n",
       " ['Irvin D. Yalom'],\n",
       " ['J. R. Ward'],\n",
       " ['David Zinczenko'],\n",
       " ['Isabel Schupp'],\n",
       " ['Holger Reiners'],\n",
       " ['Michael Jürgs'],\n",
       " ['Michael McCollum'],\n",
       " ['Julie Lescault'],\n",
       " ['Christine Feehan'],\n",
       " ['Anna Rosendahl'],\n",
       " ['Paul Hoffman'],\n",
       " ['Stephen King'],\n",
       " ['Barbara Ann Brennan'],\n",
       " ['Edo Popović'],\n",
       " ['Catherine Alliott'],\n",
       " ['Nora Roberts'],\n",
       " ['Heinrich Heine',\n",
       "  'Matthias Claudius',\n",
       "  'Joachim Ringelnatz',\n",
       "  'Hoffmann von Fallersleben',\n",
       "  'Karel Jaromir Erben'],\n",
       " ['A. J. Rich'],\n",
       " ['Martin Cruz Smith'],\n",
       " ['Anke Greifeneder'],\n",
       " ['Edward Follis', 'Douglas Century'],\n",
       " ['Jens Westerbeck'],\n",
       " ['Jonathan Stroud'],\n",
       " ['Katarzyna Mol-Wolf'],\n",
       " ['Antonella Boralevi'],\n",
       " ['Victoria Hislop'],\n",
       " ['Giuliano Belfiore', 'Francesco Sbano'],\n",
       " ['Ernst Ulrich von Weizsäcker', 'Anders Wijkman'],\n",
       " ['Sam Jolig'],\n",
       " ['Adelheid Ohlig'],\n",
       " ['Hermine König', 'Karl Heinz König', 'Karl Joseph Klöckner'],\n",
       " ['Hermine König', 'Karl Heinz König'],\n",
       " ['Andreas Wirsching'],\n",
       " ['Axel Dammler'],\n",
       " ['Frank Rehfeld'],\n",
       " ['Adam Nevill'],\n",
       " ['Brandon Sanderson'],\n",
       " ['Lia Riley'],\n",
       " ['Stefan Lukschy'],\n",
       " ['Christian Cantrell'],\n",
       " ['Jane Austen'],\n",
       " ['Chandran Nair'],\n",
       " ['Jules Verne'],\n",
       " ['Deborah Chester'],\n",
       " ['Lena Klassen'],\n",
       " ['Mo Hayder'],\n",
       " ['Alan Parks'],\n",
       " ['Frank Swain'],\n",
       " ['Stephanie Grimm'],\n",
       " ['Wolfgang Jeschke'],\n",
       " ['Rajiv Parti', 'Paul Perry'],\n",
       " ['Dennis E. Taylor'],\n",
       " ['Jane Shemilt'],\n",
       " ['Pierre Grimbert'],\n",
       " ['Boris Koch'],\n",
       " ['Janne Teller'],\n",
       " ['Chris Carter', 'James Peisker'],\n",
       " ['Clive Cussler', 'Graham Brown'],\n",
       " ['Neal Stephenson'],\n",
       " ['Andrew Blum'],\n",
       " ['Jens Andersen'],\n",
       " ['Michael McBride'],\n",
       " ['Maria von Welser'],\n",
       " ['Søren Kierkegaard'],\n",
       " ['nan'],\n",
       " ['Manfred Theisen'],\n",
       " ['Noah Hawley'],\n",
       " ['Susanne Goga'],\n",
       " ['Lena Andersson'],\n",
       " ['Michelle Callahan'],\n",
       " ['Jesper Juul'],\n",
       " ['Edward St Aubyn'],\n",
       " ['Henning Boëtius'],\n",
       " ['Marion Grillparzer'],\n",
       " ['Hans Joachim Schellnhuber'],\n",
       " ['Martin Nusch'],\n",
       " ['Waltraut Engelberg'],\n",
       " ['Katherine Mansfield'],\n",
       " ['Jonathan Holt'],\n",
       " ['Eric Kandel'],\n",
       " ['Fiona McIntosh'],\n",
       " ['Christoph Peters'],\n",
       " ['Linda Lovelace'],\n",
       " ['Sally Beauman'],\n",
       " ['Christopher Paolini'],\n",
       " ['Hardy Schober'],\n",
       " ['Michael Robotham'],\n",
       " ['Ulla Hahn'],\n",
       " ['Martin Schwarz Lausten', 'Johannes Schilling'],\n",
       " ['Ulrich Sonnenschein'],\n",
       " ['Gina Schad'],\n",
       " ['Italo Svevo'],\n",
       " ['Chrisanna Northrup', 'Pepper Schwartz', 'James Witte'],\n",
       " ['Nora Roberts', 'J.D. Robb'],\n",
       " ['Catherine Ponder'],\n",
       " ['Enid Blyton'],\n",
       " ['Sigrid Meggendorfer'],\n",
       " ['Norbert Hummelt'],\n",
       " ['Ulla Hahn'],\n",
       " ['Annie Darling'],\n",
       " [\"Caragh O'Brien\"],\n",
       " ['Charles Todd'],\n",
       " ['Bernhard Wolff'],\n",
       " ['Karl Pilny'],\n",
       " ['Alastair Reynolds'],\n",
       " ['Thich Nhat Hanh'],\n",
       " ['Dana Reinhardt'],\n",
       " ['Jane Corry'],\n",
       " ['Ursel Scheffler'],\n",
       " ['Tom Wood'],\n",
       " ['Vonda N. McIntyre'],\n",
       " ['Hilary Boyd'],\n",
       " ['Maud Lethielleux'],\n",
       " ['Marc Ritter', 'Tom Ising'],\n",
       " ['Enid Blyton'],\n",
       " ['Christian Schwarz'],\n",
       " ['Anna Simons'],\n",
       " ['Stephanie Laurens'],\n",
       " ['Gemma Burgess'],\n",
       " ['Robert Muchamore'],\n",
       " ['Catherine Cookson'],\n",
       " ['Vina Jackson'],\n",
       " ['Sara Bilotti'],\n",
       " ['Carolyn J. Cherryh'],\n",
       " ['John Lewis Gaddis'],\n",
       " ['Philip Kiefer'],\n",
       " ['Henning Mankell'],\n",
       " ['Andrés Pascual'],\n",
       " ['James A. Moore'],\n",
       " ['Jon Skovron'],\n",
       " ['Helmut Krausser'],\n",
       " ['Adam Hamdy'],\n",
       " ['Sidney Sheldon'],\n",
       " ['Kelley York'],\n",
       " ['Peter Vollmer'],\n",
       " ['Stephen Greenblatt'],\n",
       " ['Robin Cook'],\n",
       " ['Frank Baer'],\n",
       " ['Michael Scott', 'Melanie Ruth Rose'],\n",
       " ['Janet Evanovich'],\n",
       " ['Michael Winterhoff'],\n",
       " ['Richard Mason'],\n",
       " ['Horst A. Friedrichs', 'Simon Crompton', 'Toby Egelnick'],\n",
       " ['Coreene Callahan'],\n",
       " ['Franz Alt'],\n",
       " ['Elizabeth Graver'],\n",
       " ['Jan Costin Wagner'],\n",
       " ['Julia Breitenöder'],\n",
       " ['Luca Veste'],\n",
       " ['Hajar Taddigs'],\n",
       " ['James Patterson'],\n",
       " ['Dagmar Knecht'],\n",
       " ['David Stubbs'],\n",
       " ['Usch Luhn'],\n",
       " ['Jane McGonigal'],\n",
       " ['Daniel Defoe'],\n",
       " ['Alberto Villoldo', 'Dr. David Perlmutter'],\n",
       " ['Stefan Zweig'],\n",
       " ['Mark Billingham'],\n",
       " ['Linda Howard'],\n",
       " ['Jack Vance'],\n",
       " ['Laurie Frankel'],\n",
       " ['David Hair'],\n",
       " ['Julie Cohen'],\n",
       " ['Élisa Géhin'],\n",
       " ['Cornelia Funke'],\n",
       " ['Dalai Lama'],\n",
       " ['Konstantin Wecker'],\n",
       " ['Deana Zinßmeister'],\n",
       " ['Jan Dochhorn'],\n",
       " ['Bettina Belitz'],\n",
       " ['Yvonne Hofstetter'],\n",
       " ['Anna Todd'],\n",
       " ['Veronica Roth'],\n",
       " ['Halldór Gudmundsson'],\n",
       " ['Aurélie Bastian'],\n",
       " ...]"
      ]
     },
     "execution_count": 47,
     "metadata": {},
     "output_type": "execute_result"
    }
   ],
   "source": [
    "list(val_data_authors.values) + list(book_df['author'].values)"
   ]
  },
  {
   "cell_type": "code",
   "execution_count": 79,
   "metadata": {},
   "outputs": [
    {
     "data": {
      "text/plain": [
       "((21169, 10283), (21169,))"
      ]
     },
     "execution_count": 79,
     "metadata": {},
     "output_type": "execute_result"
    }
   ],
   "source": [
    "book_df[\"author\"] = book_df[\"author\"].apply(lambda x: [y.strip() for y in str(x).split(',')])\n",
    "val_data_authors = validation_data[\"author\"].apply(lambda x: [y.strip() for y in str(x).split(',')])\n",
    "\n",
    "mlb = MultiLabelBinarizer()\n",
    "mlb.fit(list(val_data_authors.values) + list(book_df['author'].values))\n",
    "X = mlb.transform(book_df[\"author\"])\n",
    "y = book_df['cat_map']\n",
    "# y2 = book_df['top_level']\n",
    "\n",
    "clf = MultinomialNB()\n",
    "clf.fit(X, y)\n",
    "\n",
    "X.shape, y.shape"
   ]
  },
  {
   "cell_type": "code",
   "execution_count": 81,
   "metadata": {},
   "outputs": [],
   "source": [
    "X_test = mlb.transform(val_data_authors)\n",
    "pred_prob = clf.predict_proba(X_test)"
   ]
  },
  {
   "cell_type": "code",
   "execution_count": null,
   "metadata": {
    "collapsed": true
   },
   "outputs": [],
   "source": []
  },
  {
   "cell_type": "raw",
   "metadata": {},
   "source": [
    "## Categorical Naive Bayes\n",
    "\n",
    "book_df = repeat_authors(book_df)\n",
    "\n",
    "X = book_df['author'].values.reshape((-1,1))\n",
    "y = book_df['cat_map']\n",
    "\n",
    "%%time\n",
    "clf = CategoricalNB()\n",
    "clf.fit(X, y)\n",
    "\n",
    "accuracy_score(y, clf.predict(X))"
   ]
  },
  {
   "cell_type": "markdown",
   "metadata": {},
   "source": [
    "## Ensemble"
   ]
  },
  {
   "cell_type": "code",
   "execution_count": 120,
   "metadata": {},
   "outputs": [
    {
     "data": {
      "text/plain": [
       "(2079, 330)"
      ]
     },
     "execution_count": 120,
     "metadata": {},
     "output_type": "execute_result"
    }
   ],
   "source": [
    "predictions.shape"
   ]
  },
  {
   "cell_type": "markdown",
   "metadata": {},
   "source": [
    "There are seven more classes missed out on the SVM predictions. The average value for each prediction on the remaining 330 probabilities will be added for the remaining 7 columns."
   ]
  },
  {
   "cell_type": "code",
   "execution_count": 121,
   "metadata": {},
   "outputs": [],
   "source": [
    "seven_dummy = np.repeat(predictions.mean(axis=1).reshape(-1,1), 7, axis=1)\n",
    "preds = np.hstack((predictions, seven_dummy))"
   ]
  },
  {
   "cell_type": "code",
   "execution_count": 122,
   "metadata": {},
   "outputs": [],
   "source": [
    "#ENSEMBLING STEP\n",
    "predictions = preds * pred_prob"
   ]
  },
  {
   "cell_type": "code",
   "execution_count": 123,
   "metadata": {
    "collapsed": true
   },
   "outputs": [],
   "source": [
    "le_mapping_inv = {v: k for k, v in le_mapping.items()}\n",
    "\n",
    "def reverseMap(number):\n",
    "    return le_mapping_inv[number]"
   ]
  },
  {
   "cell_type": "code",
   "execution_count": 124,
   "metadata": {
    "collapsed": true
   },
   "outputs": [],
   "source": [
    "y_prob_list = [i.tolist() for i in predictions]\n",
    "validation_data[\"class_probs\"] = y_prob_list\n",
    "validation_data[\"class_count\"] = class_counts.values"
   ]
  },
  {
   "cell_type": "code",
   "execution_count": 125,
   "metadata": {
    "collapsed": true
   },
   "outputs": [],
   "source": [
    "# validation_data[\"predictions\"]  = \n",
    "validation_data[\"class_predictions_e\"] = validation_data.apply(lambda x:getClasses(x[\"class_probs\"],x[\"class_count\"]),axis=1)"
   ]
  },
  {
   "cell_type": "code",
   "execution_count": 126,
   "metadata": {
    "collapsed": true
   },
   "outputs": [],
   "source": [
    "validation_data[\"class_predictions\"] = validation_data[\"class_predictions_e\"].apply(lambda x: [reverseMap(i) for i in x])"
   ]
  },
  {
   "cell_type": "code",
   "execution_count": 127,
   "metadata": {
    "collapsed": true
   },
   "outputs": [],
   "source": [
    "def formatOutput(isbn,class_predictions):\n",
    "    classes = [\"\\t\"+str(i) for i in class_predictions]\n",
    "    return str(isbn) + \"\".join(classes) + \"\\n\""
   ]
  },
  {
   "cell_type": "code",
   "execution_count": 128,
   "metadata": {
    "collapsed": true
   },
   "outputs": [],
   "source": [
    "validation_data[\"class_predictions_top_level\"] = validation_data[\"class_predictions\"].apply(lambda cat_paths: [x.split(\" > \")[0] for x in cat_paths])"
   ]
  },
  {
   "cell_type": "code",
   "execution_count": 129,
   "metadata": {},
   "outputs": [
    {
     "data": {
      "text/html": [
       "<div>\n",
       "<style scoped>\n",
       "    .dataframe tbody tr th:only-of-type {\n",
       "        vertical-align: middle;\n",
       "    }\n",
       "\n",
       "    .dataframe tbody tr th {\n",
       "        vertical-align: top;\n",
       "    }\n",
       "\n",
       "    .dataframe thead th {\n",
       "        text-align: right;\n",
       "    }\n",
       "</style>\n",
       "<table border=\"1\" class=\"dataframe\">\n",
       "  <thead>\n",
       "    <tr style=\"text-align: right;\">\n",
       "      <th></th>\n",
       "      <th>title</th>\n",
       "      <th>description</th>\n",
       "      <th>author</th>\n",
       "      <th>published_date</th>\n",
       "      <th>isbn</th>\n",
       "      <th>class_probs</th>\n",
       "      <th>class_count</th>\n",
       "      <th>class_predictions_e</th>\n",
       "      <th>class_predictions</th>\n",
       "      <th>class_predictions_top_level</th>\n",
       "    </tr>\n",
       "  </thead>\n",
       "  <tbody>\n",
       "    <tr>\n",
       "      <th>0</th>\n",
       "      <td>Selbstständig werden im Glauben</td>\n",
       "      <td>Die Konfirmandenzeit wird für Jugendliche beso...</td>\n",
       "      <td>Hans-Martin Lübking</td>\n",
       "      <td>2013-07-22</td>\n",
       "      <td>9783579074030</td>\n",
       "      <td>[1.6924214503943732e-06, 5.923485481108555e-07...</td>\n",
       "      <td>1</td>\n",
       "      <td>[171]</td>\n",
       "      <td>[Literatur &amp; Unterhaltung &gt; Romane &amp; Erzählungen]</td>\n",
       "      <td>[Literatur &amp; Unterhaltung]</td>\n",
       "    </tr>\n",
       "    <tr>\n",
       "      <th>1</th>\n",
       "      <td>Das Buch der Schatten - Schwarze Seelen</td>\n",
       "      <td>Als Morgan von einer prophetischen Vision heim...</td>\n",
       "      <td>Cate Tiernan</td>\n",
       "      <td>2013-06-10</td>\n",
       "      <td>9783570380093</td>\n",
       "      <td>[1.6413662804066912e-06, 5.925976887299815e-07...</td>\n",
       "      <td>1</td>\n",
       "      <td>[171]</td>\n",
       "      <td>[Literatur &amp; Unterhaltung &gt; Romane &amp; Erzählungen]</td>\n",
       "      <td>[Literatur &amp; Unterhaltung]</td>\n",
       "    </tr>\n",
       "  </tbody>\n",
       "</table>\n",
       "</div>"
      ],
      "text/plain": [
       "                                     title  \\\n",
       "0          Selbstständig werden im Glauben   \n",
       "1  Das Buch der Schatten - Schwarze Seelen   \n",
       "\n",
       "                                         description               author  \\\n",
       "0  Die Konfirmandenzeit wird für Jugendliche beso...  Hans-Martin Lübking   \n",
       "1  Als Morgan von einer prophetischen Vision heim...         Cate Tiernan   \n",
       "\n",
       "  published_date           isbn  \\\n",
       "0     2013-07-22  9783579074030   \n",
       "1     2013-06-10  9783570380093   \n",
       "\n",
       "                                         class_probs  class_count  \\\n",
       "0  [1.6924214503943732e-06, 5.923485481108555e-07...            1   \n",
       "1  [1.6413662804066912e-06, 5.925976887299815e-07...            1   \n",
       "\n",
       "  class_predictions_e                                  class_predictions  \\\n",
       "0               [171]  [Literatur & Unterhaltung > Romane & Erzählungen]   \n",
       "1               [171]  [Literatur & Unterhaltung > Romane & Erzählungen]   \n",
       "\n",
       "  class_predictions_top_level  \n",
       "0  [Literatur & Unterhaltung]  \n",
       "1  [Literatur & Unterhaltung]  "
      ]
     },
     "execution_count": 129,
     "metadata": {},
     "output_type": "execute_result"
    }
   ],
   "source": [
    "validation_data.head(2)"
   ]
  },
  {
   "cell_type": "code",
   "execution_count": 130,
   "metadata": {
    "collapsed": true,
    "scrolled": true
   },
   "outputs": [],
   "source": [
    "submissions = validation_data.apply(lambda x:formatOutput(x[\"isbn\"],x[\"class_predictions_top_level\"]),axis=1).values"
   ]
  },
  {
   "cell_type": "code",
   "execution_count": 131,
   "metadata": {},
   "outputs": [],
   "source": [
    "# y"
   ]
  },
  {
   "cell_type": "code",
   "execution_count": 132,
   "metadata": {
    "collapsed": true
   },
   "outputs": [],
   "source": [
    "submissions = np.insert(submissions,0,\"subtask_a\\n\")"
   ]
  },
  {
   "cell_type": "code",
   "execution_count": 133,
   "metadata": {
    "collapsed": true
   },
   "outputs": [],
   "source": [
    "submission_format = \"\".join(submissions)"
   ]
  },
  {
   "cell_type": "code",
   "execution_count": 134,
   "metadata": {
    "collapsed": true
   },
   "outputs": [],
   "source": [
    "submission_file = open(\"../../data/answers_svm_multinomialNB_ensemble.txt\",'w')"
   ]
  },
  {
   "cell_type": "code",
   "execution_count": 135,
   "metadata": {
    "collapsed": true
   },
   "outputs": [],
   "source": [
    "submission_file.writelines(submission_format)"
   ]
  },
  {
   "cell_type": "code",
   "execution_count": null,
   "metadata": {
    "collapsed": true
   },
   "outputs": [],
   "source": []
  },
  {
   "cell_type": "markdown",
   "metadata": {},
   "source": [
    "## Lets check the confusion matrix (Do not run this , this will take long time and will not yield good results)"
   ]
  },
  {
   "cell_type": "code",
   "execution_count": null,
   "metadata": {
    "collapsed": true
   },
   "outputs": [],
   "source": [
    "import seaborn as sn\n",
    "import pandas as pd\n",
    "import matplotlib.pyplot as plt\n",
    "array = confusion_matrix(y_pred,y_test,labels=list(le_mapping.values()))\n",
    "df_cm = pd.DataFrame(array, index = list(le_mapping.keys()),\n",
    "                  columns = list(le_mapping.keys()))\n",
    "plt.figure(figsize = (10,7))\n",
    "sn.heatmap(df_cm, annot=True)\n"
   ]
  },
  {
   "cell_type": "code",
   "execution_count": 6,
   "metadata": {
    "collapsed": true
   },
   "outputs": [],
   "source": [
    "inv_map = {v: k for k, v in le_mapping.items()}"
   ]
  },
  {
   "cell_type": "code",
   "execution_count": 7,
   "metadata": {
    "collapsed": true
   },
   "outputs": [],
   "source": [
    "y_pred_top = [inv_map[i].split(\" > \")[0] for i in y_pred]"
   ]
  },
  {
   "cell_type": "code",
   "execution_count": 8,
   "metadata": {
    "collapsed": true
   },
   "outputs": [],
   "source": [
    "y_test_top = [inv_map[i].split(\" > \")[0] for i in y_test]"
   ]
  },
  {
   "cell_type": "code",
   "execution_count": 10,
   "metadata": {},
   "outputs": [
    {
     "data": {
      "text/plain": [
       "(8, 8)"
      ]
     },
     "execution_count": 10,
     "metadata": {},
     "output_type": "execute_result"
    }
   ],
   "source": [
    "confarray = confusion_matrix(y_test_top, y_pred_top,labels=list(set(y_test_top)))\n",
    "confarray.shape"
   ]
  },
  {
   "cell_type": "code",
   "execution_count": 12,
   "metadata": {
    "collapsed": true
   },
   "outputs": [],
   "source": [
    "conf = pd.DataFrame(confarray,columns=list(set(y_test_top)))\n",
    "conf.index = list(set(y_test_top))"
   ]
  },
  {
   "cell_type": "code",
   "execution_count": 16,
   "metadata": {},
   "outputs": [
    {
     "data": {
      "text/plain": [
       "<matplotlib.axes._subplots.AxesSubplot at 0x7fcc35a92390>"
      ]
     },
     "execution_count": 16,
     "metadata": {},
     "output_type": "execute_result"
    },
    {
     "data": {
      "image/png": "[encoded data removed]",
      "text/plain": [
       "<Figure size 720x504 with 2 Axes>"
      ]
     },
     "metadata": {},
     "output_type": "display_data"
    }
   ],
   "source": [
    "import matplotlib.pyplot as plt\n",
    "import seaborn as sns\n",
    "plt.figure(figsize = (10,7))\n",
    "sns.heatmap(conf, annot=True,fmt=\"0.5g\")"
   ]
  },
  {
   "cell_type": "code",
   "execution_count": 17,
   "metadata": {},
   "outputs": [
    {
     "data": {
      "text/plain": [
       "0.8235294117647058"
      ]
     },
     "execution_count": 17,
     "metadata": {},
     "output_type": "execute_result"
    }
   ],
   "source": [
    "accuracy_score(y_pred_top,y_test_top)"
   ]
  },
  {
   "cell_type": "code",
   "execution_count": 21,
   "metadata": {},
   "outputs": [
    {
     "data": {
      "text/plain": [
       "array([[  36,    0,    0,    1,    0,    0,    3,    1],\n",
       "       [   1,  144,   11,    0,    0,    1,   35,   14],\n",
       "       [   0,    8,  123,    2,    0,    9,    0,   28],\n",
       "       [   0,    3,    1,  687,    2,   83,   19,    9],\n",
       "       [   0,    0,    2,    2,   19,    0,    2,    8],\n",
       "       [   2,    8,   19,   77,    3, 1697,   22,  123],\n",
       "       [   3,   46,    4,   14,    2,    5,  363,   59],\n",
       "       [   0,    2,   13,    5,    3,   35,   57,  417]])"
      ]
     },
     "execution_count": 21,
     "metadata": {},
     "output_type": "execute_result"
    }
   ],
   "source": [
    "confusion_matrix(y_pred_top,y_test_top)"
   ]
  },
  {
   "cell_type": "code",
   "execution_count": null,
   "metadata": {
    "collapsed": true
   },
   "outputs": [],
   "source": []
  }
 ],
 "metadata": {
  "kernelspec": {
   "display_name": "deeplearning_36",
   "language": "python",
   "name": "deeplearning_36"
  },
  "language_info": {
   "codemirror_mode": {
    "name": "ipython",
    "version": 3
   },
   "file_extension": ".py",
   "mimetype": "text/x-python",
   "name": "python",
   "nbconvert_exporter": "python",
   "pygments_lexer": "ipython3",
   "version": "3.6.8"
  }
 },
 "nbformat": 4,
 "nbformat_minor": 2
}
