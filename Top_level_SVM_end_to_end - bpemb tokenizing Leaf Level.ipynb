{
 "cells": [
  {
   "cell_type": "markdown",
   "metadata": {
    "collapsed": true
   },
   "source": [
    "# GermEval -- TF.IDF\n",
    "\n",
    "\n",
    "The original dataset is an XML format and it has been parsed to CSV, `parsed.csv` (through beautifulsoup).\n",
    "\n",
    "This notebook contains the code for extracting TF.IDF features for the GermEval dataset. \n",
    "\n",
    "- Title and Description fields are combined before applying TF.IDF\n",
    "- TF.IDF is also applied to the Authors field separately. \n",
    "\n",
    "Different classifiers are tested in their vanilla form on the TF.IDF alone\n",
    "\n",
    "TODO:\n",
    "- Stopwords removal (German)\n",
    "- Root words extraction (maybe)"
   ]
  },
  {
   "cell_type": "code",
   "execution_count": 94,
   "metadata": {},
   "outputs": [],
   "source": [
    "import pandas as pd\n",
    "import pickle\n",
    "from ast import literal_eval\n",
    "import numpy as np\n",
    "from sklearn.feature_extraction.text import TfidfVectorizer\n",
    "from sklearn.model_selection import train_test_split\n",
    "from sklearn.metrics import accuracy_score, precision_score, recall_score, cohen_kappa_score, f1_score\n",
    "from nltk.corpus import stopwords\n",
    "from sklearn.naive_bayes import MultinomialNB\n",
    "from sklearn.ensemble import RandomForestClassifier\n",
    "from sklearn.preprocessing import MultiLabelBinarizer , LabelEncoder , LabelBinarizer\n",
    "from sklearn.svm import LinearSVC , NuSVC\n",
    "from utils import subtask_A_evaluation ,subtask_B_evaluation\n",
    "from bpemb import BPEmb\n"
   ]
  },
  {
   "cell_type": "code",
   "execution_count": 95,
   "metadata": {},
   "outputs": [],
   "source": [
    "bpemb_de = BPEmb(lang=\"de\", vs=25000, dim=300)"
   ]
  },
  {
   "cell_type": "code",
   "execution_count": 96,
   "metadata": {},
   "outputs": [
    {
     "data": {
      "text/plain": [
       "['▁ein', '▁blick', '▁hinter', '▁die']"
      ]
     },
     "execution_count": 96,
     "metadata": {},
     "output_type": "execute_result"
    }
   ],
   "source": [
    "bpemb_de.encode(\"Ein Blick hinter die \")"
   ]
  },
  {
   "cell_type": "code",
   "execution_count": 97,
   "metadata": {},
   "outputs": [],
   "source": [
    "book_df = pd.read_csv(\"/home/evenuma/germeval/data/parsed_train_plus_validation.csv\")"
   ]
  },
  {
   "cell_type": "markdown",
   "metadata": {},
   "source": [
    "The categories can be represented as lists wherein each element is a tag. Each tag is separated in to levels split by '>' token. "
   ]
  },
  {
   "cell_type": "code",
   "execution_count": 98,
   "metadata": {},
   "outputs": [],
   "source": [
    "book_df[\"categories\"] = book_df[\"categories\"].apply(lambda categories: literal_eval(categories))"
   ]
  },
  {
   "cell_type": "code",
   "execution_count": 99,
   "metadata": {},
   "outputs": [],
   "source": [
    "def get_mid_level(cat_path):\n",
    "    cats = cat_path.split(\" > \")\n",
    "    if len(cats) > 1:\n",
    "        return cats[1]\n",
    "    else:\n",
    "        return cats[0]"
   ]
  },
  {
   "cell_type": "markdown",
   "metadata": {},
   "source": [
    "For the time being, we are focusing on a single tag classification and only the top level is considered. If a sample has more than one label assigned to it, we take only the first."
   ]
  },
  {
   "cell_type": "code",
   "execution_count": 100,
   "metadata": {},
   "outputs": [],
   "source": [
    "book_df[\"top_level\"] = book_df[\"categories\"]\\\n",
    "    .apply(lambda  categories: np.unique([get_mid_level(i) for i in categories]))"
   ]
  },
  {
   "cell_type": "code",
   "execution_count": 101,
   "metadata": {},
   "outputs": [],
   "source": [
    "book_df[\"count_of_categories\"] = book_df[\"top_level\"].apply(lambda top_levels: 3 if len(top_levels) > 3 else len(top_levels))"
   ]
  },
  {
   "cell_type": "code",
   "execution_count": 102,
   "metadata": {},
   "outputs": [
    {
     "data": {
      "text/plain": [
       "1    12286\n",
       "2    3133 \n",
       "3    1208 \n",
       "Name: count_of_categories, dtype: int64"
      ]
     },
     "execution_count": 102,
     "metadata": {},
     "output_type": "execute_result"
    }
   ],
   "source": [
    "book_df.count_of_categories.value_counts()"
   ]
  },
  {
   "cell_type": "code",
   "execution_count": 103,
   "metadata": {},
   "outputs": [
    {
     "data": {
      "text/plain": [
       "Index(['title', 'description', 'categories', 'author', 'published_date',\n",
       "       'isbn', 'top_level', 'count_of_categories'],\n",
       "      dtype='object')"
      ]
     },
     "execution_count": 103,
     "metadata": {},
     "output_type": "execute_result"
    }
   ],
   "source": [
    "book_df.columns"
   ]
  },
  {
   "cell_type": "code",
   "execution_count": 104,
   "metadata": {},
   "outputs": [],
   "source": [
    "pd.set_option('display.max_colwidth', -1)"
   ]
  },
  {
   "cell_type": "code",
   "execution_count": 105,
   "metadata": {},
   "outputs": [
    {
     "data": {
      "text/html": [
       "<div>\n",
       "<style scoped>\n",
       "    .dataframe tbody tr th:only-of-type {\n",
       "        vertical-align: middle;\n",
       "    }\n",
       "\n",
       "    .dataframe tbody tr th {\n",
       "        vertical-align: top;\n",
       "    }\n",
       "\n",
       "    .dataframe thead th {\n",
       "        text-align: right;\n",
       "    }\n",
       "</style>\n",
       "<table border=\"1\" class=\"dataframe\">\n",
       "  <thead>\n",
       "    <tr style=\"text-align: right;\">\n",
       "      <th></th>\n",
       "      <th>categories</th>\n",
       "      <th>top_level</th>\n",
       "    </tr>\n",
       "  </thead>\n",
       "  <tbody>\n",
       "    <tr>\n",
       "      <th>0</th>\n",
       "      <td>[Literatur &amp; Unterhaltung &gt; Romane &amp; Erzählungen]</td>\n",
       "      <td>[Romane &amp; Erzählungen]</td>\n",
       "    </tr>\n",
       "    <tr>\n",
       "      <th>1</th>\n",
       "      <td>[Literatur &amp; Unterhaltung &gt; Fantasy &gt; Heroische Fantasy]</td>\n",
       "      <td>[Fantasy]</td>\n",
       "    </tr>\n",
       "    <tr>\n",
       "      <th>2</th>\n",
       "      <td>[Ratgeber &gt; Lebenshilfe &amp; Psychologie &gt; Besser leben]</td>\n",
       "      <td>[Lebenshilfe &amp; Psychologie]</td>\n",
       "    </tr>\n",
       "  </tbody>\n",
       "</table>\n",
       "</div>"
      ],
      "text/plain": [
       "                                                 categories  \\\n",
       "0  [Literatur & Unterhaltung > Romane & Erzählungen]          \n",
       "1  [Literatur & Unterhaltung > Fantasy > Heroische Fantasy]   \n",
       "2  [Ratgeber > Lebenshilfe & Psychologie > Besser leben]      \n",
       "\n",
       "                     top_level  \n",
       "0  [Romane & Erzählungen]       \n",
       "1  [Fantasy]                    \n",
       "2  [Lebenshilfe & Psychologie]  "
      ]
     },
     "execution_count": 105,
     "metadata": {},
     "output_type": "execute_result"
    }
   ],
   "source": [
    "book_df[[\"categories\",\"top_level\"]].head(3)"
   ]
  },
  {
   "cell_type": "code",
   "execution_count": 106,
   "metadata": {},
   "outputs": [],
   "source": [
    "book_df[\"toplevel_categories\"] = book_df[\"categories\"].apply(lambda x:np.unique([i.split(\" > \")[0].strip() for i in x]).tolist())"
   ]
  },
  {
   "cell_type": "code",
   "execution_count": 107,
   "metadata": {},
   "outputs": [],
   "source": [
    "def repeat_categories(df):\n",
    "    lens = [len(item) for item in df['top_level']]\n",
    "    return pd.DataFrame({\"category\" : np.concatenate(df['top_level'].values), \n",
    "                         \"categories\" : np.repeat(df['top_level'].values,lens), \n",
    "                          \"title\" : np.repeat(df['title'].values,lens),\n",
    "                          \"description\" : np.repeat(df['description'].values,lens),\n",
    "                          \"author\" : np.repeat(df['author'].values,lens),\n",
    "                          \"published_date\" : np.repeat(df['published_date'].values,lens),\n",
    "                          \"isbn\":np.repeat(df['isbn'].values,lens),\n",
    "                          \"count_of_categories\":np.repeat(df['count_of_categories'].values,lens),\n",
    "                          \"toplevel_categories\":np.repeat(df['toplevel_categories'].values,lens)})"
   ]
  },
  {
   "cell_type": "code",
   "execution_count": 108,
   "metadata": {},
   "outputs": [],
   "source": [
    "# len(np.repeat(book_df['categories'].values,lens))"
   ]
  },
  {
   "cell_type": "code",
   "execution_count": 109,
   "metadata": {},
   "outputs": [],
   "source": [
    "flat_book_df = repeat_categories(book_df)"
   ]
  },
  {
   "cell_type": "code",
   "execution_count": 110,
   "metadata": {},
   "outputs": [
    {
     "data": {
      "text/html": [
       "<div>\n",
       "<style scoped>\n",
       "    .dataframe tbody tr th:only-of-type {\n",
       "        vertical-align: middle;\n",
       "    }\n",
       "\n",
       "    .dataframe tbody tr th {\n",
       "        vertical-align: top;\n",
       "    }\n",
       "\n",
       "    .dataframe thead th {\n",
       "        text-align: right;\n",
       "    }\n",
       "</style>\n",
       "<table border=\"1\" class=\"dataframe\">\n",
       "  <thead>\n",
       "    <tr style=\"text-align: right;\">\n",
       "      <th></th>\n",
       "      <th>category</th>\n",
       "      <th>categories</th>\n",
       "      <th>title</th>\n",
       "      <th>description</th>\n",
       "      <th>author</th>\n",
       "      <th>published_date</th>\n",
       "      <th>isbn</th>\n",
       "      <th>count_of_categories</th>\n",
       "      <th>toplevel_categories</th>\n",
       "    </tr>\n",
       "  </thead>\n",
       "  <tbody>\n",
       "    <tr>\n",
       "      <th>0</th>\n",
       "      <td>Romane &amp; Erzählungen</td>\n",
       "      <td>[Romane &amp; Erzählungen]</td>\n",
       "      <td>Die Klinik</td>\n",
       "      <td>Ein Blick hinter die Kulissen eines Krankenhauses vom Autor der Bestseller \"Der Medicus\" und \"Der Medicus von Saragossa\". Der Wissenschaftler Adam Silverstone, der kubanische Aristokrat Rafael Meomartino und der Farbige Spurgeon Robinson - sie sind drei grundverschiedene Klinik-Ärzte, die unter der unerbittlichen Aufsicht von Dr. Longwood praktizieren. Eines Tages stirbt eine Patientin, und Dr. Longwood wittert einen Behandlungsfehler. Sofort macht er sich auf die Suche nach einem Schuldigen, dem er die Verantwortung in die Schuhe schieben könnte ...</td>\n",
       "      <td>Noah Gordon</td>\n",
       "      <td>2013-12-02</td>\n",
       "      <td>9783641136291</td>\n",
       "      <td>1</td>\n",
       "      <td>[Literatur &amp; Unterhaltung]</td>\n",
       "    </tr>\n",
       "    <tr>\n",
       "      <th>1</th>\n",
       "      <td>Fantasy</td>\n",
       "      <td>[Fantasy]</td>\n",
       "      <td>Die Erben von Midkemia 4</td>\n",
       "      <td>Die Bedrohungen für Midkemia und Kelewan wollen nicht enden: Obwohl das Konklave der Schatten Leso Varen und seinen Nachtfalken dicht auf den Fersen ist, schmieden sie weiter ihre finsteren Umsturzpläne gegen das Herrscherhaus von Kesh. Zugleich stellt sich heraus, dass von den mysteriösen Talnoy eine bisher ungekannte Gefahr ausgeht: durch ihre magischen Kräfte können die fürchterlichen Dasati ins Reich Midkemia eindringen und alle ins Unheil stürzen …</td>\n",
       "      <td>Raymond Feist</td>\n",
       "      <td>2016-06-20</td>\n",
       "      <td>9783641185787</td>\n",
       "      <td>1</td>\n",
       "      <td>[Literatur &amp; Unterhaltung]</td>\n",
       "    </tr>\n",
       "    <tr>\n",
       "      <th>2</th>\n",
       "      <td>Lebenshilfe &amp; Psychologie</td>\n",
       "      <td>[Lebenshilfe &amp; Psychologie]</td>\n",
       "      <td>Völlig losgelöst</td>\n",
       "      <td>In der Dreizimmerwohnung stapeln sich Flohmarktfunde und modische Fehlkäufe, und durch den lang erhofften Karrieresprung dreht sich das Hamsterrad nur noch schneller. Vielen Menschen geht es ähnlich: In unserer Welt voll Hektik und Überfluss sehnen wir uns danach, uns wieder auf die wirklich wichtigen Dinge zu konzentrieren und Zeit zu haben für Familie, Freunde und uns selbst. Konsumforscher, Psychologen und überzeugte Minimalisten zeigen in diesem Buch, wie wir uns von Unwichtigem trennen, nachhaltig konsumieren und uns endlich wieder frei fühlen – denn weniger ist in der Tat mehr.</td>\n",
       "      <td>Susanne Weingarten</td>\n",
       "      <td>2019-01-14</td>\n",
       "      <td>9783328103646</td>\n",
       "      <td>1</td>\n",
       "      <td>[Ratgeber]</td>\n",
       "    </tr>\n",
       "  </tbody>\n",
       "</table>\n",
       "</div>"
      ],
      "text/plain": [
       "                    category                   categories  \\\n",
       "0  Romane & Erzählungen       [Romane & Erzählungen]        \n",
       "1  Fantasy                    [Fantasy]                     \n",
       "2  Lebenshilfe & Psychologie  [Lebenshilfe & Psychologie]   \n",
       "\n",
       "                      title  \\\n",
       "0  Die Klinik                 \n",
       "1  Die Erben von Midkemia 4   \n",
       "2  Völlig losgelöst           \n",
       "\n",
       "                                                                                                                                                                                                                                                                                                                                                                                                                                                                                                                                                                                                      description  \\\n",
       "0  Ein Blick hinter die Kulissen eines Krankenhauses vom Autor der Bestseller \"Der Medicus\" und \"Der Medicus von Saragossa\". Der Wissenschaftler Adam Silverstone, der kubanische Aristokrat Rafael Meomartino und der Farbige Spurgeon Robinson - sie sind drei grundverschiedene Klinik-Ärzte, die unter der unerbittlichen Aufsicht von Dr. Longwood praktizieren. Eines Tages stirbt eine Patientin, und Dr. Longwood wittert einen Behandlungsfehler. Sofort macht er sich auf die Suche nach einem Schuldigen, dem er die Verantwortung in die Schuhe schieben könnte ...                                     \n",
       "1  Die Bedrohungen für Midkemia und Kelewan wollen nicht enden: Obwohl das Konklave der Schatten Leso Varen und seinen Nachtfalken dicht auf den Fersen ist, schmieden sie weiter ihre finsteren Umsturzpläne gegen das Herrscherhaus von Kesh. Zugleich stellt sich heraus, dass von den mysteriösen Talnoy eine bisher ungekannte Gefahr ausgeht: durch ihre magischen Kräfte können die fürchterlichen Dasati ins Reich Midkemia eindringen und alle ins Unheil stürzen …                                                                                                                                        \n",
       "2  In der Dreizimmerwohnung stapeln sich Flohmarktfunde und modische Fehlkäufe, und durch den lang erhofften Karrieresprung dreht sich das Hamsterrad nur noch schneller. Vielen Menschen geht es ähnlich: In unserer Welt voll Hektik und Überfluss sehnen wir uns danach, uns wieder auf die wirklich wichtigen Dinge zu konzentrieren und Zeit zu haben für Familie, Freunde und uns selbst. Konsumforscher, Psychologen und überzeugte Minimalisten zeigen in diesem Buch, wie wir uns von Unwichtigem trennen, nachhaltig konsumieren und uns endlich wieder frei fühlen – denn weniger ist in der Tat mehr.   \n",
       "\n",
       "               author published_date           isbn  count_of_categories  \\\n",
       "0  Noah Gordon         2013-12-02     9783641136291  1                     \n",
       "1  Raymond Feist       2016-06-20     9783641185787  1                     \n",
       "2  Susanne Weingarten  2019-01-14     9783328103646  1                     \n",
       "\n",
       "          toplevel_categories  \n",
       "0  [Literatur & Unterhaltung]  \n",
       "1  [Literatur & Unterhaltung]  \n",
       "2  [Ratgeber]                  "
      ]
     },
     "execution_count": 110,
     "metadata": {},
     "output_type": "execute_result"
    }
   ],
   "source": [
    "flat_book_df.head(3)"
   ]
  },
  {
   "cell_type": "code",
   "execution_count": 111,
   "metadata": {},
   "outputs": [],
   "source": [
    "category_value_counts = flat_book_df.category.value_counts()\n",
    "less_count_categories = category_value_counts[category_value_counts < 4].index.tolist()"
   ]
  },
  {
   "cell_type": "code",
   "execution_count": 112,
   "metadata": {},
   "outputs": [
    {
     "data": {
      "text/plain": [
       "[]"
      ]
     },
     "execution_count": 112,
     "metadata": {},
     "output_type": "execute_result"
    }
   ],
   "source": [
    "less_count_categories"
   ]
  },
  {
   "cell_type": "code",
   "execution_count": 113,
   "metadata": {},
   "outputs": [
    {
     "name": "stdout",
     "output_type": "stream",
     "text": [
      "22780\n",
      "22176\n"
     ]
    }
   ],
   "source": [
    "print(len(flat_book_df))\n",
    "print(sum(book_df[\"count_of_categories\"].values))"
   ]
  },
  {
   "cell_type": "markdown",
   "metadata": {},
   "source": [
    "## ^ The above diff is due to 4 records having 4 toplevel categories and they have been limited to 3"
   ]
  },
  {
   "cell_type": "code",
   "execution_count": 114,
   "metadata": {},
   "outputs": [],
   "source": [
    "final_df = flat_book_df[~flat_book_df.category.isin(less_count_categories)]"
   ]
  },
  {
   "cell_type": "code",
   "execution_count": 115,
   "metadata": {},
   "outputs": [],
   "source": [
    "final_df[\"authors\"] = final_df[\"author\"].apply(lambda x:[ i.strip() for i in str(x).split(\",\")])"
   ]
  },
  {
   "cell_type": "code",
   "execution_count": 116,
   "metadata": {},
   "outputs": [],
   "source": [
    "final_df[\"published_date_parsed\"] = pd.to_datetime(final_df[\"published_date\"],infer_datetime_format=True)"
   ]
  },
  {
   "cell_type": "code",
   "execution_count": 117,
   "metadata": {},
   "outputs": [],
   "source": [
    "final_df[\"year\"] = final_df[\"published_date_parsed\"].apply(lambda x: x.year)"
   ]
  },
  {
   "cell_type": "code",
   "execution_count": 118,
   "metadata": {},
   "outputs": [],
   "source": [
    "final_df['ISBN_GRP'] = final_df[\"isbn\"].apply(lambda x:str(x)[4:6])\n",
    "final_df['ISBN_PUBLISHER'] = final_df[\"isbn\"].apply(lambda x:str(x)[6:10]) "
   ]
  },
  {
   "cell_type": "code",
   "execution_count": 119,
   "metadata": {},
   "outputs": [
    {
     "data": {
      "text/html": [
       "<div>\n",
       "<style scoped>\n",
       "    .dataframe tbody tr th:only-of-type {\n",
       "        vertical-align: middle;\n",
       "    }\n",
       "\n",
       "    .dataframe tbody tr th {\n",
       "        vertical-align: top;\n",
       "    }\n",
       "\n",
       "    .dataframe thead th {\n",
       "        text-align: right;\n",
       "    }\n",
       "</style>\n",
       "<table border=\"1\" class=\"dataframe\">\n",
       "  <thead>\n",
       "    <tr style=\"text-align: right;\">\n",
       "      <th></th>\n",
       "      <th>category</th>\n",
       "      <th>categories</th>\n",
       "      <th>title</th>\n",
       "      <th>description</th>\n",
       "      <th>author</th>\n",
       "      <th>published_date</th>\n",
       "      <th>isbn</th>\n",
       "      <th>count_of_categories</th>\n",
       "      <th>toplevel_categories</th>\n",
       "      <th>authors</th>\n",
       "      <th>published_date_parsed</th>\n",
       "      <th>year</th>\n",
       "      <th>ISBN_GRP</th>\n",
       "      <th>ISBN_PUBLISHER</th>\n",
       "    </tr>\n",
       "  </thead>\n",
       "  <tbody>\n",
       "    <tr>\n",
       "      <th>0</th>\n",
       "      <td>Romane &amp; Erzählungen</td>\n",
       "      <td>[Romane &amp; Erzählungen]</td>\n",
       "      <td>Die Klinik</td>\n",
       "      <td>Ein Blick hinter die Kulissen eines Krankenhauses vom Autor der Bestseller \"Der Medicus\" und \"Der Medicus von Saragossa\". Der Wissenschaftler Adam Silverstone, der kubanische Aristokrat Rafael Meomartino und der Farbige Spurgeon Robinson - sie sind drei grundverschiedene Klinik-Ärzte, die unter der unerbittlichen Aufsicht von Dr. Longwood praktizieren. Eines Tages stirbt eine Patientin, und Dr. Longwood wittert einen Behandlungsfehler. Sofort macht er sich auf die Suche nach einem Schuldigen, dem er die Verantwortung in die Schuhe schieben könnte ...</td>\n",
       "      <td>Noah Gordon</td>\n",
       "      <td>2013-12-02</td>\n",
       "      <td>9783641136291</td>\n",
       "      <td>1</td>\n",
       "      <td>[Literatur &amp; Unterhaltung]</td>\n",
       "      <td>[Noah Gordon]</td>\n",
       "      <td>2013-12-02</td>\n",
       "      <td>2013</td>\n",
       "      <td>64</td>\n",
       "      <td>1136</td>\n",
       "    </tr>\n",
       "    <tr>\n",
       "      <th>1</th>\n",
       "      <td>Fantasy</td>\n",
       "      <td>[Fantasy]</td>\n",
       "      <td>Die Erben von Midkemia 4</td>\n",
       "      <td>Die Bedrohungen für Midkemia und Kelewan wollen nicht enden: Obwohl das Konklave der Schatten Leso Varen und seinen Nachtfalken dicht auf den Fersen ist, schmieden sie weiter ihre finsteren Umsturzpläne gegen das Herrscherhaus von Kesh. Zugleich stellt sich heraus, dass von den mysteriösen Talnoy eine bisher ungekannte Gefahr ausgeht: durch ihre magischen Kräfte können die fürchterlichen Dasati ins Reich Midkemia eindringen und alle ins Unheil stürzen …</td>\n",
       "      <td>Raymond Feist</td>\n",
       "      <td>2016-06-20</td>\n",
       "      <td>9783641185787</td>\n",
       "      <td>1</td>\n",
       "      <td>[Literatur &amp; Unterhaltung]</td>\n",
       "      <td>[Raymond Feist]</td>\n",
       "      <td>2016-06-20</td>\n",
       "      <td>2016</td>\n",
       "      <td>64</td>\n",
       "      <td>1185</td>\n",
       "    </tr>\n",
       "    <tr>\n",
       "      <th>2</th>\n",
       "      <td>Lebenshilfe &amp; Psychologie</td>\n",
       "      <td>[Lebenshilfe &amp; Psychologie]</td>\n",
       "      <td>Völlig losgelöst</td>\n",
       "      <td>In der Dreizimmerwohnung stapeln sich Flohmarktfunde und modische Fehlkäufe, und durch den lang erhofften Karrieresprung dreht sich das Hamsterrad nur noch schneller. Vielen Menschen geht es ähnlich: In unserer Welt voll Hektik und Überfluss sehnen wir uns danach, uns wieder auf die wirklich wichtigen Dinge zu konzentrieren und Zeit zu haben für Familie, Freunde und uns selbst. Konsumforscher, Psychologen und überzeugte Minimalisten zeigen in diesem Buch, wie wir uns von Unwichtigem trennen, nachhaltig konsumieren und uns endlich wieder frei fühlen – denn weniger ist in der Tat mehr.</td>\n",
       "      <td>Susanne Weingarten</td>\n",
       "      <td>2019-01-14</td>\n",
       "      <td>9783328103646</td>\n",
       "      <td>1</td>\n",
       "      <td>[Ratgeber]</td>\n",
       "      <td>[Susanne Weingarten]</td>\n",
       "      <td>2019-01-14</td>\n",
       "      <td>2019</td>\n",
       "      <td>32</td>\n",
       "      <td>8103</td>\n",
       "    </tr>\n",
       "  </tbody>\n",
       "</table>\n",
       "</div>"
      ],
      "text/plain": [
       "                    category                   categories  \\\n",
       "0  Romane & Erzählungen       [Romane & Erzählungen]        \n",
       "1  Fantasy                    [Fantasy]                     \n",
       "2  Lebenshilfe & Psychologie  [Lebenshilfe & Psychologie]   \n",
       "\n",
       "                      title  \\\n",
       "0  Die Klinik                 \n",
       "1  Die Erben von Midkemia 4   \n",
       "2  Völlig losgelöst           \n",
       "\n",
       "                                                                                                                                                                                                                                                                                                                                                                                                                                                                                                                                                                                                      description  \\\n",
       "0  Ein Blick hinter die Kulissen eines Krankenhauses vom Autor der Bestseller \"Der Medicus\" und \"Der Medicus von Saragossa\". Der Wissenschaftler Adam Silverstone, der kubanische Aristokrat Rafael Meomartino und der Farbige Spurgeon Robinson - sie sind drei grundverschiedene Klinik-Ärzte, die unter der unerbittlichen Aufsicht von Dr. Longwood praktizieren. Eines Tages stirbt eine Patientin, und Dr. Longwood wittert einen Behandlungsfehler. Sofort macht er sich auf die Suche nach einem Schuldigen, dem er die Verantwortung in die Schuhe schieben könnte ...                                     \n",
       "1  Die Bedrohungen für Midkemia und Kelewan wollen nicht enden: Obwohl das Konklave der Schatten Leso Varen und seinen Nachtfalken dicht auf den Fersen ist, schmieden sie weiter ihre finsteren Umsturzpläne gegen das Herrscherhaus von Kesh. Zugleich stellt sich heraus, dass von den mysteriösen Talnoy eine bisher ungekannte Gefahr ausgeht: durch ihre magischen Kräfte können die fürchterlichen Dasati ins Reich Midkemia eindringen und alle ins Unheil stürzen …                                                                                                                                        \n",
       "2  In der Dreizimmerwohnung stapeln sich Flohmarktfunde und modische Fehlkäufe, und durch den lang erhofften Karrieresprung dreht sich das Hamsterrad nur noch schneller. Vielen Menschen geht es ähnlich: In unserer Welt voll Hektik und Überfluss sehnen wir uns danach, uns wieder auf die wirklich wichtigen Dinge zu konzentrieren und Zeit zu haben für Familie, Freunde und uns selbst. Konsumforscher, Psychologen und überzeugte Minimalisten zeigen in diesem Buch, wie wir uns von Unwichtigem trennen, nachhaltig konsumieren und uns endlich wieder frei fühlen – denn weniger ist in der Tat mehr.   \n",
       "\n",
       "               author published_date           isbn  count_of_categories  \\\n",
       "0  Noah Gordon         2013-12-02     9783641136291  1                     \n",
       "1  Raymond Feist       2016-06-20     9783641185787  1                     \n",
       "2  Susanne Weingarten  2019-01-14     9783328103646  1                     \n",
       "\n",
       "          toplevel_categories               authors published_date_parsed  \\\n",
       "0  [Literatur & Unterhaltung]  [Noah Gordon]        2013-12-02              \n",
       "1  [Literatur & Unterhaltung]  [Raymond Feist]      2016-06-20              \n",
       "2  [Ratgeber]                  [Susanne Weingarten] 2019-01-14              \n",
       "\n",
       "   year ISBN_GRP ISBN_PUBLISHER  \n",
       "0  2013  64       1136           \n",
       "1  2016  64       1185           \n",
       "2  2019  32       8103           "
      ]
     },
     "execution_count": 119,
     "metadata": {},
     "output_type": "execute_result"
    }
   ],
   "source": [
    "final_df.head(3)"
   ]
  },
  {
   "cell_type": "code",
   "execution_count": 120,
   "metadata": {},
   "outputs": [],
   "source": [
    "validation_authors =  pickle.load(open(\"validation_authors\",'rb'))\n",
    "test_authors =  pickle.load(open(\"test_authors\",'rb'))"
   ]
  },
  {
   "cell_type": "code",
   "execution_count": 121,
   "metadata": {},
   "outputs": [],
   "source": [
    "all_authors = np.concatenate((validation_authors.values,final_df[\"authors\"].values))"
   ]
  },
  {
   "cell_type": "code",
   "execution_count": 122,
   "metadata": {},
   "outputs": [
    {
     "data": {
      "text/plain": [
       "LabelBinarizer(neg_label=0, pos_label=1, sparse_output=False)"
      ]
     },
     "execution_count": 122,
     "metadata": {},
     "output_type": "execute_result"
    }
   ],
   "source": [
    "mlb = MultiLabelBinarizer()\n",
    "mlb.fit(all_authors)\n",
    "\n",
    "year_lb = LabelBinarizer()\n",
    "year_lb.fit(final_df[\"year\"])\n",
    "\n",
    "toplevel_category_mlb = MultiLabelBinarizer()\n",
    "toplevel_category_mlb.fit(final_df[\"toplevel_categories\"].tolist())\n",
    "\n",
    "isbn_group_lb = LabelBinarizer()\n",
    "isbn_group_lb.fit(final_df[\"ISBN_GRP\"])\n",
    "\n",
    "isbn_publisher_lb = LabelBinarizer()\n",
    "isbn_publisher_lb.fit(final_df[\"ISBN_PUBLISHER\"])"
   ]
  },
  {
   "cell_type": "code",
   "execution_count": 123,
   "metadata": {},
   "outputs": [
    {
     "data": {
      "text/plain": [
       "array([list(['Noah Gordon']), list(['Raymond Feist'])], dtype=object)"
      ]
     },
     "execution_count": 123,
     "metadata": {},
     "output_type": "execute_result"
    }
   ],
   "source": [
    "final_df[\"authors\"].values[:2]"
   ]
  },
  {
   "cell_type": "code",
   "execution_count": 124,
   "metadata": {},
   "outputs": [],
   "source": [
    "def combine_title_desc(row):\n",
    "    \"\"\"Combines the Title and Description fields in the given row\n",
    "    and returns the combined result\"\"\"\n",
    "    return str(row[\"title\"]) + \" \" + str(row[\"description\"])\n",
    "    #return str(row[\"title\"]) + \" \" + str(row[\"description\"]) + \" \" + str(row[\"author\"])"
   ]
  },
  {
   "cell_type": "code",
   "execution_count": 125,
   "metadata": {
    "scrolled": true
   },
   "outputs": [
    {
     "data": {
      "text/html": [
       "<div>\n",
       "<style scoped>\n",
       "    .dataframe tbody tr th:only-of-type {\n",
       "        vertical-align: middle;\n",
       "    }\n",
       "\n",
       "    .dataframe tbody tr th {\n",
       "        vertical-align: top;\n",
       "    }\n",
       "\n",
       "    .dataframe thead th {\n",
       "        text-align: right;\n",
       "    }\n",
       "</style>\n",
       "<table border=\"1\" class=\"dataframe\">\n",
       "  <thead>\n",
       "    <tr style=\"text-align: right;\">\n",
       "      <th></th>\n",
       "      <th>category</th>\n",
       "      <th>categories</th>\n",
       "      <th>title</th>\n",
       "      <th>description</th>\n",
       "      <th>author</th>\n",
       "      <th>published_date</th>\n",
       "      <th>isbn</th>\n",
       "      <th>count_of_categories</th>\n",
       "      <th>toplevel_categories</th>\n",
       "      <th>authors</th>\n",
       "      <th>published_date_parsed</th>\n",
       "      <th>year</th>\n",
       "      <th>ISBN_GRP</th>\n",
       "      <th>ISBN_PUBLISHER</th>\n",
       "    </tr>\n",
       "  </thead>\n",
       "  <tbody>\n",
       "    <tr>\n",
       "      <th>0</th>\n",
       "      <td>Romane &amp; Erzählungen</td>\n",
       "      <td>[Romane &amp; Erzählungen]</td>\n",
       "      <td>Die Klinik</td>\n",
       "      <td>Ein Blick hinter die Kulissen eines Krankenhauses vom Autor der Bestseller \"Der Medicus\" und \"Der Medicus von Saragossa\". Der Wissenschaftler Adam Silverstone, der kubanische Aristokrat Rafael Meomartino und der Farbige Spurgeon Robinson - sie sind drei grundverschiedene Klinik-Ärzte, die unter der unerbittlichen Aufsicht von Dr. Longwood praktizieren. Eines Tages stirbt eine Patientin, und Dr. Longwood wittert einen Behandlungsfehler. Sofort macht er sich auf die Suche nach einem Schuldigen, dem er die Verantwortung in die Schuhe schieben könnte ...</td>\n",
       "      <td>Noah Gordon</td>\n",
       "      <td>2013-12-02</td>\n",
       "      <td>9783641136291</td>\n",
       "      <td>1</td>\n",
       "      <td>[Literatur &amp; Unterhaltung]</td>\n",
       "      <td>[Noah Gordon]</td>\n",
       "      <td>2013-12-02</td>\n",
       "      <td>2013</td>\n",
       "      <td>64</td>\n",
       "      <td>1136</td>\n",
       "    </tr>\n",
       "    <tr>\n",
       "      <th>1</th>\n",
       "      <td>Fantasy</td>\n",
       "      <td>[Fantasy]</td>\n",
       "      <td>Die Erben von Midkemia 4</td>\n",
       "      <td>Die Bedrohungen für Midkemia und Kelewan wollen nicht enden: Obwohl das Konklave der Schatten Leso Varen und seinen Nachtfalken dicht auf den Fersen ist, schmieden sie weiter ihre finsteren Umsturzpläne gegen das Herrscherhaus von Kesh. Zugleich stellt sich heraus, dass von den mysteriösen Talnoy eine bisher ungekannte Gefahr ausgeht: durch ihre magischen Kräfte können die fürchterlichen Dasati ins Reich Midkemia eindringen und alle ins Unheil stürzen …</td>\n",
       "      <td>Raymond Feist</td>\n",
       "      <td>2016-06-20</td>\n",
       "      <td>9783641185787</td>\n",
       "      <td>1</td>\n",
       "      <td>[Literatur &amp; Unterhaltung]</td>\n",
       "      <td>[Raymond Feist]</td>\n",
       "      <td>2016-06-20</td>\n",
       "      <td>2016</td>\n",
       "      <td>64</td>\n",
       "      <td>1185</td>\n",
       "    </tr>\n",
       "    <tr>\n",
       "      <th>2</th>\n",
       "      <td>Lebenshilfe &amp; Psychologie</td>\n",
       "      <td>[Lebenshilfe &amp; Psychologie]</td>\n",
       "      <td>Völlig losgelöst</td>\n",
       "      <td>In der Dreizimmerwohnung stapeln sich Flohmarktfunde und modische Fehlkäufe, und durch den lang erhofften Karrieresprung dreht sich das Hamsterrad nur noch schneller. Vielen Menschen geht es ähnlich: In unserer Welt voll Hektik und Überfluss sehnen wir uns danach, uns wieder auf die wirklich wichtigen Dinge zu konzentrieren und Zeit zu haben für Familie, Freunde und uns selbst. Konsumforscher, Psychologen und überzeugte Minimalisten zeigen in diesem Buch, wie wir uns von Unwichtigem trennen, nachhaltig konsumieren und uns endlich wieder frei fühlen – denn weniger ist in der Tat mehr.</td>\n",
       "      <td>Susanne Weingarten</td>\n",
       "      <td>2019-01-14</td>\n",
       "      <td>9783328103646</td>\n",
       "      <td>1</td>\n",
       "      <td>[Ratgeber]</td>\n",
       "      <td>[Susanne Weingarten]</td>\n",
       "      <td>2019-01-14</td>\n",
       "      <td>2019</td>\n",
       "      <td>32</td>\n",
       "      <td>8103</td>\n",
       "    </tr>\n",
       "  </tbody>\n",
       "</table>\n",
       "</div>"
      ],
      "text/plain": [
       "                    category                   categories  \\\n",
       "0  Romane & Erzählungen       [Romane & Erzählungen]        \n",
       "1  Fantasy                    [Fantasy]                     \n",
       "2  Lebenshilfe & Psychologie  [Lebenshilfe & Psychologie]   \n",
       "\n",
       "                      title  \\\n",
       "0  Die Klinik                 \n",
       "1  Die Erben von Midkemia 4   \n",
       "2  Völlig losgelöst           \n",
       "\n",
       "                                                                                                                                                                                                                                                                                                                                                                                                                                                                                                                                                                                                      description  \\\n",
       "0  Ein Blick hinter die Kulissen eines Krankenhauses vom Autor der Bestseller \"Der Medicus\" und \"Der Medicus von Saragossa\". Der Wissenschaftler Adam Silverstone, der kubanische Aristokrat Rafael Meomartino und der Farbige Spurgeon Robinson - sie sind drei grundverschiedene Klinik-Ärzte, die unter der unerbittlichen Aufsicht von Dr. Longwood praktizieren. Eines Tages stirbt eine Patientin, und Dr. Longwood wittert einen Behandlungsfehler. Sofort macht er sich auf die Suche nach einem Schuldigen, dem er die Verantwortung in die Schuhe schieben könnte ...                                     \n",
       "1  Die Bedrohungen für Midkemia und Kelewan wollen nicht enden: Obwohl das Konklave der Schatten Leso Varen und seinen Nachtfalken dicht auf den Fersen ist, schmieden sie weiter ihre finsteren Umsturzpläne gegen das Herrscherhaus von Kesh. Zugleich stellt sich heraus, dass von den mysteriösen Talnoy eine bisher ungekannte Gefahr ausgeht: durch ihre magischen Kräfte können die fürchterlichen Dasati ins Reich Midkemia eindringen und alle ins Unheil stürzen …                                                                                                                                        \n",
       "2  In der Dreizimmerwohnung stapeln sich Flohmarktfunde und modische Fehlkäufe, und durch den lang erhofften Karrieresprung dreht sich das Hamsterrad nur noch schneller. Vielen Menschen geht es ähnlich: In unserer Welt voll Hektik und Überfluss sehnen wir uns danach, uns wieder auf die wirklich wichtigen Dinge zu konzentrieren und Zeit zu haben für Familie, Freunde und uns selbst. Konsumforscher, Psychologen und überzeugte Minimalisten zeigen in diesem Buch, wie wir uns von Unwichtigem trennen, nachhaltig konsumieren und uns endlich wieder frei fühlen – denn weniger ist in der Tat mehr.   \n",
       "\n",
       "               author published_date           isbn  count_of_categories  \\\n",
       "0  Noah Gordon         2013-12-02     9783641136291  1                     \n",
       "1  Raymond Feist       2016-06-20     9783641185787  1                     \n",
       "2  Susanne Weingarten  2019-01-14     9783328103646  1                     \n",
       "\n",
       "          toplevel_categories               authors published_date_parsed  \\\n",
       "0  [Literatur & Unterhaltung]  [Noah Gordon]        2013-12-02              \n",
       "1  [Literatur & Unterhaltung]  [Raymond Feist]      2016-06-20              \n",
       "2  [Ratgeber]                  [Susanne Weingarten] 2019-01-14              \n",
       "\n",
       "   year ISBN_GRP ISBN_PUBLISHER  \n",
       "0  2013  64       1136           \n",
       "1  2016  64       1185           \n",
       "2  2019  32       8103           "
      ]
     },
     "execution_count": 125,
     "metadata": {},
     "output_type": "execute_result"
    }
   ],
   "source": [
    "final_df.head(3)"
   ]
  },
  {
   "cell_type": "code",
   "execution_count": 126,
   "metadata": {},
   "outputs": [
    {
     "data": {
      "text/plain": [
       "Romane & Erzählungen                    2632\n",
       "Krimi & Thriller                        2313\n",
       "Frauenunterhaltung                      1303\n",
       "Science Fiction                         1238\n",
       "Echtes Leben, Realistischer Roman       1120\n",
       "Fantasy                                 853 \n",
       "Liebe, Beziehung und Freundschaft       683 \n",
       "Politik & Gesellschaft                  675 \n",
       "Lebenshilfe & Psychologie               603 \n",
       "Abenteuer                               580 \n",
       "Biographien & Autobiographien           524 \n",
       "Fantasy und Science Fiction             450 \n",
       "Gesundheit & Ernährung                  435 \n",
       "Historische Romane                      410 \n",
       "Kinderbuch & Jugendbuch                 388 \n",
       "Ganzheitliche Psychologie               379 \n",
       "(Zeit-) Geschichte                      370 \n",
       "Essen & Trinken                         335 \n",
       "Spiritualität & Religion                323 \n",
       "Eltern & Familie                        315 \n",
       "Psychologie                             308 \n",
       "Freizeit & Hobby                        262 \n",
       "Theologie                               246 \n",
       "Natur, Wissenschaft, Technik            244 \n",
       "Körper & Seele                          231 \n",
       "Erotik                                  210 \n",
       "Kabarett & Satire                       202 \n",
       "Schicksalsberichte                      201 \n",
       "Klassiker & Lyrik                       186 \n",
       "Romantasy                               181 \n",
       "                                       ...  \n",
       "Sterben, Tod und Trauer                 49  \n",
       "Märchen, Sagen                          49  \n",
       "Geschichte, Politik                     49  \n",
       "Briefe, Essays, Gespräche               48  \n",
       "Historische Romane, Zeitgeschichte      48  \n",
       "Garten & Landschaftsarchitektur         47  \n",
       "Fotografie                              45  \n",
       "Wohnen & Innenarchitektur               41  \n",
       "Comic & Cartoon                         41  \n",
       "Schicksalsdeutung                       37  \n",
       "Beauty & Wellness                       36  \n",
       "Psychologie & Spiritualität             35  \n",
       "Lustige Geschichten, Witze              33  \n",
       "Sportgeschichten                        32  \n",
       "Mode & Lifestyle                        24  \n",
       "Musik                                   19  \n",
       "Mondkräfte                              18  \n",
       "Religion, Glaube, Ethik, Philosophie    18  \n",
       "Handwerk Farbe                          17  \n",
       "Religionsunterricht                     16  \n",
       "Geld & Investment                       13  \n",
       "Literatur & Unterhaltung                12  \n",
       "Lyrik, Anthologien, Jahrbücher          10  \n",
       "Handwerk Holz                           9   \n",
       "Biographien                             9   \n",
       "Design                                  9   \n",
       "Regionalia                              7   \n",
       "Religiöse Literatur                     6   \n",
       "Recht & Steuern                         6   \n",
       "Esoterische Romane                      5   \n",
       "Name: category, Length: 95, dtype: int64"
      ]
     },
     "execution_count": 126,
     "metadata": {},
     "output_type": "execute_result"
    }
   ],
   "source": [
    "final_df.category.value_counts()"
   ]
  },
  {
   "cell_type": "markdown",
   "metadata": {},
   "source": [
    "### Prepare the data"
   ]
  },
  {
   "cell_type": "code",
   "execution_count": 127,
   "metadata": {},
   "outputs": [
    {
     "data": {
      "text/plain": [
       "124"
      ]
     },
     "execution_count": 127,
     "metadata": {},
     "output_type": "execute_result"
    }
   ],
   "source": [
    "del book_df\n",
    "del flat_book_df\n",
    "\n",
    "import gc\n",
    "gc.collect()"
   ]
  },
  {
   "cell_type": "code",
   "execution_count": 128,
   "metadata": {},
   "outputs": [
    {
     "name": "stderr",
     "output_type": "stream",
     "text": [
      "/home/evenuma/anaconda3/envs/deeplearning_36/lib/python3.6/site-packages/sklearn/feature_extraction/text.py:300: UserWarning: Your stop_words may be inconsistent with your preprocessing. Tokenizing the stop words generated tokens ['be', 'chem', 'ches', 'em', 'en', 'ig', 'igem', 'iges', 'm', 'r', 'sel', 'selben', 'st', 'uer', 'ure', 'uren', '▁aber', '▁alle', '▁allem', '▁allen', '▁aller', '▁alles', '▁als', '▁also', '▁am', '▁an', '▁ander', '▁andere', '▁anderem', '▁anderen', '▁anderer', '▁anderes', '▁andern', '▁anders', '▁auch', '▁auf', '▁aus', '▁bei', '▁bin', '▁bis', '▁bist', '▁d', '▁da', '▁damit', '▁dann', '▁das', '▁dasselbe', '▁dazu', '▁daß', '▁dein', '▁dem', '▁demselben', '▁den', '▁denn', '▁denselben', '▁der', '▁derer', '▁derselben', '▁des', '▁desselben', '▁dessen', '▁dich', '▁die', '▁dies', '▁diese', '▁dieselbe', '▁diesem', '▁diesen', '▁dieser', '▁dieses', '▁dir', '▁doch', '▁dort', '▁du', '▁durch', '▁e', '▁ein', '▁eine', '▁einem', '▁einen', '▁einer', '▁eines', '▁einige', '▁einigen', '▁einiger', '▁einmal', '▁er', '▁es', '▁etwas', '▁euch', '▁eur', '▁für', '▁gegen', '▁gewesen', '▁hab', '▁habe', '▁haben', '▁hat', '▁hatte', '▁hatten', '▁hier', '▁hin', '▁hinter', '▁ich', '▁ihm', '▁ihn', '▁ihnen', '▁ihr', '▁ihre', '▁ihrem', '▁ihren', '▁ihrer', '▁ihres', '▁im', '▁in', '▁indem', '▁ins', '▁ist', '▁jede', '▁jedem', '▁jeden', '▁jeder', '▁jedes', '▁jen', '▁jene', '▁jenem', '▁jenen', '▁jener', '▁jetzt', '▁kann', '▁kein', '▁keine', '▁keinem', '▁keinen', '▁keiner', '▁keines', '▁können', '▁könnte', '▁machen', '▁man', '▁manche', '▁manchen', '▁mancher', '▁mein', '▁meine', '▁meinen', '▁meiner', '▁mich', '▁mir', '▁mit', '▁muss', '▁musste', '▁nach', '▁nicht', '▁nichts', '▁noch', '▁nun', '▁nur', '▁ob', '▁oder', '▁ohne', '▁sehr', '▁sein', '▁seine', '▁seinem', '▁seinen', '▁seiner', '▁seines', '▁selbst', '▁sich', '▁sie', '▁sind', '▁so', '▁sol', '▁solche', '▁solchen', '▁solcher', '▁solches', '▁soll', '▁sollte', '▁sondern', '▁sonst', '▁um', '▁und', '▁uns', '▁unser', '▁unsere', '▁unter', '▁viel', '▁vom', '▁von', '▁vor', '▁war', '▁waren', '▁was', '▁weg', '▁weil', '▁weiter', '▁welche', '▁welchem', '▁welchen', '▁welcher', '▁welches', '▁wenn', '▁werde', '▁werden', '▁wie', '▁wieder', '▁will', '▁wir', '▁wird', '▁wo', '▁wollen', '▁wollte', '▁während', '▁würde', '▁würden', '▁zu', '▁zum', '▁zur', '▁zwar', '▁zwischen', '▁über'] not in stop_words.\n",
      "  'stop_words.' % sorted(inconsistent))\n"
     ]
    }
   ],
   "source": [
    "from sklearn import preprocessing\n",
    "le = preprocessing.LabelEncoder()\n",
    "final_df[\"mid_level\"] = final_df[\"category\"].apply(lambda x:get_mid_level(x))\n",
    "final_df[\"target\"]  = le.fit_transform(final_df[\"mid_level\"].values)\n",
    "\n",
    "data = train_test_split(final_df[[\"title\",\"description\",\"authors\",\"category\",\"year\",\"count_of_categories\",\"isbn\",\"categories\",\"toplevel_categories\",\"ISBN_GRP\",\"ISBN_PUBLISHER\"]],\n",
    "                final_df[\"target\"], test_size=0.20, random_state=42, stratify=final_df[\"target\"], shuffle=True)\n",
    "\n",
    "X_train_df, X_test_df, y_train, y_test = data\n",
    "vectorizer = TfidfVectorizer(ngram_range=(1,2),stop_words=stopwords.words('german'),tokenizer=bpemb_de.encode)\n",
    "\n",
    "X_train = vectorizer.fit_transform(\n",
    "    X_train_df.apply(lambda row: combine_title_desc(row), axis=1))\n",
    "X_test = vectorizer.transform(X_test_df.apply(lambda row: combine_title_desc(row),axis=1))\n",
    "\n",
    "X_train_author = mlb.transform(X_train_df[\"authors\"].values)\n",
    "X_test_author = mlb.transform(X_test_df[\"authors\"].values)\n",
    "\n",
    "X_train_year = year_lb.transform(X_train_df[\"year\"].values)\n",
    "X_test_year = year_lb.transform(X_test_df[\"year\"].values)\n",
    "\n",
    "X_train_isbn_grp = isbn_group_lb.transform(X_train_df[\"ISBN_GRP\"].values)\n",
    "X_test_isbn_grp = isbn_group_lb.transform(X_test_df[\"ISBN_GRP\"].values)\n",
    "\n",
    "X_train_isbn_publisher = isbn_publisher_lb.transform(X_train_df[\"ISBN_PUBLISHER\"].values)\n",
    "X_test_isbn_publisher = isbn_publisher_lb.transform(X_test_df[\"ISBN_PUBLISHER\"].values)\n",
    "\n",
    "\n",
    "# X_train_top_level_categories = toplevel_category_mlb.transform(X_train_df[\"toplevel_categories\"].values)\n",
    "# X_test_top_level_categories = toplevel_category_mlb.transform(X_test_df[\"toplevel_categories\"].values)\n",
    "# X_train_categories = [\"_\".join([str(le.transform([a])[0]) for a in i]) for i in  X_train_df[\"categories\"]]\n",
    "# X_test_categories = [\"_\".join([str(le.transform([a])[0]) for a in i]) for i in  X_test_df[\"categories\"]]\n",
    "\n",
    "from scipy import sparse\n",
    "X_train_all = sparse.hstack((\n",
    "     X_train,sparse.csr_matrix(X_train_author),\n",
    "     sparse.csr_matrix(X_train_year),\n",
    "     sparse.csr_matrix(X_train_isbn_grp),\n",
    "     sparse.csr_matrix(X_train_isbn_publisher),    \n",
    "#      sparse.csr_matrix(X_train_top_level_categories),\n",
    "     sparse.csr_matrix(X_train_df[\"isbn\"].values.reshape(len(X_train_df),1)),    \n",
    "     sparse.csr_matrix(X_train_df[\"count_of_categories\"].values.reshape(len(X_train_df),1))\n",
    "    ))\n",
    "\n",
    "X_test_all = sparse.hstack((\n",
    "    X_test,sparse.csr_matrix(X_test_author),\n",
    "    sparse.csr_matrix(X_test_year),\n",
    "     sparse.csr_matrix(X_test_isbn_grp),\n",
    "     sparse.csr_matrix(X_test_isbn_publisher),    \n",
    "    \n",
    "#     sparse.csr_matrix(X_test_top_level_categories),\n",
    "    sparse.csr_matrix(X_test_df[\"isbn\"].values.reshape(len(X_test_df),1)),\n",
    "    sparse.csr_matrix(X_test_df[\"count_of_categories\"].values.reshape(len(X_test_df),1))\n",
    "    ))\n",
    "\n"
   ]
  },
  {
   "cell_type": "code",
   "execution_count": 129,
   "metadata": {},
   "outputs": [],
   "source": [
    "pickle.dump(mlb, open(\"mlb_ete_top_level.pickle\", \"wb\"))\n",
    "pickle.dump(year_lb, open(\"lb_ete_top_level.pickle\", \"wb\"))\n",
    "pickle.dump(vectorizer, open(\"vectorizer_ete_top_level.pickle\", \"wb\"))\n",
    "pickle.dump(X_train_all, open(\"X_train_ete_top_level.pickle\", \"wb\"))\n",
    "pickle.dump(X_test_all, open(\"X_test_ete_top_level.pickle\", \"wb\"))\n",
    "pickle.dump(y_train, open(\"y_train_ete_top_level.pickle\", \"wb\"))\n",
    "pickle.dump(y_test, open(\"y_test_ete_top_level.pickle\", \"wb\"))\n",
    "pickle.dump(dict(zip(le.classes_,le.transform(le.classes_))), open(\"le_author_year_mapping.pickle\", \"wb\"))"
   ]
  },
  {
   "cell_type": "code",
   "execution_count": 130,
   "metadata": {},
   "outputs": [
    {
     "name": "stdout",
     "output_type": "stream",
     "text": [
      "CPU times: user 89.8 ms, sys: 26.1 ms, total: 116 ms\n",
      "Wall time: 114 ms\n"
     ]
    }
   ],
   "source": [
    "%%time\n",
    "from scipy import sparse\n",
    "\n",
    "X_full = sparse.vstack((X_train_all,X_test_all))\n",
    "Y_full = np.concatenate((y_train,y_test))"
   ]
  },
  {
   "cell_type": "code",
   "execution_count": 131,
   "metadata": {},
   "outputs": [
    {
     "data": {
      "text/plain": [
       "array([14, 17, 23, ..., 36, 51, 66])"
      ]
     },
     "execution_count": 131,
     "metadata": {},
     "output_type": "execute_result"
    }
   ],
   "source": [
    "Y_full"
   ]
  },
  {
   "cell_type": "code",
   "execution_count": 132,
   "metadata": {},
   "outputs": [],
   "source": [
    "X_full_array = X_full.tocsr()\n"
   ]
  },
  {
   "cell_type": "code",
   "execution_count": 133,
   "metadata": {},
   "outputs": [],
   "source": [
    "# class_weights = {'Kinderbuch & Jugendbuch': 1.8, 'Ratgeber': 3, 'Sachbuch': 2,'Glaube & Ethik' : 2 ,'Künste' : 6,'Architektur & Garten' : 6 }"
   ]
  },
  {
   "cell_type": "code",
   "execution_count": 134,
   "metadata": {},
   "outputs": [],
   "source": [
    "# class_weights_encoded = []\n",
    "# for value,key in enumerate(class_weights):\n",
    "#     print(class_weights[key],key)\n",
    "#     class_weights_encoded.append((le.transform([key])[0],class_weights[key]))"
   ]
  },
  {
   "cell_type": "code",
   "execution_count": 135,
   "metadata": {},
   "outputs": [],
   "source": [
    "# dict(class_weights_encoded)\n",
    "class_weights_encoded = {}"
   ]
  },
  {
   "cell_type": "code",
   "execution_count": 136,
   "metadata": {},
   "outputs": [],
   "source": [
    "global_isbn_category_dict = [(i[0],[le.transform([k])[0] for k in i[1].tolist()]) for i in final_df[[\"isbn\",\"categories\"]].head(100).values]\n",
    "\n",
    "global_isbn_category_df = pd.DataFrame(global_isbn_category_dict,columns=[\"isbn\",\"actual\"])\n",
    "\n",
    "global_isbn_category_df[\"isbn\"] = global_isbn_category_df[\"isbn\"].apply(lambda x:str(x))\n",
    "\n",
    "def get_one_instance(index,csr_matrix):\n",
    "    unique_isbns = set([ str(int(i[0])) for i in csr_matrix[index,-2].todense()])\n",
    "    isbns_dict = dict(list(zip([ str(int(i[0])) for i in csr_matrix[index,-2].todense()],index)))\n",
    "    return (list(isbns_dict.keys()),list(isbns_dict.values()))\n",
    "\n",
    "def getClasses(class_probs,class_count):\n",
    "    arr = np.array(class_probs)\n",
    "    return arr.argsort()[-1 * class_count:][::-1]\n",
    "\n",
    "def get_multi_prediction(row):\n",
    "    \"\"\"Combines the Title and Description fields in the given row\n",
    "    and returns the combined result\"\"\"\n",
    "    return getClasses(row[\"predict_proba\"],row[\"class_count\"])\n",
    "\n",
    "def compute_f1_score(prediction,class_count_prediction):\n",
    "    prediction_df = pd.DataFrame(prediction,columns=[\"isbn\",\"predict_proba\"])\n",
    "    prediction_df[\"isbn\"] = prediction_df[\"isbn\"].apply(lambda x:str(int(x[0])))\n",
    "#     print(prediction_df)\n",
    "    class_count_df = pd.DataFrame(class_count_prediction,columns=[\"isbn\",\"class_count\"])\n",
    "    \n",
    "    joined_ = prediction_df.merge(class_count_df,on=\"isbn\",how=\"inner\")\n",
    "    \n",
    "    joined_[\"predictions\"] = joined_.apply(get_multi_prediction,axis=1)\n",
    "    joined_1 = joined_.merge(global_isbn_category_df,on=\"isbn\")\n",
    "    predicted_ = joined_1[\"predictions\"]\n",
    "    actuals_ = joined_1[\"actual\"]\n",
    "    \n",
    "    predicted_labels = [ [le.inverse_transform([k])[0] for k in i] for i in predicted_.values]\n",
    "    actual_labels = [ [le.inverse_transform([k])[0] for k in i] for i in actuals_.values]\n",
    "    \n",
    "    return subtask_B_evaluation(actual_labels,predicted_labels)\n",
    "    \n",
    "# compute_f1_score(a,b)"
   ]
  },
  {
   "cell_type": "markdown",
   "metadata": {
    "collapsed": true
   },
   "source": [
    "# Build End to end classifer"
   ]
  },
  {
   "cell_type": "code",
   "execution_count": 137,
   "metadata": {},
   "outputs": [
    {
     "name": "stdout",
     "output_type": "stream",
     "text": [
      "[LibLinear]printing prediction\n",
      "[LibLinear][0.6470588235294118, 0.9041095890410958, 0.7542857142857143, 0.35294117647058826]\n",
      "[LibLinear]printing prediction\n",
      "[LibLinear][0.7, 0.8032786885245902, 0.7480916030534351, 0.4722222222222222]\n",
      "[LibLinear]printing prediction\n",
      "[LibLinear][0.7368421052631579, 0.7466666666666667, 0.7417218543046358, 0.6136363636363636]\n",
      "[LibLinear]printing prediction\n",
      "[LibLinear][0.6865671641791045, 0.8932038834951457, 0.7763713080168777, 0.36538461538461536]\n"
     ]
    }
   ],
   "source": [
    "a = None\n",
    "b = None\n",
    "from sklearn.model_selection import StratifiedKFold\n",
    "fold_classes = []\n",
    "probas = []\n",
    "cv = StratifiedKFold(n_splits=4, random_state=42)\n",
    "for train_index, test_index in cv.split(X_full_array,Y_full):      \n",
    "#     print(\"Train Index: \", train_index, \"\\n\")\n",
    "#     print(\"Test Index: \", len(test_index))\n",
    "    \n",
    "    lsvcclf = LinearSVC(random_state=42,max_iter=3000,verbose=1,C=0.5)\n",
    "    X_train, X_test, y_train, y_test = X_full_array[train_index,:-2], X_full_array[test_index,:-2], Y_full[train_index], Y_full[test_index]\n",
    "\n",
    "    lsvcclf.fit(X_train,y_train)\n",
    "    \n",
    "    print(\"printing prediction\")\n",
    "    prediction = list(zip(X_full_array[test_index,-2].todense().tolist(),lsvcclf._predict_proba_lr(X_test)))\n",
    "    a = prediction\n",
    "#     print(prediction)\n",
    "\n",
    "    train_isbn , train_index_for_cc = get_one_instance(train_index,X_full_array)\n",
    "    test_isbn , test_index_for_cc = get_one_instance(test_index,X_full_array)\n",
    "    \n",
    "    X_train_cc, X_test_cc = X_full_array[train_index_for_cc,:-2], X_full_array[test_index_for_cc,:-2]\n",
    "    \n",
    "    y_train_cc, y_test_cc = [int(i[0]) for i in X_full_array[train_index_for_cc,-1].todense().tolist()], [int(i[0]) for i in  X_full_array[test_index_for_cc,-1].todense().tolist()]\n",
    "\n",
    "    lsvcclf_cc = LinearSVC(random_state=42,max_iter=3000,verbose=1)\n",
    "    \n",
    "    lsvcclf_cc.fit(X_train_cc,y_train_cc)\n",
    "    \n",
    "    prediction_cc = list(zip(test_isbn,lsvcclf_cc.predict(X_test_cc)))\n",
    "    b = prediction_cc    \n",
    "    \n",
    "    print(compute_f1_score(prediction,prediction_cc))\n",
    "\n",
    "    "
   ]
  },
  {
   "cell_type": "code",
   "execution_count": 138,
   "metadata": {},
   "outputs": [
    {
     "data": {
      "text/plain": [
       "(22780, 643684)"
      ]
     },
     "execution_count": 138,
     "metadata": {},
     "output_type": "execute_result"
    }
   ],
   "source": [
    "X_full_array.shape"
   ]
  },
  {
   "cell_type": "code",
   "execution_count": 139,
   "metadata": {},
   "outputs": [
    {
     "data": {
      "text/plain": [
       "array([ 0,  1,  2,  3,  4,  5,  6,  7,  8,  9, 10, 11, 12, 13, 14, 15, 16,\n",
       "       17, 18, 19, 20, 21, 22, 23, 24, 25, 26, 27, 28, 29, 30, 31, 32, 33,\n",
       "       34, 35, 36, 37, 38, 39, 40, 41, 42, 43, 44, 45, 46, 47, 48, 49, 50,\n",
       "       51, 52, 53, 54, 55, 56, 57, 58, 59, 60, 61, 62, 63, 64, 65, 66, 67,\n",
       "       68, 69, 70, 71, 72, 73, 74, 75, 76, 77, 78, 79, 80, 81, 82, 83, 84,\n",
       "       85, 86, 87, 88, 89, 90, 91, 92, 93, 94])"
      ]
     },
     "execution_count": 139,
     "metadata": {},
     "output_type": "execute_result"
    }
   ],
   "source": [
    "le.transform(le.classes_)"
   ]
  },
  {
   "cell_type": "markdown",
   "metadata": {},
   "source": [
    "## Test Data Creation"
   ]
  },
  {
   "cell_type": "code",
   "execution_count": 140,
   "metadata": {},
   "outputs": [],
   "source": [
    "test_book_df = pd.read_csv(\"/home/evenuma/germeval/data/test_set.csv\")"
   ]
  },
  {
   "cell_type": "code",
   "execution_count": 141,
   "metadata": {
    "scrolled": false
   },
   "outputs": [
    {
     "data": {
      "text/html": [
       "<div>\n",
       "<style scoped>\n",
       "    .dataframe tbody tr th:only-of-type {\n",
       "        vertical-align: middle;\n",
       "    }\n",
       "\n",
       "    .dataframe tbody tr th {\n",
       "        vertical-align: top;\n",
       "    }\n",
       "\n",
       "    .dataframe thead th {\n",
       "        text-align: right;\n",
       "    }\n",
       "</style>\n",
       "<table border=\"1\" class=\"dataframe\">\n",
       "  <thead>\n",
       "    <tr style=\"text-align: right;\">\n",
       "      <th></th>\n",
       "      <th>title</th>\n",
       "      <th>description</th>\n",
       "      <th>author</th>\n",
       "      <th>published_date</th>\n",
       "      <th>isbn</th>\n",
       "    </tr>\n",
       "  </thead>\n",
       "  <tbody>\n",
       "    <tr>\n",
       "      <th>0</th>\n",
       "      <td>Malbuch für 365 Tage</td>\n",
       "      <td>Ausmalen bringt Freude und entspannt. Dieses meditative Ausmalbuch begleitet Sie mit seinen vielfältigen und wunderschönen Motiven sogar durch das ganze Jahr. Jedem Motiv ist eine inspirierende Affirmation zugeordnet, nach der Sie Ihren Alltag gestalten können. Zudem reduziert tägliches Ausmalen den Stress, erhöht Ihr Wohlbefinden, fördert die Kreativität, verbessert Ihre Konzentration und ist Balsam für die Seelen.</td>\n",
       "      <td>NaN</td>\n",
       "      <td>2016-10-03</td>\n",
       "      <td>9783809436690</td>\n",
       "    </tr>\n",
       "    <tr>\n",
       "      <th>1</th>\n",
       "      <td>Ansteckende Gesundheit</td>\n",
       "      <td>Die Beliebtheit der Geistheilung als Alternative zur Schulmedizin wächst ständig. Aber warum ist Geistheilung so erfolgreich? Einer der renommiertesten Heiler Europas gibt unmittelbare Einblicke in seine Tätigkeit. Seriös, kompetent und verständlich beantwortet Horst Krohne die grundlegenden Fragen, stellt Diagnose- und Behandlungsmöglichkeiten vor und zeigt Chancen und Grenzen auf. Für alle, die sich umfassend über Geistheilung informieren oder sich selbst behandeln lassen wollen.</td>\n",
       "      <td>Horst Krohne</td>\n",
       "      <td>2014-11-10</td>\n",
       "      <td>9783453702653</td>\n",
       "    </tr>\n",
       "    <tr>\n",
       "      <th>2</th>\n",
       "      <td>Karibu heißt willkommen</td>\n",
       "      <td>Die englische Farmerstochter Stella und das Kikuyu-Mädchen Lilly wachsen auf einer Farm im Hochland Kenias wie Schwestern auf. Als der Kampf um Kenias Unabhängigkeit auch die Farm Karibu erreicht, muss Stella nach London gehen. Sie beginnt ein neues Leben – bis zu dem Augenblick, als die unstillbare Sehnsucht nach Afrika sie wieder einholt.</td>\n",
       "      <td>Stefanie Zweig</td>\n",
       "      <td>2010-04-06</td>\n",
       "      <td>9783453407343</td>\n",
       "    </tr>\n",
       "  </tbody>\n",
       "</table>\n",
       "</div>"
      ],
      "text/plain": [
       "                     title  \\\n",
       "0  Malbuch für 365 Tage      \n",
       "1  Ansteckende Gesundheit    \n",
       "2  Karibu heißt willkommen   \n",
       "\n",
       "                                                                                                                                                                                                                                                                                                                                                                                                                                                                                              description  \\\n",
       "0  Ausmalen bringt Freude und entspannt. Dieses meditative Ausmalbuch begleitet Sie mit seinen vielfältigen und wunderschönen Motiven sogar durch das ganze Jahr. Jedem Motiv ist eine inspirierende Affirmation zugeordnet, nach der Sie Ihren Alltag gestalten können. Zudem reduziert tägliches Ausmalen den Stress, erhöht Ihr Wohlbefinden, fördert die Kreativität, verbessert Ihre Konzentration und ist Balsam für die Seelen.                                                                      \n",
       "1  Die Beliebtheit der Geistheilung als Alternative zur Schulmedizin wächst ständig. Aber warum ist Geistheilung so erfolgreich? Einer der renommiertesten Heiler Europas gibt unmittelbare Einblicke in seine Tätigkeit. Seriös, kompetent und verständlich beantwortet Horst Krohne die grundlegenden Fragen, stellt Diagnose- und Behandlungsmöglichkeiten vor und zeigt Chancen und Grenzen auf. Für alle, die sich umfassend über Geistheilung informieren oder sich selbst behandeln lassen wollen.   \n",
       "2  Die englische Farmerstochter Stella und das Kikuyu-Mädchen Lilly wachsen auf einer Farm im Hochland Kenias wie Schwestern auf. Als der Kampf um Kenias Unabhängigkeit auch die Farm Karibu erreicht, muss Stella nach London gehen. Sie beginnt ein neues Leben – bis zu dem Augenblick, als die unstillbare Sehnsucht nach Afrika sie wieder einholt.                                                                                                                                                   \n",
       "\n",
       "           author published_date           isbn  \n",
       "0  NaN             2016-10-03     9783809436690  \n",
       "1  Horst Krohne    2014-11-10     9783453702653  \n",
       "2  Stefanie Zweig  2010-04-06     9783453407343  "
      ]
     },
     "execution_count": 141,
     "metadata": {},
     "output_type": "execute_result"
    }
   ],
   "source": [
    "test_book_df.head(3)"
   ]
  },
  {
   "cell_type": "code",
   "execution_count": 142,
   "metadata": {},
   "outputs": [],
   "source": [
    "test_book_df[\"authors\"] = test_book_df[\"author\"].apply(lambda x:[ i.strip() for i in str(x).split(\",\")])\n",
    "\n",
    "test_book_df[\"published_date_parsed\"] = pd.to_datetime(final_df[\"published_date\"],infer_datetime_format=True)\n",
    "\n",
    "test_book_df[\"year\"] = final_df[\"published_date_parsed\"].apply(lambda x: x.year)"
   ]
  },
  {
   "cell_type": "code",
   "execution_count": 143,
   "metadata": {},
   "outputs": [],
   "source": [
    "test_book_df['ISBN_GRP'] = test_book_df[\"isbn\"].apply(lambda x:str(x)[4:6])\n",
    "test_book_df['ISBN_PUBLISHER'] = test_book_df[\"isbn\"].apply(lambda x:str(x)[6:10]) "
   ]
  },
  {
   "cell_type": "code",
   "execution_count": 144,
   "metadata": {},
   "outputs": [
    {
     "data": {
      "text/html": [
       "<div>\n",
       "<style scoped>\n",
       "    .dataframe tbody tr th:only-of-type {\n",
       "        vertical-align: middle;\n",
       "    }\n",
       "\n",
       "    .dataframe tbody tr th {\n",
       "        vertical-align: top;\n",
       "    }\n",
       "\n",
       "    .dataframe thead th {\n",
       "        text-align: right;\n",
       "    }\n",
       "</style>\n",
       "<table border=\"1\" class=\"dataframe\">\n",
       "  <thead>\n",
       "    <tr style=\"text-align: right;\">\n",
       "      <th></th>\n",
       "      <th>title</th>\n",
       "      <th>description</th>\n",
       "      <th>author</th>\n",
       "      <th>published_date</th>\n",
       "      <th>isbn</th>\n",
       "      <th>authors</th>\n",
       "      <th>published_date_parsed</th>\n",
       "      <th>year</th>\n",
       "      <th>ISBN_GRP</th>\n",
       "      <th>ISBN_PUBLISHER</th>\n",
       "    </tr>\n",
       "  </thead>\n",
       "  <tbody>\n",
       "    <tr>\n",
       "      <th>0</th>\n",
       "      <td>Malbuch für 365 Tage</td>\n",
       "      <td>Ausmalen bringt Freude und entspannt. Dieses meditative Ausmalbuch begleitet Sie mit seinen vielfältigen und wunderschönen Motiven sogar durch das ganze Jahr. Jedem Motiv ist eine inspirierende Affirmation zugeordnet, nach der Sie Ihren Alltag gestalten können. Zudem reduziert tägliches Ausmalen den Stress, erhöht Ihr Wohlbefinden, fördert die Kreativität, verbessert Ihre Konzentration und ist Balsam für die Seelen.</td>\n",
       "      <td>NaN</td>\n",
       "      <td>2016-10-03</td>\n",
       "      <td>9783809436690</td>\n",
       "      <td>[nan]</td>\n",
       "      <td>2013-12-02</td>\n",
       "      <td>2013</td>\n",
       "      <td>80</td>\n",
       "      <td>9436</td>\n",
       "    </tr>\n",
       "    <tr>\n",
       "      <th>1</th>\n",
       "      <td>Ansteckende Gesundheit</td>\n",
       "      <td>Die Beliebtheit der Geistheilung als Alternative zur Schulmedizin wächst ständig. Aber warum ist Geistheilung so erfolgreich? Einer der renommiertesten Heiler Europas gibt unmittelbare Einblicke in seine Tätigkeit. Seriös, kompetent und verständlich beantwortet Horst Krohne die grundlegenden Fragen, stellt Diagnose- und Behandlungsmöglichkeiten vor und zeigt Chancen und Grenzen auf. Für alle, die sich umfassend über Geistheilung informieren oder sich selbst behandeln lassen wollen.</td>\n",
       "      <td>Horst Krohne</td>\n",
       "      <td>2014-11-10</td>\n",
       "      <td>9783453702653</td>\n",
       "      <td>[Horst Krohne]</td>\n",
       "      <td>2016-06-20</td>\n",
       "      <td>2016</td>\n",
       "      <td>45</td>\n",
       "      <td>3702</td>\n",
       "    </tr>\n",
       "    <tr>\n",
       "      <th>2</th>\n",
       "      <td>Karibu heißt willkommen</td>\n",
       "      <td>Die englische Farmerstochter Stella und das Kikuyu-Mädchen Lilly wachsen auf einer Farm im Hochland Kenias wie Schwestern auf. Als der Kampf um Kenias Unabhängigkeit auch die Farm Karibu erreicht, muss Stella nach London gehen. Sie beginnt ein neues Leben – bis zu dem Augenblick, als die unstillbare Sehnsucht nach Afrika sie wieder einholt.</td>\n",
       "      <td>Stefanie Zweig</td>\n",
       "      <td>2010-04-06</td>\n",
       "      <td>9783453407343</td>\n",
       "      <td>[Stefanie Zweig]</td>\n",
       "      <td>2019-01-14</td>\n",
       "      <td>2019</td>\n",
       "      <td>45</td>\n",
       "      <td>3407</td>\n",
       "    </tr>\n",
       "  </tbody>\n",
       "</table>\n",
       "</div>"
      ],
      "text/plain": [
       "                     title  \\\n",
       "0  Malbuch für 365 Tage      \n",
       "1  Ansteckende Gesundheit    \n",
       "2  Karibu heißt willkommen   \n",
       "\n",
       "                                                                                                                                                                                                                                                                                                                                                                                                                                                                                              description  \\\n",
       "0  Ausmalen bringt Freude und entspannt. Dieses meditative Ausmalbuch begleitet Sie mit seinen vielfältigen und wunderschönen Motiven sogar durch das ganze Jahr. Jedem Motiv ist eine inspirierende Affirmation zugeordnet, nach der Sie Ihren Alltag gestalten können. Zudem reduziert tägliches Ausmalen den Stress, erhöht Ihr Wohlbefinden, fördert die Kreativität, verbessert Ihre Konzentration und ist Balsam für die Seelen.                                                                      \n",
       "1  Die Beliebtheit der Geistheilung als Alternative zur Schulmedizin wächst ständig. Aber warum ist Geistheilung so erfolgreich? Einer der renommiertesten Heiler Europas gibt unmittelbare Einblicke in seine Tätigkeit. Seriös, kompetent und verständlich beantwortet Horst Krohne die grundlegenden Fragen, stellt Diagnose- und Behandlungsmöglichkeiten vor und zeigt Chancen und Grenzen auf. Für alle, die sich umfassend über Geistheilung informieren oder sich selbst behandeln lassen wollen.   \n",
       "2  Die englische Farmerstochter Stella und das Kikuyu-Mädchen Lilly wachsen auf einer Farm im Hochland Kenias wie Schwestern auf. Als der Kampf um Kenias Unabhängigkeit auch die Farm Karibu erreicht, muss Stella nach London gehen. Sie beginnt ein neues Leben – bis zu dem Augenblick, als die unstillbare Sehnsucht nach Afrika sie wieder einholt.                                                                                                                                                   \n",
       "\n",
       "           author published_date           isbn           authors  \\\n",
       "0  NaN             2016-10-03     9783809436690  [nan]              \n",
       "1  Horst Krohne    2014-11-10     9783453702653  [Horst Krohne]     \n",
       "2  Stefanie Zweig  2010-04-06     9783453407343  [Stefanie Zweig]   \n",
       "\n",
       "  published_date_parsed  year ISBN_GRP ISBN_PUBLISHER  \n",
       "0 2013-12-02             2013  80       9436           \n",
       "1 2016-06-20             2016  45       3702           \n",
       "2 2019-01-14             2019  45       3407           "
      ]
     },
     "execution_count": 144,
     "metadata": {},
     "output_type": "execute_result"
    }
   ],
   "source": [
    "test_book_df.head(3)"
   ]
  },
  {
   "cell_type": "code",
   "execution_count": 145,
   "metadata": {},
   "outputs": [
    {
     "name": "stderr",
     "output_type": "stream",
     "text": [
      "/home/evenuma/anaconda3/envs/deeplearning_36/lib/python3.6/site-packages/sklearn/preprocessing/label.py:951: UserWarning: unknown class(es) ['A. D. Jameson', 'A3R Roberts', 'Aaravindha Himadra', 'Abaelard', 'Abby McDonald', 'Abdullah Takim', 'Abhijit Banerjee', 'Abraham Verghese', 'Achim Lucchesi', 'Achim Plagentz', 'Achim Wohlgethan', 'Adam Leonard', 'Adelia Saunders', 'Aeneas Rooch', 'Ahlea Khadro', 'Ahmet Ümit', 'Akila Berjaoui', 'Alan Alexander Milne', 'Alan Burdick', 'Albrecht Grözinger', 'Alden Bell', 'Aldo Keel', 'Alessandro Biamonti', 'Alexander Langer', 'Alexander Monro', 'Alexander Poraj', 'Alexander Steffensmeier', 'Alexander Vance', 'Alexandra Borchardt', 'Alexandra Ehlert', 'Alexandra Frank', 'Alexandra Fuller', 'Alexis Morgan', 'Alfred Brendel', 'Alfred Dorfer', 'Alfred Lansing', 'Alfred Schindler', 'Ali Land', 'Alice Curtis', 'Alice Peuple', 'Alma Katsu', 'Amber Hatch', 'Ami McKay', 'Amir Levine', 'Amity Gaige', 'Amy Mullins', 'An Kuei Chi', 'Ana Lilia Pérez', 'Andrea Bräu', 'Andreas Campobasso', 'Andreas Franz', 'Andreas Gabriel', 'Andreas Heye', 'Andreas Honegger', 'Andreas Kaernbach', 'Andreas Lehmann', 'Andreas Lorenz', 'Andreas Möller', 'Andreas R. Batlogg', 'Andreas Rode', 'Andreas Schilling', 'Andreas Schlieper', 'Andreas Wolfsteiner', 'André Gorz', 'Angela S. Choi', 'Angelika Jodl', 'Angeline Bauer', 'Angie Thomas', 'Anja Hilscher', 'Anja Wille', 'Anke Bracht', 'Anke Christians', 'Anke Willers', 'Ann A. McDonald', 'Ann Lagerström', 'Ann Marie Chiasson', 'Anna Butterbrod', 'Anna Maria Sanders', 'Anna Pasternak', 'Anna Starmer', 'Anna Yudina', 'Annabelle Schachmes', 'Anne Applebaum', 'Anne Müller', 'Annette Bruhns', 'Annette Herzog', 'Annette Kaiser', 'Annette Kowalski', 'Annette Meisl', 'Annette Meyhöfer', 'Annette Mierswa', 'Annette Sewing', 'Annika Reich', 'Anousch Mueller', 'Anthony Sosinski', 'Antje Käßner', 'Antje Vollmer', 'Antoine Leiris', 'Antonia Hayes', 'Ari Shavit', 'Arlene Heyman', 'Arlow Pieniak', 'Armin Riegg', 'Arne Ahlert', 'Arno Schmitt', 'Arturo Pérez-Reverte', 'Ashley Merryman', 'Audrey Diwan', 'Aurélie Silvestre', 'Axel Brauns', 'Axel Meyer', 'Axel Petermann', 'Ayad Akhtar', 'Ayisha Malik', 'B.J. Novak', 'Baltasar Gracián', 'Bar Stenvik', 'Barbara Hazen', 'Barbara Henke', 'Barbara Piazza', 'Barbara Stoeltie', 'Bart-Jan Kazemier', 'Bastian Brinkmann', 'Beate Grimsrud', 'Beate Pracht', 'Becky Murphy', 'Benjamin Idriz', 'Bernard Jakoby', 'Bernhard Kassens', 'Bernhard Pöschla', 'Bernhard Stier', 'Bernhardt R. Kroener', 'Beth Hoffman', 'Bettina Hartz', 'Bettina Köhler', 'Betty Herbert', 'Bi Feiyu', 'Bianca Maria Heinkel', 'Bill Darlison', 'Bill Gifford', 'Bill Vidal', 'Billy Mills', 'Birgit Ehrenberg', 'Birgit Klaus', 'Björn Staschen', 'Blanca Busquets', 'Bob Holmes', 'Boris Hänßler', 'Boris Nikolai Konrad', 'Brent Schlender', 'Bret Easton Ellis', 'Brian Daley', 'Bridget Golightly', 'Britta Konradt', 'Bruno Portier', 'Bruno Tosi', 'Brutus Östling', 'Bryan Kelly', 'Buddy Giovinazzo', 'Bunmi Laditan', 'Burkhard Driest', 'Burkhard Düssler', 'C. Baxter Kruger', 'C. R. Neilson', 'Caitlin Moran', 'Caitlin Shetterly', 'Cameron Diaz', 'Camilla V. Saulsbury', 'Cammie McGovern', 'Can Merey', 'Carin Bartosch Edström', 'Carin Hjulström', 'Carl Sternheim', 'Carl-A. Fechner', 'Carlin Flora', 'Carmen Rodrigues', 'Carola Kupfer', 'Caroline De Maigret', 'Catherine Deveney', 'Catherine Doyle', 'Catherine Millet', 'Cathy Carron', 'Cees Nooteboom', 'Charis Cotter', 'Charles Baudelaire', 'Charles Benoit', 'Charlotte Auzou', 'Charlotte Joko Beck', 'Charlotte Kerner', 'Charlotte Wiedemann', 'Chris Culver', 'Chris Taylor', 'Chris Wormell', 'Christel Petitcollin', 'Christel Schweizer', 'Christelle Huet-Gomez', 'Christian Blees', 'Christian C. Walther', 'Christian Frommert', 'Christian Hesse', 'Christian Jungersen', 'Christian K.L. Fischer', 'Christian Neddens', 'Christian Reiland', 'Christian Ritter', 'Christian Rätsch', 'Christian Röther', 'Christian Sprang', 'Christian Springer', 'Christian Wiese', 'Christina Hucklenbroich', 'Christina Meredith', 'Christina Morina', 'Christine Ax', 'Christine Baillet', 'Christine Halter-Oppelt', 'Christine Lindemann', 'Christine Wolfrum', 'Christoph Ganter', 'Christoph Meyns', 'Christoph Reuter', 'Christoph Schwöbel', 'Christoph Süß', 'Christoph W. Aigner', 'Christopher Buehlman', 'Chusita Fashion Fever', 'Cindy Spencer Pape', 'Claire Bidwell Smith', 'Claire Faÿ', 'Clara Weiss', 'Claudia Boldt', 'Claudia Hunt', 'Claudia Klütsch', 'Claudia Mönius', 'Claudia Schreiber', 'Claus Leggewie', 'Clemens Dirscherl', 'Clélie Avit', 'Clémentine Lubin', 'Cody Hartley', 'Colleen Oakley', 'Constance Neuhann-Lorenz', 'Constantin von Barloewen', 'Constanze Hintze', 'Constanze Neumann', 'Corinna Kegel', 'Corinne Demas', 'Corinne Frottier', 'Corinne Hofmann', 'Courtney Sanchez', 'Craig Ramsay', 'Cristiano Cavina', 'Cristina Di Canio', 'Damaris Knapp', 'Dami Charf', 'Damien Echols', 'Dan Wells', 'Dan Zevin', 'Dana Carpenter', 'Dane McDowell', 'Daniel Erk', 'Daniel G. Amen', 'Daniel Grey Marshall', 'Daniel Ryser', 'Daniel Tammet', 'Daniel Ziblatt', 'Daniela Toman', 'Daphne Sheldrick', 'Daverick Leggett', 'David Austin', 'David Blackbourn', 'David Jenkins', 'David Lewman', 'David Roberts', 'David S. Kidder', 'David Simon', 'David Tallerman', 'David Thomas', 'David Wheeler', 'Dean Bernal', 'Dean Burnett', 'Denise Whichello Brown', 'Detlef Vogel', 'Dhan Tamang', 'Dhonielle Clayton', 'Diana Hillebrand', 'Diana Nasher', 'Diane Ackerman', 'Dick Lehr', 'Diego De Silva', 'Dieter Gurkasch', 'Dietmar Bonnen', 'Dima Wannous', 'Dina Nayeri', 'Dinah Jefferies', \"Dinesh D'Souza\", 'Dirk Bernemann', 'Dirk Dobbrow', 'Dirk Höner', 'Dirk Neuberger', 'Dirk Schulz', 'Dominique Horwitz', 'Donald F. Glut', 'Donna Gephart', 'Doris Anselm', 'Doris Gercke', 'Doris Iding', 'Doris Lessing', 'Dorothy Catherine Fontana', 'Douglas Carlton Abrams', 'Dr. David L. Katz', 'Dr. Dr. Thomas Beck', 'Dr. Jean M. Twenge', 'Dr. Jennifer Baumgartner', 'Dr. Markus Baumgartner', 'Dr. Oetker Verlag KG', 'Dr. Thomas Hartl', 'Dr. med. Alexander Römmler', 'Dr. med. Erich Rauch', 'Dr. med. Iris Zachenhofer', 'Dr. med. Marina Marcovich', 'Dr. med. Marion Reddy', 'Drutmar Cremer', 'Dylan Evans', 'Dylan Thomas', 'Dylan Thuras', 'Dylan Tuccillo', 'Désirée Nick', 'Dörte Hansen', 'Eberhard Straub', 'Eckart Brandt', 'Eckart Witzigmann', 'Eckhard Fuhr', 'Eckhard Roediger', 'Ed & Deb Shapiro', 'Edgar Noske', 'Edie Eckman', 'Edith Hall', 'Edmund Jacoby', 'Edmund Stoiber', 'Edward Kelsey Moore', 'Edward Lee', 'Egbert Ballhorn', 'Elaine DePrince', 'Eli Jaxon-Bear', 'Eline Snel', 'Elisa Sabatinelli', 'Elisabeth Norebäck', 'Elizabeth Joy Arnold', 'Elizabeth Wilhide', 'Elke Borkowski', 'Elke Naters', 'Elke Renate Steiner', 'Elke Schölper', 'Ella Morton', 'Ellen-Verena Friedemann', 'Emery Lord', 'Emily Murdoch', 'Emma Donoghue', 'Emma Lavigne', 'Emylia Hall', 'Enzo Fileno Carabba', 'Erhard F. Freitag', 'Eric Carle', 'Erin Benzakein', 'Ernest Hemingway', 'Ernst Pöppel', 'Esther & Jerry Hicks', 'Esther Duflo', 'Esther M. Friesner', 'Eugen Kogon', 'Eva Aschenbrenner', 'Eva Loschky', 'Eva Maria Fredensborg', 'Eva Mozes Kor', 'Eva Nagy', 'Eva Senges', 'Evan Kuhlman', 'Evangelische Arbeitsgemeinschaft für Kirchliche Zeitgeschichte', 'Eveleen Valadon', 'Evelyn Weiss', 'Evelyne Steinemann', 'Ewart Hutton', 'Federico Baccomo', 'Felicia Zopol', 'Felicitas Heyne', 'Felicitas Richter', 'Felix Krämer', 'Fernand Braun', 'Fiona Blum', 'Fiona Palmer', 'Fiona Wood', 'Flora Peschek-Böhmer', 'Florence Gentner', 'Florence Williams', 'Florian Noetzel', 'Florian Steininger', 'Frances Maynard', 'Francine Shapiro', 'Francisca Mattéoli', 'Frank Behrendt', 'Frank Gaschler', 'Frank Ochmann', 'Frank Sieren', 'Frank Widmann', 'Frank-Markus Barwasser', 'Franklin Foer', 'Franz Mühlbauer', 'Franz-Josef Nocke', 'Françoise Frenkel', 'Frater V.D.', 'Fredrik Brounéus', 'Friederike Rath', 'Friedrich Hinterberger', 'Friedrike Seyfried', 'Fritz Rudolf Fries', 'Gabriel García Márquez', 'Gabriele Feld', 'Gabriele Münter- und Johannes Eichner- Stiftung München', 'Gabriele Tergit', 'Gabriele ten Hövel', 'Gabriella Genisi', 'Gaby Guzek', 'Galia Bernstein', 'Gangaji', 'Garri Kasparow', 'Garry Kilworth', 'Gaston Wicky', 'Gavriel Savit', 'Gay Merrill Gross', 'Gayle Tufts', 'Geoff Colvin', 'Geoffrey James', 'Georg Fink', 'Georg Steins', 'George R. Stewart', 'George Soros', 'Georgiana Uhlyarik', 'Gerard C. den Hertog', \"Gerard O'Neill\", 'Gerhard Ernst', 'Gerhard Krebs', 'Gerhard P. Knapp', 'Gerhard Praun', 'Gina Damico', 'Gina Ruck-Pauquèt', 'Gisela Schreiber', 'Giulia Carcasi', 'Glendon Swarthout', 'Glynis McCants', 'Gonzalo Torné', 'Gordon Smith', 'Gottfried August Bürger', 'Gottfried Benn', 'Grazia Deledda', 'Greg Critser', 'Greg Olear', 'Greg Palast', 'Greg Suart', 'Gregor Dolak', 'Gregor Peter Schmitz', 'Griselda Pollock', 'Grégory Mees', 'Guido Maria Kretschmer', 'Guillem Balagué', 'Gundi Gaschler', 'Gunnar Ebmeyer', 'Gunnar Lott', 'Guus Kuijer', 'Günter Ederer', 'Günter Raake', 'Günter Wittmann', 'Hallie Ephron', 'Hanna Caspian', 'Hanna Kappus', 'Hannah Coates', 'Hannah Johnston', 'Hanne Marie Svendsen', 'Hannes Lindemann', 'Hanns Hatt', 'Hanns Kurth', 'Hans Joas', 'Hans Rudolf Jost', 'Hans Söllner', 'Hans Walter Wolff', 'Hans von Dohnanyi', 'Hans-Christian Huf', 'Hans-Horst Skupy', 'Hans-Ulrich Grimm', 'Hans-Uwe L. Köhler', 'Harald Banzhaf', 'Harald Schroeter-Wittke', 'Harold S. Kushner', 'Harry Mulisch', 'Hasnain Kazim', 'Heather Cocks', 'Heather Cooper', 'Heather Dane', 'Heather Webb', 'Heather Young', 'Hedi Friedrich', 'Heide Stauff', 'Heidi Swain', 'Heike Faller', 'Heike Knauber', 'Heinz Janisch', 'Helen Kauffmann', 'Helena Waris', 'Helene Wolf', 'Helga Gropper', 'Helle Vincentz', 'Helmut Pfleger', 'Helmut Utzschneider', 'Helmut Wandmaker', 'Heloïse', 'Henrik Lange', 'Henry D. Thoreau', 'Herbert Frei-Schindler', 'Herbert Koch', 'Herbert Kolb', 'Herbert Seckler', 'Herbert Wender', 'Hermann Barth', 'Hernán Huarache Mamani', 'Hilly Janes', 'Hina Fruh', 'Hiro Arikawa', 'Hjalmar Bergman', 'Horst Georg Pöhlmann', 'Horst Klaus Berg', 'Horst Lauinger', 'Hubertus Meyer-Burckhardt', 'Iain Reid', 'Idil Baydar', 'Ilona Bürgel', 'Ilse Aichinger', 'Ina May Gaskin', 'Ingeborg Prior', 'Ingela P. Arrhenius', 'Inger Christensen', 'Ingrid Newkirk', 'Ingrid Schilling-Frey', 'Ino Kuvačić', 'Ippolito Nievo', 'Irene Becker', 'Irfan Peci', 'Iris Mäusl', 'Iris Röll', 'Irmtraud Tarr', 'Isabel Kuhl', 'Isabel Vincent', 'Isabell Aue', 'Isabell Prophet', 'Isabella Kroth', 'Isabelle Bruno', 'Isabelle Jansen', 'Iwan Turgenjew', 'J. L. Witterick', 'J. Patrick Black', 'J.D. Barker', 'Jack Cheng', 'Jack Hawley', 'Jacobus de Voragine', 'Jacqueline Remy', 'Jacques Vriens', 'Jaimal Yogis', 'James Briggs', 'James Kahn', 'James S.A. Corey', 'Jan Boyd', 'Jan Erik Sigdell', 'Jan Faber', 'Jan Grossarth', 'Jan Hermelink', 'Jan Kirsten Biener', 'Jan Kowalsky', 'Jan Plamper', 'Jan Wallentin', 'Jan-Friedrich Mißfelder', 'Jancee Dunn', 'Jane Kennedy', 'Jane Marbaix', 'Janette Paul', 'Janie Bryant', 'Janko Lauenberger', 'Jared Zeizel', 'Jasmin Arensmeier', 'Jasmin Lee Cori', 'Jason Gurley', 'Jaume Sanllorente', 'Jean Mus', 'Jean Prévost', 'Jean-Paul Belmondo', 'Jean-Yves Leloup', 'Jeanne DuPrau', 'Jeanne Rubner', 'Jeanne Ryan', 'Jeff Greenberg', 'Jekka McVicar', 'Jennifer Bosworth', 'Jenny Colgan', 'Jenny Oliver', 'Jenny-Mai Nuyen', 'Jens Ehebrecht-Zumsande', 'Jerome Leroy', 'Jess Bradley', 'Jesse Andrews', 'Jesse Haaja', 'Jhari Gerlind Kornetzky', 'Jill Cory', 'Jill Santopolo', 'Jim Ford', 'Jiri Scherer', 'Jo von Haecker', 'Joachim Graf', 'Joachim Mayer', 'Joan Bolzan', 'Joan Hardcastle', 'Joaquim Maria Machado de Assis', 'Jochen-Martin Gutsch', 'Jody Gehrman', 'Joe Haldeman', 'Joe Wicks', 'Johannes Aumüller', 'Johannes B. Bucej', 'Johannes Ehmann', 'Johannes Gunst', 'Johannes Hofmann', 'John Aldridge', 'John E. Upledger', 'John Gottman', 'John Gray', 'John Hill', 'John J. Healey', 'John Kenneth Galbraith', 'John Kenney', 'John King', 'John Kounios', 'John Rabe', 'John Wade', 'Johnny Haeusler', 'Jon Christoph Berndt®', 'Jon Flemming Olsen', 'Jon Halliday', 'Jon Wallace', 'Jonas Viering', 'Jonathan Schnitt', 'Jonette Crowley', 'Jordan Belfort', 'Josef Imbach', 'Josef M. Werle', 'Josef Seitz', 'Josefine Mutzenbacher', 'Joseph Conrad', 'Joseph Hooper', 'Joshua Foer', 'Jude Schell', 'Judith Bernhard', 'Judith Glück', 'Judson Brewer', 'Jules Grant', 'Julia Hartmann', 'Julia Kaergel', 'Julia Kröhn', 'Julia Stuart', 'Julian Austwick', 'Juliane Uhl', 'Juliane von Wedemeyer', 'Julie Gorkow', 'Julie Schwartz Gottman', 'Jung Chang', 'Justin Hammack', 'Jutta Geyrhalter', 'Jutta Lang', 'Jutta Leonhardt-Balzer', 'Jörg Weber', 'Jürgen Möllemann', 'Jürgen von Schemm', 'K. T. Medina', 'Kai Schächtele', 'Kareen Dannhauer', 'Karen Cleveland', 'Karen Dionne', 'Karen McAndless-Davis', 'Karen R. Koenig', 'Karen Smith', 'Karen Thompson Walker', 'Karen Webb', 'Karen White', 'Karin Havlicek', 'Karin Heimberger-Preisler', 'Karin von Schumann', 'Karl Bruckmaier', 'Karl Heinz Däke', 'Karl-Heinz Bassy', 'Karl-Klaus Madert', 'Karl-Ludwig Kley', 'Kat Spears', 'Katarina Agathos', 'Kate Anthony', 'Kate Defrise', 'Kate Gross', 'Kate Lawson', 'Katharina Kunzmann', 'Katharina M. Kiefer', 'Katherina Manolessou', 'Katherine Anne Porter', 'Kathleen Battke', 'Kathleen Tessaro', 'Kathleen Winter', 'Kathrin Tsainis', 'Kathryn Fox', 'Kathryn Holmes', 'Katia Bernardi', 'Katie Agnew', 'Katie Cotugno', 'Katie Parla', 'Katja Höhn', 'Katja Riemann', 'Katja Scholtz', 'Kees van Beijnum', 'Keisuke Matsumoto', 'Keith Seume', 'Kerry Reichs', 'Kerstin Kropac', 'Kiera Brennan', 'Kim Leine', 'Kimberley Freeman', 'Kimberly McCreight', 'Kirsten Brodde', 'Kirsten Ehrhardt', 'Kirsten Ellerbrake', 'Kirsten Hammann', 'Kirsten Schützhofer', 'Klaus Bittermann', 'Klaus Brinkbäumer', 'Klaus Danzeglocke', 'Klaus De Rottwinkel', 'Klaus Eidenschink', 'Klaus Gunschmann', 'Klaus Hagerup', 'Klaus Hahn', 'Klaus Jürgen Becker', 'Klaus Raab', 'Kristin Ganzwohl', 'Kristin Oeing', 'Kristin Rübesamen', 'Kristina Gill', 'Kristina Lowis', 'Kuno Hottenrott', 'Kunsthalle München', 'Kurt Derungs', 'Lafcadio Hearn', 'Lao-Tse', 'Lara Avery', 'Laura Lynne Jackson', 'Laurell K. Hamilton', 'Lauren Willig', 'Laurence Shorter', 'Laurence Yep', 'Lawrence Norfolk', 'Lea Singer', 'Leah Cypess', 'Lee Crutchley', 'Len Deighton', 'Lena Gorelik', 'Leon de Winter', 'Leonard Cohen', 'Lerke von Saalfeld', 'Lesley Bremness', 'Lesley Stanfield', 'Leïla B.', 'Leïla Slimani', 'Liliane und Fred Funcken', 'Lily Murray', 'Linda Sue Park', 'Lisa Ayecke', 'Lisa Casali', 'Lisa Frieda Cossham', 'Lisa Laurenz', 'Lisa Rojany Buccieri', 'Liz Howard', 'Liä Dsi', 'Lola Jones', 'Luca Tarenzi', 'Lucretia Grindle', 'Lucrezia Scali', 'Ludwig Bechstein', 'Luigi Capuana', 'Luise Rist', 'Luitgard Marschall', 'Luke Haines', 'Luke Harding', 'Lutz Hachmeister', 'Luzia Sutter Rehmann', 'M. D. Headley', 'M. L. Stedman', 'Madame de La Fayette', 'Madeline Puckette', 'Magdalena M. Moeller', 'Maike Biederstädt', 'Maja Haderlap', 'Malcolm Gladwell', 'Malte Heynen', 'Malte Pieper', 'Manfred Gregor', 'Manfred Güllner', 'Manfred Schneckenburger', 'Marc Deckert', 'Marc Degens', 'Marc Gassert', 'Marcellus Emants', 'Marco Morelli', 'Marco von Münchhausen', 'Maren Schneider', 'Margaret Atwood', 'Margaret Carroll', 'Margaret Dilloway', 'Margherita Oggero', 'Margot Anand', 'Margot Berger', 'Maria Del Mar Sacasa', 'Maria Murnane', 'Maria Turtschaninoff', 'Mariam Lau', 'Mariana Jung', 'Marie Gamillscheg', 'Marie Kober', 'Marie Pohl', 'Marie Rutkoski', 'Marietta Moskin', 'Marika Kilius', 'Marilyn Yalom', 'Mario Günther-Bruns', 'Mario Puzo', 'Mario Spezi', 'Marion Gardei', 'Marion Hellweg', 'Marion Kiechle', 'Marisha Pessl', 'Marjan Kamali', 'Mark Alpert', 'Mark Beeman', 'Mark Hill', 'Mark McCurley', 'Mark Sennen', 'Mark Spörrle', 'Mark Wolynn', 'Markus Huth', 'Markus Kamrad', 'Marnia Ryan-Raison', 'Martin Greschat', 'Martin Marianowicz', 'Martin Seligman', 'Martin Stiefenhofer', 'Martin Österdahl', 'Martina Sieber-Mahler', 'Martina Vogl', 'Matt Taibbi', 'Matteo Bussola', 'Matteo Corradini', 'Matthew Kimberley', 'Matthias C. Müller', 'Matthias Ennenbach', 'Matthias Hempel', 'Matthias Lohre', 'Matthias Mühling', 'Matthias Pohlig', 'Matthias Sammer', 'Matthieu Ricard', 'Mattia Signorini', 'Max Popov', 'Max Steller', 'Maxim Gorki', 'Mechthild Ritter', 'Mehmet Akyazi', 'Mel Allwood', 'Melanie Harlow', 'Melinda Nadj Abonji', 'Melissa LaBarre', 'Melissa Scott', 'Melody Griffiths', 'Mia May', 'Michael Albus', 'Michael Brown', 'Michael Byrne', 'Michael Kröher', 'Michael Merks', 'Michael Morley', 'Michael Philipp', 'Michael Roads', 'Michael Roth', 'Michael Wolff', 'Michael Wolter', 'Michaela DePrince', 'Michaela Moritz', 'Michaela Rose', 'Michel Rostain', 'Michelle Frances', 'Michelle Gable', 'Mieshelle Nagelschneider', 'Miguel Bustos', 'Mika Bechtheim', 'Mike Kleiß', 'Milan Kundera', 'Milena Baisch', 'Mina Ahadi', 'Mindy Mejia', 'Miriam Margraf', 'Mitch Feierstein', 'Moira Frank', 'Moira Weigel', 'Moira Young', 'Momme Brodersen', 'Momo Evers', 'Monica Corcoran Harel', 'Monika Felten', 'Monika Hofmann', 'Monika Tworuschka', 'Morten A. Strøksnes', 'Myriam Rawick', 'NEON Stern Medien GmbH', 'Nahuel Lopez', 'Nando Parrado', 'Natalia Wörner', 'Natalija Geworkjan', 'Nele Pollatschek', 'Nelson Johnson', 'Niall Leonard', 'Nicholas Sansbury Smith', 'Nicholas Searle', 'Nick Bilton', 'Nick Fitzherbert', 'Nico Hofmann', 'Nicola Burfeindt', 'Nicole Richie', 'Nicole Schuhmacher', 'Niel Bushnell', 'Nils Altner', 'Nils Heinrich', 'Nina Fröhlich', 'Nina Jansen', 'Nina Petersmann', 'Noah D. Oppenheim', 'Nobuo Shioya', 'Noelle Hancock', 'Norbert Fink', 'Norbert Körzdörfer', 'Norbert Leithold', 'Noëlle Harrison', 'Nuala Ellwood', 'Núria Pradas', 'Olaf Peters', 'Olav Meyer-Sievers', 'Ole Thorstensen', 'Oleg Chlewnjuk', 'Olga Häusermann Potschtar', 'Oliver Schröm', 'Olivier Bellamy', 'Ollie Aplin', 'Ortrud Grön', 'Ortrud Westheider', 'Oskar Maria Graf', 'Pablo Salvaje', \"Pablo d'Ors\", 'Pamela Moriarty', 'Paola Mastrocola', 'Patricia Mercier', 'Patrick D. Cowden', 'Patrick Lapeyre', 'Paul Cattermole', 'Paul Joannides', 'Paul M. Zulehner', 'Paul Maréchal', 'Paul Pickering', 'Paula Reed', 'PeTA People f. the ethical Treatm. of Animals', 'Peggy Orenstein', 'Pepper Harding', 'Per Olov Enquist', 'Pere Estupinya', 'Pete Hautman', 'Peter Allmend', 'Peter Bamm', 'Peter Detert', 'Peter Geyer', 'Peter Mathis', 'Peter Ruch', 'Peter Rühmkorf', 'Peter S. Beagle', 'Peter Schaar', 'Peter Schmidt', 'Peter Slaets', 'Peter Spork', 'Peter Wichmann', 'Peter Williams', 'Peter Zudeick', 'Petra Bernatzeder', 'Petra Brumshagen', 'Petra Joy', 'Petra Kunze', 'Petra Neumayer', 'Petra Reichling', 'Phaedra Patrick', 'Phil Hogan', 'Philipp Gurt', 'Philipp Starzinger', 'Pia Stroom', 'Pierre Lemaitre', 'Pieter Steinz', 'Po Bronson', 'Prof. Dr. Norbert Fessler', 'Ptolemy Tompkins', 'Rachel S.F. Heller', 'Radka Denemarková', 'Rafael Chirbes', 'Rainer Dabrowski', 'Rainer Starck', 'Ralf Prestenbach', 'Raman K. Prinja', 'Randi Foxx', 'Randolf Menzel', 'Randy Pausch', 'Ranka Keser', 'Raven Hart', 'Rebecca Casati', 'Rebecca Freeborn', 'Rebecca Moesta', 'Rebecca Wallenta', 'Rebekka Zinn', 'Reem Sahwil', 'Regena Thomashauer', 'Regina Masaracchia', 'Regina Tödter', 'Regina Wildgruber', 'Regine Dee', 'Reinhard Hofer', 'Reinhard Mohr', 'Reinhard Stumpf', 'Renate Bethge', 'René Stoeltie', 'Renée Price', 'Rhiannon Adam', 'Richard Bird', 'Richard C. Schneider', 'Richard Davidson', 'Richard Thaler', 'Rick Tetzeli', 'Rita Trieger', 'Rob DeStefano', 'Rob Riemen', 'Rob Temple', 'Rob Vegas', 'Robert B. Parker', 'Robert Habeck', 'Robert Holden', 'Robert Levy', 'Robert Seethaler', 'Robert Spengler', 'Robin Pilcher', 'Rodica Doehnert', 'Rokelle Lerner', 'Roland Lütkemeyer', 'Rolf Cyriax', 'Rolf Froböse', 'Ronald Malfi', 'Ronja von Wurmb-Seibel', 'Rosa Liksom', 'Rose-Anne Clermont', 'Rosemary Clement-Moore', 'Rosie Rushton', 'Ross King', 'Ross Raisin', 'Roswitha Schwab', 'Rosy Edwards', 'Rowan Hisayo Buchanan', 'Ruben Eliassen', 'Ruben Mersch', 'Rudolf Leopold', 'Runar Schildt', 'Ruth Schwarz', 'Ry Cooder', 'Rüdiger Gamm', 'Rüdiger Maschwitz', 'S. D. Perry', 'Sabine Breitwieser', 'Sabine Eichhorst', 'Sabine Knoll', 'Sabine Thiel-Siling', 'Sabine Wery von Limont', 'Sally Green', 'Sam Leith', 'Samantha Jayne', 'Samuel Beckett', 'Sana Krasikov', 'Sandra Krautwaschl', 'Sandra Lawrence', 'Sandra Ziegler-Scholz', 'Sandro Gaycken', 'Sarah Bailey', 'Sarah Burmester', 'Sarah Greenough', 'Sarah Maine', 'Sarah Stricker', 'Scott Bolzan', 'Scott Wetzler', 'Sebastian Herrmann', 'Sebastian Lehmann', 'Sebastian Stiller', 'Selina Lake', 'Shayla Black', 'Sheila Rance', 'Sheldon Solomon', 'Sibylle Haenitsch-Weiß', 'Sienna Mercer', 'Siglinda Oppelt', 'Sigrid Damm', 'Silke Amthor', 'Silke Gronwald', 'Silke Pfersdorf', 'Silvia Furtwängler', 'Silvia Tennenbaum', 'Simon Hahnzog', 'Simon Lilly', 'Simon Pasternak', 'Simon Tress', 'Simon Winchester', 'Sina Vogt', 'Sissi Perlinger', 'Skadi van Paasschen', 'Smriti Prasadam-Halls', 'Sona Charaipotra', 'Sonia Laredo', 'Sonia Mikich', 'Sonja Hartwig', 'Sonya Rhodes', 'Sophie Mas', 'Staatliche Museen zu Berlin Preußischer Kulturbesitz', 'Stacey Colino', 'Statens Museum for Kunst', 'Stefan Ark Nitsche', 'Stefan Aust', 'Stefan Gärtner', 'Stefan Schade', 'Stefania Bertola', 'Stefanie Hirsbrunner', 'Stefanie Mann', 'Stefanie Rentsch', 'Stefanie Sprauer', 'Stefanie Wilhelm', 'Stephan A. Reinke', 'Stephanie Merritt', 'Stephen M. Irwin', 'Stephen Walter', 'Steve Stern', 'Steve Voake', 'Steven E. Wedel', 'Steven Levenkron', 'Steven Levitsky', 'Stuart Hill', 'Städtische Galerie im Lenbachhaus', 'Sue Lilly', 'Sukadev Volker Bretz', 'Susa Bobke', 'Susan E. Hinton', 'Susan Rieger', 'Susan Schneider', 'Susan Vreeland', 'Susanne Fröhlich', 'Susanne Jansson', 'Susanne Kinzelmann-Gullotta', 'Susanne Thiele', 'Suzanne Rindell', 'Sven Lager', 'Sybille Hein', 'Sylvia Szepanski-Jansen', 'Sylvia Winnewisser', 'Sylvie Simmons', 'Sünje Nicolaysen', 'T. J. English', 'Tal M. Klein', 'Tala Mohajeri', 'Tamora Pierce', 'Tamsin Pickeral', 'Tania Kambouri', 'Tania Singer', 'Tanith Lee', 'Tanja Dostal', 'Tanja Haeusler', 'Tanja Voosen', 'Tanya Barson', 'Tanya Byron', 'Tara Assmann', 'Tasty', 'Tatjana Kruse', 'Ted Harris', 'Ted Kosmatka', 'Terry Patten', 'Tetje Mierendorf', 'The Berkeley', 'The Clash', 'Theodor Dierk Petzold', 'Theresa Donovan Brown', 'Theresa Saunders', 'Thomas Bauer', 'Thomas Böhme', 'Thomas Dressel', 'Thomas Ebinger', 'Thomas Fuchs', 'Thomas Heinle', 'Thomas John', 'Thomas Keneally', 'Thomas Krausz', 'Thomas Martin', 'Thomas Peisel', 'Thomas Schmid', 'Thomas Schäfer', 'Thomas Wagenpfeil', 'Thomas Wiedling', 'Thor Heyerdahl', 'Thorsten Nagelschmidt', 'Tiffany Schmidt', 'Tim Dünschede', 'Tim Pieper', 'Tim Powers', 'Tina Seelig', 'Tino Käßner', 'Tobias Pehle', 'Toby Wilkinson', 'Tod Goldberg', 'Todd Calgi Gallicano', 'Tom Booth', 'Tom Peter Rietdorf', 'Tom Pyszczynski', 'Tony Gonzales', \"Tony O'Neill\", 'Tony Schreiber', 'Torsten Johannknecht', 'Tracy Austwick', 'Tran Arnault', 'Traugott Wöhrlin', 'Tsültrim Allione', 'Udo Jürgens', 'Udo Tworuschka', 'Udo Vetter', 'Ule Hansen', 'Ulrich Becher', 'Ulrich Buchner', 'Ulrich Kasparick', 'Ulrich Maurer', 'Ulrich Sinn', 'Ulrich Walburg', 'Ulrike Ascher', 'Ulrike Weber', 'Umberta Telfener', 'Ursula Buchfellner', 'Ursula Neumann', 'Uta Zwingenberger', 'Ute Nerge', 'Uwe Krechel', 'Uwe Laub', 'Uwe Wolff', 'Valentina Cebeni', 'Valérie Gans', 'Vanamali Gunturu', 'Vanessa Lafaye', 'Varujan Vosganian', 'Vera Bartholomay', 'Verband der Chemischen Industrie e.V. VCI', 'Verena Roßbacher', 'Verena Schmitt-Roschmann', 'Victoria Schwartz', 'Vince Rause', 'Violet Blue', 'Vladimir Odoevskij', 'Vladimir Serkin', 'Volker Angres', 'Volker Arend', 'Volker Prause', 'Volker Präkelt', 'Walli Müller', 'Walter Gaigg', 'Walter Kohl', 'Walter Krämer', 'Walter Mischel', 'Walter Rotter', 'Warren Elsmore', 'Wei Ling Khor', 'Wendy Jago', 'Werner Ablass', 'Werner Bartens', 'Werner Kieser', 'Werner Oechslin', 'Werner Rahn', 'Wieslaw Mysliwski', 'Wilfried Huismann', 'Wilko Johnson', 'Willee Regensburger', 'Willi Weitzel', 'William Poundstone', 'William Powers', 'Wolf Haas', 'Wolfgang Borchert', 'Wolfgang Böhmer', 'Wolfgang M. Heckl', 'Wolfgang Paetzold', 'Yangzom Brauen', 'Yassin Musharbash', 'Yeonmi Park', 'Yoko Kawaguchi', 'Yves Bossart', 'Zana Fraillon', 'Åsa Linderborg', 'Élise Delprat-Alvarès', 'Ömer Özsoy'] will be ignored\n",
      "  .format(sorted(unknown, key=str)))\n"
     ]
    }
   ],
   "source": [
    "from sklearn import preprocessing\n",
    "# data = train_test_split(final_df[[\"title\",\"description\",\"authors\",\"category\",\"year\",\"count_of_categories\",\"isbn\",\"categories\"]],\n",
    "#                 final_df[\"target\"], test_size=0.20, random_state=42, stratify=final_df[\"target\"], shuffle=True)\n",
    "\n",
    "# X_train_df, X_test_df, y_train, y_test = data\n",
    "# vectorizer = TfidfVectorizer(ngram_range=(1,2),stop_words=stopwords.words('german'),tokenizer=bpemb_tokenize)\n",
    "\n",
    "X_test_set = vectorizer.transform(test_book_df.apply(lambda row: combine_title_desc(row), axis=1))\n",
    "\n",
    "X_test_set_author = mlb.transform(test_book_df[\"authors\"].values)\n",
    "\n",
    "X_test_set_year = year_lb.transform(test_book_df[\"year\"].values)\n",
    "\n",
    "X_test_ISBN_GRP = isbn_group_lb.transform(test_book_df[\"ISBN_GRP\"].values)\n",
    "\n",
    "X_test_ISBN_PUBLISHER = isbn_publisher_lb.transform(test_book_df[\"ISBN_PUBLISHER\"].values)\n",
    "\n",
    "# X_train_categories = [\"_\".join([str(le.transform([a])[0]) for a in i]) for i in  X_train_df[\"categories\"]]\n",
    "# X_test_categories = [\"_\".join([str(le.transform([a])[0]) for a in i]) for i in  X_test_df[\"categories\"]]\n",
    "\n",
    "from scipy import sparse\n",
    "X_test_set_all = sparse.hstack((\n",
    "     X_test_set,sparse.csr_matrix(X_test_set_author),\n",
    "     sparse.csr_matrix(X_test_set_year),\n",
    "     sparse.csr_matrix(X_test_ISBN_GRP),\n",
    "     sparse.csr_matrix(X_test_ISBN_PUBLISHER)\n",
    "    ))\n",
    "\n",
    "# X_test_all = sparse.hstack((\n",
    "#     X_test,sparse.csr_matrix(X_test_author),\n",
    "#     sparse.csr_matrix(X_test_year),\n",
    "#     sparse.csr_matrix(X_test_df[\"isbn\"].values.reshape(len(X_test_df),1)),\n",
    "#     sparse.csr_matrix(X_test_df[\"count_of_categories\"].values.reshape(len(X_test_df),1))\n",
    "#     ))\n",
    "\n"
   ]
  },
  {
   "cell_type": "code",
   "execution_count": 146,
   "metadata": {},
   "outputs": [],
   "source": [
    "X_full_array_arr = X_full_array[:,:-2].toarray()"
   ]
  },
  {
   "cell_type": "code",
   "execution_count": null,
   "metadata": {},
   "outputs": [],
   "source": []
  },
  {
   "cell_type": "markdown",
   "metadata": {
    "collapsed": true
   },
   "source": [
    "## Create Final Model "
   ]
  },
  {
   "cell_type": "code",
   "execution_count": 147,
   "metadata": {},
   "outputs": [
    {
     "name": "stdout",
     "output_type": "stream",
     "text": [
      "[LibLinear]CPU times: user 2min 55s, sys: 517 ms, total: 2min 56s\n",
      "Wall time: 2min 56s\n"
     ]
    }
   ],
   "source": [
    "%%time\n",
    "lsvcclf = LinearSVC(random_state=42,max_iter=3000,verbose=1,class_weight= dict(class_weights_encoded))\n",
    "lsvcclf.fit(X_full_array_arr,Y_full)"
   ]
  },
  {
   "cell_type": "code",
   "execution_count": 148,
   "metadata": {},
   "outputs": [
    {
     "name": "stdout",
     "output_type": "stream",
     "text": [
      "[LibLinear]CPU times: user 45.2 s, sys: 781 ms, total: 46 s\n",
      "Wall time: 45.9 s\n"
     ]
    }
   ],
   "source": [
    "%%time\n",
    "lsvcclf_cc = LinearSVC(random_state=42,max_iter=3000,verbose=1)\n",
    "lsvcclf_cc.fit(X_full_array_arr,[int(i[0]) for i in X_full_array[:,-1].todense().tolist()])"
   ]
  },
  {
   "cell_type": "code",
   "execution_count": 149,
   "metadata": {},
   "outputs": [],
   "source": [
    "def getClasses(class_probs,class_count):\n",
    "    arr = np.array(class_probs)\n",
    "    return arr.argsort()[-1 * class_count:][::-1]"
   ]
  },
  {
   "cell_type": "markdown",
   "metadata": {},
   "source": [
    "## Predict for the test set"
   ]
  },
  {
   "cell_type": "code",
   "execution_count": 150,
   "metadata": {},
   "outputs": [],
   "source": [
    "test_book_df[\"class_count\"] = lsvcclf_cc.predict(X_test_set_all)"
   ]
  },
  {
   "cell_type": "code",
   "execution_count": 151,
   "metadata": {},
   "outputs": [],
   "source": [
    "y_prob_list = [i.tolist() for i in lsvcclf._predict_proba_lr(X_test_set_all)]"
   ]
  },
  {
   "cell_type": "code",
   "execution_count": 152,
   "metadata": {},
   "outputs": [],
   "source": [
    "test_book_df[\"class_probs\"] = y_prob_list"
   ]
  },
  {
   "cell_type": "code",
   "execution_count": 153,
   "metadata": {
    "scrolled": true
   },
   "outputs": [
    {
     "data": {
      "text/html": [
       "<div>\n",
       "<style scoped>\n",
       "    .dataframe tbody tr th:only-of-type {\n",
       "        vertical-align: middle;\n",
       "    }\n",
       "\n",
       "    .dataframe tbody tr th {\n",
       "        vertical-align: top;\n",
       "    }\n",
       "\n",
       "    .dataframe thead th {\n",
       "        text-align: right;\n",
       "    }\n",
       "</style>\n",
       "<table border=\"1\" class=\"dataframe\">\n",
       "  <thead>\n",
       "    <tr style=\"text-align: right;\">\n",
       "      <th></th>\n",
       "      <th>title</th>\n",
       "      <th>description</th>\n",
       "      <th>author</th>\n",
       "      <th>published_date</th>\n",
       "      <th>isbn</th>\n",
       "      <th>authors</th>\n",
       "      <th>published_date_parsed</th>\n",
       "      <th>year</th>\n",
       "      <th>ISBN_GRP</th>\n",
       "      <th>ISBN_PUBLISHER</th>\n",
       "      <th>class_count</th>\n",
       "      <th>class_probs</th>\n",
       "    </tr>\n",
       "  </thead>\n",
       "  <tbody>\n",
       "    <tr>\n",
       "      <th>0</th>\n",
       "      <td>Malbuch für 365 Tage</td>\n",
       "      <td>Ausmalen bringt Freude und entspannt. Dieses meditative Ausmalbuch begleitet Sie mit seinen vielfältigen und wunderschönen Motiven sogar durch das ganze Jahr. Jedem Motiv ist eine inspirierende Affirmation zugeordnet, nach der Sie Ihren Alltag gestalten können. Zudem reduziert tägliches Ausmalen den Stress, erhöht Ihr Wohlbefinden, fördert die Kreativität, verbessert Ihre Konzentration und ist Balsam für die Seelen.</td>\n",
       "      <td>NaN</td>\n",
       "      <td>2016-10-03</td>\n",
       "      <td>9783809436690</td>\n",
       "      <td>[nan]</td>\n",
       "      <td>2013-12-02</td>\n",
       "      <td>2013</td>\n",
       "      <td>80</td>\n",
       "      <td>9436</td>\n",
       "      <td>1</td>\n",
       "      <td>[0.010351228047532645, 0.011135365746542883, 0.009509887862025055, 0.008093318276156244, 0.01040599794288465, 0.013370483928009791, 0.011511408168829056, 0.01008660113344966, 0.010075960455905718, 0.00921133414144666, 0.008865237966714585, 0.009123106145043228, 0.012056485786354411, 0.011497965662510148, 0.011485767444641764, 0.011552332949821243, 0.011201931001414974, 0.014749185316227301, 0.010494412345653565, 0.008940632681269453, 0.011038442299557024, 0.010839367951299236, 0.009573178574743236, 0.008756315085080107, 0.021586629683406286, 0.011809981341596165, 0.011173526139023487, 0.008763046249433344, 0.01138786344292559, 0.010807794895255914, 0.011206271177833547, 0.010981835610890934, 0.011888313076695379, 0.01072993016014388, 0.009486897934462378, 0.009972808817601302, 0.010065464453754688, 0.010447490576281257, 0.011757114989066321, 0.00823220566450409, 0.008989945385705795, 0.009623578515982546, 0.013613032537542053, 0.011369390451242512, 0.008054212132263098, 0.008355684117332425, 0.011613924340101818, 0.011380215320855425, 0.009633490580328278, 0.01681466348073924, 0.01059688711523932, 0.007864830220485106, 0.00826685496427351, 0.009159301481942703, 0.010712847733761775, 0.010258747075119522, 0.009365620458191221, 0.01086356807536109, 0.011281906359777367, 0.011324246201963697, 0.011478462313636015, 0.010316736636312577, 0.011069273162702713, 0.010652808989285419, 0.011032044205501322, 0.009932706596601367, 0.007589663073810685, 0.009132486908896354, 0.011455245388377128, 0.008648487974661848, 0.010668727826676237, 0.0112106118020608, 0.010552562187783695, 0.010905339675105302, 0.011038789140857921, 0.010694092862436935, 0.009972696421079895, 0.010851382552397511, 0.010974501943027123, 0.011039059617478008, 0.010784961910513185, 0.01113966882496096, 0.011299725659102242, 0.008847835797364501, 0.009195988267871932, 0.011400333850292503, 0.008928444167224872, 0.010968018921302228, 0.007529533353973556, 0.009410897633053302, 0.01159378926529046, 0.00981828205398664, 0.010478951411647237, 0.007979594915378172, 0.00804222701515371]</td>\n",
       "    </tr>\n",
       "    <tr>\n",
       "      <th>1</th>\n",
       "      <td>Ansteckende Gesundheit</td>\n",
       "      <td>Die Beliebtheit der Geistheilung als Alternative zur Schulmedizin wächst ständig. Aber warum ist Geistheilung so erfolgreich? Einer der renommiertesten Heiler Europas gibt unmittelbare Einblicke in seine Tätigkeit. Seriös, kompetent und verständlich beantwortet Horst Krohne die grundlegenden Fragen, stellt Diagnose- und Behandlungsmöglichkeiten vor und zeigt Chancen und Grenzen auf. Für alle, die sich umfassend über Geistheilung informieren oder sich selbst behandeln lassen wollen.</td>\n",
       "      <td>Horst Krohne</td>\n",
       "      <td>2014-11-10</td>\n",
       "      <td>9783453702653</td>\n",
       "      <td>[Horst Krohne]</td>\n",
       "      <td>2016-06-20</td>\n",
       "      <td>2016</td>\n",
       "      <td>45</td>\n",
       "      <td>3702</td>\n",
       "      <td>1</td>\n",
       "      <td>[0.01055331562122876, 0.009945889619702641, 0.010920507848812471, 0.01031765784064765, 0.010736079485810525, 0.01049732287371996, 0.011008382370012861, 0.010062792814495677, 0.010167690268547486, 0.010580771124963482, 0.010055156773428513, 0.010162235811694308, 0.009208622639599186, 0.011339259856972506, 0.022682244315387567, 0.011093460075418712, 0.010241603828728204, 0.010321451843850755, 0.010349311959735328, 0.00912543655681352, 0.010618090045526394, 0.01030546805856155, 0.010553054796897067, 0.009031009505301286, 0.012002467638120571, 0.01148766900337289, 0.009500378267950766, 0.009696969560404034, 0.010500211377618631, 0.010661730672812293, 0.009092618316827483, 0.01104441092699974, 0.012201131741643452, 0.010863888159219591, 0.011064547977923521, 0.009737733441169323, 0.010770606308476855, 0.010456487316210572, 0.009791685443605907, 0.011292304155384618, 0.009791072790943501, 0.00940763795984192, 0.008534189783841805, 0.01077767607518702, 0.009030255656603125, 0.009274049051379645, 0.008751740225844544, 0.010779228678905284, 0.010121445477193361, 0.015281272785122004, 0.010291728762852975, 0.010129284916667978, 0.00994406005629069, 0.01037986736703507, 0.01062024395314741, 0.010256249381236303, 0.009607999800984236, 0.010747705386635763, 0.010914698048234882, 0.00987869004687521, 0.010842174971132542, 0.008979797631711382, 0.010371670163526971, 0.010778626010945789, 0.011631021597946718, 0.011878761734111534, 0.010722711301442783, 0.010027386615984053, 0.009771207380394428, 0.00975533507305402, 0.010891235826927156, 0.011219598431102406, 0.011403754508128035, 0.009615310237878096, 0.011021524017783887, 0.010429447068380301, 0.010292602743228355, 0.00888877673017229, 0.011034020524609564, 0.01079530566052366, 0.00997022753727349, 0.010972380565141765, 0.009336643980180878, 0.010337440700565038, 0.009706735117659402, 0.010982283934915658, 0.0102890719757592, 0.009243008277263941, 0.009248278683799805, 0.008627711051446593, 0.011039687273923501, 0.011467538580412951, 0.01122120710985719, 0.010797351098362332, 0.01184941343603473]</td>\n",
       "    </tr>\n",
       "  </tbody>\n",
       "</table>\n",
       "</div>"
      ],
      "text/plain": [
       "                    title  \\\n",
       "0  Malbuch für 365 Tage     \n",
       "1  Ansteckende Gesundheit   \n",
       "\n",
       "                                                                                                                                                                                                                                                                                                                                                                                                                                                                                              description  \\\n",
       "0  Ausmalen bringt Freude und entspannt. Dieses meditative Ausmalbuch begleitet Sie mit seinen vielfältigen und wunderschönen Motiven sogar durch das ganze Jahr. Jedem Motiv ist eine inspirierende Affirmation zugeordnet, nach der Sie Ihren Alltag gestalten können. Zudem reduziert tägliches Ausmalen den Stress, erhöht Ihr Wohlbefinden, fördert die Kreativität, verbessert Ihre Konzentration und ist Balsam für die Seelen.                                                                      \n",
       "1  Die Beliebtheit der Geistheilung als Alternative zur Schulmedizin wächst ständig. Aber warum ist Geistheilung so erfolgreich? Einer der renommiertesten Heiler Europas gibt unmittelbare Einblicke in seine Tätigkeit. Seriös, kompetent und verständlich beantwortet Horst Krohne die grundlegenden Fragen, stellt Diagnose- und Behandlungsmöglichkeiten vor und zeigt Chancen und Grenzen auf. Für alle, die sich umfassend über Geistheilung informieren oder sich selbst behandeln lassen wollen.   \n",
       "\n",
       "         author published_date           isbn         authors  \\\n",
       "0  NaN           2016-10-03     9783809436690  [nan]            \n",
       "1  Horst Krohne  2014-11-10     9783453702653  [Horst Krohne]   \n",
       "\n",
       "  published_date_parsed  year ISBN_GRP ISBN_PUBLISHER  class_count  \\\n",
       "0 2013-12-02             2013  80       9436           1             \n",
       "1 2016-06-20             2016  45       3702           1             \n",
       "\n",
       "                                                                                                                                                                                                                                                                                                                                                                                                                                                                                                                                                                                                                                                                                                                                                                                                                                                                                                                                                                                                                                                                                                                                                                                                                                                                                                                                                                                                                                                                                                                                                                                                                                                                                                                                                                                                                                                                                                                                                                                                                                                                                                                                                  class_probs  \n",
       "0  [0.010351228047532645, 0.011135365746542883, 0.009509887862025055, 0.008093318276156244, 0.01040599794288465, 0.013370483928009791, 0.011511408168829056, 0.01008660113344966, 0.010075960455905718, 0.00921133414144666, 0.008865237966714585, 0.009123106145043228, 0.012056485786354411, 0.011497965662510148, 0.011485767444641764, 0.011552332949821243, 0.011201931001414974, 0.014749185316227301, 0.010494412345653565, 0.008940632681269453, 0.011038442299557024, 0.010839367951299236, 0.009573178574743236, 0.008756315085080107, 0.021586629683406286, 0.011809981341596165, 0.011173526139023487, 0.008763046249433344, 0.01138786344292559, 0.010807794895255914, 0.011206271177833547, 0.010981835610890934, 0.011888313076695379, 0.01072993016014388, 0.009486897934462378, 0.009972808817601302, 0.010065464453754688, 0.010447490576281257, 0.011757114989066321, 0.00823220566450409, 0.008989945385705795, 0.009623578515982546, 0.013613032537542053, 0.011369390451242512, 0.008054212132263098, 0.008355684117332425, 0.011613924340101818, 0.011380215320855425, 0.009633490580328278, 0.01681466348073924, 0.01059688711523932, 0.007864830220485106, 0.00826685496427351, 0.009159301481942703, 0.010712847733761775, 0.010258747075119522, 0.009365620458191221, 0.01086356807536109, 0.011281906359777367, 0.011324246201963697, 0.011478462313636015, 0.010316736636312577, 0.011069273162702713, 0.010652808989285419, 0.011032044205501322, 0.009932706596601367, 0.007589663073810685, 0.009132486908896354, 0.011455245388377128, 0.008648487974661848, 0.010668727826676237, 0.0112106118020608, 0.010552562187783695, 0.010905339675105302, 0.011038789140857921, 0.010694092862436935, 0.009972696421079895, 0.010851382552397511, 0.010974501943027123, 0.011039059617478008, 0.010784961910513185, 0.01113966882496096, 0.011299725659102242, 0.008847835797364501, 0.009195988267871932, 0.011400333850292503, 0.008928444167224872, 0.010968018921302228, 0.007529533353973556, 0.009410897633053302, 0.01159378926529046, 0.00981828205398664, 0.010478951411647237, 0.007979594915378172, 0.00804222701515371]  \n",
       "1  [0.01055331562122876, 0.009945889619702641, 0.010920507848812471, 0.01031765784064765, 0.010736079485810525, 0.01049732287371996, 0.011008382370012861, 0.010062792814495677, 0.010167690268547486, 0.010580771124963482, 0.010055156773428513, 0.010162235811694308, 0.009208622639599186, 0.011339259856972506, 0.022682244315387567, 0.011093460075418712, 0.010241603828728204, 0.010321451843850755, 0.010349311959735328, 0.00912543655681352, 0.010618090045526394, 0.01030546805856155, 0.010553054796897067, 0.009031009505301286, 0.012002467638120571, 0.01148766900337289, 0.009500378267950766, 0.009696969560404034, 0.010500211377618631, 0.010661730672812293, 0.009092618316827483, 0.01104441092699974, 0.012201131741643452, 0.010863888159219591, 0.011064547977923521, 0.009737733441169323, 0.010770606308476855, 0.010456487316210572, 0.009791685443605907, 0.011292304155384618, 0.009791072790943501, 0.00940763795984192, 0.008534189783841805, 0.01077767607518702, 0.009030255656603125, 0.009274049051379645, 0.008751740225844544, 0.010779228678905284, 0.010121445477193361, 0.015281272785122004, 0.010291728762852975, 0.010129284916667978, 0.00994406005629069, 0.01037986736703507, 0.01062024395314741, 0.010256249381236303, 0.009607999800984236, 0.010747705386635763, 0.010914698048234882, 0.00987869004687521, 0.010842174971132542, 0.008979797631711382, 0.010371670163526971, 0.010778626010945789, 0.011631021597946718, 0.011878761734111534, 0.010722711301442783, 0.010027386615984053, 0.009771207380394428, 0.00975533507305402, 0.010891235826927156, 0.011219598431102406, 0.011403754508128035, 0.009615310237878096, 0.011021524017783887, 0.010429447068380301, 0.010292602743228355, 0.00888877673017229, 0.011034020524609564, 0.01079530566052366, 0.00997022753727349, 0.010972380565141765, 0.009336643980180878, 0.010337440700565038, 0.009706735117659402, 0.010982283934915658, 0.0102890719757592, 0.009243008277263941, 0.009248278683799805, 0.008627711051446593, 0.011039687273923501, 0.011467538580412951, 0.01122120710985719, 0.010797351098362332, 0.01184941343603473]       "
      ]
     },
     "execution_count": 153,
     "metadata": {},
     "output_type": "execute_result"
    }
   ],
   "source": [
    "test_book_df.head(2)"
   ]
  },
  {
   "cell_type": "code",
   "execution_count": 154,
   "metadata": {},
   "outputs": [
    {
     "data": {
      "text/plain": [
       "['__class__',\n",
       " '__delattr__',\n",
       " '__dict__',\n",
       " '__dir__',\n",
       " '__doc__',\n",
       " '__eq__',\n",
       " '__format__',\n",
       " '__ge__',\n",
       " '__getattribute__',\n",
       " '__getstate__',\n",
       " '__gt__',\n",
       " '__hash__',\n",
       " '__init__',\n",
       " '__init_subclass__',\n",
       " '__le__',\n",
       " '__lt__',\n",
       " '__module__',\n",
       " '__ne__',\n",
       " '__new__',\n",
       " '__reduce__',\n",
       " '__reduce_ex__',\n",
       " '__repr__',\n",
       " '__setattr__',\n",
       " '__setstate__',\n",
       " '__sizeof__',\n",
       " '__str__',\n",
       " '__subclasshook__',\n",
       " '__weakref__',\n",
       " '_get_param_names',\n",
       " '_get_tags',\n",
       " '_more_tags',\n",
       " 'classes_',\n",
       " 'fit',\n",
       " 'fit_transform',\n",
       " 'get_params',\n",
       " 'inverse_transform',\n",
       " 'set_params',\n",
       " 'transform']"
      ]
     },
     "execution_count": 154,
     "metadata": {},
     "output_type": "execute_result"
    }
   ],
   "source": [
    "dir(le)"
   ]
  },
  {
   "cell_type": "code",
   "execution_count": 155,
   "metadata": {},
   "outputs": [],
   "source": [
    "le_mapping= dict(zip(le.classes_,le.transform(le.classes_)))\n",
    "le_mapping_inv = {v: k for k, v in le_mapping.items()}\n",
    "\n",
    "def reverseMap(number):\n",
    "    return le_mapping_inv[number]\n"
   ]
  },
  {
   "cell_type": "code",
   "execution_count": 156,
   "metadata": {},
   "outputs": [],
   "source": [
    "test_book_df[\"class_predictions_e\"] = test_book_df.apply(lambda x:getClasses(x[\"class_probs\"],x[\"class_count\"]),axis=1)\n"
   ]
  },
  {
   "cell_type": "code",
   "execution_count": 157,
   "metadata": {},
   "outputs": [],
   "source": [
    "test_book_df[\"class_predictions\"] = test_book_df[\"class_predictions_e\"].apply(lambda x: [reverseMap(i) for i in x])"
   ]
  },
  {
   "cell_type": "code",
   "execution_count": 158,
   "metadata": {},
   "outputs": [
    {
     "data": {
      "text/html": [
       "<div>\n",
       "<style scoped>\n",
       "    .dataframe tbody tr th:only-of-type {\n",
       "        vertical-align: middle;\n",
       "    }\n",
       "\n",
       "    .dataframe tbody tr th {\n",
       "        vertical-align: top;\n",
       "    }\n",
       "\n",
       "    .dataframe thead th {\n",
       "        text-align: right;\n",
       "    }\n",
       "</style>\n",
       "<table border=\"1\" class=\"dataframe\">\n",
       "  <thead>\n",
       "    <tr style=\"text-align: right;\">\n",
       "      <th></th>\n",
       "      <th>title</th>\n",
       "      <th>description</th>\n",
       "      <th>author</th>\n",
       "      <th>published_date</th>\n",
       "      <th>isbn</th>\n",
       "      <th>authors</th>\n",
       "      <th>published_date_parsed</th>\n",
       "      <th>year</th>\n",
       "      <th>ISBN_GRP</th>\n",
       "      <th>ISBN_PUBLISHER</th>\n",
       "      <th>class_count</th>\n",
       "      <th>class_probs</th>\n",
       "      <th>class_predictions_e</th>\n",
       "      <th>class_predictions</th>\n",
       "    </tr>\n",
       "  </thead>\n",
       "  <tbody>\n",
       "    <tr>\n",
       "      <th>0</th>\n",
       "      <td>Malbuch für 365 Tage</td>\n",
       "      <td>Ausmalen bringt Freude und entspannt. Dieses meditative Ausmalbuch begleitet Sie mit seinen vielfältigen und wunderschönen Motiven sogar durch das ganze Jahr. Jedem Motiv ist eine inspirierende Affirmation zugeordnet, nach der Sie Ihren Alltag gestalten können. Zudem reduziert tägliches Ausmalen den Stress, erhöht Ihr Wohlbefinden, fördert die Kreativität, verbessert Ihre Konzentration und ist Balsam für die Seelen.</td>\n",
       "      <td>NaN</td>\n",
       "      <td>2016-10-03</td>\n",
       "      <td>9783809436690</td>\n",
       "      <td>[nan]</td>\n",
       "      <td>2013-12-02</td>\n",
       "      <td>2013</td>\n",
       "      <td>80</td>\n",
       "      <td>9436</td>\n",
       "      <td>1</td>\n",
       "      <td>[0.010351228047532645, 0.011135365746542883, 0.009509887862025055, 0.008093318276156244, 0.01040599794288465, 0.013370483928009791, 0.011511408168829056, 0.01008660113344966, 0.010075960455905718, 0.00921133414144666, 0.008865237966714585, 0.009123106145043228, 0.012056485786354411, 0.011497965662510148, 0.011485767444641764, 0.011552332949821243, 0.011201931001414974, 0.014749185316227301, 0.010494412345653565, 0.008940632681269453, 0.011038442299557024, 0.010839367951299236, 0.009573178574743236, 0.008756315085080107, 0.021586629683406286, 0.011809981341596165, 0.011173526139023487, 0.008763046249433344, 0.01138786344292559, 0.010807794895255914, 0.011206271177833547, 0.010981835610890934, 0.011888313076695379, 0.01072993016014388, 0.009486897934462378, 0.009972808817601302, 0.010065464453754688, 0.010447490576281257, 0.011757114989066321, 0.00823220566450409, 0.008989945385705795, 0.009623578515982546, 0.013613032537542053, 0.011369390451242512, 0.008054212132263098, 0.008355684117332425, 0.011613924340101818, 0.011380215320855425, 0.009633490580328278, 0.01681466348073924, 0.01059688711523932, 0.007864830220485106, 0.00826685496427351, 0.009159301481942703, 0.010712847733761775, 0.010258747075119522, 0.009365620458191221, 0.01086356807536109, 0.011281906359777367, 0.011324246201963697, 0.011478462313636015, 0.010316736636312577, 0.011069273162702713, 0.010652808989285419, 0.011032044205501322, 0.009932706596601367, 0.007589663073810685, 0.009132486908896354, 0.011455245388377128, 0.008648487974661848, 0.010668727826676237, 0.0112106118020608, 0.010552562187783695, 0.010905339675105302, 0.011038789140857921, 0.010694092862436935, 0.009972696421079895, 0.010851382552397511, 0.010974501943027123, 0.011039059617478008, 0.010784961910513185, 0.01113966882496096, 0.011299725659102242, 0.008847835797364501, 0.009195988267871932, 0.011400333850292503, 0.008928444167224872, 0.010968018921302228, 0.007529533353973556, 0.009410897633053302, 0.01159378926529046, 0.00981828205398664, 0.010478951411647237, 0.007979594915378172, 0.00804222701515371]</td>\n",
       "      <td>[24]</td>\n",
       "      <td>[Freizeit &amp; Hobby]</td>\n",
       "    </tr>\n",
       "    <tr>\n",
       "      <th>1</th>\n",
       "      <td>Ansteckende Gesundheit</td>\n",
       "      <td>Die Beliebtheit der Geistheilung als Alternative zur Schulmedizin wächst ständig. Aber warum ist Geistheilung so erfolgreich? Einer der renommiertesten Heiler Europas gibt unmittelbare Einblicke in seine Tätigkeit. Seriös, kompetent und verständlich beantwortet Horst Krohne die grundlegenden Fragen, stellt Diagnose- und Behandlungsmöglichkeiten vor und zeigt Chancen und Grenzen auf. Für alle, die sich umfassend über Geistheilung informieren oder sich selbst behandeln lassen wollen.</td>\n",
       "      <td>Horst Krohne</td>\n",
       "      <td>2014-11-10</td>\n",
       "      <td>9783453702653</td>\n",
       "      <td>[Horst Krohne]</td>\n",
       "      <td>2016-06-20</td>\n",
       "      <td>2016</td>\n",
       "      <td>45</td>\n",
       "      <td>3702</td>\n",
       "      <td>1</td>\n",
       "      <td>[0.01055331562122876, 0.009945889619702641, 0.010920507848812471, 0.01031765784064765, 0.010736079485810525, 0.01049732287371996, 0.011008382370012861, 0.010062792814495677, 0.010167690268547486, 0.010580771124963482, 0.010055156773428513, 0.010162235811694308, 0.009208622639599186, 0.011339259856972506, 0.022682244315387567, 0.011093460075418712, 0.010241603828728204, 0.010321451843850755, 0.010349311959735328, 0.00912543655681352, 0.010618090045526394, 0.01030546805856155, 0.010553054796897067, 0.009031009505301286, 0.012002467638120571, 0.01148766900337289, 0.009500378267950766, 0.009696969560404034, 0.010500211377618631, 0.010661730672812293, 0.009092618316827483, 0.01104441092699974, 0.012201131741643452, 0.010863888159219591, 0.011064547977923521, 0.009737733441169323, 0.010770606308476855, 0.010456487316210572, 0.009791685443605907, 0.011292304155384618, 0.009791072790943501, 0.00940763795984192, 0.008534189783841805, 0.01077767607518702, 0.009030255656603125, 0.009274049051379645, 0.008751740225844544, 0.010779228678905284, 0.010121445477193361, 0.015281272785122004, 0.010291728762852975, 0.010129284916667978, 0.00994406005629069, 0.01037986736703507, 0.01062024395314741, 0.010256249381236303, 0.009607999800984236, 0.010747705386635763, 0.010914698048234882, 0.00987869004687521, 0.010842174971132542, 0.008979797631711382, 0.010371670163526971, 0.010778626010945789, 0.011631021597946718, 0.011878761734111534, 0.010722711301442783, 0.010027386615984053, 0.009771207380394428, 0.00975533507305402, 0.010891235826927156, 0.011219598431102406, 0.011403754508128035, 0.009615310237878096, 0.011021524017783887, 0.010429447068380301, 0.010292602743228355, 0.00888877673017229, 0.011034020524609564, 0.01079530566052366, 0.00997022753727349, 0.010972380565141765, 0.009336643980180878, 0.010337440700565038, 0.009706735117659402, 0.010982283934915658, 0.0102890719757592, 0.009243008277263941, 0.009248278683799805, 0.008627711051446593, 0.011039687273923501, 0.011467538580412951, 0.01122120710985719, 0.010797351098362332, 0.01184941343603473]</td>\n",
       "      <td>[14]</td>\n",
       "      <td>[Energieheilung]</td>\n",
       "    </tr>\n",
       "    <tr>\n",
       "      <th>2</th>\n",
       "      <td>Karibu heißt willkommen</td>\n",
       "      <td>Die englische Farmerstochter Stella und das Kikuyu-Mädchen Lilly wachsen auf einer Farm im Hochland Kenias wie Schwestern auf. Als der Kampf um Kenias Unabhängigkeit auch die Farm Karibu erreicht, muss Stella nach London gehen. Sie beginnt ein neues Leben – bis zu dem Augenblick, als die unstillbare Sehnsucht nach Afrika sie wieder einholt.</td>\n",
       "      <td>Stefanie Zweig</td>\n",
       "      <td>2010-04-06</td>\n",
       "      <td>9783453407343</td>\n",
       "      <td>[Stefanie Zweig]</td>\n",
       "      <td>2019-01-14</td>\n",
       "      <td>2019</td>\n",
       "      <td>45</td>\n",
       "      <td>3407</td>\n",
       "      <td>1</td>\n",
       "      <td>[0.009593472699171185, 0.011112551526932605, 0.00900909969302195, 0.010360292049642054, 0.009762013496032004, 0.010344520957990405, 0.011072678239339934, 0.01078397430220156, 0.00974696744004416, 0.010373124116101518, 0.010342426743970193, 0.00968620543033089, 0.008918376883556758, 0.009872770976517979, 0.006998301119826612, 0.009486199156122093, 0.011041606845580004, 0.009329920153687287, 0.01164707714241487, 0.009408723241997511, 0.010206373801903085, 0.010712068516097085, 0.010402702740797772, 0.02134914442006376, 0.010220068168759103, 0.01128430478524733, 0.010725531555007162, 0.01009545060250372, 0.011211989721206633, 0.011156673754882126, 0.0086110985235319, 0.010236365978499397, 0.011031485730558578, 0.010720070560894144, 0.010972923216391633, 0.010762918494879791, 0.01767086039706409, 0.011060258542795468, 0.010507422537403603, 0.011100705076290391, 0.008997438507881017, 0.006815441875723718, 0.009565286765411381, 0.008521846286628, 0.013170139447916049, 0.009383097963631242, 0.009455995881883218, 0.010227284593378873, 0.010667391101980596, 0.011068026512636116, 0.010426236055656237, 0.011791605653343343, 0.010894891488990265, 0.010427827212262226, 0.010764504431918469, 0.009929586891585409, 0.010931993987616946, 0.010909124170461379, 0.011041441322336162, 0.011286307509929015, 0.011043894940727612, 0.01244557804233217, 0.00899925556096515, 0.011095082660468698, 0.011375832341586341, 0.010464391114654789, 0.008150622043793632, 0.01024165931320121, 0.010358008434468857, 0.009270504575745714, 0.011150729090937611, 0.011158541191912572, 0.010641221887404016, 0.010654659996701258, 0.010994305779546097, 0.011518576864132166, 0.012482152641333477, 0.0066771384811308305, 0.010901388477887526, 0.011358198234660399, 0.01021557150164183, 0.010707465113297532, 0.01040194336327725, 0.010837297523484533, 0.008313877173813822, 0.011006167884644862, 0.010642828644894955, 0.010243484802544103, 0.010821996921849332, 0.009006156359717118, 0.010090248750025104, 0.010261176330989216, 0.009796076383127513, 0.01073863373685808, 0.010731146835816649]</td>\n",
       "      <td>[23]</td>\n",
       "      <td>[Frauenunterhaltung]</td>\n",
       "    </tr>\n",
       "  </tbody>\n",
       "</table>\n",
       "</div>"
      ],
      "text/plain": [
       "                     title  \\\n",
       "0  Malbuch für 365 Tage      \n",
       "1  Ansteckende Gesundheit    \n",
       "2  Karibu heißt willkommen   \n",
       "\n",
       "                                                                                                                                                                                                                                                                                                                                                                                                                                                                                              description  \\\n",
       "0  Ausmalen bringt Freude und entspannt. Dieses meditative Ausmalbuch begleitet Sie mit seinen vielfältigen und wunderschönen Motiven sogar durch das ganze Jahr. Jedem Motiv ist eine inspirierende Affirmation zugeordnet, nach der Sie Ihren Alltag gestalten können. Zudem reduziert tägliches Ausmalen den Stress, erhöht Ihr Wohlbefinden, fördert die Kreativität, verbessert Ihre Konzentration und ist Balsam für die Seelen.                                                                      \n",
       "1  Die Beliebtheit der Geistheilung als Alternative zur Schulmedizin wächst ständig. Aber warum ist Geistheilung so erfolgreich? Einer der renommiertesten Heiler Europas gibt unmittelbare Einblicke in seine Tätigkeit. Seriös, kompetent und verständlich beantwortet Horst Krohne die grundlegenden Fragen, stellt Diagnose- und Behandlungsmöglichkeiten vor und zeigt Chancen und Grenzen auf. Für alle, die sich umfassend über Geistheilung informieren oder sich selbst behandeln lassen wollen.   \n",
       "2  Die englische Farmerstochter Stella und das Kikuyu-Mädchen Lilly wachsen auf einer Farm im Hochland Kenias wie Schwestern auf. Als der Kampf um Kenias Unabhängigkeit auch die Farm Karibu erreicht, muss Stella nach London gehen. Sie beginnt ein neues Leben – bis zu dem Augenblick, als die unstillbare Sehnsucht nach Afrika sie wieder einholt.                                                                                                                                                   \n",
       "\n",
       "           author published_date           isbn           authors  \\\n",
       "0  NaN             2016-10-03     9783809436690  [nan]              \n",
       "1  Horst Krohne    2014-11-10     9783453702653  [Horst Krohne]     \n",
       "2  Stefanie Zweig  2010-04-06     9783453407343  [Stefanie Zweig]   \n",
       "\n",
       "  published_date_parsed  year ISBN_GRP ISBN_PUBLISHER  class_count  \\\n",
       "0 2013-12-02             2013  80       9436           1             \n",
       "1 2016-06-20             2016  45       3702           1             \n",
       "2 2019-01-14             2019  45       3407           1             \n",
       "\n",
       "                                                                                                                                                                                                                                                                                                                                                                                                                                                                                                                                                                                                                                                                                                                                                                                                                                                                                                                                                                                                                                                                                                                                                                                                                                                                                                                                                                                                                                                                                                                                                                                                                                                                                                                                                                                                                                                                                                                                                                                                                                                                                                                                                  class_probs  \\\n",
       "0  [0.010351228047532645, 0.011135365746542883, 0.009509887862025055, 0.008093318276156244, 0.01040599794288465, 0.013370483928009791, 0.011511408168829056, 0.01008660113344966, 0.010075960455905718, 0.00921133414144666, 0.008865237966714585, 0.009123106145043228, 0.012056485786354411, 0.011497965662510148, 0.011485767444641764, 0.011552332949821243, 0.011201931001414974, 0.014749185316227301, 0.010494412345653565, 0.008940632681269453, 0.011038442299557024, 0.010839367951299236, 0.009573178574743236, 0.008756315085080107, 0.021586629683406286, 0.011809981341596165, 0.011173526139023487, 0.008763046249433344, 0.01138786344292559, 0.010807794895255914, 0.011206271177833547, 0.010981835610890934, 0.011888313076695379, 0.01072993016014388, 0.009486897934462378, 0.009972808817601302, 0.010065464453754688, 0.010447490576281257, 0.011757114989066321, 0.00823220566450409, 0.008989945385705795, 0.009623578515982546, 0.013613032537542053, 0.011369390451242512, 0.008054212132263098, 0.008355684117332425, 0.011613924340101818, 0.011380215320855425, 0.009633490580328278, 0.01681466348073924, 0.01059688711523932, 0.007864830220485106, 0.00826685496427351, 0.009159301481942703, 0.010712847733761775, 0.010258747075119522, 0.009365620458191221, 0.01086356807536109, 0.011281906359777367, 0.011324246201963697, 0.011478462313636015, 0.010316736636312577, 0.011069273162702713, 0.010652808989285419, 0.011032044205501322, 0.009932706596601367, 0.007589663073810685, 0.009132486908896354, 0.011455245388377128, 0.008648487974661848, 0.010668727826676237, 0.0112106118020608, 0.010552562187783695, 0.010905339675105302, 0.011038789140857921, 0.010694092862436935, 0.009972696421079895, 0.010851382552397511, 0.010974501943027123, 0.011039059617478008, 0.010784961910513185, 0.01113966882496096, 0.011299725659102242, 0.008847835797364501, 0.009195988267871932, 0.011400333850292503, 0.008928444167224872, 0.010968018921302228, 0.007529533353973556, 0.009410897633053302, 0.01159378926529046, 0.00981828205398664, 0.010478951411647237, 0.007979594915378172, 0.00804222701515371]   \n",
       "1  [0.01055331562122876, 0.009945889619702641, 0.010920507848812471, 0.01031765784064765, 0.010736079485810525, 0.01049732287371996, 0.011008382370012861, 0.010062792814495677, 0.010167690268547486, 0.010580771124963482, 0.010055156773428513, 0.010162235811694308, 0.009208622639599186, 0.011339259856972506, 0.022682244315387567, 0.011093460075418712, 0.010241603828728204, 0.010321451843850755, 0.010349311959735328, 0.00912543655681352, 0.010618090045526394, 0.01030546805856155, 0.010553054796897067, 0.009031009505301286, 0.012002467638120571, 0.01148766900337289, 0.009500378267950766, 0.009696969560404034, 0.010500211377618631, 0.010661730672812293, 0.009092618316827483, 0.01104441092699974, 0.012201131741643452, 0.010863888159219591, 0.011064547977923521, 0.009737733441169323, 0.010770606308476855, 0.010456487316210572, 0.009791685443605907, 0.011292304155384618, 0.009791072790943501, 0.00940763795984192, 0.008534189783841805, 0.01077767607518702, 0.009030255656603125, 0.009274049051379645, 0.008751740225844544, 0.010779228678905284, 0.010121445477193361, 0.015281272785122004, 0.010291728762852975, 0.010129284916667978, 0.00994406005629069, 0.01037986736703507, 0.01062024395314741, 0.010256249381236303, 0.009607999800984236, 0.010747705386635763, 0.010914698048234882, 0.00987869004687521, 0.010842174971132542, 0.008979797631711382, 0.010371670163526971, 0.010778626010945789, 0.011631021597946718, 0.011878761734111534, 0.010722711301442783, 0.010027386615984053, 0.009771207380394428, 0.00975533507305402, 0.010891235826927156, 0.011219598431102406, 0.011403754508128035, 0.009615310237878096, 0.011021524017783887, 0.010429447068380301, 0.010292602743228355, 0.00888877673017229, 0.011034020524609564, 0.01079530566052366, 0.00997022753727349, 0.010972380565141765, 0.009336643980180878, 0.010337440700565038, 0.009706735117659402, 0.010982283934915658, 0.0102890719757592, 0.009243008277263941, 0.009248278683799805, 0.008627711051446593, 0.011039687273923501, 0.011467538580412951, 0.01122120710985719, 0.010797351098362332, 0.01184941343603473]        \n",
       "2  [0.009593472699171185, 0.011112551526932605, 0.00900909969302195, 0.010360292049642054, 0.009762013496032004, 0.010344520957990405, 0.011072678239339934, 0.01078397430220156, 0.00974696744004416, 0.010373124116101518, 0.010342426743970193, 0.00968620543033089, 0.008918376883556758, 0.009872770976517979, 0.006998301119826612, 0.009486199156122093, 0.011041606845580004, 0.009329920153687287, 0.01164707714241487, 0.009408723241997511, 0.010206373801903085, 0.010712068516097085, 0.010402702740797772, 0.02134914442006376, 0.010220068168759103, 0.01128430478524733, 0.010725531555007162, 0.01009545060250372, 0.011211989721206633, 0.011156673754882126, 0.0086110985235319, 0.010236365978499397, 0.011031485730558578, 0.010720070560894144, 0.010972923216391633, 0.010762918494879791, 0.01767086039706409, 0.011060258542795468, 0.010507422537403603, 0.011100705076290391, 0.008997438507881017, 0.006815441875723718, 0.009565286765411381, 0.008521846286628, 0.013170139447916049, 0.009383097963631242, 0.009455995881883218, 0.010227284593378873, 0.010667391101980596, 0.011068026512636116, 0.010426236055656237, 0.011791605653343343, 0.010894891488990265, 0.010427827212262226, 0.010764504431918469, 0.009929586891585409, 0.010931993987616946, 0.010909124170461379, 0.011041441322336162, 0.011286307509929015, 0.011043894940727612, 0.01244557804233217, 0.00899925556096515, 0.011095082660468698, 0.011375832341586341, 0.010464391114654789, 0.008150622043793632, 0.01024165931320121, 0.010358008434468857, 0.009270504575745714, 0.011150729090937611, 0.011158541191912572, 0.010641221887404016, 0.010654659996701258, 0.010994305779546097, 0.011518576864132166, 0.012482152641333477, 0.0066771384811308305, 0.010901388477887526, 0.011358198234660399, 0.01021557150164183, 0.010707465113297532, 0.01040194336327725, 0.010837297523484533, 0.008313877173813822, 0.011006167884644862, 0.010642828644894955, 0.010243484802544103, 0.010821996921849332, 0.009006156359717118, 0.010090248750025104, 0.010261176330989216, 0.009796076383127513, 0.01073863373685808, 0.010731146835816649]      \n",
       "\n",
       "  class_predictions_e     class_predictions  \n",
       "0  [24]                [Freizeit & Hobby]    \n",
       "1  [14]                [Energieheilung]      \n",
       "2  [23]                [Frauenunterhaltung]  "
      ]
     },
     "execution_count": 158,
     "metadata": {},
     "output_type": "execute_result"
    }
   ],
   "source": [
    "test_book_df.head(3)"
   ]
  },
  {
   "cell_type": "code",
   "execution_count": 159,
   "metadata": {},
   "outputs": [],
   "source": [
    "def formatOutput(isbn,class_predictions):\n",
    "    classes = [\"\\t\"+str(i) for i in class_predictions]\n",
    "    return str(isbn) + \"\".join(classes) + \"\\n\""
   ]
  },
  {
   "cell_type": "code",
   "execution_count": 160,
   "metadata": {},
   "outputs": [],
   "source": [
    "test_book_df[[\"isbn\",\"class_predictions\"]].to_csv(\"../../data/svm_test_set_submission_sub_task_b.csv\",encoding=\"utf-8\",index=False)"
   ]
  },
  {
   "cell_type": "code",
   "execution_count": 161,
   "metadata": {},
   "outputs": [],
   "source": [
    "test_book_df = pd.read_csv(\"../../data/svm_test_set_submission_sub_task_b.csv\",encoding=\"utf-8\")"
   ]
  },
  {
   "cell_type": "code",
   "execution_count": 162,
   "metadata": {},
   "outputs": [
    {
     "data": {
      "text/html": [
       "<div>\n",
       "<style scoped>\n",
       "    .dataframe tbody tr th:only-of-type {\n",
       "        vertical-align: middle;\n",
       "    }\n",
       "\n",
       "    .dataframe tbody tr th {\n",
       "        vertical-align: top;\n",
       "    }\n",
       "\n",
       "    .dataframe thead th {\n",
       "        text-align: right;\n",
       "    }\n",
       "</style>\n",
       "<table border=\"1\" class=\"dataframe\">\n",
       "  <thead>\n",
       "    <tr style=\"text-align: right;\">\n",
       "      <th></th>\n",
       "      <th>isbn</th>\n",
       "      <th>class_predictions</th>\n",
       "    </tr>\n",
       "  </thead>\n",
       "  <tbody>\n",
       "    <tr>\n",
       "      <th>0</th>\n",
       "      <td>9783809436690</td>\n",
       "      <td>['Freizeit &amp; Hobby']</td>\n",
       "    </tr>\n",
       "    <tr>\n",
       "      <th>1</th>\n",
       "      <td>9783453702653</td>\n",
       "      <td>['Energieheilung']</td>\n",
       "    </tr>\n",
       "    <tr>\n",
       "      <th>2</th>\n",
       "      <td>9783453407343</td>\n",
       "      <td>['Frauenunterhaltung']</td>\n",
       "    </tr>\n",
       "  </tbody>\n",
       "</table>\n",
       "</div>"
      ],
      "text/plain": [
       "            isbn       class_predictions\n",
       "0  9783809436690  ['Freizeit & Hobby']  \n",
       "1  9783453702653  ['Energieheilung']    \n",
       "2  9783453407343  ['Frauenunterhaltung']"
      ]
     },
     "execution_count": 162,
     "metadata": {},
     "output_type": "execute_result"
    }
   ],
   "source": [
    "test_book_df.head(3)"
   ]
  },
  {
   "cell_type": "code",
   "execution_count": 163,
   "metadata": {},
   "outputs": [],
   "source": [
    "test_book_df[\"class_predictions\"] = test_book_df[\"class_predictions\"].apply(lambda x: literal_eval(x))"
   ]
  },
  {
   "cell_type": "code",
   "execution_count": 164,
   "metadata": {},
   "outputs": [
    {
     "data": {
      "text/html": [
       "<div>\n",
       "<style scoped>\n",
       "    .dataframe tbody tr th:only-of-type {\n",
       "        vertical-align: middle;\n",
       "    }\n",
       "\n",
       "    .dataframe tbody tr th {\n",
       "        vertical-align: top;\n",
       "    }\n",
       "\n",
       "    .dataframe thead th {\n",
       "        text-align: right;\n",
       "    }\n",
       "</style>\n",
       "<table border=\"1\" class=\"dataframe\">\n",
       "  <thead>\n",
       "    <tr style=\"text-align: right;\">\n",
       "      <th></th>\n",
       "      <th>isbn</th>\n",
       "      <th>class_predictions</th>\n",
       "    </tr>\n",
       "  </thead>\n",
       "  <tbody>\n",
       "    <tr>\n",
       "      <th>0</th>\n",
       "      <td>9783809436690</td>\n",
       "      <td>[Freizeit &amp; Hobby]</td>\n",
       "    </tr>\n",
       "    <tr>\n",
       "      <th>1</th>\n",
       "      <td>9783453702653</td>\n",
       "      <td>[Energieheilung]</td>\n",
       "    </tr>\n",
       "    <tr>\n",
       "      <th>2</th>\n",
       "      <td>9783453407343</td>\n",
       "      <td>[Frauenunterhaltung]</td>\n",
       "    </tr>\n",
       "  </tbody>\n",
       "</table>\n",
       "</div>"
      ],
      "text/plain": [
       "            isbn     class_predictions\n",
       "0  9783809436690  [Freizeit & Hobby]  \n",
       "1  9783453702653  [Energieheilung]    \n",
       "2  9783453407343  [Frauenunterhaltung]"
      ]
     },
     "execution_count": 164,
     "metadata": {},
     "output_type": "execute_result"
    }
   ],
   "source": [
    "test_book_df.head(3)"
   ]
  },
  {
   "cell_type": "code",
   "execution_count": 165,
   "metadata": {
    "scrolled": true
   },
   "outputs": [],
   "source": [
    "submissions = test_book_df.apply(lambda x:formatOutput(x[\"isbn\"],x[\"class_predictions\"]),axis=1).values"
   ]
  },
  {
   "cell_type": "code",
   "execution_count": 166,
   "metadata": {},
   "outputs": [
    {
     "data": {
      "text/plain": [
       "array(['9783809436690\\tFreizeit & Hobby\\n',\n",
       "       '9783453702653\\tEnergieheilung\\n',\n",
       "       '9783453407343\\tFrauenunterhaltung\\n', ...,\n",
       "       '9783442715206\\tRomane & Erzählungen\\n',\n",
       "       '9783809027003\\tKrimi & Thriller\\n',\n",
       "       '9783641074029\\tBiographien & Autobiographien\\n'], dtype=object)"
      ]
     },
     "execution_count": 166,
     "metadata": {},
     "output_type": "execute_result"
    }
   ],
   "source": [
    "submissions"
   ]
  },
  {
   "cell_type": "code",
   "execution_count": 167,
   "metadata": {},
   "outputs": [
    {
     "data": {
      "text/plain": [
       "4157"
      ]
     },
     "execution_count": 167,
     "metadata": {},
     "output_type": "execute_result"
    }
   ],
   "source": [
    "len(submissions)"
   ]
  },
  {
   "cell_type": "code",
   "execution_count": 168,
   "metadata": {},
   "outputs": [],
   "source": [
    "submissions = np.insert(submissions,0,\"subtask_b\\n\")"
   ]
  },
  {
   "cell_type": "code",
   "execution_count": 169,
   "metadata": {},
   "outputs": [
    {
     "data": {
      "text/plain": [
       "array(['subtask_b\\n', '9783809436690\\tFreizeit & Hobby\\n',\n",
       "       '9783453702653\\tEnergieheilung\\n', ...,\n",
       "       '9783442715206\\tRomane & Erzählungen\\n',\n",
       "       '9783809027003\\tKrimi & Thriller\\n',\n",
       "       '9783641074029\\tBiographien & Autobiographien\\n'], dtype=object)"
      ]
     },
     "execution_count": 169,
     "metadata": {},
     "output_type": "execute_result"
    }
   ],
   "source": [
    "submissions"
   ]
  },
  {
   "cell_type": "code",
   "execution_count": 170,
   "metadata": {},
   "outputs": [],
   "source": [
    "submission_format = \"\".join(submissions)"
   ]
  },
  {
   "cell_type": "code",
   "execution_count": 171,
   "metadata": {},
   "outputs": [
    {
     "data": {
      "text/plain": [
       "'subtask_b\\n9783809436690\\tFreizeit & Hobby\\n9783453702653\\tEnergieheilung\\n9783453407343\\tFrauenunterhaltung\\n9783442742394\\tRomane & Erzählungen\\n9783734104275\\tFrauenunterhaltung\\n9783641143633\\tKrimi & Thriller\\n9783641035471\\tHistorische Romane\\n9783442268474\\tFantasy\\n9783424631388\\tGesundheit & Ernährung\\n9783734104718\\tKrimi & Thriller\\n9783844509571\\tKrimi & Thriller\\n9783442393329\\tLebenshilfe & Psychologie\\n9783466372096\\tSpiritualität & Religion\\n9783894809690\\tErotik\\n9783641092337\\tKrimi & Thriller\\tEchtes Leben, Realistischer Roman\\n9783442267811\\tFantasy\\n9783641058142\\tPolitik & Gesellschaft\\n9783837109290\\tKrimi & Thriller\\n9783641079321\\tFantasy\\n9783442382200\\tFrauenunterhaltung\\n9783734101878\\tKrimi & Thriller\\n9783641121846\\tEchtes Leben, Realistischer Roman\\n9783570222393\\tFantasy und Science Fiction\\tAbenteuer\\tEchtes Leben, Realistischer Roman\\n9783641011857\\tBiographien & Autobiographien\\n9783442714544\\tKrimi & Thriller\\n9783453524224\\tFantasy\\n9783453085206\\tGanzheitliche Psychologie\\n9783717516248\\tRomane & Erzählungen\\tKlassiker & Lyrik\\n9783844501681\\tRomane & Erzählungen\\n9783421039309\\tGarten & Landschaftsarchitektur\\n9783466367474\\tGemeindearbeit\\n9783641143817\\tFantasy\\n9783837177886\\tRomane & Erzählungen\\n9783453437135\\tKrimi & Thriller\\n9783453601369\\tWissen & Nachschlagewerke\\tInfotainment & erzählendes Sachbuch\\n9783453422957\\tFrauenunterhaltung\\n9783517093178\\tGesundheit & Ernährung\\n9783641062491\\tFrauenunterhaltung\\n9783570311615\\tEchtes Leben, Realistischer Roman\\n9783570551851\\tPolitik & Gesellschaft\\n9783453319301\\tRomantasy\\tFantasy\\n9783641027308\\tHistorische Romane\\n9783844517613\\tKinderbuch & Jugendbuch\\tEchtes Leben, Realistischer Roman\\tKrimi & Thriller\\n9783442713301\\tRomane & Erzählungen\\tKrimi & Thriller\\n9783442154982\\tRomane & Erzählungen\\n9783328600022\\tRomane & Erzählungen\\n9783442481132\\tFrauenunterhaltung\\n9783837125429\\tRomane & Erzählungen\\n9783844522556\\tRomane & Erzählungen\\n9783641121211\\tFrauenunterhaltung\\n9783641124069\\tRomane & Erzählungen\\tBiographien & Autobiographien\\n9783734103247\\tFrauenunterhaltung\\n9783442378517\\tScience Fiction\\n9783424631586\\tPsychologie\\n9783641093280\\tKrimi & Thriller\\n9783641062224\\tKrimi & Thriller\\tFrauenunterhaltung\\n9783641033934\\tFrauenunterhaltung\\n9783844520866\\tKinderbuch & Jugendbuch\\n9783641154790\\tKrimi & Thriller\\n9783579081779\\tTheologie\\n9783570222768\\tEchtes Leben, Realistischer Roman\\tAbenteuer\\tLiebe, Beziehung und Freundschaft\\n9783641126711\\tScience Fiction\\n9783641077976\\tScience Fiction\\n9783791354279\\tKunst\\n9783570173305\\tKrimis und Thriller\\n9783570310854\\tLiebe, Beziehung und Freundschaft\\n9783442483914\\tFantasy\\n9783844505863\\tKrimi & Thriller\\n9783453527508\\tMystery\\tKrimi & Thriller\\n9783453437814\\tKrimi & Thriller\\n9783579059976\\tGemeindearbeit\\n9783641018139\\tPolitik & Gesellschaft\\n9783641109448\\tFantasy\\tEchtes Leben, Realistischer Roman\\tFantasy und Science Fiction\\n9783453438828\\tKrimi & Thriller\\n9783442477555\\tRomantasy\\n9783809433569\\tEltern & Familie\\tKinderbuch & Jugendbuch\\tKabarett & Satire\\n9783442221783\\tEssen & Trinken\\tGesundheit & Ernährung\\n9783466305179\\tLebenshilfe & Psychologie\\n9783570125489\\tAbenteuer\\tEchtes Leben, Realistischer Roman\\tLiebe, Beziehung und Freundschaft\\n9783570175712\\tKinderbuch & Jugendbuch\\n9783442748822\\tRomane & Erzählungen\\n9783570171769\\tFantasy und Science Fiction\\tEchtes Leben, Realistischer Roman\\n9783641096069\\tEchtes Leben, Realistischer Roman\\n9783442217434\\tGanzheitliche Psychologie\\n9783837124347\\tMärchen, Sagen\\n9783641117597\\tScience Fiction\\n9783442384167\\tKrimi & Thriller\\n9783442487219\\tFrauenunterhaltung\\n9783641173098\\tScience Fiction\\n9783442218585\\tLebenshilfe & Psychologie\\n9783734103308\\tKrimi & Thriller\\n9783844516029\\tRomane & Erzählungen\\n9783570226346\\tAbenteuer\\tNatur, Tiere, Umwelt, Mensch\\n9783641570682\\tEssen & Trinken\\n9783734160912\\tFantasy\\n9783809430025\\tFitness & Sport\\n9783453409484\\tFrauenunterhaltung\\n9783570052235\\tEchtes Leben, Realistischer Roman\\tSchulgeschichten\\tLiebe, Beziehung und Freundschaft\\n9783809436829\\tFreizeit & Hobby\\n9783453418950\\tFrauenunterhaltung\\n9783570312230\\tFantasy und Science Fiction\\n9783641120825\\tFrauenunterhaltung\\n9783442485581\\tKrimi & Thriller\\n9783641137380\\tGesundheit & Ernährung\\n9783641016159\\tEltern & Familie\\n9783641133788\\tNatur, Wissenschaft, Technik\\n9783570153802\\tEchtes Leben, Realistischer Roman\\tLiebe, Beziehung und Freundschaft\\n9783641090166\\tFitness & Sport\\tKörper & Seele\\n9783837130478\\tKabarett & Satire\\tSchullektüre\\tAbenteuer\\n9783641062934\\tLebenshilfe & Psychologie\\tWeisheiten der Welt\\n9783641179373\\tPolitik & Gesellschaft\\n9783453703124\\tÜbernatürliches\\tGanzheitliche Psychologie\\n9783641081133\\tScience Fiction\\n4250938800678\\tKinderbuch & Jugendbuch\\n9783641149598\\tRomane & Erzählungen\\n9783453421738\\tKrimi & Thriller\\n9783837143973\\tFantasy\\tEchtes Leben, Realistischer Roman\\n9783837127560\\tKrimi & Thriller\\n9783641153847\\tRomane & Erzählungen\\n9783641032951\\tFantasy\\n9783442482474\\tErotik\\n9783641688554\\tFreizeit & Hobby\\n9783579064796\\tSpiritualität & Religion\\n9783453355934\\tFrauenunterhaltung\\n9783453419728\\tFrauenunterhaltung\\n9783844520453\\tFantasy\\n9783717522164\\tRomane & Erzählungen\\n9783570551233\\tNatur, Wissenschaft, Technik\\n9783442486090\\tKrimi & Thriller\\n9783579067575\\t(Zeit-) Geschichte\\n9783421064998\\t(Zeit-) Geschichte\\n9783641562090\\t(Zeit-) Geschichte\\n9783453359116\\tFrauenunterhaltung\\n9783570134375\\tKinderbuch & Jugendbuch\\tNatur, Tiere, Umwelt, Mensch\\tLiebe, Beziehung und Freundschaft\\n9783424200560\\tLebenshilfe & Psychologie\\tKommunikation & Beruf\\n9783453418455\\tRomane & Erzählungen\\n9783809431473\\tEssen & Trinken\\n9783453029781\\tKrimi & Thriller\\n9783453545243\\tErotik\\n9783844507478\\tKrimi & Thriller\\n9783442715725\\tRomane & Erzählungen\\n9783641028589\\tRomance\\n9783641033101\\tScience Fiction\\n9783641046750\\tScience Fiction\\n9783791381251\\tKunst\\n9783641182847\\tRatgeber Partnerschaft & Sexualität\\tPsychologie\\n9783453280809\\tPolitik & Gesellschaft\\tNatur, Wissenschaft, Technik\\n9783791347837\\tFotografie\\n9783442462841\\tRomane & Erzählungen\\n9783442172764\\tGesundheit & Ernährung\\n9783734105678\\tFrauenunterhaltung\\n9783570139509\\tKinderbuch & Jugendbuch\\n9783579048918\\tTheologie\\n9783424350302\\tPolitik & Gesellschaft\\n9783837173000\\tKlassiker & Lyrik\\n9783641120603\\tFrauenunterhaltung\\n9783328100515\\tRomane & Erzählungen\\tFrauenunterhaltung\\n9783641139209\\tScience Fiction\\n9783641056759\\tPolitik & Gesellschaft\\n9783641137755\\tRomantasy\\tMystery\\n9783442177219\\tGesundheit & Ernährung\\n9783421038081\\tGarten & Landschaftsarchitektur\\n9783641151003\\tKinderbuch & Jugendbuch\\n9783641136956\\tRomane & Erzählungen\\n9783453280847\\tAbenteuer, Reisen, fremde Kulturen\\n9783453409477\\tFrauenunterhaltung\\n9783442484379\\tFrauenunterhaltung\\n9783453409330\\tKrimi & Thriller\\tKrimis und Thriller\\tDetektivgeschichten\\n9783579081762\\tTheologie\\n9783579000510\\tGemeindearbeit\\n9783453433748\\tKrimi & Thriller\\n9783837170023\\tRomane & Erzählungen\\n9783641027995\\tKrimi & Thriller\\n9783844520897\\tKrimi & Thriller\\n9783813505023\\tFantasy\\tRomane & Erzählungen\\tComic & Cartoon\\n9783442369249\\tHistorische Romane\\n9783517096773\\tFreizeit & Hobby\\n9783466346318\\tLebenshilfe & Psychologie\\n9783641121471\\tFantasy\\n9783844511734\\tRomane & Erzählungen\\n9783442716333\\tRomane & Erzählungen\\n9783453675803\\tHorror\\n9783442482085\\tKrimi & Thriller\\n9783466310371\\tEltern & Familie\\n9783453357907\\tLebenshilfe & Psychologie\\n9783517093017\\tFitness & Sport\\n9783896676412\\tRomane & Erzählungen\\n9783328102564\\tFrauenunterhaltung\\n9783641190002\\tFrauenunterhaltung\\n9783641168834\\tErotik\\n9783453810488\\tFrauenunterhaltung\\n9783778792575\\tGanzheitliche Psychologie\\tKörper & Seele\\n9783641171308\\tRomane & Erzählungen\\tFrauenunterhaltung\\tLiebe, Beziehung und Freundschaft\\n9783896676276\\tRomane & Erzählungen\\n9783641120870\\tFrauenunterhaltung\\n9783579026893\\tTheologie\\n9783641012847\\tKrimi & Thriller\\n9783641062118\\tPolitik & Gesellschaft\\n9783641076153\\tRomane & Erzählungen\\tKrimi & Thriller\\n9783442341801\\tGanzheitliche Psychologie\\n9783641019440\\tEssen & Trinken\\n9783641185770\\tFantasy\\n9783328103264\\tKrimi & Thriller\\n9783641061845\\tAbenteuer, Reisen, fremde Kulturen\\tGarten & Landschaftsarchitektur\\n9783641068134\\tPolitik & Gesellschaft\\n9783453436534\\tKrimi & Thriller\\n9783442482771\\tRomane & Erzählungen\\tHistorische Romane\\n9783641133573\\tScience Fiction\\n9783641078669\\tFantasy\\n9783641113971\\tKrimi & Thriller\\n9783453407107\\tRomane & Erzählungen\\n9783424201611\\tPsychologie\\tSachbuch Philosophie\\n9783641075323\\tFantasy\\n9783734161049\\tFantasy\\n9783453676053\\tBiographien & Autobiographien\\n9783791357041\\tKunst\\n9783572081998\\tWohnen & Innenarchitektur\\n9783734161223\\tFantasy\\n9783570226315\\tFantasy und Science Fiction\\n9783641186074\\tKrimi & Thriller\\n9783570056349\\tEchtes Leben, Realistischer Roman\\tNatur, Tiere, Umwelt, Mensch\\n9783837111941\\tKrimi & Thriller\\n9783641126681\\tScience Fiction\\n9783641069513\\tFreizeit & Hobby\\n9783442159284\\tPolitik & Gesellschaft\\tPsychologie\\n9783641210984\\tKrimi & Thriller\\n9783809436652\\tGesundheit & Ernährung\\n9783442340477\\tGanzheitlich Leben\\tKörper & Seele\\n9783442467846\\tKrimi & Thriller\\n9783641014063\\tFreizeit & Hobby\\n9783570158920\\tEchtes Leben, Realistischer Roman\\tLiebe, Beziehung und Freundschaft\\tKinderbuch & Jugendbuch\\n9783641036607\\tNaturheilweisen\\n9783641114626\\tScience Fiction\\n9783641114589\\tScience Fiction\\n9783641032371\\tSpiritualität & Religion\\n9783720528412\\tKörper & Seele\\n9783641129538\\tFrauenunterhaltung\\n9783442374809\\tHistorische Romane\\n9783453580695\\tFrauenunterhaltung\\n9783844512830\\tLiteratur & Unterhaltung Satire\\tEchtes Leben, Realistischer Roman\\n9783453604926\\tRatgeber Partnerschaft & Sexualität\\n9783442486502\\tKrimi & Thriller\\n9783791373461\\tKinderbuch & Jugendbuch\\n9783570310427\\tEchtes Leben, Realistischer Roman\\tFantasy und Science Fiction\\n9783328102885\\tRomane & Erzählungen\\n9783442171521\\tGesundheit & Ernährung\\n9783517089171\\tGesundheit & Ernährung\\tEssen & Trinken\\n9783641092528\\tKommunikation & Beruf\\tPolitik & Gesellschaft\\n9783809436256\\tFreizeit & Hobby\\n9783579086811\\tPolitik & Gesellschaft\\tBiographien & Autobiographien\\tRomane & Erzählungen\\n9783641069759\\tLiebe, Beziehung und Freundschaft\\tFantasy und Science Fiction\\n9783791382661\\tKunst\\n9783641040192\\tRomane & Erzählungen\\n9783641100841\\tFantasy\\n9783641073671\\tKrimi & Thriller\\n9783424153262\\tKörper & Seele\\n9783579086613\\tPolitik & Gesellschaft\\n9783641041717\\tLebenshilfe & Psychologie\\n9783844503326\\tEchtes Leben, Realistischer Roman\\tAbenteuer\\tTiergeschichten\\n9783442342037\\tRatgeber Partnerschaft & Sexualität\\tGanzheitliche Psychologie\\tLebenshilfe & Psychologie\\n9783837143379\\tRomane & Erzählungen\\tFantasy\\n9783442340057\\tGanzheitliche Psychologie\\tKörper & Seele\\n9783579087214\\tSpiritualität & Religion\\tPolitik & Gesellschaft\\tEchtes Leben, Realistischer Roman\\n9783570552988\\tPolitik & Gesellschaft\\n9783442484072\\tKrimi & Thriller\\n9783442152193\\tPolitik & Gesellschaft\\n9783442173877\\tRatgeber Partnerschaft & Sexualität\\n9783570312469\\tEchtes Leben, Realistischer Roman\\n9783641017071\\tEchtes Leben, Realistischer Roman\\tHistorische Romane, Zeitgeschichte\\tFantasy und Science Fiction\\n9783734100628\\tKrimi & Thriller\\n9783837138511\\tKabarett & Satire\\tRomane & Erzählungen\\tBiographien & Autobiographien\\n9783641128494\\tKrimi & Thriller\\n9783453534773\\tScience Fiction\\tKrimi & Thriller\\n9783442475193\\tFantasy\\n9783734102905\\tFrauenunterhaltung\\n9783641058692\\tPolitik & Gesellschaft\\n9783734161438\\tFantasy\\n9783328101826\\tRomane & Erzählungen\\n9783641134303\\tScience Fiction\\n9783570403556\\tEchtes Leben, Realistischer Roman\\tLiebe, Beziehung und Freundschaft\\n9783641112592\\tEssen & Trinken\\n9783453317345\\tScience Fiction\\n9783453545816\\tErotik\\n9783641116576\\tScience Fiction\\n9783570224861\\tFantasy und Science Fiction\\tEchtes Leben, Realistischer Roman\\tAbenteuer\\n9783641044473\\tKrimi & Thriller\\n9783764506094\\tFrauenunterhaltung\\n9783442749225\\tRomane & Erzählungen\\n9783442365616\\tHistorische Romane\\tRomane & Erzählungen\\n9783641118419\\tKrimi & Thriller\\n9783466309184\\tLebenshilfe & Psychologie\\n9783809438748\\tFreizeit & Hobby\\n9783641059934\\tPolitik & Gesellschaft\\n9783641099299\\tPolitik & Gesellschaft\\n9783734103117\\tFrauenunterhaltung\\n9783837133974\\tKabarett & Satire\\tKunst & Kultur\\tNatur, Wissenschaft, Technik\\n9783717511649\\tRomane & Erzählungen\\tKlassiker & Lyrik\\n9783641170608\\tKrimi & Thriller\\n9783442799534\\tRomane & Erzählungen\\n9783453317925\\tScience Fiction\\n9783570312247\\tEchtes Leben, Realistischer Roman\\n9783844528749\\tKinderbuch & Jugendbuch\\n9783442177448\\tMondkräfte\\n9783844517590\\tAbenteuer\\tEchtes Leben, Realistischer Roman\\n9783641120504\\tKrimi & Thriller\\n9783453439566\\tKrimi & Thriller\\n9783442486991\\tRomane & Erzählungen\\n9783717520702\\tRomane & Erzählungen\\n9783717514404\\tRomane & Erzählungen\\n9783421034175\\tArchitektur\\n9783442221806\\tGesundheit & Ernährung\\tEssen & Trinken\\n9783641165420\\tFrauenunterhaltung\\n9783453437920\\tKrimi & Thriller\\n9783813507959\\tFantasy\\tRomane & Erzählungen\\n9783453604285\\tGesundheit & Ernährung\\n9783641060985\\t(Zeit-) Geschichte\\tPolitik & Gesellschaft\\n9783641221508\\tScience Fiction\\n9783442740178\\tRomane & Erzählungen\\n9783453357648\\tRomane & Erzählungen\\tHistorische Romane\\n9783641132958\\tFantasy und Science Fiction\\tEchtes Leben, Realistischer Roman\\tAbenteuer\\n9783641132132\\tScience Fiction\\n9783421038449\\tGarten & Landschaftsarchitektur\\n9783809434436\\tFreizeit & Hobby\\n9783453675810\\tHorror\\n9783442158959\\tPolitik & Gesellschaft\\n9783641064273\\tTheologie\\n9783641093143\\tRomane & Erzählungen\\n9783517092799\\tGesundheit & Ernährung\\tFitness & Sport\\n9783641081423\\tScience Fiction\\n9783442175710\\tRatgeber Partnerschaft & Sexualität\\n9783453317727\\tRomantasy\\n9783734105258\\tFrauenunterhaltung\\n9783570551820\\tPolitik & Gesellschaft\\tBiographien & Autobiographien\\n9783570152812\\tAbenteuer\\tEchtes Leben, Realistischer Roman\\tTiergeschichten\\n9783641037932\\tRomane & Erzählungen\\n9783453702301\\tGanzheitliche Psychologie\\n9783641114312\\tGesundheit & Ernährung\\n9783442715008\\tRomane & Erzählungen\\n9783641191542\\tScience Fiction\\n9783442176090\\tLebenshilfe & Psychologie\\n9783453438514\\tKrimi & Thriller\\tScience Fiction\\n9783453421622\\tFrauenunterhaltung\\n9783442264100\\tFantasy\\n9783442393121\\tEssen & Trinken\\n9783570102343\\tRomane & Erzählungen\\n9783442744688\\tRomane & Erzählungen\\n9783809434788\\tFreizeit & Hobby\\tWissen & Nachschlagewerke\\n9783837131208\\tKinderbuch & Jugendbuch\\n9783442350124\\tFrauenunterhaltung\\n9783641074012\\tFrauenunterhaltung\\tKrimi & Thriller\\n9783453675070\\tHorror\\n9783641099404\\tKrimi & Thriller\\n9783641038847\\tScience Fiction\\n9783867178532\\tKinderbuch & Jugendbuch\\n9783894803032\\tKrimi & Thriller\\n9783641057022\\tBiographien & Autobiographien\\n9783641018122\\tFrauenunterhaltung\\n9783641152734\\tÜbernatürliches\\tEchtes Leben, Realistischer Roman\\n9783442220878\\tGanzheitliche Psychologie\\n9783734103919\\tFrauenunterhaltung\\n9783641065089\\tRomane & Erzählungen\\n9783641091989\\tFantasy\\n9783453422636\\tRomane & Erzählungen\\n9783466310890\\tEltern & Familie\\n9783442484041\\tFrauenunterhaltung\\n9783641109691\\tFantasy\\n9783641109769\\tFrauenunterhaltung\\tKrimi & Thriller\\n9783453421462\\tRomane & Erzählungen\\n9783809438205\\tEssen & Trinken\\n9783442393138\\tRatgeber Partnerschaft & Sexualität\\n9783442171637\\tSpiritualität & Religion\\n9783641208066\\tScience Fiction\\n9783570172353\\tAbenteuer\\tFamilie\\n9783442171286\\tEltern & Familie\\n9783734103926\\tKrimi & Thriller\\n9783837132168\\tKabarett & Satire\\n9783453423107\\tFrauenunterhaltung\\n9783641131982\\tFrauenunterhaltung\\n9783837140392\\tMärchen, Sagen\\tFrauenunterhaltung\\n9783453410435\\tKrimi & Thriller\\n9783898300254\\tKlassiker & Lyrik\\n9783453410749\\tHistorische Romane\\n9783641041663\\tRomane & Erzählungen\\n9783453604810\\tPolitik & Gesellschaft\\n9783641102838\\tFrauenunterhaltung\\n9783442716173\\tRomane & Erzählungen\\n9783570225967\\tEchtes Leben, Realistischer Roman\\tGeister- und Gruselgeschichten\\n9783641048167\\tKrimi & Thriller\\n9783641115500\\tScience Fiction\\n9783641096571\\tFrauenunterhaltung\\n9783778775325\\tGanzheitliche Psychologie\\tKörper & Seele\\n9783734106767\\tFrauenunterhaltung\\n9783837128147\\tRomane & Erzählungen\\tAbenteuer\\tLiebe, Beziehung und Freundschaft\\n9783778782767\\tWeisheiten der Welt\\tSpiritualität & Religion\\n9783453600553\\tFitness & Sport\\n9783641120900\\tFrauenunterhaltung\\n9783453435063\\tHistorische Romane\\n9783442472574\\tKrimi & Thriller\\n9783641146641\\tRomane & Erzählungen\\n9783641173029\\tKrimi & Thriller\\n9783570163191\\tLiebe, Beziehung und Freundschaft\\tFantasy und Science Fiction\\n9783453412446\\tHistorische Romane\\n9783442487370\\tKrimi & Thriller\\n9783442379491\\tKrimi & Thriller\\n9783641158040\\tKrimi & Thriller\\n9783641201609\\tFrauenunterhaltung\\n9783453420281\\tErotik\\n9783453600874\\tBiographien & Autobiographien\\n9783453420670\\tKrimi & Thriller\\n9783641187989\\tRomane & Erzählungen\\tEssen & Trinken\\n9783442738151\\tRomane & Erzählungen\\n9783453315013\\tFantasy\\n9783837142075\\tKabarett & Satire\\tLiteratur & Unterhaltung Satire\\n9783641128258\\tEchtes Leben, Realistischer Roman\\n9783641151614\\tScience Fiction\\n9783442379538\\tRomantasy\\n9783641081768\\tKrimi & Thriller\\n9783453314467\\tLiebe, Beziehung und Freundschaft\\tFantasy und Science Fiction\\n9783442731312\\tRomane & Erzählungen\\n9783837130713\\tAbenteuer\\n9783641107352\\tLiebe, Beziehung und Freundschaft\\tEchtes Leben, Realistischer Roman\\tFrauenunterhaltung\\n9783570164372\\tAbenteuer\\tLiebe, Beziehung und Freundschaft\\n9783641082642\\tLebenshilfe & Psychologie\\n9783453528093\\tFantasy\\n9783453318618\\tScience Fiction\\n9783579053936\\tTheologie\\n9783570401699\\tEchtes Leben, Realistischer Roman\\tHistorische Romane, Zeitgeschichte\\n9783641587277\\tRomane & Erzählungen\\n9783641058883\\tKörper & Seele\\n9783570312346\\tEchtes Leben, Realistischer Roman\\tLiebe, Beziehung und Freundschaft\\n9783570129319\\tLiebe, Beziehung und Freundschaft\\tAbenteuer\\tEchtes Leben, Realistischer Roman\\n9783894809706\\tKabarett & Satire\\n9783844525007\\tKinderbuch & Jugendbuch\\n9783570103005\\tRomane & Erzählungen\\tPolitik & Gesellschaft\\n9783641147310\\tRomane & Erzählungen\\n9783442738373\\tKrimi & Thriller\\n9783641019730\\tPolitik & Gesellschaft\\n9783837128468\\tRomane & Erzählungen\\tBiographien & Autobiographien\\n9783570301845\\tKrimis und Thriller\\tAbenteuer\\n9783641108410\\t(Zeit-) Geschichte\\n9783442742752\\tKrimi & Thriller\\n9783641030650\\tLiebe, Beziehung und Freundschaft\\tEchtes Leben, Realistischer Roman\\n9783424200935\\tLebenshilfe & Psychologie\\tPsychologie\\n9783641073732\\tRomane & Erzählungen\\n9783466368099\\tSpiritualität & Religion\\n9783734161490\\tFantasy\\tEchtes Leben, Realistischer Roman\\tFantasy und Science Fiction\\n9783641090852\\tPolitik & Gesellschaft\\n9783466371907\\tSpiritualität & Religion\\tBiographien & Autobiographien\\n9783641014452\\tEnergieheilung\\n9783453421851\\tKrimi & Thriller\\n9783442744213\\tRomane & Erzählungen\\n9783453702141\\tGanzheitliche Psychologie\\n9783453438286\\tHorror\\n9783570225189\\tEchtes Leben, Realistischer Roman\\tAbenteuer\\n9783579085210\\tSpiritualität & Religion\\tTheologie\\tSachbuch Philosophie\\n9783442472352\\tKrimi & Thriller\\n9783579065564\\tSpiritualität & Religion\\n9783641172503\\tScience Fiction\\n9783570225325\\tEchtes Leben, Realistischer Roman\\tLiebe, Beziehung und Freundschaft\\n9783641056285\\tEchtes Leben, Realistischer Roman\\n9783641177706\\tRomane & Erzählungen\\n9783809433064\\tFreizeit & Hobby\\n9783570102527\\tRomane & Erzählungen\\n9783442480876\\tFantasy\\n9783442715374\\tRomane & Erzählungen\\n9783641054823\\tFrauenunterhaltung\\n9783570164556\\tLiebe, Beziehung und Freundschaft\\n9783844517743\\tKrimi & Thriller\\n9783453410534\\tFrauenunterhaltung\\n9783442159413\\tGesundheit & Ernährung\\n9783778792612\\tGanzheitliche Psychologie\\n9783641072698\\tPsychologie\\n9783641031220\\tLiebe, Beziehung und Freundschaft\\tEchtes Leben, Realistischer Roman\\n9783442118809\\tGanzheitliche Psychologie\\n9783442732562\\tKrimi & Thriller\\n9783570550328\\tPolitik & Gesellschaft\\n9783837123258\\tBiographien & Autobiographien\\n9783844522662\\tRomane & Erzählungen\\n9783517097329\\tEssen & Trinken\\tGesundheit & Ernährung\\n9783641049430\\tFantasy und Science Fiction\\tEchtes Leben, Realistischer Roman\\tGeister- und Gruselgeschichten\\n9783570134115\\tKinderbuch & Jugendbuch\\n9783641076474\\tRomane & Erzählungen\\tPsychologie\\n9783442747313\\tRomane & Erzählungen\\n9783641113919\\tRomane & Erzählungen\\n9783641219826\\tKrimi & Thriller\\n9783453417717\\tFrauenunterhaltung\\n9783336547852\\tRomane & Erzählungen\\n9783641117481\\tScience Fiction\\n9783641151171\\tScience Fiction\\n9783630875385\\tRomane & Erzählungen\\n9783453437715\\tKrimi & Thriller\\n9783579081434\\tTheologie\\n9783442221295\\tLebenshilfe & Psychologie\\tKörper & Seele\\n9783844523515\\tRomane & Erzählungen\\n9783453421578\\tRomane & Erzählungen\\n9783442217076\\tGanzheitliche Psychologie\\n9783453317314\\tScience Fiction\\n9783641217013\\tKrimi & Thriller\\n9783570225059\\tFantasy und Science Fiction\\tEchtes Leben, Realistischer Roman\\n9783837137101\\tRomane & Erzählungen\\tFrauenunterhaltung\\tHistorische Romane\\n9783641030100\\tLebenshilfe & Psychologie\\n9783641102012\\tFrauenunterhaltung\\n9783442484560\\tKrimi & Thriller\\n9783424350043\\tSachbuch Philosophie\\n9783570552414\\tNatur, Wissenschaft, Technik\\tBiographien & Autobiographien\\n9783442174508\\tGeld & Investment\\n9783641029708\\tLiebe, Beziehung und Freundschaft\\tEchtes Leben, Realistischer Roman\\n9783734101632\\tFrauenunterhaltung\\n9783570155660\\tKinderbuch & Jugendbuch\\n9783641013097\\tRomane & Erzählungen\\n9783734101670\\tRomance\\n9783641055431\\tKinderbuch & Jugendbuch\\n9783442452309\\tKrimi & Thriller\\n9783641026097\\tEssen & Trinken\\n9783641056650\\tRomane & Erzählungen\\n9783570553664\\tKunst & Kultur\\n9783570552025\\t(Zeit-) Geschichte\\tPolitik & Gesellschaft\\n9783641046484\\tFrauenunterhaltung\\tRomane & Erzählungen\\n9783453703148\\tGanzheitliche Psychologie\\n9783734161315\\tFantasy\\n9783641089627\\tKommunikation & Beruf\\n9783453409514\\tFrauenunterhaltung\\n9783641115074\\tScience Fiction\\n9783641078102\\tScience Fiction\\n9783844506570\\tRomane & Erzählungen\\n9783442176373\\tGesundheit & Ernährung\\tRomane & Erzählungen\\n9783867179829\\tEchtes Leben, Realistischer Roman\\tGeister- und Gruselgeschichten\\tAbenteuer\\n9783442487042\\tFantasy\\n9783641151287\\tKrimi & Thriller\\n9783442485840\\tFrauenunterhaltung\\n9783641076726\\tKrimi & Thriller\\tRomane & Erzählungen\\n9783886809325\\t(Zeit-) Geschichte\\n9783442465422\\tFantasy\\n9783442132331\\tWeisheiten der Welt\\n9783579052168\\tTheologie\\n9783641077402\\tScience Fiction\\n9783579052403\\tTheologie\\n9783641080112\\tRomane & Erzählungen\\n9783641115265\\tScience Fiction\\n9783827500489\\t(Zeit-) Geschichte\\n9783641140755\\tNatur, Wissenschaft, Technik\\tKabarett & Satire\\n9783641158002\\tFrauenunterhaltung\\n9783844510607\\tRomane & Erzählungen\\n9783421039675\\tGarten & Landschaftsarchitektur\\n9783641043544\\tKrimi & Thriller\\n9783717540809\\tRomane & Erzählungen\\tBriefe, Essays, Gespräche\\tKunst & Kultur\\n9783453596504\\tKrimi & Thriller\\tAbenteuer\\tKrimis und Thriller\\n9783421047700\\tPolitik & Gesellschaft\\n9783453418202\\tHistorische Romane\\n9783570154403\\tTiergeschichten\\tEchtes Leben, Realistischer Roman\\n9783570172360\\tAbenteuer\\n9783837137521\\tFrauenunterhaltung\\n9783442735648\\tRomane & Erzählungen\\n9783579086941\\tPolitik & Gesellschaft\\tBiographien & Autobiographien\\t(Zeit-) Geschichte\\n9783453417861\\tFrauenunterhaltung\\n9783442220168\\tWeisheiten der Welt\\tFrauenunterhaltung\\n9783453422629\\tKrimi & Thriller\\n9783641090357\\tFrauenunterhaltung\\tPsychologie\\n9783641125523\\tRomane & Erzählungen\\n9783442741137\\tRomane & Erzählungen\\n9783442370481\\tKrimi & Thriller\\n9783791381398\\tMode & Lifestyle\\n9783453358553\\tKrimi & Thriller\\n9783641147693\\tScience Fiction\\n9783453523029\\tMystery\\tRomantasy\\n9783641107178\\tHistorische Romane\\n9783442730742\\tRomane & Erzählungen\\n9783641151010\\tKinderbuch & Jugendbuch\\n9783570310588\\tLiebe, Beziehung und Freundschaft\\n9783641131968\\tFrauenunterhaltung\\n9783466308255\\tLebenshilfe & Psychologie\\tPsychologie & Spiritualität\\n9783442340316\\tGanzheitliche Psychologie\\tKörper & Seele\\n9783442157419\\tRomane & Erzählungen\\n9783641155988\\tKrimi & Thriller\\n9783641173470\\tScience Fiction\\n9783641111069\\tKrimi & Thriller\\n9783572081660\\tEssen & Trinken\\n9783466367825\\tEltern & Familie\\n9783570402597\\tLiebe, Beziehung und Freundschaft\\tGeister- und Gruselgeschichten\\tFantasy und Science Fiction\\n9783453471283\\tHistorische Romane\\n9783809438335\\tFreizeit & Hobby\\n9783641058128\\tFrauenunterhaltung\\n9783809431121\\tFreizeit & Hobby\\n9783453685499\\tFreizeit & Hobby\\n9783453600928\\tKabarett & Satire\\n9783442717613\\tRomane & Erzählungen\\n9783734105364\\tKrimi & Thriller\\n9783641173449\\tScience Fiction\\n9783442158324\\tPolitik & Gesellschaft\\n9783641077778\\tScience Fiction\\n9783453316126\\tScience Fiction\\tMystery\\n9783641104788\\tRomane & Erzählungen\\n9783778792681\\tGanzheitliche Psychologie\\n9783442483907\\tRomane & Erzählungen\\n9783641035976\\tGesundheit & Ernährung\\n9783453319530\\tScience Fiction\\n9783570309766\\tLiebe, Beziehung und Freundschaft\\tKrimis und Thriller\\n9783466457670\\tEltern & Familie\\n9783641151669\\tScience Fiction\\n9783570311172\\tLiebe, Beziehung und Freundschaft\\tEchtes Leben, Realistischer Roman\\tAbenteuer\\n9783641190927\\tFantasy\\n9783453200647\\tGesundheit & Ernährung\\n9783809431626\\tFreizeit & Hobby\\n9783641117153\\tScience Fiction\\n9783717524342\\tRomane & Erzählungen\\n9783867178754\\tRomane & Erzählungen\\n9783630621838\\tKlassiker & Lyrik\\tRomane & Erzählungen\\n9783570309346\\tKrimis und Thriller\\n9783453580565\\tErotik\\n9783641133603\\tScience Fiction\\n9783837117509\\tRomane & Erzählungen\\n9783641064396\\tFrauenunterhaltung\\n9783421037138\\tWohnen & Innenarchitektur\\n9783641024369\\tRomane & Erzählungen\\n9783453529953\\tScience Fiction\\n9783641078898\\tScience Fiction\\n9783453410312\\tKrimi & Thriller\\n9783641132248\\tScience Fiction\\n9783570380529\\tFantasy und Science Fiction\\tEchtes Leben, Realistischer Roman\\n9783442367801\\tHistorische Romane\\n9783453879539\\tKrimi & Thriller\\n9783809436836\\tFreizeit & Hobby\\n9783453317932\\tScience Fiction\\n9783424152197\\tLebenshilfe & Psychologie\\tGesundheit & Ernährung\\n9783453319165\\tFantasy\\n9783837177657\\tAbenteuer, Reisen, fremde Kulturen\\tLifestyle\\n9783453864122\\tKommunikation & Beruf\\n9783764506629\\tFrauenunterhaltung\\tHistorische Romane\\n9783641146023\\tRomane & Erzählungen\\n9783442542253\\tRomane & Erzählungen\\n9783442372331\\tKrimi & Thriller\\n9783424153354\\tÜbernatürliches\\tLebenshilfe & Psychologie\\tGanzheitliche Psychologie\\n9783641073626\\tRatgeber Partnerschaft & Sexualität\\n9783442714292\\tKrimi & Thriller\\n9783641136819\\tRomane & Erzählungen\\n9783641212476\\tScience Fiction\\n9783641103880\\tBiographien & Autobiographien\\n9783641135676\\tRomane & Erzählungen\\n9783442484607\\tKrimi & Thriller\\n9783442748310\\tRomane & Erzählungen\\n9783734105968\\tFrauenunterhaltung\\n9783453528314\\tMystery\\n9783570175491\\tTiergeschichten\\n9783641028022\\tKrimi & Thriller\\n9783442739455\\tRomane & Erzählungen\\n9783641081164\\tFrauenunterhaltung\\n9783453421516\\tFrauenunterhaltung\\tRomane & Erzählungen\\n9783453703315\\tÜbernatürliches\\n9783466371648\\tSpiritualität & Religion\\tGanzheitliche Psychologie\\n9783442156313\\tSachbuch Philosophie\\n9783641032494\\tRomane & Erzählungen\\n9783453401228\\tFrauenunterhaltung\\n9783894804114\\tSchicksalsberichte\\n9783641193881\\tKrimi & Thriller\\n9783453675629\\tHorror\\n9783717517566\\tRomane & Erzählungen\\n9783844518900\\tAbenteuer\\tEchtes Leben, Realistischer Roman\\n9783717519737\\tRomane & Erzählungen\\n9783570553404\\t(Zeit-) Geschichte\\n9783453676480\\tHorror\\n4250938800050\\tKinderbuch & Jugendbuch\\n9783641072759\\tRatgeber Partnerschaft & Sexualität\\n9783328101956\\tRomane & Erzählungen\\n4250938800630\\tKinderbuch & Jugendbuch\\n9783641199500\\tLiebe, Beziehung und Freundschaft\\n9783442481033\\tFrauenunterhaltung\\tKrimi & Thriller\\n9783641136413\\tEssen & Trinken\\n9783641096878\\tBiographien & Autobiographien\\n9783453418912\\tFrauenunterhaltung\\n9783734103896\\tFrauenunterhaltung\\n9783641113315\\tScience Fiction\\n9783466307173\\tEltern & Familie\\n9783630875613\\tRomane & Erzählungen\\n9783453604759\\tInfotainment & erzählendes Sachbuch\\n9783453318212\\tFantasy\\n9783641094010\\tKrimi & Thriller\\n9783641132149\\tScience Fiction\\n9783641095826\\tEssen & Trinken\\n9783570174357\\tAbenteuer\\tKinderbuch & Jugendbuch\\n9783570551455\\tBiographien & Autobiographien\\n9783894804466\\tFitness & Sport\\n9783641203849\\tÜbernatürliches\\n9783641118198\\tKrimi & Thriller\\n9783641162580\\tScience Fiction\\n9783442243723\\tFantasy\\n9783579032153\\tGemeindearbeit\\n9783809026440\\tKrimi & Thriller\\tRomane & Erzählungen\\n9783791372662\\tBeschäftigung, Malen, Rätseln\\n9783442167340\\tGesundheit & Ernährung\\n9783466310708\\tEltern & Familie\\n9783734103049\\tFrauenunterhaltung\\tAbenteuer, Reisen, fremde Kulturen\\n9783641026530\\tRomance\\n9783442461950\\tFantasy\\n9783809429913\\tFreizeit & Hobby\\n9783442739998\\tRomane & Erzählungen\\n9783641137182\\tAbenteuer\\tEchtes Leben, Realistischer Roman\\n9783453590151\\tFrauenunterhaltung\\n9783453534858\\tRomantasy\\n9783630866901\\tRomane & Erzählungen\\n9783442485987\\tRomane & Erzählungen\\n9783453280571\\tNatur, Wissenschaft, Technik\\n9783641023119\\tEchtes Leben, Realistischer Roman\\tFantasy und Science Fiction\\tFantasy\\n9783517096711\\tFitness & Sport\\n9783442738885\\tRomane & Erzählungen\\n9783899409239\\tAbenteuer\\tEchtes Leben, Realistischer Roman\\n9783442714032\\tRomane & Erzählungen\\n9783442177103\\tEltern & Familie\\n9783453676237\\tRomane & Erzählungen\\n9783453527966\\tScience Fiction\\n9783442338856\\tGanzheitlich Leben\\n9783717523406\\tRomane & Erzählungen\\n9783453268685\\tFantasy und Science Fiction\\tLiebe, Beziehung und Freundschaft\\n9783442479429\\tKrimi & Thriller\\n9783424631296\\tGanzheitliche Psychologie\\n9783641208882\\tScience Fiction\\n9783809026532\\tRomane & Erzählungen\\n9783641162863\\tKrimi & Thriller\\n9783442478132\\tKrimi & Thriller\\n9783453421677\\tHistorische Romane\\n9783734100598\\tFrauenunterhaltung\\n9783809435198\\tEssen & Trinken\\n9783641045289\\tFantasy\\n9783641048884\\tRomane & Erzählungen\\n9783641087647\\tScience Fiction\\n9783442736355\\tNatur, Wissenschaft, Technik\\n9783837127591\\tKabarett & Satire\\n9783641140298\\tEltern & Familie\\n9783453471399\\tHistorische Romane\\n9783844514100\\tRomane & Erzählungen\\n9783844501599\\tRomane & Erzählungen\\tEchtes Leben, Realistischer Roman\\tGeschichte, Politik\\n9783442393206\\tRatgeber Partnerschaft & Sexualität\\n9783442370030\\tKrimi & Thriller\\tGeister- und Gruselgeschichten\\tFantasy und Science Fiction\\n9783570310113\\tLiebe, Beziehung und Freundschaft\\n9783570137093\\tEchtes Leben, Realistischer Roman\\tKinderbuch & Jugendbuch\\tSchullektüre\\n4250938800326\\tKinderbuch & Jugendbuch\\n9783517092461\\tGesundheit & Ernährung\\n9783641092801\\tKrimi & Thriller\\n9783641119720\\tEltern & Familie\\tWissen & Nachschlagewerke\\n9783809438533\\tEssen & Trinken\\n9783442746903\\tRomane & Erzählungen\\n9783442341641\\tGanzheitliche Psychologie\\n9783641055233\\tAbenteuer\\tEchtes Leben, Realistischer Roman\\n9783570174036\\tFantasy und Science Fiction\\n9783641130428\\tFrauenunterhaltung\\n9783734105319\\tFrauenunterhaltung\\n9783453545861\\tRomane & Erzählungen\\n9783641180652\\tFrauenunterhaltung\\n9783844519631\\tKinderbuch & Jugendbuch\\tEchtes Leben, Realistischer Roman\\tRomane & Erzählungen\\n9783453316393\\tScience Fiction\\n9783421047823\\tRomane & Erzählungen\\n9783570163245\\tEchtes Leben, Realistischer Roman\\tBiographien & Autobiographien\\n9783641033972\\tKrimi & Thriller\\n9783641175283\\tScience Fiction\\n9783579074252\\tGemeindearbeit\\n9783837140255\\tKabarett & Satire\\n9783641046910\\tRomane & Erzählungen\\n9783453214217\\tKörper & Seele\\n9783809465119\\tFreizeit & Hobby\\n9783641067793\\tKrimi & Thriller\\n9783570551141\\t(Zeit-) Geschichte\\n9783453528062\\tScience Fiction\\n9783641169091\\tScience Fiction\\n9783453271166\\tRomane & Erzählungen\\n9783641046583\\tRomane & Erzählungen\\n9783570550762\\tBiographien & Autobiographien\\n9783453408654\\tFrauenunterhaltung\\n9783466346448\\tLebenshilfe & Psychologie\\tGesundheit & Ernährung\\n9783837109559\\tLiteratur & Unterhaltung Satire\\n9783570551721\\tBiographien & Autobiographien\\n9783894806811\\tPolitik & Gesellschaft\\n9783453357587\\tErotik\\n9783837135695\\tRomane & Erzählungen\\n9783453438361\\tKrimi & Thriller\\n9783442736423\\tRomane & Erzählungen\\t(Zeit-) Geschichte\\n9783453701885\\tGanzheitliche Psychologie\\n9783641026233\\tEltern & Familie\\n9783424201529\\tPsychologie\\tLebenshilfe & Psychologie\\n9783734161872\\tFantasy\\n9783442372911\\tKrimi & Thriller\\n9783442747757\\tRomane & Erzählungen\\n9783641187200\\tFrauenunterhaltung\\n9783453269996\\tScience Fiction\\n9783453318069\\tFantasy\\n9783466307876\\tLebenshilfe & Psychologie\\n9783453358614\\tFrauenunterhaltung\\n9783837127904\\tEchtes Leben, Realistischer Roman\\tAbenteuer\\tLiebe, Beziehung und Freundschaft\\n9783453319714\\tScience Fiction\\n9783764531980\\tFantasy\\n9783442173655\\tRatgeber Partnerschaft & Sexualität\\n9783424201000\\tLebenshilfe & Psychologie\\tPsychologie\\n9783442715213\\tRomane & Erzählungen\\n9783570552285\\t(Zeit-) Geschichte\\n9783442542406\\tRomane & Erzählungen\\n9783453418769\\tKrimi & Thriller\\n9783453438422\\tKrimi & Thriller\\n9783630875255\\tRomane & Erzählungen\\n9783809434948\\tEssen & Trinken\\n9783867178181\\tFantasy\\tKinderbuch & Jugendbuch\\n9783764505363\\tFrauenunterhaltung\\n9783641069735\\tPolitik & Gesellschaft\\n9783570552896\\t(Zeit-) Geschichte\\n9783809431091\\tFreizeit & Hobby\\n9783844509380\\tFantasy\\n9783844510034\\tEchtes Leben, Realistischer Roman\\tAbenteuer\\n9783778781913\\tWeisheiten der Welt\\n9783641010102\\tGesundheit & Ernährung\\n9783844517606\\tLiebe, Beziehung und Freundschaft\\n9783641079468\\tRomance\\n9783453285453\\tEltern & Familie\\n9783570552117\\tPolitik & Gesellschaft\\n9783641055165\\tKrimis und Thriller\\n9783641162023\\tEltern & Familie\\n9783442220700\\tRatgeber Partnerschaft & Sexualität\\n9783570226384\\tLustige Geschichten, Witze\\n9783717524229\\tRomane & Erzählungen\\n9783570222225\\tFantasy und Science Fiction\\tAbenteuer\\tEchtes Leben, Realistischer Roman\\n9783442477340\\tHistorische Romane\\n9783442486540\\tFrauenunterhaltung\\n9783886809868\\tBiographien & Autobiographien\\n9783453419483\\tKabarett & Satire\\n9783442478491\\tRomantasy\\n9783844511147\\tRomane & Erzählungen\\n9783641547479\\tEssen & Trinken\\n9783421039125\\tGarten & Landschaftsarchitektur\\n9783641110406\\tRomane & Erzählungen\\n9783442219292\\tGanzheitliche Psychologie\\tSpiritualität & Religion\\n9783791355078\\tKunst\\n9783641219086\\tScience Fiction\\n9783837109238\\tEchtes Leben, Realistischer Roman\\tLiebe, Beziehung und Freundschaft\\tTiergeschichten\\n9783641049904\\tLebenshilfe & Psychologie\\n9783641151898\\tKrimi & Thriller\\n9783453438859\\tKrimi & Thriller\\n9783442177493\\tNatur, Wissenschaft, Technik\\tLebenshilfe & Psychologie\\tFreizeit & Hobby\\n9783442742226\\tRomane & Erzählungen\\n9783641078461\\tHorror\\n9783641024390\\tRomane & Erzählungen\\n9783641087661\\tScience Fiction\\n9783641032876\\tEchtes Leben, Realistischer Roman\\tSportgeschichten\\n9783641080761\\tFantasy\\n9783641153199\\tPolitik & Gesellschaft\\n9783442173587\\tGesundheit & Ernährung\\tEssen & Trinken\\n9783466306602\\tLebenshilfe & Psychologie\\tKörper & Seele\\tEltern & Familie\\n9783641124595\\tKrimi & Thriller\\n9783641155261\\tKrimi & Thriller\\n9783328600039\\tRomane & Erzählungen\\n9783570309247\\tKrimis und Thriller\\tLiebe, Beziehung und Freundschaft\\tFantasy und Science Fiction\\n9783734106026\\tFrauenunterhaltung\\n9783453601833\\tPolitik & Gesellschaft\\tRomane & Erzählungen\\n9783442749461\\tKrimi & Thriller\\n9783844505634\\tRomane & Erzählungen\\n9783570164280\\tFantasy und Science Fiction\\tLiebe, Beziehung und Freundschaft\\tAbenteuer\\n9783442732432\\tRomane & Erzählungen\\n9783466304066\\tLebenshilfe & Psychologie\\n9783867178631\\tRomane & Erzählungen\\n9783453528857\\tMystery\\tFantasy\\n9783453357402\\tFrauenunterhaltung\\n9783641038366\\tPolitik & Gesellschaft\\n9783570172148\\tAbenteuer\\tDetektivgeschichten\\tLiebe, Beziehung und Freundschaft\\n9783579071411\\tSpiritualität & Religion\\tTheologie\\n9783442715596\\tRomane & Erzählungen\\n9783641062767\\tKrimi & Thriller\\n9783899405446\\tScience Fiction\\n9783442481934\\tKrimi & Thriller\\n9783442173662\\tRatgeber Partnerschaft & Sexualität\\n9783570553107\\tBiographien & Autobiographien\\n9783837170764\\tMärchen, Sagen\\tKinderbuch & Jugendbuch\\tLustige Geschichten, Witze\\n9783844510140\\tRomane & Erzählungen\\n9783442340637\\tGanzheitliche Psychologie\\tKörper & Seele\\n9783641118938\\tFrauenunterhaltung\\n9783453314238\\tEchtes Leben, Realistischer Roman\\tScience Fiction\\n9783641148492\\tTiergeschichten\\tEchtes Leben, Realistischer Roman\\n9783442736737\\tRomane & Erzählungen\\tKrimi & Thriller\\n9783442486465\\tErotik\\tFrauenunterhaltung\\n9783641085360\\tLiebe, Beziehung und Freundschaft\\n9783453438194\\tKrimi & Thriller\\n9783442484690\\tRomane & Erzählungen\\n9783442473595\\tKrimi & Thriller\\tRomane & Erzählungen\\tHistorische Romane\\n9783867177412\\tRomane & Erzählungen\\n9783641024772\\tFantasy\\n9783867170819\\tRomane & Erzählungen\\n9783442371044\\tFantasy\\n9783641154769\\tScience Fiction\\n9783806836080\\tFitness & Sport\\n9783844501063\\tEchtes Leben, Realistischer Roman\\tHistorische Romane, Zeitgeschichte\\tRomane & Erzählungen\\n9783809439585\\tEssen & Trinken\\n9783579052120\\tTheologie\\n9783570125472\\tAbenteuer\\tLiebe, Beziehung und Freundschaft\\tDetektivgeschichten\\n9783641209889\\tKrimi & Thriller\\n9783442747528\\tRomane & Erzählungen\\n9783442477708\\tRomane & Erzählungen\\n9783641169176\\tScience Fiction\\n9783570165164\\tLiebe, Beziehung und Freundschaft\\n9783570163740\\tLiebe, Beziehung und Freundschaft\\tFantasy und Science Fiction\\n9783809432067\\tFreizeit & Hobby\\n9783641067113\\tKrimi & Thriller\\tScience Fiction\\n9783442382637\\tFrauenunterhaltung\\n9783641075330\\tFrauenunterhaltung\\n9783442744183\\tRomane & Erzählungen\\n9783641084882\\tFantasy\\n9783442487004\\tKrimi & Thriller\\n9783442342297\\tGesundheit & Ernährung\\n9783641024697\\tKrimi & Thriller\\n9783641124007\\tGarten & Landschaftsarchitektur\\n9783453419315\\tFrauenunterhaltung\\n9783899407044\\tFantasy\\tKinderbuch & Jugendbuch\\n9783641080938\\tFantasy\\n9783641068417\\tRomane & Erzählungen\\tPolitik & Gesellschaft\\n9783442165421\\tGesundheit & Ernährung\\n9783641128401\\tScience Fiction\\n9783442716739\\tRomane & Erzählungen\\n9783791373096\\tKinderbuch & Jugendbuch\\n9783442739073\\tRomane & Erzählungen\\n9783844519617\\tRomane & Erzählungen\\tTiergeschichten\\tAbenteuer\\n9783641191184\\tFitness & Sport\\n9783641051167\\tFantasy und Science Fiction\\tEchtes Leben, Realistischer Roman\\tGeister- und Gruselgeschichten\\n9783641078430\\tScience Fiction\\n9783641597450\\tEssen & Trinken\\n9783809439677\\tEssen & Trinken\\n9783641047511\\tRomane & Erzählungen\\n9783517097244\\tGesundheit & Ernährung\\tEchtes Leben, Realistischer Roman\\n9783453675209\\tRomane & Erzählungen\\n9783641076061\\tKrimis und Thriller\\n9783734104022\\tFrauenunterhaltung\\n9783570226414\\tTiergeschichten\\n9783442725601\\tKrimi & Thriller\\n9783453432734\\tHorror\\n9783641160371\\tEchtes Leben, Realistischer Roman\\tFantasy und Science Fiction\\n9783641097448\\tLebenshilfe & Psychologie\\tWeisheiten der Welt\\n9783641145972\\tFrauenunterhaltung\\n9783641087579\\tKrimi & Thriller\\n9783466456802\\tRatgeber Partnerschaft & Sexualität\\n9783453545731\\tRomane & Erzählungen\\n9783641087388\\tFantasy und Science Fiction\\tHistorische Romane\\n9783453315907\\tRomantasy\\n9783453317376\\tScience Fiction\\n9783453280892\\tLebenshilfe & Psychologie\\n9783641032593\\tScience Fiction\\n9783641087500\\tEchtes Leben, Realistischer Roman\\tFantasy und Science Fiction\\n9783837143959\\tFantasy\\tEchtes Leben, Realistischer Roman\\n9783764505776\\tFrauenunterhaltung\\tRomane & Erzählungen\\n9783442744619\\tRomane & Erzählungen\\n9783442341269\\tGanzheitliche Psychologie\\n9783442482337\\tKrimi & Thriller\\n9783442175178\\tGesundheit & Ernährung\\n9783442342181\\tGanzheitliche Psychologie\\tBiographien & Autobiographien\\n9783442219643\\tGanzheitliche Psychologie\\n9783764531423\\tFantasy\\n9783717523161\\tRomane & Erzählungen\\n9783570175828\\tKinderbuch & Jugendbuch\\n9783641086732\\tRomane & Erzählungen\\n9783442152728\\tBiographien & Autobiographien\\n9783453409675\\tHistorische Romane\\n9783453268128\\tRomantasy\\n9783791347684\\tKunst\\n9783453701694\\tGanzheitliche Psychologie\\n9783641025946\\tFantasy\\n9783453317666\\tScience Fiction\\n9783442476664\\tFrauenunterhaltung\\n9783570312445\\tEchtes Leben, Realistischer Roman\\n9783641089894\\tRomane & Erzählungen\\n9783734100574\\tFrauenunterhaltung\\n9783453317451\\tMystery\\n9783734160714\\tScience Fiction\\n9783570552759\\t(Zeit-) Geschichte\\n9783442354528\\tKrimi & Thriller\\n9783641050122\\tFantasy\\n9783453316881\\tFantasy\\n9783442391707\\tRatgeber Partnerschaft & Sexualität\\n9783442745845\\tGesundheit & Ernährung\\n9783837143553\\tRomane & Erzählungen\\tLiteratur & Unterhaltung Satire\\n9783641014513\\tEchtes Leben, Realistischer Roman\\tAbenteuer\\n9783641185671\\tFantasy\\n9783570222584\\tKlassiker & Lyrik\\tEchtes Leben, Realistischer Roman\\tAbenteuer\\n9783579070766\\tPolitik & Gesellschaft\\tWirtschaft & Recht\\n9783579081731\\tTheologie\\n9783453268654\\tRomantasy\\n9783809427520\\tFreizeit & Hobby\\tKabarett & Satire\\n9783442473649\\tRomane & Erzählungen\\n9783734104619\\tKrimi & Thriller\\n9783641057886\\tKrimi & Thriller\\n9783442267552\\tFantasy\\n9783641090791\\tPolitik & Gesellschaft\\n9783641093488\\tLiebe, Beziehung und Freundschaft\\n9783641117627\\tKrimi & Thriller\\n9783641045081\\tKrimi & Thriller\\n9783641121945\\tScience Fiction\\n9783328101864\\tRomane & Erzählungen\\n9783641033125\\tMystery\\n9783570308059\\tFantasy und Science Fiction\\tEchtes Leben, Realistischer Roman\\tGeister- und Gruselgeschichten\\n9783641018894\\tRomane & Erzählungen\\n9783641023003\\tRomane & Erzählungen\\n9783717519003\\tRomane & Erzählungen\\tBriefe, Essays, Gespräche\\n9783442314782\\tRomane & Erzählungen\\n9783442174317\\tLebenshilfe & Psychologie\\n9783328100775\\tRomane & Erzählungen\\n9783641039523\\tKrimi & Thriller\\n9783641191580\\tScience Fiction\\n9783641078287\\tScience Fiction\\n9783442715299\\tRomane & Erzählungen\\n9783641137137\\tEssen & Trinken\\n9783442351053\\tFrauenunterhaltung\\n9783641117382\\tScience Fiction\\n9783442428786\\tKrimi & Thriller\\tFrauenunterhaltung\\n9783641107918\\tAbenteuer\\n9783844509519\\tKrimi & Thriller\\n9783453534797\\tScience Fiction\\n9783442219933\\tGanzheitliche Psychologie\\n9783641077549\\tScience Fiction\\n9783809439929\\tEssen & Trinken\\n9783453281097\\tNatur, Wissenschaft, Technik\\n9783641073947\\tRomane & Erzählungen\\n9783641118716\\tFrauenunterhaltung\\n9783896673473\\tRomane & Erzählungen\\n9783517096285\\tFreizeit & Hobby\\n9783641064235\\tRatgeber Partnerschaft & Sexualität\\n9783442383467\\tKrimi & Thriller\\n9783442466795\\tKrimi & Thriller\\n9783453421936\\tFrauenunterhaltung\\n9783641096441\\tKrimi & Thriller\\n9783424200522\\tLebenshilfe & Psychologie\\tLifestyle\\n9783641102104\\tKrimi & Thriller\\n9783442221110\\tLebenshilfe & Psychologie\\n9783641087586\\tHistorische Romane\\n9783517096988\\tEssen & Trinken\\n9783827501202\\tPolitik & Gesellschaft\\n9783424153064\\tLebenshilfe & Psychologie\\tGanzheitliche Psychologie\\tSchicksalsdeutung\\n9783421040886\\tGarten & Landschaftsarchitektur\\n9783734106842\\tHistorische Romane\\n9783442216338\\tNaturheilweisen\\n9783579085432\\tSpiritualität & Religion\\n9783453534582\\tFrauenunterhaltung\\n9783641067915\\tRomantasy\\n9783453315761\\tMystery\\n9783453604872\\tGesundheit & Ernährung\\n9783421045836\\tRomane & Erzählungen\\n9783641105082\\tPolitik & Gesellschaft\\n9783827500496\\t(Zeit-) Geschichte\\n9783570308097\\tPolitik & Gesellschaft\\n9783641080396\\tKrimi & Thriller\\tHistorische Romane\\n9783442740154\\tRomane & Erzählungen\\n9783641093358\\tKrimi & Thriller\\n9783641143077\\tFitness & Sport\\n9783453317369\\tFantasy\\n9783442170845\\tLebenshilfe & Psychologie\\tGanzheitliche Psychologie\\n9783453422162\\tRomane & Erzählungen\\n9783641056353\\tGesundheit & Ernährung\\tKabarett & Satire\\n9783641187743\\tRomance\\n9783837113259\\tKabarett & Satire\\n9783570307526\\tKrimis und Thriller\\n9783837139020\\tLiteratur & Unterhaltung Satire\\tRomane & Erzählungen\\n9783453318328\\tFantasy\\n9783641065249\\tBiographien & Autobiographien\\tSport\\n9783844519891\\tRomane & Erzählungen\\n9783579080208\\tTheologie\\n9783517096322\\tEssen & Trinken\\n9783453422841\\tKrimi & Thriller\\n9783844508970\\tKrimi & Thriller\\n9783844516296\\tRomane & Erzählungen\\n9783442372522\\tFrauenunterhaltung\\n9783641135744\\tKunst & Kultur\\n9783791372716\\tDetektivgeschichten\\n9783641065690\\tSpiritualität & Religion\\tLebensgestaltung\\tRomane & Erzählungen\\n9783641116439\\tScience Fiction\\n9783837112955\\tKinderbuch & Jugendbuch\\n9783837120790\\tKinderbuch & Jugendbuch\\n9783867178051\\tRomane & Erzählungen\\n9783844508987\\tKlassiker & Lyrik\\tEchtes Leben, Realistischer Roman\\n9783442737277\\tRomane & Erzählungen\\n9783453601567\\tFitness & Sport\\tLebenshilfe & Psychologie\\n9783442314690\\tRomane & Erzählungen\\n9783442742776\\tKrimi & Thriller\\n9783442469963\\tFantasy\\n9783442379873\\tFrauenunterhaltung\\n9783641139032\\tRomane & Erzählungen\\n9783442218257\\tEsoterische Romane\\n9783844504767\\tKrimi & Thriller\\n9783734105760\\tKrimi & Thriller\\n9783442748211\\tKrimi & Thriller\\n9783894806842\\tPolitik & Gesellschaft\\n9783442221776\\tPsychologie\\tLebenshilfe & Psychologie\\n9783894804237\\tKrimi & Thriller\\n9783579086552\\tEltern & Familie\\tPsychologie\\n9783442174898\\tLebenshilfe & Psychologie\\tGesundheit & Ernährung\\n9783844503289\\tRomane & Erzählungen\\n9783641064464\\tRomane & Erzählungen\\n9783442472444\\tRomane & Erzählungen\\n9783453359390\\tKrimi & Thriller\\n9783641056483\\t(Zeit-) Geschichte\\n9783734100406\\tKrimi & Thriller\\n9783442486694\\tRomane & Erzählungen\\n9783442264087\\tScience Fiction\\n9783453580572\\tErotik\\n9783641045913\\tBiographien & Autobiographien\\n9783421046543\\tRomane & Erzählungen\\n9783453603691\\tLifestyle\\tSport\\n9783641104160\\tPsychologie\\n9783442715404\\tRomane & Erzählungen\\n9783641143688\\tKrimi & Thriller\\n9783442484423\\tKrimi & Thriller\\n9783809438618\\tFreizeit & Hobby\\n9783442380978\\tFrauenunterhaltung\\n9783570401576\\tFantasy und Science Fiction\\tEchtes Leben, Realistischer Roman\\tAbenteuer\\n9783421047113\\t(Zeit-) Geschichte\\n9783442339129\\tGanzheitliche Psychologie\\n9783641082260\\tRomane & Erzählungen\\n9783641100568\\tScience Fiction\\n9783453532588\\tFrauenunterhaltung\\tFantasy\\n9783844516319\\tRomane & Erzählungen\\n9783570103050\\tPolitik & Gesellschaft\\n9783641048389\\tFantasy\\n9783442312757\\tKrimi & Thriller\\tRomane & Erzählungen\\n9783466345878\\tEltern & Familie\\n9783641200930\\tScience Fiction\\n9783809439691\\tKabarett & Satire\\n9783641195779\\tKinderbuch & Jugendbuch\\n9783442392995\\tFreizeit & Hobby\\n9783827500724\\tBiographien & Autobiographien\\n9783442338511\\tGanzheitliche Psychologie\\n9783570551967\\tSachbuch Philosophie\\n9783421047250\\tPolitik & Gesellschaft\\n9783641140052\\tEchtes Leben, Realistischer Roman\\tAbenteuer\\n9783442733767\\tKrimi & Thriller\\n9783453435735\\tHorror\\n9783844510898\\tKrimi & Thriller\\n9783896674180\\tBiographien & Autobiographien\\tKrimi & Thriller\\n9783791370965\\tEchtes Leben, Realistischer Roman\\tKunst, Musik\\n9783641148287\\tKrimi & Thriller\\n9783641192556\\tScience Fiction\\n9783453314504\\tScience Fiction\\n9783442455072\\tFrauenunterhaltung\\n9783641142124\\tEchtes Leben, Realistischer Roman\\tKinderbuch & Jugendbuch\\tFamilie\\n9783641152147\\tKrimi & Thriller\\n9783579016399\\tTheologie\\tGemeindearbeit\\n9783442485079\\tFrauenunterhaltung\\tErotik\\n9783453603936\\tLebenshilfe & Psychologie\\n9783442756209\\tRomane & Erzählungen\\tFrauenunterhaltung\\n9783837136593\\tLiteratur & Unterhaltung Satire\\tTiergeschichten\\n9783809436782\\tFreizeit & Hobby\\n9783641072339\\tRomance\\n9783641119775\\tRomane & Erzählungen\\n9783453422414\\tRomane & Erzählungen\\n9783641138141\\tKinderbuch & Jugendbuch\\tEchtes Leben, Realistischer Roman\\n9783641054427\\tFrauenunterhaltung\\n9783837133936\\tKrimi & Thriller\\n9783442174621\\tEltern & Familie\\tKabarett & Satire\\n9783442746446\\tRomane & Erzählungen\\n9783641152710\\tFrauenunterhaltung\\n9783641106638\\tRomance\\n9783837176278\\tRomane & Erzählungen\\n9783809433323\\tFreizeit & Hobby\\n9783844512625\\tRatgeber Partnerschaft & Sexualität\\tRomane & Erzählungen\\tLifestyle\\n9783442314898\\tRomane & Erzählungen\\n9783453523012\\tMystery\\tFantasy\\n9783421043313\\tRomane & Erzählungen\\n9783453422582\\tHistorische Romane\\tRomane & Erzählungen\\n9783453604117\\tInfotainment & erzählendes Sachbuch\\n9783734105005\\tFrauenunterhaltung\\n9783641139728\\tFantasy und Science Fiction\\tLiebe, Beziehung und Freundschaft\\n9783641102845\\tFrauenunterhaltung\\tHistorische Romane\\n9783641182212\\tKinderbuch & Jugendbuch\\tEchtes Leben, Realistischer Roman\\tTiergeschichten\\n9783453811294\\tFrauenunterhaltung\\n9783641073435\\tRomane & Erzählungen\\n9783442218233\\tEsoterische Romane\\n9783641121372\\tFrauenunterhaltung\\n9783442374731\\tKrimi & Thriller\\n9783570380475\\tFantasy und Science Fiction\\tLiebe, Beziehung und Freundschaft\\n9783570301944\\tRomane & Erzählungen\\tSchullektüre\\n9783844511932\\tRomane & Erzählungen\\n9783442269891\\tFantasy\\n9783442476152\\tKrimi & Thriller\\n9783641186029\\tKrimi & Thriller\\n9783641067953\\tPolitik & Gesellschaft\\n9783641053611\\tKunst & Kultur\\tFrauenunterhaltung\\n9783579087245\\tPolitik & Gesellschaft\\tSpiritualität & Religion\\n9783837174205\\tRomane & Erzählungen\\n9783442381371\\tFrauenunterhaltung\\n9783641061739\\tRomane & Erzählungen\\n9783421045331\\tEltern & Familie\\n9783453604209\\tInfotainment & erzählendes Sachbuch\\n9783442714407\\tKrimi & Thriller\\tRomane & Erzählungen\\n9783844507102\\tKrimi & Thriller\\n9783886809431\\t(Zeit-) Geschichte\\n9783442177578\\tGesundheit & Ernährung\\n9783641073381\\tFrauenunterhaltung\\n9783453019904\\tGesundheit & Ernährung\\n9783442483822\\tKrimi & Thriller\\n9783442158751\\tInfotainment & erzählendes Sachbuch\\tSchicksalsberichte\\n9783579081502\\tTheologie\\n9783641067175\\tBiographien & Autobiographien\\n9783791372839\\tKinderbuch & Jugendbuch\\n9783453407664\\tFrauenunterhaltung\\n9783641189822\\tRomantasy\\n9783453317840\\tScience Fiction\\n9783837132199\\tKabarett & Satire\\n9783442372355\\tHistorische Romane\\n9783442482481\\tErotik\\tFrauenunterhaltung\\n9783641093082\\tRomane & Erzählungen\\n9783579086590\\tPolitik & Gesellschaft\\tLebenshilfe & Psychologie\\tSterben, Tod und Trauer\\n9783641155254\\tFantasy und Science Fiction\\n9783844502220\\tEchtes Leben, Realistischer Roman\\tAbenteuer\\n9783734103292\\tKrimi & Thriller\\n9783421040473\\tArchitektur\\n9783641090104\\tRomantasy\\n9783453596467\\tFantasy und Science Fiction\\tLiebe, Beziehung und Freundschaft\\tEchtes Leben, Realistischer Roman\\n9783453432727\\tHorror\\n9783641075255\\tFantasy\\n9783336547883\\tRomane & Erzählungen\\n9783764506445\\tKrimi & Thriller\\n9783579053714\\tTheologie\\n9783442738144\\tRomane & Erzählungen\\n9783421046420\\t(Zeit-) Geschichte\\tPolitik & Gesellschaft\\tKunst & Kultur\\n9783899407907\\tKrimi & Thriller\\n9783442485635\\tFrauenunterhaltung\\n9783641085339\\tKrimi & Thriller\\n9783641075132\\tRomantasy\\n9783641025199\\tRomane & Erzählungen\\n9783442341597\\tGanzheitliche Psychologie\\n9783442481460\\tKrimi & Thriller\\n9783844503050\\tKrimi & Thriller\\n9783641189846\\tKrimi & Thriller\\n9783442340163\\tGanzheitliche Psychologie\\tKörper & Seele\\n9783641043391\\tRomantasy\\n9783641047856\\tFantasy\\n9783453504059\\tKrimi & Thriller\\n9783641061586\\tScience Fiction\\n9783453355965\\tFrauenunterhaltung\\n9783453602847\\tInfotainment & erzählendes Sachbuch\\tKabarett & Satire\\n9783641116835\\tScience Fiction\\n9783641132378\\tScience Fiction\\n9783641151386\\tKrimi & Thriller\\n9783453199088\\tScience Fiction\\n9783734160127\\tFantasy\\n9783641011406\\tEnergieheilung\\n9783466371839\\tSpiritualität & Religion\\tPolitik & Gesellschaft\\n9783442482696\\tRomane & Erzählungen\\n9783466346462\\tLebenshilfe & Psychologie\\tPsychologie\\n9783641094539\\tPolitik & Gesellschaft\\n9783809439486\\tEssen & Trinken\\n9783442175437\\tGesundheit & Ernährung\\n9783421039699\\tGarten & Landschaftsarchitektur\\n9783442378470\\tHistorische Romane\\n9783641192297\\tScience Fiction\\n9783570172117\\tDetektivgeschichten\\tAbenteuer\\tLiebe, Beziehung und Freundschaft\\n9783421046765\\tRomane & Erzählungen\\n9783453186842\\tScience Fiction\\n9783570552872\\tPolitik & Gesellschaft\\tNatur, Wissenschaft, Technik\\n9783442158713\\tEltern & Familie\\n9783442153749\\tNatur, Wissenschaft, Technik\\n9783328600329\\tPolitik & Gesellschaft\\n9783453438057\\tKrimi & Thriller\\n9783734104176\\tFrauenunterhaltung\\n9783442488186\\tKrimi & Thriller\\n9783328103035\\tKrimi & Thriller\\n9783453201026\\tBiographien & Autobiographien\\n9783453280564\\tNatur, Wissenschaft, Technik\\n9783641054526\\tFantasy und Science Fiction\\n9783442747320\\tRomane & Erzählungen\\n9783734101823\\tRomance\\n9783641066185\\tPolitik & Gesellschaft\\n9783641102319\\tFrauenunterhaltung\\n9783641137823\\tKrimi & Thriller\\n9783641181055\\tFrauenunterhaltung\\n9783844502350\\tRomane & Erzählungen\\n9783809436768\\tFreizeit & Hobby\\n9783466309450\\tLebenshilfe & Psychologie\\tKörper & Seele\\tGanzheitlich Leben\\n9783641046699\\tKrimi & Thriller\\n9783809432036\\tBeschäftigung, Malen, Rätseln\\tFreizeit & Hobby\\tEchtes Leben, Realistischer Roman\\n9783837140217\\tKabarett & Satire\\n9783837108880\\tRomane & Erzählungen\\n9783442173211\\tLebenshilfe & Psychologie\\n9783641119959\\tFitness & Sport\\n9783570165157\\tKrimis und Thriller\\n9783442757176\\tKrimi & Thriller\\n9783453533523\\tKrimi & Thriller\\tMystery\\n9783442381289\\tKrimi & Thriller\\n9783641165864\\tKrimi & Thriller\\n9783453318540\\tRomantasy\\n9783442461738\\tKrimi & Thriller\\n9783453359017\\tHistorische Romane\\n9783442174133\\tRatgeber Partnerschaft & Sexualität\\n9783641143145\\tKrimi & Thriller\\n9783442478811\\tRomane & Erzählungen\\n9783630620428\\tKlassiker & Lyrik\\n9783844501735\\tKinderbuch & Jugendbuch\\n9783641121969\\tRomane & Erzählungen\\n9783641212810\\tScience Fiction\\n9783442482917\\tRomane & Erzählungen\\n9783453317642\\tScience Fiction\\n9783517089591\\tGesundheit & Ernährung\\n9783442163199\\tWohnen & Innenarchitektur\\n9783453534629\\tLiebe, Beziehung und Freundschaft\\tFantasy und Science Fiction\\n9783442382941\\tFrauenunterhaltung\\n9783453438071\\tErotik\\n9783641127329\\tKrimi & Thriller\\n9783453197428\\tEltern & Familie\\n9783899404326\\tKinderbuch & Jugendbuch\\n9783570551424\\tPolitik & Gesellschaft\\tBiographien & Autobiographien\\n9783641142599\\tLiebe, Beziehung und Freundschaft\\n9783517096841\\tLebenshilfe & Psychologie\\n9783791355429\\tKunst\\n9783641078195\\tScience Fiction\\n9783641053130\\tKrimi & Thriller\\n9783641064549\\tFrauenunterhaltung\\n9783641102814\\tFrauenunterhaltung\\n9783442150427\\tPsychologie\\n9783641053369\\tKrimis und Thriller\\n9783844505795\\tRomane & Erzählungen\\n9783641054649\\tKrimi & Thriller\\n9783453855830\\tEssen & Trinken\\n9783570164693\\tEchtes Leben, Realistischer Roman\\tAbenteuer\\n9783641119287\\tFrauenunterhaltung\\n9783570139530\\tEchtes Leben, Realistischer Roman\\tLiebe, Beziehung und Freundschaft\\tNatur, Tiere, Umwelt, Mensch\\n9783813507744\\tPolitik & Gesellschaft\\tBiographien & Autobiographien\\n9783641084868\\tFrauenunterhaltung\\n9783641044411\\tMystery\\n9783734106125\\tKrimi & Thriller\\n9783896675880\\tRomane & Erzählungen\\n9783442347032\\tGanzheitliche Psychologie\\n9783641120986\\tFrauenunterhaltung\\n9783641102005\\tKrimi & Thriller\\n9783641039141\\tPolitik & Gesellschaft\\n9783328103370\\tSchicksalsberichte\\t(Zeit-) Geschichte\\tBiographien & Autobiographien\\n9783453316652\\tFantasy\\n9783442374779\\tKrimi & Thriller\\n9783453702967\\tÜbernatürliches\\n9783453602465\\tKommunikation & Beruf\\n9783442336579\\tGanzheitliche Psychologie\\tKörper & Seele\\n9783867179119\\tAbenteuer\\tEchtes Leben, Realistischer Roman\\n9783844509267\\tRomane & Erzählungen\\n9783717523543\\tRomane & Erzählungen\\n9783579057644\\tTheologie\\n9783641111458\\tScience Fiction\\n9783570130049\\tSportgeschichten\\tEchtes Leben, Realistischer Roman\\n9783424630596\\tÜbernatürliches\\n9783809438113\\tEssen & Trinken\\n9783579082349\\tTheologie\\tGemeindearbeit\\n9783442487448\\tFrauenunterhaltung\\n9783570308875\\tFantasy und Science Fiction\\tEchtes Leben, Realistischer Roman\\n9783570311394\\tLiebe, Beziehung und Freundschaft\\n9783466456673\\tLebenshilfe & Psychologie\\n9783791372174\\tKinderbuch & Jugendbuch\\n9783570310236\\tLiebe, Beziehung und Freundschaft\\n9783453604865\\tBiographien & Autobiographien\\n9783442373611\\tRomane & Erzählungen\\n9783641171063\\tRomane & Erzählungen\\n9783641079543\\tEchtes Leben, Realistischer Roman\\tAbenteuer\\n9783809439424\\tEssen & Trinken\\n9783734105289\\tFrauenunterhaltung\\n4250938800746\\tKinderbuch & Jugendbuch\\n9783453702875\\tGanzheitliche Psychologie\\n9783641083014\\tFrauenunterhaltung\\n9783442715756\\tKrimi & Thriller\\n9783734102073\\tKrimi & Thriller\\n9783867175760\\tKrimi & Thriller\\n9783867177375\\tRomane & Erzählungen\\n9783328102458\\tKrimi & Thriller\\tRomane & Erzählungen\\n9783837112511\\tNatur, Wissenschaft, Technik\\n9783641085711\\tRatgeber Partnerschaft & Sexualität\\n9783641095901\\tLebenshilfe & Psychologie\\n9783641166335\\tRatgeber Partnerschaft & Sexualität\\n9783424200942\\tPsychologie\\tLebenshilfe & Psychologie\\n9783570312216\\tAbenteuer\\tLiebe, Beziehung und Freundschaft\\tEchtes Leben, Realistischer Roman\\n9783809428626\\tGesundheit & Ernährung\\n9783453603790\\tKabarett & Satire\\n9783641102630\\tEssen & Trinken\\n9783570220658\\tFantasy und Science Fiction\\tAbenteuer\\tEchtes Leben, Realistischer Roman\\n9783442468089\\tKrimi & Thriller\\n9783442176526\\tLebenshilfe & Psychologie\\tFreizeit & Hobby\\n9783894809577\\tFantasy\\n9783570225844\\tEchtes Leben, Realistischer Roman\\tLiebe, Beziehung und Freundschaft\\tNatur, Tiere, Umwelt, Mensch\\n9783837104547\\tKinderbuch & Jugendbuch\\tKabarett & Satire\\n9783641042912\\tFantasy\\n9783442218059\\tWeisheiten der Welt\\n9783453703612\\tGanzheitliche Psychologie\\n9783641136550\\tRomane & Erzählungen\\n9783442749683\\tNatur, Wissenschaft, Technik\\n9783844523805\\tAbenteuer\\tKinderbuch & Jugendbuch\\tKrimi & Thriller\\n9783442744763\\tRomane & Erzählungen\\n9783442484232\\tErotik\\n9783899407921\\tKrimi & Thriller\\n9783641139278\\tPolitik & Gesellschaft\\n9783442714568\\tRomane & Erzählungen\\n9783453160293\\tFreizeit & Hobby\\n9783641105204\\tBiographien & Autobiographien\\tSpiritualität & Religion\\n9783641213183\\tScience Fiction\\n9783641195335\\tSportgeschichten\\n9783837119176\\tKrimi & Thriller\\n9783641203962\\tFantasy\\tAbenteuer\\tFantasy und Science Fiction\\n9783442742868\\tRomane & Erzählungen\\n9783641104696\\tFrauenunterhaltung\\n9783466370320\\tPolitik & Gesellschaft\\tSpiritualität & Religion\\n9783442378418\\tFrauenunterhaltung\\n9783570552131\\t(Zeit-) Geschichte\\n9783453317154\\tScience Fiction\\n9783641134136\\tRomane & Erzählungen\\n9783641120085\\tKrimi & Thriller\\n9783734104435\\tKrimi & Thriller\\n9783453419391\\tHistorische Romane\\n9783442221042\\tÜbernatürliches\\n9783579052007\\tTheologie\\n9783641053468\\tKrimi & Thriller\\n9783442220946\\tGanzheitliche Psychologie\\n9783717521785\\tRomane & Erzählungen\\n9783453545793\\tErotik\\n9783453438477\\tKrimi & Thriller\\n9783641132941\\tEchtes Leben, Realistischer Roman\\tFantasy und Science Fiction\\tAbenteuer\\n9783453700826\\tWeisheiten der Welt\\n9783641128463\\tScience Fiction\\n9783630875200\\tRomane & Erzählungen\\n9783641126827\\tScience Fiction\\n9783328103325\\tKrimi & Thriller\\n9783421039811\\tGarten & Landschaftsarchitektur\\n9783453319271\\tScience Fiction\\n9783453269439\\tFrauenunterhaltung\\n9783641083687\\tGeschichte, Politik\\tBiographien & Autobiographien\\tEchtes Leben, Realistischer Roman\\n9783641186531\\tScience Fiction\\n9783641070595\\tKrimi & Thriller\\n9783466371679\\tEltern & Familie\\tReligionsunterricht\\n9783641067564\\tFrauenunterhaltung\\n9783442218370\\tWeisheiten der Welt\\n9783630620480\\tRomane & Erzählungen\\n9783734103759\\tFrauenunterhaltung\\n9783328100409\\tFrauenunterhaltung\\n9783453421646\\tKrimi & Thriller\\n9783466346974\\tLebenshilfe & Psychologie\\n9783844523225\\tKrimi & Thriller\\tAbenteuer\\tLiebe, Beziehung und Freundschaft\\n9783641019594\\tWirtschaft & Recht\\n9783837138160\\tKunst, Musik\\n9783517089812\\tFitness & Sport\\n9783442177240\\tLebenshilfe & Psychologie\\tRatgeber Partnerschaft & Sexualität\\tLebensgestaltung\\n9783641144876\\tFrauenunterhaltung\\n9783641037185\\tHistorische Romane\\n9783453603769\\tGesundheit & Ernährung\\n9783844511758\\tRomane & Erzählungen\\n9783791371030\\tKunst, Musik\\tEchtes Leben, Realistischer Roman\\n9783764502874\\tFrauenunterhaltung\\n9783442482856\\tKrimi & Thriller\\n9783641103149\\tFrauenunterhaltung\\n9783791383460\\tKunst\\n9783791370460\\tKunst, Musik\\tEchtes Leben, Realistischer Roman\\n9783641119119\\tKrimi & Thriller\\n9783328103158\\tFrauenunterhaltung\\n9783641186333\\tKrimi & Thriller\\n9783778782828\\tGanzheitliche Psychologie\\n9783837135121\\tFrauenunterhaltung\\n9783453435742\\tHorror\\n9783641141110\\tRomane & Erzählungen\\n9783641095246\\tScience Fiction\\n9783424152876\\tLebenshilfe & Psychologie\\tKörper & Seele\\n9783453702899\\tKörper & Seele\\tWeisheiten der Welt\\n9783641069155\\tKrimi & Thriller\\n9783328102274\\tLebenshilfe & Psychologie\\n9783844506648\\tRomane & Erzählungen\\n9783466310647\\tEltern & Familie\\n9783894807986\\tPolitik & Gesellschaft\\tGesundheit & Ernährung\\n9783442742103\\tBiographien & Autobiographien\\n9783641053413\\tScience Fiction\\n9783844503586\\tRomane & Erzählungen\\n9783570303610\\tKrimis und Thriller\\n9783641071301\\tLifestyle\\tKabarett & Satire\\n9783837127720\\tKrimi & Thriller\\n9783827500755\\tNatur, Wissenschaft, Technik\\n9783453417915\\tKrimi & Thriller\\n9783778792797\\tGanzheitliche Psychologie\\n9783641129231\\tEchtes Leben, Realistischer Roman\\n9783453470866\\tHistorische Romane\\n9783641039356\\tKrimi & Thriller\\n9783641142612\\tKrimi & Thriller\\n9783734161704\\tFantasy\\n9783641173715\\tFrauenunterhaltung\\n9783442218264\\tEnergieheilung\\n9783570311677\\tLiebe, Beziehung und Freundschaft\\n9783424631081\\tPsychologie\\n9783442118793\\tGanzheitliche Psychologie\\n9783641168933\\tScience Fiction\\n9783837175882\\tRomane & Erzählungen\\n9783641081256\\tHistorische Romane\\n9783453601529\\tKabarett & Satire\\tBiographien & Autobiographien\\n9783844507775\\tRomane & Erzählungen\\n9783899403442\\tRomane & Erzählungen\\n9783641039042\\tNatur, Wissenschaft, Technik\\n9783442264124\\tFantasy\\n9783837170832\\tRomane & Erzählungen\\n9783466100026\\tEltern & Familie\\n9783641154905\\tKrimi & Thriller\\n9783570550335\\tBiographien & Autobiographien\\n9783570501658\\tNatur, Wissenschaft, Technik\\n9783442480456\\tFantasy\\n9783421047625\\tKlassiker & Lyrik\\n9783328102359\\tRomane & Erzählungen\\n9783641031695\\tRomane & Erzählungen\\n9783421040374\\tWohnen & Innenarchitektur\\n9783641046064\\tFrauenunterhaltung\\n9783641072292\\tRomantasy\\tRomane & Erzählungen\\n9783570312988\\tEchtes Leben, Realistischer Roman\\n9783442716241\\tRomane & Erzählungen\\n9783453602328\\tEltern & Familie\\n9783641042813\\tLebenshilfe & Psychologie\\n9783734160509\\tFantasy\\n9783837120776\\tKinderbuch & Jugendbuch\\n9783442168170\\tLebenshilfe & Psychologie\\n9783442222247\\tLebenshilfe & Psychologie\\n9783328103363\\tRomane & Erzählungen\\n9783837138498\\tFantasy\\tLustige Geschichten, Witze\\tLifestyle\\n9783328101734\\tFrauenunterhaltung\\n9783453602298\\tScience Fiction\\n9783453701182\\tGanzheitliche Psychologie\\tLebenshilfe & Psychologie\\n9783442733323\\tKrimi & Thriller\\n9783641091293\\tFrauenunterhaltung\\tRomane & Erzählungen\\n9783844500462\\tRomane & Erzählungen\\n9783641036126\\tEltern & Familie\\n9783641154745\\tScience Fiction\\n9783424151268\\tKörper & Seele\\n9783442753826\\tKrimi & Thriller\\n9783641104146\\tKrimi & Thriller\\n9783453419216\\tErotik\\n9783466346257\\tLebenshilfe & Psychologie\\n9783641030674\\tLiebe, Beziehung und Freundschaft\\tEchtes Leben, Realistischer Roman\\n9783641081690\\tFantasy\\n9783424152937\\tLebenshilfe & Psychologie\\tGanzheitliche Psychologie\\n9783641133016\\tRomane & Erzählungen\\n9783641111236\\tFrauenunterhaltung\\n9783899407877\\tKrimi & Thriller\\n9783641073572\\tPolitik & Gesellschaft\\n9783641081485\\tPolitik & Gesellschaft\\n9783837112313\\tKrimi & Thriller\\n9783442486557\\tKrimi & Thriller\\n9783453437975\\tKrimi & Thriller\\n9783641058760\\tPolitik & Gesellschaft\\n9783641171599\\tSchicksalsberichte\\n9783453437289\\tFrauenunterhaltung\\n9783442152445\\tRomane & Erzählungen\\n9783844509441\\tRomane & Erzählungen\\n9783641121037\\tFrauenunterhaltung\\n9783641084301\\tScience Fiction\\n9783641177317\\tKinderbuch & Jugendbuch\\tAbenteuer\\tEchtes Leben, Realistischer Roman\\n9783453315976\\tScience Fiction\\n9783579065960\\tSpiritualität & Religion\\n9783641122676\\tHistorische Romane\\n9783442748457\\tKrimi & Thriller\\n9783641079154\\tComic & Cartoon\\tFreizeit & Hobby\\n9783442176687\\tGesundheit & Ernährung\\tEssen & Trinken\\n9783442136933\\tNaturheilweisen\\tGesundheit & Ernährung\\n9783641025915\\tKrimi & Thriller\\n9783442734658\\tKrimi & Thriller\\n9783328100157\\tRomane & Erzählungen\\n9783442747481\\tRomane & Erzählungen\\n9783641056698\\tKrimi & Thriller\\n9783570311424\\tFantasy und Science Fiction\\n9783837173406\\tRomane & Erzählungen\\n9783630873695\\tKlassiker & Lyrik\\n9783453317567\\tScience Fiction\\n9783641165611\\tKrimi & Thriller\\n9783641060763\\tKrimi & Thriller\\n9783641113209\\tBiographien & Autobiographien\\n9783328100768\\tRomane & Erzählungen\\n9783896676351\\tRomane & Erzählungen\\n9783517095158\\tGesundheit & Ernährung\\n9783630621678\\tRomane & Erzählungen\\n9783424151893\\tNaturheilweisen\\n9783328101284\\tFrauenunterhaltung\\tRomane & Erzählungen\\n9783844502985\\tRomane & Erzählungen\\n9783867176408\\tAbenteuer\\tEchtes Leben, Realistischer Roman\\n9783453675445\\tRomane & Erzählungen\\n9783453702783\\tÜbernatürliches\\n9783734102172\\tFrauenunterhaltung\\n9783641041700\\tFantasy\\n9783453411524\\tKrimi & Thriller\\n9783641053727\\tEssen & Trinken\\tGesundheit & Ernährung\\n9783572081721\\tGesundheit & Ernährung\\tEssen & Trinken\\n9783442486762\\tErotik\\n9783641045340\\tKrimi & Thriller\\n9783421066039\\tRomane & Erzählungen\\n9783641157944\\tRomance\\n9783570172827\\tKinderbuch & Jugendbuch\\n9783453269385\\tKrimi & Thriller\\n9783442486939\\tKrimi & Thriller\\n9783641076115\\tRomane & Erzählungen\\tFrauenunterhaltung\\n9783867174411\\tKrimi & Thriller\\n9783641057978\\tFantasy\\n9783837131147\\tAbenteuer\\n9783764531515\\tFantasy\\n9783837138535\\tNatur, Tiere, Umwelt, Mensch\\tPsychologie\\tKabarett & Satire\\n9783641056582\\tFantasy und Science Fiction\\n9783453436404\\tKrimi & Thriller\\n9783466457441\\tEltern & Familie\\tEchtes Leben, Realistischer Roman\\n9783453316904\\tScience Fiction\\n9783442715954\\tKrimi & Thriller\\n9783641096373\\tFrauenunterhaltung\\n9783453532519\\tFantasy\\n9783641181260\\tFantasy\\n9783442158980\\tPolitik & Gesellschaft\\n9783328103868\\tRomane & Erzählungen\\n9783579086651\\tSpiritualität & Religion\\n9783630621296\\tRomane & Erzählungen\\n9783734105913\\tFrauenunterhaltung\\n9783641120610\\tFrauenunterhaltung\\n9783466305445\\tLebenshilfe & Psychologie\\n9783641069308\\tMystery\\n9783570551707\\tBiographien & Autobiographien\\n9783641089665\\tPolitik & Gesellschaft\\tInfotainment & erzählendes Sachbuch\\n9783453316614\\tFantasy\\n9783809434955\\tEssen & Trinken\\n9783570165102\\tFantasy und Science Fiction\\tLiebe, Beziehung und Freundschaft\\n9783453316300\\tScience Fiction\\n9783453271906\\tRomane & Erzählungen\\n9783641197629\\tKrimi & Thriller\\n9783641052133\\tPolitik & Gesellschaft\\n9783442391950\\tEssen & Trinken\\n9783570553688\\tBiographien & Autobiographien\\n9783844518320\\tFantasy\\n9783641231392\\tScience Fiction\\n9783453202771\\tPolitik & Gesellschaft\\n9783641185145\\tKrimi & Thriller\\n9783844507843\\tScience Fiction\\n9783809429463\\tFreizeit & Hobby\\n9783453580602\\tFrauenunterhaltung\\n9783641083885\\tKrimi & Thriller\\n9783641042325\\tRomane & Erzählungen\\n9783579025834\\tTheologie\\tSpiritualität & Religion\\n9783453271692\\tScience Fiction\\n9783641160777\\tScience Fiction\\n9783809437703\\tFreizeit & Hobby\\n9783630620060\\tKlassiker & Lyrik\\n9783630621920\\tRomane & Erzählungen\\n9783844525946\\tKrimi & Thriller\\n9783442486427\\tScience Fiction\\n9783453615083\\tNatur, Wissenschaft, Technik\\n9783641074685\\tBiographien & Autobiographien\\n9783844521481\\tRomane & Erzählungen\\n9783442135332\\tGesundheit & Ernährung\\n9783630875132\\tRomane & Erzählungen\\n9783837122770\\tKabarett & Satire\\n9783442475919\\tKrimi & Thriller\\n9783641202613\\tScience Fiction\\n9783442479801\\tKrimi & Thriller\\n9783641124304\\tKrimi & Thriller\\n9783517092973\\tGesundheit & Ernährung\\n9783453439580\\tKrimi & Thriller\\n9783453603929\\tPolitik & Gesellschaft\\n9783844515992\\tEchtes Leben, Realistischer Roman\\n9783424152289\\tGesundheit & Ernährung\\n9783641135126\\tRomance\\n9783579066318\\tWirtschaft & Recht\\tPolitik & Gesellschaft\\n9783442158973\\tGanzheitliche Psychologie\\n9783453437784\\tKrimi & Thriller\\n9783442483600\\tKrimi & Thriller\\n9783791383156\\tEssen & Trinken\\n9783778773444\\tÜbernatürliches\\n9783453603325\\tBiographien & Autobiographien\\tKabarett & Satire\\n9783442471379\\tRomane & Erzählungen\\n9783453404793\\tFrauenunterhaltung\\n9783453439405\\tKrimi & Thriller\\tRomane & Erzählungen\\n9783442739929\\tRomane & Erzählungen\\n9783442159215\\tBiographien & Autobiographien\\n9783570553756\\t(Zeit-) Geschichte\\n9783641074180\\tPolitik & Gesellschaft\\n9783641134945\\tScience Fiction\\n9783442176939\\tFitness & Sport\\n9783641090821\\tPolitik & Gesellschaft\\n9783641084943\\tKrimi & Thriller\\n9783453436763\\tKrimi & Thriller\\n9783570162637\\tEchtes Leben, Realistischer Roman\\n9783837173215\\tKrimis und Thriller\\n9783442159345\\tInfotainment & erzählendes Sachbuch\\n9783641206925\\tAbenteuer\\n9783442482238\\tFantasy\\n9783453645387\\tBiographien & Autobiographien\\n9783442391899\\tComic & Cartoon\\n9783328102250\\tRomane & Erzählungen\\n9783641014810\\tPolitik & Gesellschaft\\n9783453534636\\tScience Fiction\\tFrauenunterhaltung\\n9783442486274\\tKrimi & Thriller\\n9783453700277\\tGanzheitliche Psychologie\\n9783424152678\\tRatgeber Partnerschaft & Sexualität\\tGanzheitlich Leben\\n9783641160791\\tScience Fiction\\n9783442487349\\tKrimi & Thriller\\n9783641149857\\tFantasy\\n9783453418332\\tKrimi & Thriller\\n9783734100185\\tFrauenunterhaltung\\n9783641127534\\tFitness & Sport\\n9783570164112\\tFamilie\\n9783641143541\\tGesundheit & Ernährung\\n9783442361670\\tKrimi & Thriller\\n9783442377305\\tFrauenunterhaltung\\n9783641124250\\tPolitik & Gesellschaft\\n9783641033194\\tEltern & Familie\\n9783424151657\\tEnergieheilung\\n9783641119973\\t(Zeit-) Geschichte\\tKrimi & Thriller\\n9783442222551\\tLebenshilfe & Psychologie\\n9783442488605\\tFrauenunterhaltung\\n9783641012540\\tEchtes Leben, Realistischer Roman\\tSportgeschichten\\n9783570172124\\tAbenteuer\\tLiebe, Beziehung und Freundschaft\\tDetektivgeschichten\\n9783844501513\\tKrimi & Thriller\\n9783466305469\\tEltern & Familie\\n9783720527378\\tEltern & Familie\\n9783641047306\\tKrimi & Thriller\\tFrauenunterhaltung\\n9783442205318\\tFrauenunterhaltung\\n9783837171693\\tNatur, Tiere, Umwelt, Mensch\\tFamilie\\tLiebe, Beziehung und Freundschaft\\n9783641116705\\tScience Fiction\\n9783837131161\\tKinderbuch & Jugendbuch\\n9783641208837\\tScience Fiction\\n9783442459230\\tKrimi & Thriller\\n9783844523041\\tRomance\\tRomane & Erzählungen\\n9783453534070\\tFantasy\\n9783453200395\\tGesundheit & Ernährung\\n9783764531539\\tScience Fiction\\n9783844503838\\tRomane & Erzählungen\\tKinderbuch & Jugendbuch\\n9783641104931\\tFrauenunterhaltung\\n9783867178990\\tEchtes Leben, Realistischer Roman\\tKlassiker & Lyrik\\n9783641012595\\tKrimi & Thriller\\n9783641010584\\tGanzheitliche Psychologie\\n9783734105784\\tFrauenunterhaltung\\n9783570550403\\t(Zeit-) Geschichte\\n9783442393237\\tLebenshilfe & Psychologie\\n9783336547876\\tRomane & Erzählungen\\n9783442158881\\tBiographien & Autobiographien\\n9783641112899\\tRomane & Erzählungen\\n9783641074968\\tKrimi & Thriller\\n9783570175804\\tAbenteuer\\n9783734106965\\tHistorische Romane\\n9783641102111\\tErotik\\n9783641114916\\tScience Fiction\\n9783442222032\\tRatgeber Partnerschaft & Sexualität\\n9783442481224\\tKrimi & Thriller\\n9783844523591\\tKinderbuch & Jugendbuch\\tPolitik & Gesellschaft\\tKabarett & Satire\\n9783442479917\\tKrimi & Thriller\\n9783813506655\\tNatur, Wissenschaft, Technik\\n9783453269552\\tBriefe, Essays, Gespräche\\tBiographien & Autobiographien\\n9783641055523\\tRomantasy\\n9783641028381\\tKrimi & Thriller\\n9783641014803\\tFantasy\\n9783466310357\\tEltern & Familie\\n9783641654825\\tPolitik & Gesellschaft\\n9783809433293\\tEssen & Trinken\\n9783641043711\\tFrauenunterhaltung\\n9783641115289\\tScience Fiction\\n9783453545700\\tRomane & Erzählungen\\n9783442383580\\tFrauenunterhaltung\\n9783641061746\\tRomane & Erzählungen\\n9783442730803\\tKlassiker & Lyrik\\n9783442715114\\tRomane & Erzählungen\\n9783442220052\\tLebenshilfe & Psychologie\\n9783641032517\\tFantasy\\n9783641060695\\tKrimi & Thriller\\n9783453318359\\tScience Fiction\\n9783641071295\\tRomantasy\\n9783442541751\\tRomane & Erzählungen\\n9783734160073\\tScience Fiction\\n9783424631395\\tPsychologie\\n9783641545598\\tEssen & Trinken\\tKommunikation & Beruf\\n9783641041939\\tPolitik & Gesellschaft\\tKörper & Seele\\n9783442372324\\tKrimi & Thriller\\n9783442485246\\tKrimi & Thriller\\n9783641063337\\tFrauenunterhaltung\\tRomane & Erzählungen\\n9783442159321\\tWirtschaft & Recht\\n9783570309032\\tKrimis und Thriller\\tLiebe, Beziehung und Freundschaft\\tEchtes Leben, Realistischer Roman\\n9783570100318\\tRomane & Erzählungen\\tBiographien & Autobiographien\\n9783641183936\\tScience Fiction\\n9783837171105\\tFamilie\\tLiebe, Beziehung und Freundschaft\\tNatur, Tiere, Umwelt, Mensch\\n9783579082202\\tTheologie\\n9783570553855\\tPolitik & Gesellschaft\\n9783641152680\\tKrimi & Thriller\\n9783442158041\\tRomane & Erzählungen\\tKabarett & Satire\\n9783641113667\\tHistorische Romane\\n9783641153137\\tRomane & Erzählungen\\n9783442742899\\tBiographien & Autobiographien\\n9783453160811\\tHorror\\n9783641010508\\tPolitik & Gesellschaft\\n9783453702851\\tGanzheitliche Psychologie\\n9783442176762\\tWissen & Nachschlagewerke\\tRecht & Steuern\\n9783442746538\\tRomane & Erzählungen\\tHorror\\n9783570173176\\tFantasy und Science Fiction\\n9783813506938\\tPolitik & Gesellschaft\\n9783641117429\\tScience Fiction\\n9783717523666\\tRomane & Erzählungen\\n9783844509311\\tRomane & Erzählungen\\n9783641140519\\tErotik\\n9783442746309\\tRomane & Erzählungen\\n9783453438262\\tHistorische Romane\\n9783641073879\\tRomane & Erzählungen\\n9783570310205\\tKrimis und Thriller\\n9783641040123\\tKörper & Seele\\n9783641186364\\tKrimi & Thriller\\n9783809438588\\tGesundheit & Ernährung\\n9783844505689\\tAbenteuer\\tRomane & Erzählungen\\n9783442266784\\tScience Fiction\\n9783809438243\\tFreizeit & Hobby\\n9783442487561\\tFrauenunterhaltung\\n9783442173068\\tGesundheit & Ernährung\\n9783442486649\\tHistorische Romane\\n9783734160219\\tFantasy\\n9783791383262\\tKunst\\n9783453436831\\tKrimi & Thriller\\n9783570154526\\tEchtes Leben, Realistischer Roman\\n9783641036836\\tPolitik & Gesellschaft\\tLebenshilfe & Psychologie\\n9783453703476\\tGanzheitliche Psychologie\\n9783641100339\\tFrauenunterhaltung\\n9783453419940\\tKrimi & Thriller\\n9783844504934\\tAbenteuer\\tHistorische Romane, Zeitgeschichte\\n9783453421967\\tRomane & Erzählungen\\n9783844501988\\tRomane & Erzählungen\\n4250938800609\\tKinderbuch & Jugendbuch\\n9783734160035\\tFantasy\\n9783570155585\\tEchtes Leben, Realistischer Roman\\tKinderbuch & Jugendbuch\\n9783899403978\\tFantasy\\tKinderbuch & Jugendbuch\\n9783453645349\\tBiographien & Autobiographien\\n9783641176235\\tScience Fiction\\n9783442486724\\tFrauenunterhaltung\\tRomane & Erzählungen\\n9783453603998\\tKabarett & Satire\\n9783641099466\\tKrimi & Thriller\\n9783442269297\\tFantasy\\n9783641186104\\tScience Fiction\\n9783641017804\\tÜbernatürliches\\n9783641100575\\tScience Fiction\\n9783453435797\\tHorror\\n9783453419773\\tFrauenunterhaltung\\n9783827500700\\tSachbuch Philosophie\\n9783641061708\\tKrimi & Thriller\\n9783641081355\\tRomane & Erzählungen\\tBiographien & Autobiographien\\n9783442457342\\tKrimi & Thriller\\n9783453702134\\tÜbernatürliches\\tGanzheitlich Leben\\n9783442743636\\tRomane & Erzählungen\\n9783442157099\\tBiographien & Autobiographien\\tSchicksalsberichte\\n9783641228040\\tScience Fiction\\n9783867173605\\tRomane & Erzählungen\\n9783641093600\\tMystery\\n9783844522532\\tRomane & Erzählungen\\n9783641108526\\tKrimi & Thriller\\n9783778771730\\tGanzheitliche Psychologie\\n9783442713738\\tBiographien & Autobiographien\\n9783572081370\\tFreizeit & Hobby\\n9783421047175\\tBiographien & Autobiographien\\n9783328101024\\tKrimi & Thriller\\n9783641111922\\tKrimi & Thriller\\n9783453676756\\tRomane & Erzählungen\\n9783453522558\\tFantasy\\tScience Fiction\\n9783442382750\\tErotik\\n9783641095741\\tScience Fiction\\n9783442745562\\tRomane & Erzählungen\\n9783809437574\\tFreizeit & Hobby\\n9783421040381\\tGarten & Landschaftsarchitektur\\n9783809432043\\tBeschäftigung, Malen, Rätseln\\tFreizeit & Hobby\\tEchtes Leben, Realistischer Roman\\n9783837117158\\tRomane & Erzählungen\\n9783809425335\\tEssen & Trinken\\n9783641084509\\tRomane & Erzählungen\\n9783809026006\\tKrimi & Thriller\\n9783867173438\\tKrimi & Thriller\\n9783453701878\\tÜbernatürliches\\n9783517088150\\tGesundheit & Ernährung\\tLebenshilfe & Psychologie\\n9783453439313\\tKrimi & Thriller\\n9783442341849\\tGanzheitliche Psychologie\\n9783641047610\\tRomane & Erzählungen\\n9783570172711\\tKinderbuch & Jugendbuch\\n9783442159048\\tInfotainment & erzählendes Sachbuch\\n9783570131565\\tNatur, Tiere, Umwelt, Mensch\\n9783641031596\\tLebenshilfe & Psychologie\\tRatgeber Partnerschaft & Sexualität\\n9783442742301\\tRomane & Erzählungen\\n9783442717415\\tRomane & Erzählungen\\n9783641116217\\tScience Fiction\\n9783453314269\\tFantasy\\tFantasy und Science Fiction\\tLiebe, Beziehung und Freundschaft\\n9783837112962\\tKinderbuch & Jugendbuch\\n9783442159437\\tRatgeber Partnerschaft & Sexualität\\n9783641056544\\tKabarett & Satire\\n9783453359550\\tFrauenunterhaltung\\tRomane & Erzählungen\\n9783641175290\\tScience Fiction\\n9783641067717\\tFrauenunterhaltung\\n9783894807917\\tPolitik & Gesellschaft\\n9783453164024\\tPsychologie\\n9783641053031\\tRomance\\n9783570222744\\tEchtes Leben, Realistischer Roman\\tLiebe, Beziehung und Freundschaft\\tAbenteuer\\n9783641161163\\tKrimi & Thriller\\n9783453700390\\tÜbernatürliches\\n9783442117345\\tGanzheitliche Psychologie\\n9783778775196\\tGanzheitliche Psychologie\\tÜbernatürliches\\n9783453315440\\tScience Fiction\\n9783641181208\\tFantasy\\n9783641117047\\tScience Fiction\\n9783641092900\\tRomane & Erzählungen\\tFrauenunterhaltung\\n9783424151978\\tEnergieheilung\\n9783442746828\\tRomane & Erzählungen\\n9783453436909\\tHorror\\n9783867176170\\tKrimi & Thriller\\n9783844501216\\tKrimi & Thriller\\n9783641149550\\tFantasy\\n9783579081793\\tTheologie\\n9783421047052\\tPolitik & Gesellschaft\\n9783641080099\\tKrimi & Thriller\\n9783641042677\\tFantasy\\n9783734104534\\tFrauenunterhaltung\\n9783442714650\\tRomane & Erzählungen\\n9783764506605\\tKrimi & Thriller\\n9783641087333\\tKrimi & Thriller\\n9783641012182\\tRomane & Erzählungen\\tFrauenunterhaltung\\tEchtes Leben, Realistischer Roman\\n9783641116620\\tScience Fiction\\n9783844521023\\tKrimi & Thriller\\n9783844504156\\tEchtes Leben, Realistischer Roman\\tRomane & Erzählungen\\tReligion, Glaube, Ethik, Philosophie\\n9783641098742\\tLebenshilfe & Psychologie\\n9783641054755\\tFantasy\\n9783579080574\\tTheologie\\n9783570103180\\tRomane & Erzählungen\\n9783641079185\\tComic & Cartoon\\n9783453439153\\tKrimi & Thriller\\n9783442486113\\tFrauenunterhaltung\\n9783641052836\\tPolitik & Gesellschaft\\n9783442468096\\tFantasy\\n9783442748952\\tRomane & Erzählungen\\n9783809432050\\tFreizeit & Hobby\\n9783442220939\\tGanzheitliche Psychologie\\n9783442485406\\tKrimi & Thriller\\n9783570403150\\tAbenteuer\\n9783641127831\\tEssen & Trinken\\n9783641199418\\tScience Fiction\\n9783453292093\\tKrimi & Thriller\\n9783813507287\\tPolitik & Gesellschaft\\n9783813507263\\tPolitik & Gesellschaft\\n9783570553817\\t(Zeit-) Geschichte\\n9783867170383\\tRomane & Erzählungen\\n9783734105302\\tRomane & Erzählungen\\n9783641082949\\tLebenshilfe & Psychologie\\tPsychologie\\n9783641032401\\tRomane & Erzählungen\\n9783641036539\\tGesundheit & Ernährung\\tReligionsunterricht\\n9783641042226\\tRomance\\n9783453676534\\tBiographien & Autobiographien\\n9783717522249\\tRomane & Erzählungen\\n9783579023472\\tTheologie\\n9783641104276\\tErotik\\n9783791332598\\tKunst\\n9783442219698\\tRatgeber Partnerschaft & Sexualität\\tGanzheitliche Psychologie\\tKommunikation & Beruf\\n9783570164129\\tNatur, Tiere, Umwelt, Mensch\\n9783641187781\\tRomane & Erzählungen\\n9783453855885\\tEssen & Trinken\\n9783641186210\\tKrimi & Thriller\\n9783442742882\\tRomane & Erzählungen\\n9783641078058\\tScience Fiction\\n9783570403662\\tLiebe, Beziehung und Freundschaft\\tEchtes Leben, Realistischer Roman\\tFamilie\\n9783442485994\\tRomane & Erzählungen\\n9783791371023\\tKunst, Musik\\tEchtes Leben, Realistischer Roman\\n9783641114732\\tScience Fiction\\n9783837132267\\tKabarett & Satire\\n9783641149956\\tRomane & Erzählungen\\n9783442342273\\tGanzheitliche Psychologie\\n9783442416646\\tKrimi & Thriller\\n9783734161148\\tFantasy\\n9783442734719\\tRomane & Erzählungen\\n9783466346431\\tLebenshilfe & Psychologie\\n9783579068480\\tSterben, Tod und Trauer\\n9783442177592\\tGesundheit & Ernährung\\tPsychologie\\n9783442159499\\tPolitik & Gesellschaft\\tInfotainment & erzählendes Sachbuch\\n9783442175840\\tFrauenunterhaltung\\n9783791381725\\tKunst\\n9783442340736\\tGanzheitliche Psychologie\\tKörper & Seele\\n9783570552742\\t(Zeit-) Geschichte\\n9783641162719\\tRomane & Erzählungen\\n9783442483853\\tKrimi & Thriller\\n9783896676221\\tRomane & Erzählungen\\n9783641084318\\tScience Fiction\\n9783453280939\\tNatur, Wissenschaft, Technik\\n9783641060824\\tRomantasy\\n9783641098582\\tHorror\\n9783453703049\\tGanzheitliche Psychologie\\n9783734160561\\tFantasy\\n9783453640405\\tBiographien & Autobiographien\\n9783641142315\\tPolitik & Gesellschaft\\n9783442159123\\tPolitik & Gesellschaft\\n9783453267169\\tFantasy und Science Fiction\\tEchtes Leben, Realistischer Roman\\tSchullektüre\\n9783641027612\\tKrimi & Thriller\\n9783641037307\\tRomane & Erzählungen\\n9783837119664\\tLustige Geschichten, Witze\\n9783734104985\\tRomance\\n9783579050164\\tTheologie\\n9783844513929\\tEchtes Leben, Realistischer Roman\\tAbenteuer\\n9783641202620\\tScience Fiction\\n9783570173558\\tKinderbuch & Jugendbuch\\n9783328101918\\t(Zeit-) Geschichte\\n9783791382180\\tFotografie\\n9783630873947\\tRomane & Erzählungen\\n9783641065942\\tRomane & Erzählungen\\n9783421056801\\tRomane & Erzählungen\\n9783570164952\\tLiebe, Beziehung und Freundschaft\\tEchtes Leben, Realistischer Roman\\tSchulgeschichten\\n9783466310241\\tEltern & Familie\\n9783453357396\\tFrauenunterhaltung\\n9783442740871\\tPsychologie\\tRomane & Erzählungen\\n9783641126438\\tScience Fiction\\n9783641011468\\tLiebe, Beziehung und Freundschaft\\tEchtes Leben, Realistischer Roman\\n9783453418837\\tFrauenunterhaltung\\n9783867178921\\tRomane & Erzählungen\\n9783453418929\\tKrimi & Thriller\\n9783442221516\\tKörper & Seele\\tGesundheit & Ernährung\\n9783641048914\\tPolitik & Gesellschaft\\n9783442158409\\tKabarett & Satire\\n9783641016203\\tInfotainment & erzählendes Sachbuch\\n9783641077785\\tScience Fiction\\n9783844501018\\tRomane & Erzählungen\\n9783641033767\\tRatgeber Partnerschaft & Sexualität\\n9783809438052\\tEssen & Trinken\\n9783837119404\\tRomane & Erzählungen\\n9783579087054\\tSpiritualität & Religion\\tTheologie\\n9783442377206\\tKrimi & Thriller\\n9783641048020\\tFrauenunterhaltung\\n9783442732746\\tRomane & Erzählungen\\n9783328600152\\tRomane & Erzählungen\\n9783453314917\\tScience Fiction\\n9783641103927\\tSpiritualität & Religion\\n9783466308248\\tEltern & Familie\\n9783570171271\\tAbenteuer\\tEchtes Leben, Realistischer Roman\\n9783844517408\\tRomane & Erzählungen\\n9783442479863\\tFrauenunterhaltung\\n9783442713837\\tRomane & Erzählungen\\n9783641079499\\tRomantasy\\n9783641055462\\tFrauenunterhaltung\\n9783791373508\\tKinderbuch & Jugendbuch\\n9783641141479\\tEltern & Familie\\n9783442379859\\tFrauenunterhaltung\\n9783579086781\\tPolitik & Gesellschaft\\tSpiritualität & Religion\\tSterben, Tod und Trauer\\n9783641048808\\tPolitik & Gesellschaft\\n9783466310760\\tEltern & Familie\\n9783424152111\\tKörper & Seele\\tWeisheiten der Welt\\tLebenshilfe & Psychologie\\n9783837143546\\tLiteratur & Unterhaltung Satire\\n9783442746927\\tRomane & Erzählungen\\n9783453359109\\tFrauenunterhaltung\\n9783442744657\\tRomane & Erzählungen\\n9783809438250\\tFreizeit & Hobby\\n9783570305652\\tLiebe, Beziehung und Freundschaft\\tKrimis und Thriller\\n9783453604957\\tFrauenunterhaltung\\n9783641090524\\tScience Fiction\\n9783641034009\\tRomane & Erzählungen\\n9783641115227\\tScience Fiction\\n9783442485369\\tFantasy\\n9783442714063\\tRomane & Erzählungen\\n9783570165041\\tLiebe, Beziehung und Freundschaft\\tEchtes Leben, Realistischer Roman\\n9783570158159\\tKinderbuch & Jugendbuch\\tEchtes Leben, Realistischer Roman\\n9783837174571\\tKrimi & Thriller\\n9783764505639\\tFrauenunterhaltung\\n9783442484546\\tKrimi & Thriller\\n9783641149789\\tErotik\\n9783641069285\\tKommunikation & Beruf\\n9783641033446\\tLebenshilfe & Psychologie\\n9783641061814\\tPolitik & Gesellschaft\\tBiographien & Autobiographien\\n9783641106713\\tRomane & Erzählungen\\n9783837177930\\tKrimi & Thriller\\n9783453317178\\tScience Fiction\\n9783641552046\\tEssen & Trinken\\n9783570133101\\tEchtes Leben, Realistischer Roman\\tSchullektüre\\tKinderbuch & Jugendbuch\\n9783844505542\\tRomane & Erzählungen\\n9783442473496\\tKrimi & Thriller\\n9783466308880\\tLebenshilfe & Psychologie\\n9783421040923\\tWohnen & Innenarchitektur\\n9783641117511\\tScience Fiction\\n9783641057626\\tLiebe, Beziehung und Freundschaft\\n9783442379880\\tFrauenunterhaltung\\n9783453359192\\tFrauenunterhaltung\\n9783570306741\\tFantasy und Science Fiction\\n9783579058870\\tTheologie\\n9783641169008\\tScience Fiction\\n9783837129328\\tKrimi & Thriller\\n9783442743230\\tRomane & Erzählungen\\n9783641142964\\tÜbernatürliches\\n9783442393183\\tLebenshilfe & Psychologie\\n9783791355375\\tKunst\\n9783517093710\\tEssen & Trinken\\n9783328101932\\tKrimi & Thriller\\n9783421040442\\tWohnen & Innenarchitektur\\n9783641140380\\tKrimi & Thriller\\n9783641112530\\tFrauenunterhaltung\\n9783813507669\\tComic & Cartoon\\n9783641085537\\tRomane & Erzählungen\\n9783442158652\\tRomane & Erzählungen\\n9783641169732\\tScience Fiction\\n9783421040701\\tWohnen & Innenarchitektur\\n9783641091590\\tKrimi & Thriller\\n9783641210182\\tFantasy\\n9783453702288\\tGanzheitliche Psychologie\\n9783466346950\\tLebenshilfe & Psychologie\\n9783837110296\\tRomane & Erzählungen\\n9783453417595\\tKrimi & Thriller\\n9783641076788\\tKrimi & Thriller\\n9783809436799\\tFreizeit & Hobby\\n9783734105555\\tErotik\\n9783641168308\\tFantasy\\n9783570552711\\tKunst & Kultur\\tPolitik & Gesellschaft\\n9783442339914\\tGanzheitliche Psychologie\\n9783809433118\\tFreizeit & Hobby\\n9783809438519\\tFreizeit & Hobby\\n9783453702646\\tÜbernatürliches\\n9783453600836\\tPolitik & Gesellschaft\\n9783641037963\\tScience Fiction\\n9783453702905\\tKörper & Seele\\tEnergieheilung\\n9783837122541\\tRomane & Erzählungen\\n9783453422902\\tRomane & Erzählungen\\n9783442173273\\tSterben, Tod und Trauer\\n9783442221608\\tGanzheitliche Psychologie\\n9783442482207\\tKrimi & Thriller\\n9783837176131\\tInfotainment & erzählendes Sachbuch\\tNatur, Wissenschaft, Technik\\n9783579082448\\tTheologie\\n9783442741915\\tRomane & Erzählungen\\n9783466371723\\tSpiritualität & Religion\\tFreizeit & Hobby\\n9783778782729\\tLebenshilfe & Psychologie\\tKörper & Seele\\n9783453529397\\tScience Fiction\\n9783813507584\\tPolitik & Gesellschaft\\n9783894803018\\tKrimi & Thriller\\n9783453406186\\tRomane & Erzählungen\\n9783641158507\\tKrimi & Thriller\\n9783641080471\\tFrauenunterhaltung\\n9783579086859\\tBiographien & Autobiographien\\tSpiritualität & Religion\\tPsychologie & Spiritualität\\n9783442714872\\tRomane & Erzählungen\\n9783442745005\\tRomane & Erzählungen\\n9783641069490\\tRomance\\n9783641209872\\tKrimi & Thriller\\n9783328101567\\tRomane & Erzählungen\\n9783896675767\\tPolitik & Gesellschaft\\n9783570174586\\tLiebe, Beziehung und Freundschaft\\n9783837130980\\tRomane & Erzählungen\\n9783453406377\\tFrauenunterhaltung\\n9783641066345\\tGemeindearbeit\\n9783809430155\\tFreizeit & Hobby\\n9783453677166\\tKrimi & Thriller\\n9783837179644\\tRomane & Erzählungen\\n9783844504095\\tRomane & Erzählungen\\n9783442713158\\tRomane & Erzählungen\\tBiographien & Autobiographien\\n9783641127619\\tScience Fiction\\n9783641064525\\tKrimi & Thriller\\n9783570170779\\tEchtes Leben, Realistischer Roman\\n9783641135843\\tScience Fiction\\n9783734160660\\tScience Fiction\\n9783442173570\\tGesundheit & Ernährung\\n9783570164761\\tFantasy und Science Fiction\\n9783641159795\\tKrimi & Thriller\\n9783442174836\\tLebenshilfe & Psychologie\\n9783641077938\\tScience Fiction\\n9783641088385\\tRomane & Erzählungen\\n9783813502367\\tRomane & Erzählungen\\n9783570164174\\tFantasy und Science Fiction\\tLiebe, Beziehung und Freundschaft\\tAbenteuer\\n9783442158720\\tSachbuch Philosophie\\n9783570127162\\tKinderbuch & Jugendbuch\\tEchtes Leben, Realistischer Roman\\tSchullektüre\\n9783641151737\\tScience Fiction\\n9783579070391\\tSpiritualität & Religion\\tGemeindearbeit\\n9783453186873\\tScience Fiction\\n9783442158706\\t(Zeit-) Geschichte\\n9783791381572\\tKunst\\n9783570308301\\tKrimis und Thriller\\n9783844526943\\tKinderbuch & Jugendbuch\\n9783734103506\\tKrimi & Thriller\\n9783466506088\\tGemeindearbeit\\n9783791372617\\tKunst, Musik\\n9783453319288\\tScience Fiction\\n9783896676092\\tNatur, Wissenschaft, Technik\\n9783641076597\\tKrimi & Thriller\\tRomane & Erzählungen\\n9783791371382\\tKunst, Musik\\tEchtes Leben, Realistischer Roman\\n9783517069067\\tGesundheit & Ernährung\\n9783837141061\\tFantasy\\n9783641051204\\tFrauenunterhaltung\\n9783844513486\\tFantasy\\n9783421047656\\tPolitik & Gesellschaft\\n9783442748129\\tRomane & Erzählungen\\n9783453419544\\tRomantasy\\n9783837119428\\tRomane & Erzählungen\\n9783442175659\\tMondkräfte\\n9783641045210\\tGeister- und Gruselgeschichten\\tEchtes Leben, Realistischer Roman\\tFantasy und Science Fiction\\n9783641118273\\tKrimi & Thriller\\n9783421040299\\tGarten & Landschaftsarchitektur\\n9783442372904\\tFantasy\\n9783641077501\\tScience Fiction\\n9783442542703\\tRomane & Erzählungen\\n9783442269228\\tRomantasy\\tFantasy\\n9783466345205\\tEltern & Familie\\n9783442338306\\tGanzheitliche Psychologie\\n9783579071114\\tSpiritualität & Religion\\tGemeindearbeit\\tSchicksalsberichte\\n9783641173463\\tScience Fiction\\n9783641135393\\tRomantasy\\n9783778774847\\tGanzheitliche Psychologie\\tEnergieheilung\\n9783453532748\\tFantasy\\n9783641209674\\tFrauenunterhaltung\\n9783837125863\\tRomane & Erzählungen\\n9783641076092\\tRomane & Erzählungen\\tFrauenunterhaltung\\n9783453315914\\tScience Fiction\\n9783630874616\\tRomane & Erzählungen\\n9783442339266\\tGanzheitliche Psychologie\\tRatgeber Partnerschaft & Sexualität\\tKommunikation & Beruf\\n9783442176694\\tGesundheit & Ernährung\\n9783641166434\\tLebenshilfe & Psychologie\\n9783641145545\\tFrauenunterhaltung\\n9783517088266\\tWissen & Nachschlagewerke\\n9783453420014\\tKrimi & Thriller\\n9783442717590\\tRomane & Erzählungen\\n9783442723591\\tKlassiker & Lyrik\\n9783641062569\\tGanzheitliche Psychologie\\n9783453215245\\tHistorische Romane\\n9783570225813\\tTiergeschichten\\n9783570102817\\tRomane & Erzählungen\\n9783442746460\\tRomane & Erzählungen\\n9783641127640\\tScience Fiction\\n9783809438496\\tRomane & Erzählungen\\n9783570225929\\tEchtes Leben, Realistischer Roman\\tGeister- und Gruselgeschichten\\n9783641179557\\tFantasy\\tScience Fiction\\n9783442264070\\tScience Fiction\\n9783453702189\\tÜbernatürliches\\n9783866043060\\tKunst & Kultur\\n9783641127312\\tKrimi & Thriller\\n9783791372280\\tKinderbuch & Jugendbuch\\n9783778792766\\tGanzheitliche Psychologie\\tPsychologie\\n9783442156382\\t(Zeit-) Geschichte\\n9783424200201\\tLebenshilfe & Psychologie\\tKommunikation & Beruf\\n9783641116194\\tScience Fiction\\n9783453534414\\tScience Fiction\\tFantasy und Science Fiction\\tNatur, Tiere, Umwelt, Mensch\\n9783791353890\\tKunst\\n9783641223588\\tScience Fiction\\n9783641101022\\tRomane & Erzählungen\\n9783809438069\\tEssen & Trinken\\n9783453407190\\tFrauenunterhaltung\\n9783453319707\\tFantasy\\n9783442158522\\tInfotainment & erzählendes Sachbuch\\tKabarett & Satire\\n9783899406412\\tRomane & Erzählungen\\n9783442474660\\tKrimi & Thriller\\n9783570312032\\tLiebe, Beziehung und Freundschaft\\n9783641010607\\t(Zeit-) Geschichte\\n9783579086927\\tPolitik & Gesellschaft\\tSterben, Tod und Trauer\\tLebenshilfe & Psychologie\\n9783813505115\\tRomane & Erzählungen\\n9783898300889\\tKlassiker & Lyrik\\n9783641076580\\tRomane & Erzählungen\\tFrauenunterhaltung\\n9783442459414\\tFantasy\\n9783570103364\\tRomane & Erzählungen\\n9783579086330\\tRomane & Erzählungen\\tSpiritualität & Religion\\tSterben, Tod und Trauer\\n9783579057613\\tTheologie\\n9783809438663\\tFreizeit & Hobby\\n9783641200848\\tErotik\\n9783867179720\\tKinderbuch & Jugendbuch\\tEchtes Leben, Realistischer Roman\\tLiebe, Beziehung und Freundschaft\\n9783442736904\\tRomane & Erzählungen\\n9783442268160\\tFantasy\\n9783570553183\\tBiographien & Autobiographien\\n9783442393039\\tKinderbuch & Jugendbuch\\tEltern & Familie\\tPsychologie\\n9783442483426\\tRomane & Erzählungen\\n9783630873565\\tRomane & Erzählungen\\n9783424201499\\tLebenshilfe & Psychologie\\tPsychologie\\n9783517096926\\tEssen & Trinken\\n9783837116380\\tAbenteuer\\tEchtes Leben, Realistischer Roman\\tFantasy und Science Fiction\\n9783579067636\\tLebenshilfe & Psychologie\\tSpiritualität & Religion\\tPsychologie\\n9783641095635\\tLebenshilfe & Psychologie\\tSchicksalsberichte\\n9783453356580\\tHistorische Romane\\n9783844503524\\tFantasy\\tKinderbuch & Jugendbuch\\n9783641076696\\tRomane & Erzählungen\\tKrimi & Thriller\\n9783641119621\\tKrimi & Thriller\\n9783442217458\\tNaturheilweisen\\n9783570552490\\t(Zeit-) Geschichte\\n9783453873940\\tKrimi & Thriller\\n9783466307302\\tEltern & Familie\\n9783453703643\\tEnergieheilung\\n9783570501900\\tNatur, Wissenschaft, Technik\\tPolitik & Gesellschaft\\n9783641015145\\tKunst & Kultur\\n9783466309863\\tLebenshilfe & Psychologie\\n9783424152425\\tKörper & Seele\\tWeisheiten der Welt\\tMusik\\n9783809437734\\tFreizeit & Hobby\\n9783641138882\\tScience Fiction\\n9783641115531\\tScience Fiction\\n9783424153422\\tEnergieheilung\\tLebenshilfe & Psychologie\\tKörper & Seele\\n9783641063238\\tSpiritualität & Religion\\tSachbuch Philosophie\\n9783809434672\\tFreizeit & Hobby\\n9783778774472\\tGanzheitliche Psychologie\\n9783517094540\\tGesundheit & Ernährung\\n9783837128437\\tRomane & Erzählungen\\tLiebe, Beziehung und Freundschaft\\n9783570311813\\tKrimis und Thriller\\n9783442749959\\tRomane & Erzählungen\\tLiteratur & Unterhaltung Satire\\n9783453675360\\tHorror\\n9783442749799\\tRomane & Erzählungen\\n9783641164409\\tPolitik & Gesellschaft\\n9783837172980\\tRomane & Erzählungen\\n9783442390755\\tEltern & Familie\\n9783837140231\\tKabarett & Satire\\n9783442485185\\tFrauenunterhaltung\\n9783641128890\\tEchtes Leben, Realistischer Roman\\tLiebe, Beziehung und Freundschaft\\tFrauenunterhaltung\\n9783641565633\\tEssen & Trinken\\n9783641016128\\tGeld & Investment\\n9783641120627\\tFrauenunterhaltung\\n9783453188785\\tKommunikation & Beruf\\tLebenshilfe & Psychologie\\n9783442392810\\tEltern & Familie\\tLebenshilfe & Psychologie\\n9783453410008\\tHistorische Romane\\n9783453421790\\tFrauenunterhaltung\\n9783453601994\\tRatgeber Partnerschaft & Sexualität\\n9783641065393\\tFrauenunterhaltung\\n9783453431522\\tKrimi & Thriller\\n9783844506426\\tRomane & Erzählungen\\n9783453271401\\tAbenteuer\\tFantasy und Science Fiction\\tScience Fiction\\n9783442314454\\tFrauenunterhaltung\\n9783837125399\\tKabarett & Satire\\n9783641092115\\tFreizeit & Hobby\\n9783453855823\\tEssen & Trinken\\n9783570551479\\t(Zeit-) Geschichte\\n9783570311455\\tKrimis und Thriller\\n9783641165819\\t(Zeit-) Geschichte\\n9783641163808\\tKinderbuch & Jugendbuch\\n9783570173299\\tKinderbuch & Jugendbuch\\n9783791347653\\tKunst\\n9783717524489\\tRomane & Erzählungen\\n9783579060767\\tGemeindearbeit\\n9783641048501\\tHistorische Romane\\n9783466310579\\tEltern & Familie\\n9783453433922\\tKrimi & Thriller\\n9783641121075\\tFrauenunterhaltung\\n9783328101260\\tFrauenunterhaltung\\tRomane & Erzählungen\\n9783421037947\\tGarten & Landschaftsarchitektur\\n9783579068428\\tSterben, Tod und Trauer\\n9783453422803\\tKrimi & Thriller\\n9783899407945\\tKrimi & Thriller\\n9783641082741\\tPsychologie\\tPolitik & Gesellschaft\\tLebenshilfe & Psychologie\\n9783641168285\\tFantasy\\n9783791373034\\tKinderbuch & Jugendbuch\\n9783442216079\\tGanzheitliche Psychologie\\n9783442356331\\tKrimi & Thriller\\n9783641052935\\tGanzheitliche Psychologie\\n9783837131406\\tAbenteuer\\tTiergeschichten\\tLustige Geschichten, Witze\\n9783734104183\\tHistorische Romane\\n9783837142723\\tKlassiker & Lyrik\\tMärchen, Sagen\\n9783641116897\\tScience Fiction\\n9783641037277\\tRomane & Erzählungen\\n9783466371877\\tSpiritualität & Religion\\tReligionsunterricht\\n9783442158805\\tWirtschaft & Recht\\n9783442218462\\tWeisheiten der Welt\\n9783442366958\\tFrauenunterhaltung\\n9783641014360\\tKrimi & Thriller\\n9783844512212\\tEchtes Leben, Realistischer Roman\\tAbenteuer\\tSchulgeschichten\\n9783453701649\\tÜbernatürliches\\n9783570550595\\t(Zeit-) Geschichte\\n9783778774618\\tEnergieheilung\\n9783641099800\\tFrauenunterhaltung\\n9783453434233\\tKrimi & Thriller\\n9783641087821\\tWeisheiten der Welt\\n9783867174169\\tRomane & Erzählungen\\n9783641089221\\tFrauenunterhaltung\\n9783641166748\\tKrimi & Thriller\\n9783570551486\\t(Zeit-) Geschichte\\n9783570175903\\tKinderbuch & Jugendbuch\\n9783837121155\\tKabarett & Satire\\n9783641102876\\tKrimi & Thriller\\n9783570163573\\tAbenteuer\\tEchtes Leben, Realistischer Roman\\n9783641024925\\tFrauenunterhaltung\\n9783641117283\\tScience Fiction\\n9783453357150\\tFrauenunterhaltung\\n9783442484454\\tRomane & Erzählungen\\n9783442336654\\tGanzheitliche Psychologie\\tKörper & Seele\\n9783844518450\\tKinderbuch & Jugendbuch\\tRomane & Erzählungen\\n9783641023928\\tRomane & Erzählungen\\n9783579023496\\tTheologie\\n9783570175668\\tKinderbuch & Jugendbuch\\n9783641142667\\tFrauenunterhaltung\\n9783641050771\\tRomane & Erzählungen\\n9783641012489\\tEchtes Leben, Realistischer Roman\\tSportgeschichten\\n9783641064327\\tRomane & Erzählungen\\n9783734161100\\tFantasy\\n9783466368884\\tSpiritualität & Religion\\n9783809427933\\tNaturheilweisen\\n9783453280045\\tPolitik & Gesellschaft\\n9783734105982\\tFrauenunterhaltung\\n4250938800036\\tKinderbuch & Jugendbuch\\n9783453422148\\tRomane & Erzählungen\\n9783579087238\\tSpiritualität & Religion\\tLebenshilfe & Psychologie\\n9783442743773\\tKrimi & Thriller\\n9783641151973\\tKrimi & Thriller\\n9783579062051\\tGemeindearbeit\\n9783641042707\\tÜbernatürliches\\tGanzheitliche Psychologie\\n9783641116507\\tScience Fiction\\n9783813506570\\tPolitik & Gesellschaft\\n9783336547937\\tRomane & Erzählungen\\n9783517095219\\tEssen & Trinken\\n9783641043056\\tKrimi & Thriller\\n9783641170240\\tScience Fiction\\n9783641084134\\tKrimi & Thriller\\tRomane & Erzählungen\\n9783641113032\\tKrimi & Thriller\\n9783442470143\\tKrimi & Thriller\\n9783844523331\\t(Zeit-) Geschichte\\n9783570174326\\tTiergeschichten\\n9783867178686\\tKabarett & Satire\\tLiteratur & Unterhaltung Satire\\n9783453319585\\tScience Fiction\\tFantasy\\n9783837125955\\tRomane & Erzählungen\\n9783837122732\\tRomane & Erzählungen\\n9783570553381\\tPolitik & Gesellschaft\\n9783778782750\\tEnergieheilung\\tKörper & Seele\\n9783641046880\\tFantasy\\n9783453861503\\tBiographien & Autobiographien\\tLebenshilfe & Psychologie\\tKunst & Kultur\\n9783813507157\\tNatur, Wissenschaft, Technik\\n9783641052959\\tFantasy\\n9783570164082\\tEchtes Leben, Realistischer Roman\\tLiebe, Beziehung und Freundschaft\\tFantasy und Science Fiction\\n9783453315297\\tScience Fiction\\tFantasy und Science Fiction\\tEchtes Leben, Realistischer Roman\\n9783641212438\\tScience Fiction\\n9783517096414\\tEssen & Trinken\\n9783641186555\\tKrimi & Thriller\\n9783328103592\\tRomane & Erzählungen\\n9783837179422\\tRomane & Erzählungen\\tNatur, Tiere, Umwelt, Mensch\\tMärchen, Sagen\\n9783641116293\\tScience Fiction\\n9783844502770\\tScience Fiction\\n9783570165171\\tLiebe, Beziehung und Freundschaft\\n9783641116866\\tScience Fiction\\n9783641112202\\tRomane & Erzählungen\\n9783442350292\\tFrauenunterhaltung\\n9783886808694\\tBiographien & Autobiographien\\n9783837174496\\tRomane & Erzählungen\\n9783517097220\\tLebenshilfe & Psychologie\\tEssen & Trinken\\n9783453534490\\tScience Fiction\\n9783453355460\\tFrauenunterhaltung\\n9783641113650\\tHistorische Romane\\n9783641089269\\tKrimi & Thriller\\n9783734105814\\tKrimi & Thriller\\n9783424151732\\tÜbernatürliches\\n9783466344772\\tEltern & Familie\\n9783442219612\\tWeisheiten der Welt\\tGesundheit & Ernährung\\n9783734101984\\tHistorische Romane\\n9783791372358\\tBeschäftigung, Malen, Rätseln\\tEchtes Leben, Realistischer Roman\\n9783844509151\\tRomane & Erzählungen\\n9783641025816\\tFantasy\\n9783579082127\\tTheologie\\n9783570175606\\tAbenteuer\\n9783867178198\\tFantasy\\n9783641215019\\tFrauenunterhaltung\\n9783844515855\\tKinderbuch & Jugendbuch\\n9783453433403\\tHorror\\n9783421044112\\t(Zeit-) Geschichte\\n9783453164130\\tRomane & Erzählungen\\n9783442368341\\tFrauenunterhaltung\\tKrimi & Thriller\\n9783641053185\\tRomane & Erzählungen\\n9783442151752\\tEltern & Familie\\tWissen & Nachschlagewerke\\n9783844526547\\tKinderbuch & Jugendbuch\\n9783453471207\\tHistorische Romane\\n9783466371846\\tKörper & Seele\\tLebenshilfe & Psychologie\\n9783453503991\\tRomane & Erzählungen\\n9783442476176\\tKrimi & Thriller\\n9783809439714\\t(Zeit-) Geschichte\\n9783641208844\\tScience Fiction\\n9783641222796\\tKrimi & Thriller\\tRomane & Erzählungen\\n9783421062338\\t(Zeit-) Geschichte\\n9783442366163\\tKrimi & Thriller\\n9783630873909\\tBiographien & Autobiographien\\n9783453268944\\tScience Fiction\\tFantasy und Science Fiction\\tAbenteuer\\n9783641188405\\tKrimi & Thriller\\n9783442156443\\tPolitik & Gesellschaft\\n9783579023410\\tTheologie\\n9783641040635\\tKrimi & Thriller\\n9783641213152\\tScience Fiction\\n9783844500776\\tKrimi & Thriller\\n9783442741922\\tRomane & Erzählungen\\n9783641057558\\tFrauenunterhaltung\\n9783442341191\\tÜbernatürliches\\n9783641168186\\tFrauenunterhaltung\\tKrimi & Thriller\\n9783570172018\\tFantasy und Science Fiction\\n9783866046634\\tNatur, Tiere, Umwelt, Mensch\\n9783442347148\\tSpiritualität & Religion\\tKörper & Seele\\n9783453879058\\tScience Fiction\\n9783641155575\\tRomane & Erzählungen\\n9783844512861\\tFantasy\\n9783570174968\\tKinderbuch & Jugendbuch\\n9783453409194\\tHistorische Romane\\n9783899400526\\tRomane & Erzählungen\\n9783813506532\\tRomane & Erzählungen\\n9783442352135\\tKrimi & Thriller\\n9783424152401\\tKörper & Seele\\tGanzheitlich Leben\\n9783442480357\\tFrauenunterhaltung\\tErotik\\n9783442739875\\tRomane & Erzählungen\\n9783579085005\\tTheologie\\tSpiritualität & Religion\\n9783641078676\\tFantasy\\n9783442485727\\tRomane & Erzählungen\\n9783641137526\\tRomane & Erzählungen\\n9783896675811\\tRomane & Erzählungen\\n9783442383160\\tRomance\\n9783641090272\\tFrauenunterhaltung\\n9783734103735\\tFrauenunterhaltung\\n9783517095226\\tEssen & Trinken\\n9783570403235\\tEchtes Leben, Realistischer Roman\\n9783867173896\\tRomane & Erzählungen\\n9783641031978\\tFrauenunterhaltung\\n9783641070915\\tKrimi & Thriller\\n9783791382623\\tArchitektur\\n9783641064655\\tFrauenunterhaltung\\n9783641621308\\tLebenshilfe & Psychologie\\n9783641053017\\tKrimi & Thriller\\n9783813504446\\tNatur, Wissenschaft, Technik\\n9783806836004\\tFitness & Sport\\n9783641120917\\tFrauenunterhaltung\\n9783442747368\\tRomane & Erzählungen\\tAbenteuer, Reisen, fremde Kulturen\\n9783442174782\\tLebenshilfe & Psychologie\\n9783641166380\\tRomantasy\\n9783641036249\\tLebenshilfe & Psychologie\\n9783570175453\\tAbenteuer\\tFamilie\\n9783641059682\\tPolitik & Gesellschaft\\n9783453410497\\tFrauenunterhaltung\\n9783442716531\\tRomane & Erzählungen\\n9783453318939\\tRomantasy\\n9783837124385\\tKlassiker & Lyrik\\n9783570403006\\tEchtes Leben, Realistischer Roman\\tFantasy und Science Fiction\\n9783453436954\\tKrimi & Thriller\\n9783517096728\\tEssen & Trinken\\n9783641129781\\tEltern & Familie\\n9783867177733\\tRomane & Erzählungen\\n9783442483792\\tFrauenunterhaltung\\n9783641026455\\tKrimi & Thriller\\n9783641169060\\tScience Fiction\\n9783328102854\\tRomane & Erzählungen\\n9783641128081\\tFantasy\\n9783442382859\\tKrimi & Thriller\\n9783442221882\\tLebenshilfe & Psychologie\\tGanzheitliche Psychologie\\n9783453604773\\tBiographien & Autobiographien\\n9783453602885\\tFitness & Sport\\tSport\\n9783453270817\\tRomane & Erzählungen\\n9783453418424\\tFrauenunterhaltung\\n9783809433125\\tFreizeit & Hobby\\n9783442715336\\tRomane & Erzählungen\\n9783641093914\\tFantasy\\n9783442221271\\tLebenshilfe & Psychologie\\tGesundheit & Ernährung\\n9783328100119\\tKrimi & Thriller\\tRomane & Erzählungen\\n9783453528987\\tScience Fiction\\n9783453602182\\tEssen & Trinken\\n9783641139155\\tSpiritualität & Religion\\n9783442482603\\tKrimi & Thriller\\n9783453528413\\tScience Fiction\\n9783791355818\\tKunst\\n9783442265961\\tScience Fiction\\n9783570157350\\tSchullektüre\\tEchtes Leben, Realistischer Roman\\n9783641181277\\tFantasy\\n9783844514360\\tRomane & Erzählungen\\n9783453409590\\tFrauenunterhaltung\\n9783453701779\\tGanzheitliche Psychologie\\n9783517094175\\tFitness & Sport\\n9783641188368\\tKrimi & Thriller\\n9783641098230\\tRatgeber Partnerschaft & Sexualität\\n9783837170368\\tRomane & Erzählungen\\n9783579085517\\tSpiritualität & Religion\\tGemeindearbeit\\tRomane & Erzählungen\\n9783570039410\\tKinderbuch & Jugendbuch\\n9783570550878\\tNatur, Wissenschaft, Technik\\n9783641140366\\tKrimi & Thriller\\n9783866048751\\tRomane & Erzählungen\\n9783791355283\\tKunst\\n9783641100278\\tRomane & Erzählungen\\n9783442748174\\tRomane & Erzählungen\\n9783421039538\\tArchitektur\\n9783424201536\\tLebenshilfe & Psychologie\\n9783837172300\\tKrimi & Thriller\\n9783466346196\\tLebenshilfe & Psychologie\\tPsychologie\\n9783579085227\\tSpiritualität & Religion\\n9783442174683\\tGesundheit & Ernährung\\n9783641053994\\tPolitik & Gesellschaft\\n9783466309610\\tLebenshilfe & Psychologie\\n9783328101642\\tRomane & Erzählungen\\n9783453604186\\tGesundheit & Ernährung\\n9783641037796\\tFantasy\\n9783570158586\\tEchtes Leben, Realistischer Roman\\tLiebe, Beziehung und Freundschaft\\n9783641145088\\tRomane & Erzählungen\\n9783641080921\\tFantasy\\n9783442714148\\tSchicksalsberichte\\n9783641103972\\tRomane & Erzählungen\\n9783442220199\\tGanzheitliche Psychologie\\n9783442743285\\tRomane & Erzählungen\\n9783517094656\\tFitness & Sport\\n9783809436003\\tEssen & Trinken\\n9783453317482\\tFantasy\\n9783844510713\\tRomane & Erzählungen\\n9783641145668\\tRomantasy\\tMystery\\n9783442484799\\tKrimi & Thriller\\n9783630620046\\tKlassiker & Lyrik\\n9783641033996\\tKrimi & Thriller\\n9783442482344\\tKrimi & Thriller\\tRomane & Erzählungen\\n9783328102724\\tRomane & Erzählungen\\n9783641115685\\tScience Fiction\\n9783442222117\\tGesundheit & Ernährung\\n9783641136161\\tScience Fiction\\n9783641082604\\tKrimi & Thriller\\n9783641078447\\tScience Fiction\\n9783442376476\\tKrimi & Thriller\\n9783579086279\\tPolitik & Gesellschaft\\tGanzheitliche Psychologie\\tSterben, Tod und Trauer\\n9783641067489\\tKrimi & Thriller\\n9783570175750\\tAbenteuer\\n9783421039033\\tHandwerk Farbe\\n9783867171281\\tAbenteuer\\tHistorische Romane, Zeitgeschichte\\n9783641115593\\tScience Fiction\\n9783442340415\\tEnergieheilung\\tKörper & Seele\\n9783442755448\\t(Zeit-) Geschichte\\n9783717522201\\tRomane & Erzählungen\\n9783641048242\\tRatgeber Partnerschaft & Sexualität\\n9783453292017\\tFrauenunterhaltung\\n9783641073473\\tNatur, Wissenschaft, Technik\\n9783442478781\\tKrimi & Thriller\\n9783453438392\\tKrimi & Thriller\\n9783442165025\\tGanzheitliche Psychologie\\n9783641122485\\tKrimi & Thriller\\n9783641092214\\tRomane & Erzählungen\\n9783844501605\\tKlassiker & Lyrik\\tEchtes Leben, Realistischer Roman\\n9783453318151\\tFantasy und Science Fiction\\n9783421040725\\tWohnen & Innenarchitektur\\n9783453603721\\tGesundheit & Ernährung\\tEssen & Trinken\\n9783442738755\\tRomane & Erzählungen\\n9783579085364\\tSpiritualität & Religion\\tGemeindearbeit\\n9783442733897\\tRomane & Erzählungen\\n9783844523713\\tKommunikation & Beruf\\n9783641096267\\tFrauenunterhaltung\\n9783453471252\\tFrauenunterhaltung\\n9783837119367\\tRomane & Erzählungen\\n9783641161132\\tKrimi & Thriller\\n9783442748785\\tRomane & Erzählungen\\n9783570403341\\tLiebe, Beziehung und Freundschaft\\n9783641114992\\tScience Fiction\\n9783442372164\\tKrimi & Thriller\\n9783442358960\\tKrimi & Thriller\\n9783442220137\\tEnergieheilung\\n9783641162948\\tKrimi & Thriller\\n9783442482887\\tKrimi & Thriller\\n9783453436176\\tKrimi & Thriller\\n9783570173930\\tAbenteuer\\n9783734103407\\tFrauenunterhaltung\\n9783424152067\\tRatgeber Partnerschaft & Sexualität\\tGanzheitlich Leben\\n9783641151201\\tKinderbuch & Jugendbuch\\n9783717523529\\tRomane & Erzählungen\\n9783328100638\\tRomane & Erzählungen\\n9783641171919\\tKrimi & Thriller\\n9783867177481\\tRomane & Erzählungen\\n9783453270176\\tFrauenunterhaltung\\n9783837175806\\tRomane & Erzählungen\\n9783641068370\\tFantasy und Science Fiction\\tEchtes Leben, Realistischer Roman\\n9783837127119\\tFantasy\\n9783641068103\\tRomane & Erzählungen\\n9783641062552\\tKrimi & Thriller\\n9783453318205\\tFantasy\\n9783442479009\\tFrauenunterhaltung\\n9783517088518\\tEssen & Trinken\\n9783837142709\\tTiergeschichten\\tNatur, Tiere, Umwelt, Mensch\\n9783791371573\\tKinderbuch & Jugendbuch\\tKunst, Musik\\tKunst\\n9783579080550\\tTheologie\\n9783641187392\\tKrimi & Thriller\\n9783844521399\\tAbenteuer\\n9783734106972\\tKrimi & Thriller\\n9783641637316\\tKabarett & Satire\\n9783764506308\\tFrauenunterhaltung\\n9783517094694\\tGesundheit & Ernährung\\tLebenshilfe & Psychologie\\n9783442724819\\tKrimi & Thriller\\n9783453271104\\tKrimi & Thriller\\tRomane & Erzählungen\\n9783570175057\\tAbenteuer\\tEchtes Leben, Realistischer Roman\\n9783570552247\\t(Zeit-) Geschichte\\n9783579059624\\tGemeindearbeit\\n9783641169138\\tScience Fiction\\n9783466346769\\tLebenshilfe & Psychologie\\n9783442220441\\tGanzheitliche Psychologie\\n9783442159208\\tPolitik & Gesellschaft\\t(Zeit-) Geschichte\\n9783442754540\\tRomane & Erzählungen\\n9783641048297\\tLebenshilfe & Psychologie\\n9783442481026\\tFrauenunterhaltung\\tKrimi & Thriller\\n9783641170677\\tKinderbuch & Jugendbuch\\tLiebe, Beziehung und Freundschaft\\tEchtes Leben, Realistischer Roman\\n9783641137830\\tRomane & Erzählungen\\n9783778792773\\tPsychologie\\tRatgeber Partnerschaft & Sexualität\\n9783442480449\\tFantasy\\n9783442717422\\tRomane & Erzählungen\\n9783570552278\\tPolitik & Gesellschaft\\n9783442166398\\tGesundheit & Ernährung\\n9783570171707\\tFamilie\\tAbenteuer\\n9783867179065\\tKrimi & Thriller\\n9783453437432\\tHorror\\n9783867177245\\tKrimi & Thriller\\n9783421025210\\tArchitektur\\n9783837137149\\tRomane & Erzählungen\\tKlassiker & Lyrik\\tKrimi & Thriller\\n9783442715220\\tKrimi & Thriller\\n9783442377336\\tFrauenunterhaltung\\n9783641054939\\tPolitik & Gesellschaft\\n9783579080963\\tTheologie\\n9783641044251\\tScience Fiction\\n9783453524194\\tFantasy\\n9783572080588\\tFreizeit & Hobby\\n9783453319615\\tScience Fiction\\n9783844522808\\tKinderbuch & Jugendbuch\\n9783641155339\\tKrimi & Thriller\\n9783442484621\\tKrimi & Thriller\\n9783442268627\\tFantasy\\n9783641106669\\tRomane & Erzählungen\\n9783570401095\\tEchtes Leben, Realistischer Roman\\tFantasy und Science Fiction\\n9783570173527\\tKinderbuch & Jugendbuch\\tAbenteuer\\tLiebe, Beziehung und Freundschaft\\n9783844518658\\tRomane & Erzählungen\\n9783570102268\\tRomane & Erzählungen\\n9783570027431\\tEchtes Leben, Realistischer Roman\\n9783466308026\\tEltern & Familie\\n9783453412897\\tEchtes Leben, Realistischer Roman\\n9783641028626\\tKrimi & Thriller\\n9783734105791\\tFrauenunterhaltung\\n9783453411647\\tFrauenunterhaltung\\n9783720526197\\tGanzheitliche Psychologie\\n9783466308842\\tLebenshilfe & Psychologie\\n9783641057428\\tRomane & Erzählungen\\n9783570125533\\tLiebe, Beziehung und Freundschaft\\tAbenteuer\\tEchtes Leben, Realistischer Roman\\n9783453421875\\tKrimi & Thriller\\n9783641086169\\tKrimi & Thriller\\n9783421055071\\t(Zeit-) Geschichte\\n9783442220502\\tEsoterische Romane\\n9783453418011\\tFrauenunterhaltung\\n9783837122862\\tRomane & Erzählungen\\n9783442383603\\tHistorische Romane\\n9783641025328\\t(Zeit-) Geschichte\\n9783453418349\\tFrauenunterhaltung\\n9783442158591\\tAbenteuer, Reisen, fremde Kulturen\\tBiographien & Autobiographien\\n9783641049379\\tFrauenunterhaltung\\n9783424201277\\tKommunikation & Beruf\\tLebenshilfe & Psychologie\\n9783466346127\\tLebenshilfe & Psychologie\\n9783641053536\\tEnergieheilung\\n9783641151324\\tKrimi & Thriller\\n9783641131500\\tFrauenunterhaltung\\n9783442158362\\tPolitik & Gesellschaft\\n9783778775288\\tÜbernatürliches\\tGanzheitliche Psychologie\\n9783641010713\\tRomane & Erzählungen\\n9783844505771\\tRomane & Erzählungen\\tFrauenunterhaltung\\n9783442483396\\tFantasy\\tRomantasy\\n9783517089164\\tEssen & Trinken\\tGesundheit & Ernährung\\n9783570312308\\tFantasy und Science Fiction\\n9783827500588\\tBiographien & Autobiographien\\n9783717518143\\tRomane & Erzählungen\\tKlassiker & Lyrik\\n9783641207212\\tScience Fiction\\n9783466371440\\tSpiritualität & Religion\\tLebenshilfe & Psychologie\\n9783570173039\\tKinderbuch & Jugendbuch\\n9783453604551\\tLebenshilfe & Psychologie\\n9783570553282\\tKunst & Kultur\\n9783867173445\\tKrimi & Thriller\\n9783844512007\\tRomane & Erzählungen\\n9783641084721\\tRomance\\n9783579085456\\tSpiritualität & Religion\\n9783442742417\\tRomane & Erzählungen\\n9783844504514\\tLiteratur & Unterhaltung Satire\\tRomane & Erzählungen\\n9783641622220\\tFreizeit & Hobby\\n9783453318397\\tRomantasy\\tFantasy\\n9783837170535\\tMärchen, Sagen\\n9783579086392\\tPolitik & Gesellschaft\\tSpiritualität & Religion\\tLebenshilfe & Psychologie\\n9783809438472\\tBeschäftigung, Malen, Rätseln\\n9783809436362\\tFitness & Sport\\n9783844509748\\tKrimi & Thriller\\n9783641207229\\tScience Fiction\\n9783453359253\\tErotik\\n9783641046491\\tRomane & Erzählungen\\n9783570224038\\tEchtes Leben, Realistischer Roman\\tLiebe, Beziehung und Freundschaft\\n9783641039585\\tHistorische Romane\\n9783641090845\\tBiographien & Autobiographien\\n9783453271470\\tKrimi & Thriller\\tEchtes Leben, Realistischer Roman\\n9783641047863\\tRomane & Erzählungen\\n9783442175024\\tPolitik & Gesellschaft\\n9783734160677\\tScience Fiction\\n9783442715565\\tRomane & Erzählungen\\n9783641102753\\tFrauenunterhaltung\\n9783641094645\\tEssen & Trinken\\n9783453404977\\tFrauenunterhaltung\\n9783837121308\\tRomane & Erzählungen\\n9783837123708\\tKrimi & Thriller\\n9783641046668\\tPolitik & Gesellschaft\\n9783453314047\\tFantasy\\n9783453533059\\tMystery\\tFantasy\\n9783641084738\\tRomantasy\\n9783570307779\\tLiebe, Beziehung und Freundschaft\\n9783424151329\\tKörper & Seele\\tFitness & Sport\\n9783442741304\\tRomane & Erzählungen\\n9783641063795\\tEchtes Leben, Realistischer Roman\\tTiergeschichten\\n9783453603479\\tFitness & Sport\\tGesundheit & Ernährung\\n9783570400999\\tEchtes Leben, Realistischer Roman\\tLustige Geschichten, Witze\\tLiebe, Beziehung und Freundschaft\\n9783630621661\\tKlassiker & Lyrik\\n9783641111540\\tFrauenunterhaltung\\n9783641032333\\tPolitik & Gesellschaft\\n9783453436435\\tKrimi & Thriller\\n9783453314368\\tScience Fiction\\n9783453419001\\tKrimi & Thriller\\n9783453604452\\tKabarett & Satire\\n9783579060705\\tGemeindearbeit\\n9783424151879\\tKörper & Seele\\n9783778792322\\tGanzheitliche Psychologie\\n9783844503319\\tRomane & Erzählungen\\n9783579026770\\tTheologie\\n9783442216505\\tPsychologie\\n9783641154776\\tScience Fiction\\n9783641078096\\tScience Fiction\\n9783844507898\\tRomane & Erzählungen\\n9783734102561\\tKrimi & Thriller\\n9783328100690\\tFantasy\\tRomane & Erzählungen\\n9783641073718\\tKrimi & Thriller\\n9783641051761\\tRomane & Erzählungen\\n9783579081182\\tTheologie\\n9783641086848\\tScience Fiction\\n9783641065843\\tKabarett & Satire\\n9783641154202\\tPolitik & Gesellschaft\\n9783442392384\\tFreizeit & Hobby\\n9783837129236\\tAbenteuer\\tNatur, Tiere, Umwelt, Mensch\\tRatgeber Partnerschaft & Sexualität\\n9783641036768\\tFantasy\\n9783844503623\\tHistorische Romane, Zeitgeschichte\\tRomane & Erzählungen\\tEchtes Leben, Realistischer Roman\\n9783837135237\\tKrimi & Thriller\\n9783442484171\\tKrimi & Thriller\\n9783579082097\\tTheologie\\n9783641077464\\tScience Fiction\\n9783641174828\\tKrimis und Thriller\\n9783641071172\\tScience Fiction\\n9783641088682\\tRomane & Erzählungen\\n9783442469369\\tFantasy\\tRomane & Erzählungen\\tHorror\\n9783641017422\\tFantasy\\n9783837130959\\tRomane & Erzählungen\\n9783641120672\\tFrauenunterhaltung\\n9783328600077\\tKrimi & Thriller\\n9783827500854\\t(Zeit-) Geschichte\\n9783453318144\\tScience Fiction\\n9783442378883\\tFrauenunterhaltung\\n9783453640597\\tBiographien & Autobiographien\\n9783844528954\\tKinderbuch & Jugendbuch\\n9783421040831\\tWohnen & Innenarchitektur\\n9783641095116\\tRomane & Erzählungen\\n9783641063788\\tLebenshilfe & Psychologie\\tPolitik & Gesellschaft\\n9783844506136\\tRomane & Erzählungen\\n9783641046781\\tKrimi & Thriller\\n9783570007334\\tPolitik & Gesellschaft\\n9783641018375\\tEltern & Familie\\n9783453409583\\tFrauenunterhaltung\\n9783641032746\\tKabarett & Satire\\n9783641093204\\tRomane & Erzählungen\\n9783579082370\\tTheologie\\n9783809434382\\tFreizeit & Hobby\\n9783328101468\\tKrimi & Thriller\\n9783630875262\\tRomane & Erzählungen\\n9783570164624\\tEchtes Leben, Realistischer Roman\\n9783837180794\\tRomane & Erzählungen\\n9783570553596\\t(Zeit-) Geschichte\\n9783466343324\\tLebenshilfe & Psychologie\\n9783570552575\\tPolitik & Gesellschaft\\n9783896675323\\tPolitik & Gesellschaft\\n9783641012335\\tPolitik & Gesellschaft\\n9783641149819\\tErotik\\n9783466307562\\tEltern & Familie\\n9783641016630\\tFreizeit & Hobby\\n9783570308912\\tKrimis und Thriller\\n9783442757374\\tRomane & Erzählungen\\n9783630875477\\tRomane & Erzählungen\\n9783641119416\\tRomane & Erzählungen\\n9783453200999\\tBiographien & Autobiographien\\n9783641147273\\tRomane & Erzählungen\\n9783641022938\\tLebenshilfe & Psychologie\\n9783421047274\\tPolitik & Gesellschaft\\n9783421038753\\tGarten & Landschaftsarchitektur\\n9783641117467\\tScience Fiction\\n9783791349718\\tKunst\\n9783442157518\\tWirtschaft & Recht\\n9783844516968\\tKlassiker & Lyrik\\n9783641063986\\tLebenshilfe & Psychologie\\tPolitik & Gesellschaft\\n9783641175504\\tScience Fiction\\n9783844508383\\tFantasy\\n9783641127404\\tKrimi & Thriller\\n9783837139259\\tKrimi & Thriller\\tRomane & Erzählungen\\tBiographien & Autobiographien\\n9783453407008\\tRomane & Erzählungen\\n9783641122263\\tRomance\\n9783837173895\\tRomane & Erzählungen\\n9783424153231\\tLebenshilfe & Psychologie\\tNaturheilweisen\\tGanzheitliche Psychologie\\n9783442356324\\tKrimi & Thriller\\n9783442222179\\tRatgeber Partnerschaft & Sexualität\\n9783442217908\\tNaturheilweisen\\n9783442483389\\tKrimi & Thriller\\n9783641061531\\tKrimi & Thriller\\n9783466346219\\tLebenshilfe & Psychologie\\tGanzheitliche Psychologie\\tPsychologie\\n9783791383118\\tMode & Lifestyle\\n9783579080130\\tTheologie\\n9783453271180\\tRomane & Erzählungen\\n9783641192532\\tScience Fiction\\n9783570173770\\tKinderbuch & Jugendbuch\\n9783453436312\\tKrimi & Thriller\\n9783442372515\\tFrauenunterhaltung\\n9783579018959\\tSpiritualität & Religion\\tTheologie\\n9783734101960\\tHistorische Romane\\n9783641106508\\tFrauenunterhaltung\\n9783641043148\\tKinderbuch & Jugendbuch\\tAbenteuer\\tFantasy\\n9783641035563\\tGesundheit & Ernährung\\n9783809435105\\tFreizeit & Hobby\\n9783641176273\\tScience Fiction\\n9783570174623\\tFantasy und Science Fiction\\tAbenteuer\\tNatur, Tiere, Umwelt, Mensch\\n9783844505160\\tRomane & Erzählungen\\n9783641058401\\tKrimi & Thriller\\n9783453430198\\tKrimi & Thriller\\n9783442158515\\tNatur, Wissenschaft, Technik\\tPolitik & Gesellschaft\\n9783442219803\\tGanzheitliche Psychologie\\n9783641120702\\tFrauenunterhaltung\\n9783641142629\\tLiebe, Beziehung und Freundschaft\\tKrimis und Thriller\\n9783641051808\\tEssen & Trinken\\n9783641107208\\tGanzheitliche Psychologie\\n9783641032760\\tRomance\\n9783641072896\\tRomane & Erzählungen\\n9783579086958\\tPolitik & Gesellschaft\\tSpiritualität & Religion\\tSterben, Tod und Trauer\\n9783442381609\\tFrauenunterhaltung\\n9783837123197\\tRomane & Erzählungen\\n9783453437425\\tKrimi & Thriller\\n9783570401200\\tEchtes Leben, Realistischer Roman\\tFantasy und Science Fiction\\tAbenteuer\\n9783641039950\\tRomance\\n9783641069520\\tFrauenunterhaltung\\n9783641136772\\tWeisheiten der Welt\\n9783641069223\\tRomantasy\\n9783579032610\\tGemeindearbeit\\n9783641084547\\tRomane & Erzählungen\\n9783641042882\\tPolitik & Gesellschaft\\n9783442452187\\tKrimi & Thriller\\n9783442370474\\tKrimi & Thriller\\n9783641140205\\tScience Fiction\\n9783641597030\\tFitness & Sport\\n9783570585641\\tRomane & Erzählungen\\tKrimi & Thriller\\n9783641094232\\tKrimi & Thriller\\n9783579026855\\tTheologie\\tSpiritualität & Religion\\n9783844519662\\tRomane & Erzählungen\\n9783641033279\\tLebenshilfe & Psychologie\\n9783453318991\\tFantasy\\n9783641043728\\tSport\\tKrimi & Thriller\\n9783453435315\\tHorror\\n9783442336500\\tBiographien & Autobiographien\\n9783844517354\\tAbenteuer\\tEchtes Leben, Realistischer Roman\\n9783844503876\\tRomane & Erzählungen\\n9783453702639\\tÜbernatürliches\\n9783734102127\\tKrimi & Thriller\\n9783442268221\\tFantasy\\n9783894808716\\tRomane & Erzählungen\\n9783424201475\\tPsychologie\\n9783791373140\\tKinderbuch & Jugendbuch\\n9783764531140\\tKrimi & Thriller\\n9783641086008\\tFrauenunterhaltung\\n9783453534346\\tScience Fiction\\tFrauenunterhaltung\\tLiebe, Beziehung und Freundschaft\\n9783809433415\\tEssen & Trinken\\n9783570402955\\tFantasy\\tFantasy und Science Fiction\\tEchtes Leben, Realistischer Roman\\n9783844508994\\tRomane & Erzählungen\\n9783844507874\\tRomane & Erzählungen\\tKinderbuch & Jugendbuch\\tHistorische Romane\\n9783579066042\\tSpiritualität & Religion\\tTheologie\\tEltern & Familie\\n9783442221202\\tGanzheitliche Psychologie\\n9783442176588\\tFitness & Sport\\n9783442480838\\tRomantasy\\n9783734102950\\tFrauenunterhaltung\\n9783453316676\\tRomantasy\\n9783641055059\\tKrimi & Thriller\\tSpiritualität & Religion\\n9783570553879\\tBiographien & Autobiographien\\n9783641061944\\tFantasy\\n9783453676824\\tRomane & Erzählungen\\n9783641102944\\tFrauenunterhaltung\\n9783442158430\\tKabarett & Satire\\n9783442745074\\tRomane & Erzählungen\\n9783641228699\\tScience Fiction\\n9783791372327\\tFreizeit & Hobby\\n9783641029715\\tLiebe, Beziehung und Freundschaft\\tFrauenunterhaltung\\n9783453315228\\tRomantasy\\n9783453418820\\tRomane & Erzählungen\\n9783453357549\\tFrauenunterhaltung\\n9783442746804\\tRomane & Erzählungen\\n9783442740130\\tRomane & Erzählungen\\n9783837112252\\tKrimi & Thriller\\n9783570174524\\tKinderbuch & Jugendbuch\\n9783641035457\\tRomane & Erzählungen\\n9783421040213\\tGarten & Landschaftsarchitektur\\n9783844520347\\tLiebe, Beziehung und Freundschaft\\tEchtes Leben, Realistischer Roman\\n9783453315037\\tFantasy\\n9783641098339\\tLebenshilfe & Psychologie\\tPolitik & Gesellschaft\\n9783844502152\\t(Zeit-) Geschichte\\tPolitik & Gesellschaft\\n9783641085063\\tKrimi & Thriller\\n9783579055374\\tGemeindearbeit\\n9783641147976\\tScience Fiction\\n9783442484256\\tKrimi & Thriller\\n9783844502268\\t(Zeit-) Geschichte\\tPolitik & Gesellschaft\\n9783734105043\\tHistorische Romane\\n9783837134025\\tKrimi & Thriller\\n9783453604681\\tPsychologie\\n9783453421684\\tRomane & Erzählungen\\n9783809431534\\tFreizeit & Hobby\\n9783641067625\\tKrimi & Thriller\\n9783641076764\\tRomane & Erzählungen\\tKinderbuch & Jugendbuch\\n9783899403121\\tKinderbuch & Jugendbuch\\n9783641126032\\tAbenteuer\\tFantasy und Science Fiction\\tScience Fiction\\n9783570102947\\tPsychologie\\n9783570311400\\tFantasy und Science Fiction\\n9783442368389\\tKrimi & Thriller\\n9783896314307\\tRomane & Erzählungen\\n9783641115555\\tScience Fiction\\n9783442393305\\tLifestyle\\n9783442375677\\tFrauenunterhaltung\\n9783641133597\\tScience Fiction\\n9783570174661\\tKinderbuch & Jugendbuch\\n9783570311196\\tLiebe, Beziehung und Freundschaft\\n9783421040848\\tWohnen & Innenarchitektur\\n9783328100805\\tRomane & Erzählungen\\n9783641179786\\tFantasy\\tEchtes Leben, Realistischer Roman\\tFantasy und Science Fiction\\n9783453267145\\tFantasy und Science Fiction\\tSchullektüre\\tEchtes Leben, Realistischer Roman\\n9783466364350\\tReligionsunterricht\\n9783641071387\\tPolitik & Gesellschaft\\n9783453524965\\tScience Fiction\\n9783641165390\\tFrauenunterhaltung\\n9783641025861\\tFrauenunterhaltung\\n9783570402764\\tAbenteuer\\n9783453645264\\tBiographien & Autobiographien\\n9783442740437\\tRomane & Erzählungen\\n9783421039477\\tGarten & Landschaftsarchitektur\\n9783641140434\\tHistorische Romane\\n9783421038548\\tEssen & Trinken\\n9783442158966\\tSchicksalsberichte\\n9783570171363\\tAbenteuer\\tEchtes Leben, Realistischer Roman\\tLiebe, Beziehung und Freundschaft\\n9783442314096\\tKrimi & Thriller\\n9783641181017\\tFrauenunterhaltung\\n9783453703131\\tGanzheitliche Psychologie\\n9783466345458\\tEltern & Familie\\tWeisheiten der Welt\\n9783442716746\\tRomane & Erzählungen\\n9783453418707\\tRomane & Erzählungen\\n9783442268467\\tFantasy\\n9783442748877\\tRomane & Erzählungen\\n9783442483167\\tKrimi & Thriller\\n9783641147648\\tKrimi & Thriller\\n9783734103520\\tFrauenunterhaltung\\n9783570403549\\tFantasy und Science Fiction\\n9783641173494\\tScience Fiction\\n9783837123777\\tRomane & Erzählungen\\n9783791355726\\tKunst\\n9783641199074\\tRatgeber Partnerschaft & Sexualität\\n9783442468102\\tKrimi & Thriller\\n9783734103834\\tErotik\\n9783453528406\\tScience Fiction\\n9783453280885\\tNatur, Wissenschaft, Technik\\n9783453533493\\tFantasy\\tMystery\\n9783791356488\\tKunst\\n9783837138474\\tKrimi & Thriller\\tRomane & Erzählungen\\tKabarett & Satire\\n9783442393015\\tEssen & Trinken\\n9783453422377\\tKrimi & Thriller\\tRomane & Erzählungen\\n9783579084688\\tTheologie\\tGemeindearbeit\\n9783791348414\\tKunst\\n9783442341313\\tWeisheiten der Welt\\n9783641060701\\tRomane & Erzählungen\\n9783442732333\\tKrimi & Thriller\\n9783641124533\\tPolitik & Gesellschaft\\n9783328100720\\tRomane & Erzählungen\\n9783453603912\\tPolitik & Gesellschaft\\tBiographien & Autobiographien\\n9783734101403\\tFrauenunterhaltung\\n9783641067236\\tGesundheit & Ernährung\\n9783570551295\\t(Zeit-) Geschichte\\n9783442724789\\tHistorische Romane\\n9783641084820\\tFrauenunterhaltung\\n9783442370375\\tKrimi & Thriller\\n9783641183974\\tScience Fiction\\n9783844506686\\tRomane & Erzählungen\\n9783466345380\\tEltern & Familie\\tLebenshilfe & Psychologie\\n9783442714445\\tKrimi & Thriller\\n9783453422940\\tFrauenunterhaltung\\n9783837101690\\tKlassiker & Lyrik\\n9783579074177\\tGemeindearbeit\\n9783641169817\\tScience Fiction\\n9783442745715\\tKrimi & Thriller\\n9783442475841\\tKrimi & Thriller\\n9783641160760\\tScience Fiction\\n9783734103797\\tHistorische Romane\\n9783442221097\\t(Zeit-) Geschichte\\tPsychologie & Spiritualität\\n9783641044152\\tRomane & Erzählungen\\n9783442742448\\tKrimi & Thriller\\n9783641067816\\tFrauenunterhaltung\\n9783442479580\\tKrimi & Thriller\\n9783899407754\\tKlassiker & Lyrik\\n9783453433946\\tKrimi & Thriller\\n9783453315686\\tFantasy\\n9783442733569\\tKlassiker & Lyrik\\n9783442713349\\tRomane & Erzählungen\\n9783421040534\\tGarten & Landschaftsarchitektur\\n9783442716814\\tRomane & Erzählungen\\n9783641049980\\tRomane & Erzählungen\\n9783641027124\\tKrimi & Thriller\\n9783641141790\\tPolitik & Gesellschaft\\n9783844507089\\tEchtes Leben, Realistischer Roman\\n9783641051631\\tFrauenunterhaltung\\n9783867174145\\tRomane & Erzählungen\\n9783641072520\\tKrimi & Thriller\\n9783641037031\\tRomane & Erzählungen\\n9783424201383\\tPsychologie\\tWirtschaft & Recht\\tLebenshilfe & Psychologie\\n9783641086749\\tKrimi & Thriller\\n9783844503388\\tRomane & Erzählungen\\n9783641058531\\tFantasy\\n9783641133153\\tEssen & Trinken\\n9783442748075\\tKrimi & Thriller\\n9783641062545\\tMystery\\n9783453676404\\tHorror\\n9783641085285\\tRomane & Erzählungen\\n9783570225349\\tEchtes Leben, Realistischer Roman\\tKinderbuch & Jugendbuch\\tSchullektüre\\n9783894804381\\tKrimi & Thriller\\n9783453410510\\tFrauenunterhaltung\\n9783442379347\\tFrauenunterhaltung\\n9783453438026\\tHorror\\n9783641079284\\tFantasy\\n9783837103885\\tKabarett & Satire\\n9783453436800\\tKrimi & Thriller\\n9783466346530\\tLebenshilfe & Psychologie\\n9783442713196\\tRomane & Erzählungen\\n9783866046580\\tNatur, Tiere, Umwelt, Mensch\\n9783844514810\\tRomane & Erzählungen\\n9783809434368\\tBeschäftigung, Malen, Rätseln\\tEchtes Leben, Realistischer Roman\\tFreizeit & Hobby\\n9783453315778\\tMystery\\tScience Fiction\\n9783442740918\\tKrimi & Thriller\\n9783844513936\\tAbenteuer\\tRomane & Erzählungen\\n9783442218332\\tGesundheit & Ernährung\\n9783641082758\\tKrimi & Thriller\\n9783453545922\\tErotik\\n9783442482610\\tFrauenunterhaltung\\n9783813502909\\tBiographien & Autobiographien\\n9783641076245\\tKrimi & Thriller\\n9783641174514\\tFitness & Sport\\n9783641128746\\tScience Fiction\\n9783453355828\\tFrauenunterhaltung\\n9783734105715\\tFrauenunterhaltung\\n9783641091309\\tRomane & Erzählungen\\n9783442222216\\tWeisheiten der Welt\\tKörper & Seele\\n9783844510744\\tRomane & Erzählungen\\n9783453436749\\tKrimi & Thriller\\n9783837120684\\tEchtes Leben, Realistischer Roman\\tKrimi & Thriller\\tAbenteuer\\n9783442484669\\tKrimi & Thriller\\n9783453359499\\tHistorische Romane\\n9783641158842\\tFrauenunterhaltung\\n9783641086701\\tFrauenunterhaltung\\n9783641058548\\tPolitik & Gesellschaft\\n9783641034405\\tGesundheit & Ernährung\\n9783442486045\\tKrimi & Thriller\\n9783641069551\\tFrauenunterhaltung\\n9783844509564\\tKrimi & Thriller\\n9783579081823\\tTheologie\\n9783517092546\\tFitness & Sport\\n9783442269624\\tFantasy\\n9783791373560\\tKinderbuch & Jugendbuch\\n9783442738007\\tRomane & Erzählungen\\n9783641094379\\tKrimi & Thriller\\n9783641098292\\tGesundheit & Ernährung\\n9783517097251\\tLebenshilfe & Psychologie\\n9783421054487\\tRomane & Erzählungen\\n9783424200959\\tLebenshilfe & Psychologie\\tWirtschaft & Recht\\n9783641037888\\tFantasy\\n9783641088866\\tRomane & Erzählungen\\n9783791356921\\tKunst\\n9783442747207\\tRomane & Erzählungen\\n9783641112868\\tFrauenunterhaltung\\n9783453580589\\tErotik\\n9783442482597\\tKrimi & Thriller\\n9783641182236\\tFrauenunterhaltung\\n9783778792445\\tGanzheitliche Psychologie\\tSpiritualität & Religion\\n9783442338672\\tGanzheitliche Psychologie\\n9783809433484\\tFreizeit & Hobby\\tBeschäftigung, Malen, Rätseln\\tEchtes Leben, Realistischer Roman\\n9783641066000\\tRomane & Erzählungen\\n9783641026004\\tFantasy\\n9783717521808\\tRomane & Erzählungen\\n9783641094263\\tLebenshilfe & Psychologie\\n9783442713646\\tRomane & Erzählungen\\n9783844502671\\t(Zeit-) Geschichte\\tPolitik & Gesellschaft\\n9783570311912\\tLiebe, Beziehung und Freundschaft\\tEchtes Leben, Realistischer Roman\\n9783570103470\\tRomane & Erzählungen\\n9783641086107\\tFrauenunterhaltung\\n9783641192419\\tScience Fiction\\n9783442483709\\tFantasy\\n9783641136055\\tScience Fiction\\n9783641610913\\tEssen & Trinken\\n9783453439030\\tKrimi & Thriller\\n9783442487615\\tKrimi & Thriller\\n9783641086589\\tKrimi & Thriller\\n9783442734887\\tRomane & Erzählungen\\n9783453434134\\tHorror\\n9783453315662\\tFantasy\\n9783453432253\\tKrimi & Thriller\\n9783791382876\\tEssen & Trinken\\n9783641087449\\tKrimi & Thriller\\n9783791372433\\tKunst, Musik\\n9783844502077\\tEchtes Leben, Realistischer Roman\\tGeister- und Gruselgeschichten\\tAbenteuer\\n9783809433330\\tFreizeit & Hobby\\n9783827500984\\tPolitik & Gesellschaft\\n9783641088934\\tRomance\\n9783570173985\\tAbenteuer\\n9783442459452\\tRomane & Erzählungen\\n9783837178111\\tRomane & Erzählungen\\tEchtes Leben, Realistischer Roman\\n9783442373895\\tFantasy\\n9783442714667\\tRomane & Erzählungen\\n9783442165957\\tGesundheit & Ernährung\\n9783517092515\\tFitness & Sport\\n9783570552223\\t(Zeit-) Geschichte\\tPolitik & Gesellschaft\\n9783442266609\\tScience Fiction\\n9783442134472\\tFantasy\\n9783641032692\\tRomane & Erzählungen\\n9783844505924\\tScience Fiction\\n9783717540892\\tRomane & Erzählungen\\tBriefe, Essays, Gespräche\\tKunst & Kultur\\n9783424152074\\tEnergieheilung\\tGanzheitlich Leben\\n9783570302125\\tLiebe, Beziehung und Freundschaft\\tRomane & Erzählungen\\n9783641149253\\tScience Fiction\\n9783641084851\\tKrimi & Thriller\\n9783641016623\\tRomane & Erzählungen\\n9783442482832\\tKrimi & Thriller\\n9783641147235\\tFreizeit & Hobby\\n9783641105112\\tKrimi & Thriller\\n9783442205479\\tFrauenunterhaltung\\n9783466365708\\tEltern & Familie\\n9783442339419\\tGanzheitliche Psychologie\\tRatgeber Partnerschaft & Sexualität\\tKommunikation & Beruf\\n9783442176496\\tGesundheit & Ernährung\\tEssen & Trinken\\n9783442487516\\tRomane & Erzählungen\\n9783453435728\\tHorror\\tScience Fiction\\n9783641026158\\tKrimi & Thriller\\n9783442749157\\tKrimi & Thriller\\n9783641115135\\tScience Fiction\\n9783442173785\\tRatgeber Partnerschaft & Sexualität\\n9783641075705\\tFrauenunterhaltung\\n9783421040947\\tWohnen & Innenarchitektur\\n9783641203443\\tScience Fiction\\n9783453417939\\tFrauenunterhaltung\\n9783453318489\\tScience Fiction\\n9783641052300\\tRomantasy\\tMystery\\n9783641075293\\tKrimi & Thriller\\n9783442547364\\tRomane & Erzählungen\\n9783844502176\\tKrimi & Thriller\\n9783453270329\\tRomane & Erzählungen\\n9783442483754\\tFrauenunterhaltung\\n9783453676190\\tRomane & Erzählungen\\n9783641147440\\tSpiritualität & Religion\\n9783453408098\\tKrimi & Thriller\\n9783453433090\\tHorror\\n9783827501165\\tPolitik & Gesellschaft\\n9783837170337\\tMärchen, Sagen\\tLiebe, Beziehung und Freundschaft\\tBiographien & Autobiographien\\n9783641011031\\tGesundheit & Ernährung\\n9783453270824\\tKrimi & Thriller\\n9783442746699\\tRomane & Erzählungen\\n9783641056957\\tFreizeit & Hobby\\n9783442484249\\tRomane & Erzählungen\\n9783579086507\\tRomane & Erzählungen\\tSpiritualität & Religion\\tSterben, Tod und Trauer\\n9783442737734\\tRomane & Erzählungen\\n9783453359420\\tFrauenunterhaltung\\tRomane & Erzählungen\\n4250938800753\\tKinderbuch & Jugendbuch\\n9783570156933\\tKinderbuch & Jugendbuch\\n9783442716944\\tKrimi & Thriller\\n9783734106934\\tFrauenunterhaltung\\n9783837179835\\tMärchen, Sagen\\tKinderbuch & Jugendbuch\\n9783641094652\\tRomane & Erzählungen\\n9783453701564\\tKörper & Seele\\n9783641099053\\tKrimi & Thriller\\n9783641028268\\tKrimi & Thriller\\n9783641021092\\tKrimi & Thriller\\n9783896675804\\tKrimi & Thriller\\n9783453124684\\tKrimi & Thriller\\n9783641086022\\tKrimi & Thriller\\n9783844522129\\tRomane & Erzählungen\\tLiteratur & Unterhaltung Satire\\n9783570310878\\tFantasy und Science Fiction\\tEchtes Leben, Realistischer Roman\\n9783641213961\\tScience Fiction\\n9783453419803\\tKrimi & Thriller\\n9783442381982\\tHistorische Romane\\n9783442169863\\tLebenshilfe & Psychologie\\n9783641072964\\tFrauenunterhaltung\\n9783791356310\\tKunst\\n9783837122183\\tFantasy\\tRomane & Erzählungen\\tFantasy und Science Fiction\\n9783466306862\\tEltern & Familie\\n9783734160974\\tFantasy\\n9783641161491\\tFrauenunterhaltung\\n9783466346776\\tLebenshilfe & Psychologie\\n9783837118889\\tHorror\\n9783424152203\\tKörper & Seele\\tGesundheit & Ernährung\\n9783778775363\\tÜbernatürliches\\n9783570310083\\tLiebe, Beziehung und Freundschaft\\tEchtes Leben, Realistischer Roman\\n9783579025810\\tTheologie\\tSpiritualität & Religion\\n9783641124854\\tRomane & Erzählungen\\n9783570175460\\tKinderbuch & Jugendbuch\\n9783453408449\\tFrauenunterhaltung\\n9783641142582\\tFrauenunterhaltung\\n9783442749751\\tRomane & Erzählungen\\n9783453545762\\tErotik\\n9783466371754\\tSpiritualität & Religion\\tPolitik & Gesellschaft\\n9783641057220\\tRomane & Erzählungen\\n9783641089696\\tRomance\\n9783641197391\\tErotik\\n9783791383392\\tFotografie\\n9783328101741\\tKrimi & Thriller\\n9783466371921\\tBiographien & Autobiographien\\tSpiritualität & Religion\\n9783570163450\\tFantasy und Science Fiction\\tEchtes Leben, Realistischer Roman\\n9783641011376\\tBiographien & Autobiographien\\n9783442481835\\tKrimi & Thriller\\n9783641033491\\tLebenshilfe & Psychologie\\n9783442157778\\tBiographien & Autobiographien\\n9783844510577\\tRomane & Erzählungen\\n9783734101533\\tRomance\\n9783570164570\\tLiebe, Beziehung und Freundschaft\\n9783867177290\\tKlassiker & Lyrik\\n9783570214176\\tEchtes Leben, Realistischer Roman\\tDetektivgeschichten\\n9783809435235\\tBeschäftigung, Malen, Rätseln\\tFreizeit & Hobby\\tEltern & Familie\\n9783421040916\\tGarten & Landschaftsarchitektur\\n9783453437883\\tRomane & Erzählungen\\n9783641053437\\tRomane & Erzählungen\\n9783442484515\\tRomane & Erzählungen\\n9783641169084\\tScience Fiction\\n9783641192433\\tScience Fiction\\n9783453660014\\tEssen & Trinken\\n9783641054625\\tPolitik & Gesellschaft\\n9783453703209\\tGanzheitliche Psychologie\\n9783641152253\\tKrimi & Thriller\\n9783641033866\\tPolitik & Gesellschaft\\tSachbuch Philosophie\\n9783641092559\\tKrimi & Thriller\\n9783453545588\\tRomane & Erzählungen\\n9783442341276\\tNaturheilweisen\\n9783734160615\\tScience Fiction\\n9783453438835\\tKrimi & Thriller\\n9783641087463\\tHorror\\n9783844504347\\tHistorische Romane\\n9783421053664\\tRomane & Erzählungen\\n9783442378425\\tFantasy\\n9783641080075\\tMystery\\n9783453604025\\tKabarett & Satire\\n9783442748419\\tRomane & Erzählungen\\n9783517096889\\tGesundheit & Ernährung\\n9783899405255\\tRomane & Erzählungen\\n9783453527102\\tScience Fiction\\n9783641049607\\tRomane & Erzählungen\\n9783641125639\\tSchicksalsdeutung\\n9783844518702\\tRomane & Erzählungen\\n9783570303818\\tLiebe, Beziehung und Freundschaft\\tEchtes Leben, Realistischer Roman\\n9783734106460\\tKrimi & Thriller\\n9783641013936\\tGesundheit & Ernährung\\n9783641050702\\tKlassiker & Lyrik\\n9783837129694\\tRomane & Erzählungen\\n9783442732982\\tRomane & Erzählungen\\n9783453314061\\tScience Fiction\\tKinderbuch & Jugendbuch\\n9783764506360\\tKrimi & Thriller\\n9783328103165\\tRomane & Erzählungen\\n9783442269242\\tRomantasy\\n9783837176605\\tKrimi & Thriller\\n9783442222407\\tLebenshilfe & Psychologie\\n9783570552704\\tPolitik & Gesellschaft\\tBiographien & Autobiographien\\n9783734104527\\tKrimi & Thriller\\n9783641052003\\tRomantasy\\n9783641103743\\tEssen & Trinken\\n9783641158200\\tKrimi & Thriller\\n9783442714001\\tRomane & Erzählungen\\n9783641106454\\tRomane & Erzählungen\\n9783867173209\\tRomane & Erzählungen\\n9783579054032\\tTheologie\\n9783442170005\\tGanzheitliche Psychologie\\tGesundheit & Ernährung\\n9783844523171\\tMusik\\tEchtes Leben, Realistischer Roman\\tKrimi & Thriller\\n9783641071417\\tHistorische Romane\\n9783641079383\\tLebenshilfe & Psychologie\\tGanzheitlich Leben\\n9783453526853\\tScience Fiction\\n9783641163297\\tKrimi & Thriller\\n9783734103285\\tKrimi & Thriller\\n9783453603714\\tEssen & Trinken\\n9783328101871\\tPolitik & Gesellschaft\\n9783734106675\\tHistorische Romane\\n9783453356986\\tHistorische Romane\\n9783579082486\\tTheologie\\n9783570217191\\tEchtes Leben, Realistischer Roman\\tSchullektüre\\tSchulgeschichten\\n9783442481064\\tHistorische Romane\\n9783442355778\\tKrimi & Thriller\\n9783442353941\\tFrauenunterhaltung\\n9783867178358\\tKrimi & Thriller\\n9783641072391\\tKrimi & Thriller\\tFrauenunterhaltung\\n9783641107857\\tKrimi & Thriller\\n9783453703292\\tÜbernatürliches\\n9783641595036\\tFitness & Sport\\n9783641069179\\tErotik\\n9783442221196\\tLebenshilfe & Psychologie\\n9783453354920\\tKrimi & Thriller\\tHistorische Romane\\n9783570164457\\tTiergeschichten\\tFamilie\\n9783844518665\\tRomane & Erzählungen\\n9783421046345\\tRomane & Erzählungen\\n9783453603196\\tKabarett & Satire\\n9783837126266\\tKrimi & Thriller\\n9783442221325\\tKörper & Seele\\tWeisheiten der Welt\\n9783809434962\\tFreizeit & Hobby\\n9783844512854\\tRomane & Erzählungen\\n9783641077037\\tPolitik & Gesellschaft\\n9783579082288\\tTheologie\\n9783570174609\\tAbenteuer\\tTiergeschichten\\n9783453319004\\tScience Fiction\\n9783442485802\\tFrauenunterhaltung\\n9783844523492\\tKrimi & Thriller\\n9783453201477\\tGesundheit & Ernährung\\n9783570102046\\tPolitik & Gesellschaft\\n9783641148089\\tLebenshilfe & Psychologie\\n9783466371570\\tSpiritualität & Religion\\tSterben, Tod und Trauer\\n9783442754809\\tRomane & Erzählungen\\n9783791347783\\tFotografie\\n9783641070847\\tKrimi & Thriller\\tRomane & Erzählungen\\n9783466345052\\tEltern & Familie\\n9783453811119\\tFrauenunterhaltung\\n9783442713639\\tRomane & Erzählungen\\n9783442384211\\tFantasy\\tGeister- und Gruselgeschichten\\tFantasy und Science Fiction\\n9783734101472\\tKrimi & Thriller\\n9783442220618\\tGesundheit & Ernährung\\n9783734106880\\tFrauenunterhaltung\\n9783641196226\\tKrimi & Thriller\\n9783641101480\\tScience Fiction\\n9783579005195\\tTheologie\\n9783734100994\\tRomane & Erzählungen\\n9783517087856\\tEssen & Trinken\\n9783630872780\\tRomane & Erzählungen\\n9783442159352\\tPolitik & Gesellschaft\\n9783453603066\\tInfotainment & erzählendes Sachbuch\\n9783734106064\\tFrauenunterhaltung\\n9783442485215\\tKrimi & Thriller\\n9783844510942\\tEchtes Leben, Realistischer Roman\\n9783844509601\\tRomane & Erzählungen\\n9783442342402\\tKörper & Seele\\n9783453438408\\tKrimi & Thriller\\n9783641069711\\tLiebe, Beziehung und Freundschaft\\tEchtes Leben, Realistischer Roman\\n9783791352497\\tArchitektur\\n9783442743131\\tRomane & Erzählungen\\n9783453438873\\tKrimi & Thriller\\n9783453437357\\tKrimi & Thriller\\n9783570224618\\tEchtes Leben, Realistischer Roman\\tTiergeschichten\\tAbenteuer\\n9783570102114\\tRomane & Erzählungen\\n9783867178709\\tLiteratur & Unterhaltung Satire\\tKabarett & Satire\\n9783421048103\\tPolitik & Gesellschaft\\n9783579086538\\tPolitik & Gesellschaft\\tSpiritualität & Religion\\tBiographien & Autobiographien\\n9783579034232\\tGemeindearbeit\\n9783570174616\\tAbenteuer\\n9783867173575\\tFantasy\\n9783734105685\\tKrimi & Thriller\\n9783453438019\\tKrimi & Thriller\\n9783570311189\\tEchtes Leben, Realistischer Roman\\n9783764505561\\tFrauenunterhaltung\\tEltern & Familie\\n9783453532915\\tMystery\\tFantasy\\n9783641130022\\tRomane & Erzählungen\\n9783837112191\\tKrimi & Thriller\\n9783453530805\\tFantasy\\n9783421046963\\t(Zeit-) Geschichte\\tPolitik & Gesellschaft\\tKunst & Kultur\\n9783453271630\\tLiebe, Beziehung und Freundschaft\\tRomane & Erzählungen\\n9783570174180\\tTiergeschichten\\n9783641084110\\tLifestyle\\n9783442175239\\tRatgeber Partnerschaft & Sexualität\\tPsychologie\\n9783809435013\\tFreizeit & Hobby\\n9783579005027\\tTheologie\\n9783466371310\\tLebenshilfe & Psychologie\\tSpiritualität & Religion\\n9783579018850\\tSpiritualität & Religion\\tTheologie\\n9783641060305\\tKlassiker & Lyrik\\n9783453534094\\tHistorische Romane\\n9783809436737\\tFreizeit & Hobby\\n9783641045548\\tEltern & Familie\\n9783641045371\\tRomane & Erzählungen\\n9783641228705\\tScience Fiction\\n9783844503913\\tRomane & Erzählungen\\n9783442376407\\tKrimi & Thriller\\n9783442749508\\tKrimi & Thriller\\n9783899407136\\tKrimi & Thriller\\n9783579070858\\tRomane & Erzählungen\\n9783453354456\\tRomane & Erzählungen\\n9783813507218\\tBiographien & Autobiographien\\n9783328101130\\tLebenshilfe & Psychologie\\tRomane & Erzählungen\\t(Zeit-) Geschichte\\n9783442737673\\tRomane & Erzählungen\\n9783442173303\\tGanzheitliche Psychologie\\n9783896675750\\tKabarett & Satire\\tBiographien & Autobiographien\\n9783844508888\\tRomane & Erzählungen\\n9783844503227\\tKrimi & Thriller\\n9783641058173\\tGesundheit & Ernährung\\n9783442158348\\tPolitik & Gesellschaft\\tPsychologie\\tNatur, Wissenschaft, Technik\\n9783442714551\\tRomane & Erzählungen\\n9783442366200\\tFrauenunterhaltung\\n9783453120938\\tFitness & Sport\\tGesundheit & Ernährung\\n9783641045876\\tPolitik & Gesellschaft\\n9783453410466\\tRomance\\n9783466371990\\tSpiritualität & Religion\\tLebenshilfe & Psychologie\\n9783641080198\\tLiebe, Beziehung und Freundschaft\\n9783641125851\\tNatur, Wissenschaft, Technik\\n9783328101321\\tRomane & Erzählungen\\n9783328102816\\tRomane & Erzählungen\\n9783641086596\\tFrauenunterhaltung\\n9783453200906\\tKrimi & Thriller\\n9783570380185\\tFantasy und Science Fiction\\tEchtes Leben, Realistischer Roman\\n9783424152951\\tKörper & Seele\\tGanzheitlich Leben\\n9783641096052\\tFrauenunterhaltung\\n9783453603363\\tInfotainment & erzählendes Sachbuch\\n9783424631159\\tÜbernatürliches\\tWeisheiten der Welt\\n9783844511666\\tRomane & Erzählungen\\n9783442714193\\tRomane & Erzählungen\\n9783442459223\\tKrimi & Thriller\\n9783453565128\\tKrimi & Thriller\\n9783442757381\\tRomane & Erzählungen\\n9783641101695\\tKrimi & Thriller\\n9783442739462\\tRomane & Erzählungen\\n9783641068912\\tRomantasy\\n9783424153071\\tLebenshilfe & Psychologie\\tGesundheit & Ernährung\\tNaturheilweisen\\n9783641014551\\tEltern & Familie\\n9783442177295\\tGesundheit & Ernährung\\n9783641098216\\tEltern & Familie\\tLebenshilfe & Psychologie\\tBeschäftigung, Malen, Rätseln\\n9783641033330\\tÜbernatürliches\\n9783641177690\\tRomane & Erzählungen\\n9783641115326\\tScience Fiction\\n9783641149352\\tFrauenunterhaltung\\n9783641127602\\tScience Fiction\\n9783570170274\\tAbenteuer\\tFantasy und Science Fiction\\n9783570220252\\tFantasy und Science Fiction\\tAbenteuer\\tEchtes Leben, Realistischer Roman\\n9783442713783\\tBiographien & Autobiographien\\n9783899405217\\tLiebe, Beziehung und Freundschaft\\tEchtes Leben, Realistischer Roman\\tAbenteuer\\n9783641116552\\tScience Fiction\\n9783641017453\\tFrauenunterhaltung\\n9783809434405\\tFreizeit & Hobby\\n9783442747245\\tKrimi & Thriller\\n9783442217854\\tGanzheitliche Psychologie\\n9783641162306\\tScience Fiction\\n9783734103629\\tKrimi & Thriller\\n9783579081663\\tTheologie\\n9783570039557\\tKinderbuch & Jugendbuch\\n9783579070063\\tSpiritualität & Religion\\tGemeindearbeit\\n9783466369003\\tGemeindearbeit\\n9783844518467\\tEchtes Leben, Realistischer Roman\\tAbenteuer\\n9783641161033\\tLebenshilfe & Psychologie\\n9783809436072\\tFreizeit & Hobby\\tEssen & Trinken\\tSpiritualität & Religion\\n9783641077792\\tScience Fiction\\n9783641137274\\tSpiritualität & Religion\\n9783641045609\\tAbenteuer\\tEchtes Leben, Realistischer Roman\\n9783641094928\\tFrauenunterhaltung\\n9783641095390\\tAbenteuer\\tEchtes Leben, Realistischer Roman\\n9783867175883\\tRomane & Erzählungen\\tKinderbuch & Jugendbuch\\n9783641113100\\tGesundheit & Ernährung\\tFitness & Sport\\n9783570157732\\tEchtes Leben, Realistischer Roman\\tLiebe, Beziehung und Freundschaft\\n9783641158255\\tEchtes Leben, Realistischer Roman\\n9783641091934\\tRomane & Erzählungen\\n9783764505790\\tFrauenunterhaltung\\tRomane & Erzählungen\\n9783734102035\\tKrimi & Thriller\\n9783453316140\\tScience Fiction\\n9783641206048\\tScience Fiction\\n9783641235956\\tFrauenunterhaltung\\n9783641144791\\tFrauenunterhaltung\\n9783764505325\\tKrimi & Thriller\\n9783442380268\\tFrauenunterhaltung\\n9783442138470\\tRomane & Erzählungen\\n9783453528925\\tScience Fiction\\n9783442175581\\tPsychologie\\n9783442220373\\tRomane & Erzählungen\\n9783442441648\\tKinderbuch & Jugendbuch\\n9783641075286\\tKrimi & Thriller\\n9783466309276\\tLebenshilfe & Psychologie\\n9783453438149\\tKrimi & Thriller\\n9783641121198\\tFrauenunterhaltung\\n9783570553916\\tPolitik & Gesellschaft\\n9783641077150\\tScience Fiction\\n9783844501308\\tRomane & Erzählungen\\n9783442268542\\tScience Fiction\\n9783442158843\\tAbenteuer, Reisen, fremde Kulturen\\tRomane & Erzählungen\\n9783453528758\\tScience Fiction\\n9783641040925\\tAbenteuer\\tScience Fiction\\tFantasy und Science Fiction\\n9783641101428\\tFantasy\\n9783453290716\\tRomane & Erzählungen\\tSchicksalsberichte\\n9783570219539\\tNatur, Tiere, Umwelt, Mensch\\n9783641025458\\tGanzheitliche Psychologie\\n9783579052410\\tTheologie\\n9783641032630\\tKrimi & Thriller\\n9783570157015\\tEchtes Leben, Realistischer Roman\\n9783453675858\\tHorror\\n9783442730971\\tPsychologie\\tRomane & Erzählungen\\n9783328102298\\tKlassiker & Lyrik\\n9783453419148\\tKrimi & Thriller\\n9783844500509\\tAbenteuer\\tEchtes Leben, Realistischer Roman\\n9783641057350\\tPolitik & Gesellschaft\\n9783837127348\\tKrimi & Thriller\\n9783837101249\\tNatur, Tiere, Umwelt, Mensch\\n9783579065991\\tSpiritualität & Religion\\tRomane & Erzählungen\\n9783579086323\\tSterben, Tod und Trauer\\n9783442481774\\tRomane & Erzählungen\\n9783641095185\\tFrauenunterhaltung\\n9783570308028\\tLiebe, Beziehung und Freundschaft\\tFantasy und Science Fiction\\tKrimis und Thriller\\n9783837132151\\tKabarett & Satire\\n9783867170451\\tRomane & Erzählungen\\n9783641094966\\tAbenteuer\\tEchtes Leben, Realistischer Roman\\n9783641095727\\tReligion, Glaube, Ethik, Philosophie\\n9783844523881\\tEchtes Leben, Realistischer Roman\\tFrauenunterhaltung\\tAbenteuer\\n9783641210151\\tFantasy\\n9783734102196\\tKrimi & Thriller\\n9783641152376\\tEchtes Leben, Realistischer Roman\\tNatur, Wissenschaft, Technik\\tNatur, Tiere, Umwelt, Mensch\\n9783328100973\\tKrimi & Thriller\\n9783453596474\\tFrauenunterhaltung\\n9783734103223\\tKrimi & Thriller\\n9783844507041\\tKlassiker & Lyrik\\tKrimi & Thriller\\tAbenteuer\\n9783453271142\\tKrimi & Thriller\\n9783641026486\\tFantasy\\n9783641141530\\tRomane & Erzählungen\\n9783442742912\\tKrimi & Thriller\\n9783641139056\\tRomane & Erzählungen\\n9783570173947\\tAbenteuer\\n9783641105518\\tRomane & Erzählungen\\n9783641030902\\tKrimi & Thriller\\n9783442341252\\tGanzheitliche Psychologie\\n9783641099497\\tFrauenunterhaltung\\n9783809433224\\tFreizeit & Hobby\\n9783579060637\\tGemeindearbeit\\n9783442799541\\tKrimi & Thriller\\n9783466368037\\tSpiritualität & Religion\\n9783453703193\\tÜbernatürliches\\n9783442203871\\tRomane & Erzählungen\\n9783791372181\\tKinderbuch & Jugendbuch\\n9783453419124\\tKrimi & Thriller\\n9783641061722\\tKrimi & Thriller\\n9783453408623\\tFrauenunterhaltung\\n9783442478262\\tKrimi & Thriller\\tRomane & Erzählungen\\n9783570312407\\tTiergeschichten\\n9783453419278\\tErotik\\n9783579016405\\tTheologie\\tGemeindearbeit\\n9783442480760\\tFrauenunterhaltung\\n9783717523000\\tRomane & Erzählungen\\n9783453702981\\tÜbernatürliches\\n9783791350325\\tKunst\\n9783442480630\\tKrimi & Thriller\\n9783453354784\\tRomane & Erzählungen\\n9783641112042\\tBriefe, Essays, Gespräche\\n9783453317987\\tEchtes Leben, Realistischer Roman\\tScience Fiction\\tAbenteuer\\n9783641074432\\tKrimi & Thriller\\n9783641144517\\tKrimi & Thriller\\n9783442174614\\tMondkräfte\\n9783421039576\\tGarten & Landschaftsarchitektur\\n9783453525801\\tMystery\\n9783641179243\\tFantasy\\n9783442390793\\tEssen & Trinken\\n9783453358782\\tFrauenunterhaltung\\n9783641052126\\tLebenshilfe & Psychologie\\n9783442174942\\tLebenshilfe & Psychologie\\n9783641153588\\tFrauenunterhaltung\\n9783641084004\\tFrauenunterhaltung\\n9783734161759\\tFantasy\\tEchtes Leben, Realistischer Roman\\tFantasy und Science Fiction\\n9783896674616\\tBiographien & Autobiographien\\tPolitik & Gesellschaft\\n9783641166236\\tPolitik & Gesellschaft\\n9783453532823\\tMystery\\tFantasy\\n9783641184001\\tKrimi & Thriller\\n9783453409415\\tRomane & Erzählungen\\n9783641280314\\tLebenshilfe & Psychologie\\n9783442716081\\tRomane & Erzählungen\\n9783641169725\\tScience Fiction\\n9783453700055\\tGanzheitliche Psychologie\\n9783570403112\\tFantasy und Science Fiction\\tLiebe, Beziehung und Freundschaft\\tGeister- und Gruselgeschichten\\n9783641084165\\tFrauenunterhaltung\\n9783844518887\\tAbenteuer\\tEchtes Leben, Realistischer Roman\\n9783778782446\\tWeisheiten der Welt\\tRomane & Erzählungen\\n9783442745555\\tRomane & Erzählungen\\n9783641135379\\tHistorische Romane\\n9783641074500\\tBiographien & Autobiographien\\tSpiritualität & Religion\\n9783453316980\\tScience Fiction\\n9783328101536\\tKrimi & Thriller\\n9783453438187\\tHorror\\n9783641191658\\tScience Fiction\\n9783453201484\\tPolitik & Gesellschaft\\n9783442173419\\tGanzheitliche Psychologie\\n9783570137086\\tEchtes Leben, Realistischer Roman\\tKinderbuch & Jugendbuch\\n9783641060725\\tKrimi & Thriller\\n9783570552322\\tNatur, Wissenschaft, Technik\\tPolitik & Gesellschaft\\n9783442175390\\tLebenshilfe & Psychologie\\n9783641633707\\tEssen & Trinken\\n9783809439196\\tFreizeit & Hobby\\n9783809432890\\tGarten & Landschaftsarchitektur\\n9783641133979\\tLiebe, Beziehung und Freundschaft\\tFrauenunterhaltung\\n9783442379293\\tFrauenunterhaltung\\n9783328103202\\tFrauenunterhaltung\\n9783641018320\\tSchicksalsdeutung\\n9783579070933\\t(Zeit-) Geschichte\\n9783641164300\\tFantasy\\n9783641039929\\tRomance\\n9783517092645\\tGesundheit & Ernährung\\n9783570551394\\tBiographien & Autobiographien\\n9783641043926\\tKrimis und Thriller\\n9783837140279\\tFantasy\\tMärchen, Sagen\\tScience Fiction\\n9783579085388\\tSpiritualität & Religion\\n9783442381050\\tFrauenunterhaltung\\n9783453419179\\tHistorische Romane\\n9783442269730\\tRomantasy\\n9783570308363\\tKrimis und Thriller\\n9783641035730\\tKommunikation & Beruf\\n9783421040336\\tWohnen & Innenarchitektur\\n9783453091993\\tKrimi & Thriller\\n9783734106477\\tKrimi & Thriller\\n9783837170252\\tRomane & Erzählungen\\n9783641095833\\tAbenteuer\\tNatur, Tiere, Umwelt, Mensch\\n9783442173969\\tGanzheitliche Psychologie\\n9783453437630\\tKrimi & Thriller\\n9783466344581\\tGesundheit & Ernährung\\n9783764504861\\tKrimi & Thriller\\n9783453436824\\tKrimi & Thriller\\n9783570101742\\tInfotainment & erzählendes Sachbuch\\tNatur, Wissenschaft, Technik\\n9783867179737\\tFantasy\\n9783328101949\\tFrauenunterhaltung\\n9783442715138\\tKrimi & Thriller\\n9783442376896\\tHistorische Romane\\n9783570102572\\tKrimi & Thriller\\n9783641121785\\tFrauenunterhaltung\\n9783641231385\\tScience Fiction\\n9783764506247\\tKrimi & Thriller\\n9783453590274\\tFrauenunterhaltung\\n9783641041649\\tRomane & Erzählungen\\n9783641134655\\tKrimi & Thriller\\n9783453438736\\tKrimi & Thriller\\n9783453418806\\tErotik\\n9783579081557\\tTheologie\\n9783641064358\\tFantasy\\n9783844508956\\tKrimi & Thriller\\n9783453201958\\tBiographien & Autobiographien\\n9783453685345\\tFreizeit & Hobby\\n9783641068691\\tRomane & Erzählungen\\n9783837170085\\tKlassiker & Lyrik\\n9783453471351\\tHistorische Romane\\n9783641096885\\tSpiritualität & Religion\\n9783453432239\\tMystery\\tKrimi & Thriller\\n9783641039851\\tKrimi & Thriller\\n9783442725403\\tRomane & Erzählungen\\n9783442486977\\tFrauenunterhaltung\\tRomane & Erzählungen\\n9783894808457\\tHistorische Romane\\n9783421046321\\tPolitik & Gesellschaft\\n9783453677135\\tKrimi & Thriller\\n9783453702073\\tÜbernatürliches\\n9783453422070\\tFrauenunterhaltung\\n9783641107772\\tRomane & Erzählungen\\n9783791384191\\tFotografie\\n9783442172801\\tRatgeber Partnerschaft & Sexualität\\n9783453471412\\tHistorische Romane\\n9783641173524\\tScience Fiction\\n9783442487103\\tKrimi & Thriller\\n9783837112375\\tKrimi & Thriller\\n9783867176361\\tKrimi & Thriller\\n9783579062112\\tGemeindearbeit\\n9783453524941\\tFantasy\\n9783641120566\\tFrauenunterhaltung\\n9783442341160\\tWeisheiten der Welt\\tGanzheitliche Psychologie\\tGanzheitlich Leben\\n9783570171653\\tLiebe, Beziehung und Freundschaft\\tAbenteuer\\tEchtes Leben, Realistischer Roman\\n9783421040015\\tGarten & Landschaftsarchitektur\\n9783570553565\\tNatur, Wissenschaft, Technik\\n9783641075231\\tRomane & Erzählungen\\n9783579082424\\tTheologie\\n9783453052208\\tKinderbuch & Jugendbuch\\n9783442220021\\tEnergieheilung\\n9783442742493\\tRomane & Erzählungen\\n9783579086910\\tRomane & Erzählungen\\tSpiritualität & Religion\\tPolitik & Gesellschaft\\n9783641076382\\tRomane & Erzählungen\\tKrimi & Thriller\\n9783453676350\\tKrimi & Thriller\\n9783570156483\\tKinderbuch & Jugendbuch\\tEchtes Leben, Realistischer Roman\\tAbenteuer\\n9783442730360\\tRomane & Erzählungen\\n9783442156054\\tRomane & Erzählungen\\n9783453418127\\tRomane & Erzählungen\\n9783442749102\\tRomane & Erzählungen\\n9783630612249\\tRomane & Erzählungen\\n9783641142421\\tFantasy und Science Fiction\\n9783641117801\\tKrimi & Thriller\\tFrauenunterhaltung\\n9783579080567\\tTheologie\\n9783453075481\\tKrimi & Thriller\\n9783442753369\\tRomane & Erzählungen\\tSchicksalsberichte\\n9783466371761\\tSpiritualität & Religion\\tLebenshilfe & Psychologie\\n9783886809950\\t(Zeit-) Geschichte\\tBiographien & Autobiographien\\tPolitik & Gesellschaft\\n9783466367832\\tEltern & Familie\\n9783791383804\\tFotografie\\n9783453435193\\tKrimi & Thriller\\n9783809436614\\tRatgeber Partnerschaft & Sexualität\\n9783442733439\\tRomane & Erzählungen\\n9783570225455\\tEchtes Leben, Realistischer Roman\\tLustige Geschichten, Witze\\n9783453419629\\tFrauenunterhaltung\\n9783641190941\\tFantasy\\n9783641031251\\tNatur, Wissenschaft, Technik\\n9783844511727\\tRomane & Erzählungen\\n9783453418653\\tKrimi & Thriller\\n9783641092351\\tRomance\\n9783453419025\\tHistorische Romane\\n9783442219889\\tWeisheiten der Welt\\tGanzheitlich Leben\\tKörper & Seele\\n9783570131770\\tDetektivgeschichten\\tEchtes Leben, Realistischer Roman\\tAbenteuer\\n9783764532123\\tScience Fiction\\n9783641126315\\tPsychologie\\n9783466367467\\tGemeindearbeit\\n9783453604896\\tFrauenunterhaltung\\n9783641037956\\tFantasy\\tRomantasy\\n9783570403655\\tAbenteuer\\n9783466371525\\tSpiritualität & Religion\\tPolitik & Gesellschaft\\n9783442739882\\tRomane & Erzählungen\\n9783641074135\\tRomane & Erzählungen\\n9783570553497\\tBiographien & Autobiographien\\n9783734101052\\tKrimi & Thriller\\n9783641096380\\tKrimi & Thriller\\n9783442220281\\tKörper & Seele\\tGanzheitliche Psychologie\\n9783421037022\\tWohnen & Innenarchitektur\\n9783570401323\\tLiebe, Beziehung und Freundschaft\\tEchtes Leben, Realistischer Roman\\tFamilie\\n9783641148515\\tKrimi & Thriller\\tEchtes Leben, Realistischer Roman\\n9783421040039\\tGarten & Landschaftsarchitektur\\n9783453317291\\tRomantasy\\n4250938800777\\tKinderbuch & Jugendbuch\\n9783442749072\\tRomane & Erzählungen\\n9783570174913\\tKinderbuch & Jugendbuch\\n9783453534469\\tScience Fiction\\tFrauenunterhaltung\\n9783453675605\\tKrimi & Thriller\\n9783641154936\\tEchtes Leben, Realistischer Roman\\tLiebe, Beziehung und Freundschaft\\tFamilie\\n9783641097493\\tScience Fiction\\n9783641120757\\tFrauenunterhaltung\\n9783579081533\\tTheologie\\n9783572081981\\tFreizeit & Hobby\\n9783442744893\\tKrimi & Thriller\\n9783453357631\\tFrauenunterhaltung\\n9783837125832\\tLiteratur & Unterhaltung Satire\\n9783579023502\\tTheologie\\n9783453317093\\tScience Fiction\\n9783641548421\\tGesundheit & Ernährung\\n9783570402054\\tAbenteuer\\tFantasy und Science Fiction\\tEchtes Leben, Realistischer Roman\\n9783453420601\\tKrimi & Thriller\\n9783809437543\\tEssen & Trinken\\n9783442220861\\tGesundheit & Ernährung\\n9783442158218\\t(Zeit-) Geschichte\\n9783717522287\\tRomane & Erzählungen\\n9783517096360\\tEssen & Trinken\\n9783442157570\\tPolitik & Gesellschaft\\t(Zeit-) Geschichte\\n9783453703339\\tWeisheiten der Welt\\n9783421039910\\tGarten & Landschaftsarchitektur\\n9783442749324\\tRomane & Erzählungen\\n9783453810723\\tKrimi & Thriller\\n9783453432086\\tKrimi & Thriller\\n9783641120887\\tFrauenunterhaltung\\n9783570311714\\tFantasy und Science Fiction\\n9783453437418\\tKrimi & Thriller\\n9783827500991\\t(Zeit-) Geschichte\\n9783453316713\\tScience Fiction\\n9783641069100\\tKrimi & Thriller\\n9783453359666\\tErotik\\n9783837143485\\tKrimi & Thriller\\tNatur, Tiere, Umwelt, Mensch\\n9783630873084\\tRomane & Erzählungen\\n9783641110130\\tEchtes Leben, Realistischer Roman\\tFamilie\\tKrimi & Thriller\\n9783453875814\\tFrauenunterhaltung\\n9783827500304\\t(Zeit-) Geschichte\\n9783791341552\\tKunst\\n9783453319059\\tScience Fiction\\n9783641084967\\tFantasy\\n9783453675940\\tBiographien & Autobiographien\\n9783570380444\\tFantasy und Science Fiction\\tEchtes Leben, Realistischer Roman\\n9783641034962\\tKommunikation & Beruf\\n9783442269372\\tFantasy\\n9783641137069\\tPolitik & Gesellschaft\\n9783837170528\\tMärchen, Sagen\\n9783844511086\\tRomane & Erzählungen\\n9783328103943\\tRomane & Erzählungen\\n9783837175363\\tBiographien & Autobiographien\\n9783442342334\\tRatgeber Partnerschaft & Sexualität\\tKörper & Seele\\n9783421043290\\tPolitik & Gesellschaft\\n9783844506853\\tRomane & Erzählungen\\n9783641151317\\tKrimi & Thriller\\n9783641026264\\tPolitik & Gesellschaft\\n9783442480807\\tErotik\\n9783630870649\\tRomane & Erzählungen\\n9783641116767\\tScience Fiction\\n9783641028725\\tKrimi & Thriller\\n9783791382098\\tKunst\\n9783570152959\\tSportgeschichten\\tAbenteuer\\tEchtes Leben, Realistischer Roman\\n9783570310151\\tLiebe, Beziehung und Freundschaft\\n9783717521747\\tRomane & Erzählungen\\n9783579052243\\tTheologie\\n9783579048802\\tTheologie\\n9783641180065\\tKrimi & Thriller\\n9783453503823\\tFrauenunterhaltung\\n9783641083526\\tPolitik & Gesellschaft\\n9783453436879\\tHorror\\n9783579034478\\tEchtes Leben, Realistischer Roman\\n9783641138837\\tScience Fiction\\n9783641045395\\tRomance\\n9783641060183\\tRomance\\n9783570226445\\tFantasy\\n9783641036560\\tGesundheit & Ernährung\\n9783837122725\\tRomane & Erzählungen\\n9783734103544\\tKrimi & Thriller\\n9783641151621\\tScience Fiction\\n9783570311776\\tFantasy und Science Fiction\\n9783641128777\\tTheologie\\n9783641068080\\tHorror\\n9783453359321\\tFrauenunterhaltung\\n9783641185381\\tFrauenunterhaltung\\n9783641016708\\tKrimi & Thriller\\n9783813503166\\t(Zeit-) Geschichte\\n9783641071042\\tSachbuch Philosophie\\n9783579086545\\tPolitik & Gesellschaft\\tPsychologie\\tSterben, Tod und Trauer\\n9783453503960\\tFrauenunterhaltung\\n9783837138566\\t(Zeit-) Geschichte\\tSchicksalsberichte\\tGeschichte, Politik\\n9783641030841\\tGemeindearbeit\\n9783453358706\\tFrauenunterhaltung\\n9783442220670\\tWeisheiten der Welt\\n9783641037833\\tRatgeber Partnerschaft & Sexualität\\n9783641038045\\tRomane & Erzählungen\\n9783717522461\\tRomane & Erzählungen\\n9783641114565\\tScience Fiction\\n9783837180954\\tRomane & Erzählungen\\n9783453422452\\tRomane & Erzählungen\\n9783570174067\\tLiebe, Beziehung und Freundschaft\\n9783517093826\\tFitness & Sport\\n9783442457212\\tRomane & Erzählungen\\n9783837171099\\tNatur, Tiere, Umwelt, Mensch\\tLiebe, Beziehung und Freundschaft\\tFamilie\\n9783641088569\\tFrauenunterhaltung\\n9783791373522\\tKinderbuch & Jugendbuch\\n9783641128449\\tScience Fiction\\n9783734100932\\tKrimi & Thriller\\tScience Fiction\\n9783641052799\\tKrimi & Thriller\\n9783453316638\\tMystery\\n9783442484478\\tKrimi & Thriller\\n9783641037468\\tFrauenunterhaltung\\n9783641030759\\tRomantasy\\n9783442746545\\tRomane & Erzählungen\\n9783844506549\\tRomane & Erzählungen\\n9783641124465\\tRomane & Erzählungen\\n9783844504941\\tAbenteuer\\tHistorische Romane, Zeitgeschichte\\n9783641224639\\tKrimi & Thriller\\n9783641045265\\tPolitik & Gesellschaft\\n9783837138351\\tNatur, Tiere, Umwelt, Mensch\\tFamilie\\tAbenteuer\\n9783844501629\\tRomane & Erzählungen\\n9783442159130\\tBiographien & Autobiographien\\n9783453438880\\tKrimi & Thriller\\tFrauenunterhaltung\\n9783886809141\\t(Zeit-) Geschichte\\n9783641086442\\tFantasy\\n9783641060961\\tFamilie\\tLebenshilfe & Psychologie\\tRomane & Erzählungen\\n9783641063887\\tInfotainment & erzählendes Sachbuch\\tLebenshilfe & Psychologie\\n9783641067502\\tKrimi & Thriller\\n9783442749782\\tPsychologie\\n9783442748631\\tRomane & Erzählungen\\n9783641031541\\tKrimi & Thriller\\n9783809438212\\tFreizeit & Hobby\\n9783641110147\\tFantasy und Science Fiction\\tLiebe, Beziehung und Freundschaft\\n9783641127725\\tSpiritualität & Religion\\n9783641162092\\tKrimi & Thriller\\n9783442747436\\tRomane & Erzählungen\\n9783453318953\\tScience Fiction\\n9783570138182\\tEchtes Leben, Realistischer Roman\\tDetektivgeschichten\\tLiebe, Beziehung und Freundschaft\\n9783641175764\\tScience Fiction\\n9783641071974\\tFrauenunterhaltung\\n9783442715862\\tRomane & Erzählungen\\n9783641179038\\tFrauenunterhaltung\\n9783641137014\\tScience Fiction\\n9783570312018\\tLiebe, Beziehung und Freundschaft\\n9783442483969\\tHistorische Romane\\n9783453314832\\tFantasy\\n9783867174374\\tRomane & Erzählungen\\n9783641045630\\tAbenteuer\\tEchtes Leben, Realistischer Roman\\n9783641043872\\tKrimis und Thriller\\tLiebe, Beziehung und Freundschaft\\n9783809436553\\tRomane & Erzählungen\\n9783641049300\\tKrimi & Thriller\\n9783442221639\\tWeisheiten der Welt\\n9783641036218\\tFitness & Sport\\n9783641148621\\tKrimi & Thriller\\n9783734103254\\tErotik\\n9783442742998\\tRomane & Erzählungen\\n9783453201149\\tRomane & Erzählungen\\n9783867175869\\tRomane & Erzählungen\\n9783579019284\\tTheologie\\n9783641142254\\tFamilie\\n9783641120726\\tFrauenunterhaltung\\n9783641126797\\tScience Fiction\\n9783442713851\\tKrimi & Thriller\\n9783844507461\\tKrimi & Thriller\\n9783837136258\\tLiteratur & Unterhaltung Satire\\tHistorische Romane\\tKrimi & Thriller\\n9783641610890\\tFreizeit & Hobby\\n9783570156360\\tSportgeschichten\\tKinderbuch & Jugendbuch\\n9783453317888\\tScience Fiction\\n9783442448791\\tRomane & Erzählungen\\n9783641010171\\tRomane & Erzählungen\\tEchtes Leben, Realistischer Roman\\n9783837170894\\tRomane & Erzählungen\\tMärchen, Sagen\\tSchullektüre\\n9783641022945\\tLebenshilfe & Psychologie\\n9783453409651\\tRomane & Erzählungen\\n9783641088200\\tAbenteuer, Reisen, fremde Kulturen\\tEssen & Trinken\\n9783453603592\\tKrimi & Thriller\\n9783734160431\\tFantasy\\n9783630872520\\tRomane & Erzählungen\\n9783837102185\\tLiteratur & Unterhaltung Satire\\n9783764506025\\tRomane & Erzählungen\\n9783641026028\\tFrauenunterhaltung\\n9783442173037\\tRatgeber Partnerschaft & Sexualität\\n9783442484614\\tKrimi & Thriller\\n9783424151640\\tEnergieheilung\\tKörper & Seele\\n9783641061395\\tRomane & Erzählungen\\n9783641054038\\tRomane & Erzählungen\\n9783641060220\\tBiographien & Autobiographien\\n9783570224366\\tTiergeschichten\\tLiebe, Beziehung und Freundschaft\\tAbenteuer\\n9783734160776\\tFantasy\\n9783641114893\\tScience Fiction\\n9783442392100\\tRatgeber Partnerschaft & Sexualität\\n9783641052263\\tPolitik & Gesellschaft\\n9783641116002\\tScience Fiction\\n9783717524304\\tRomane & Erzählungen\\n9783442136186\\tLebenshilfe & Psychologie\\n9783641024192\\tPolitik & Gesellschaft\\n9783442735198\\tRomane & Erzählungen\\n9783453197626\\tEltern & Familie\\n9783442739820\\tRomane & Erzählungen\\tBiographien & Autobiographien\\n9783442218509\\tGanzheitliche Psychologie\\n9783442740123\\tRomane & Erzählungen\\n9783579023991\\tTheologie\\n9783641157340\\tFrauenunterhaltung\\tRomane & Erzählungen\\n9783837117196\\tRomane & Erzählungen\\n9783442485000\\tRomane & Erzählungen\\n9783764531225\\tFantasy\\n9783844506525\\tRomane & Erzählungen\\n9783641033811\\tSpiritualität & Religion\\n9783442734245\\tRomane & Erzählungen\\n9783442220397\\tGanzheitliche Psychologie\\n9783641073114\\tGesundheit & Ernährung\\tKommunikation & Beruf\\n9783717524083\\tRomane & Erzählungen\\n9783641061678\\tFantasy\\n9783453532533\\tFantasy\\n9783442746644\\tRomane & Erzählungen\\n9783641047023\\tPolitik & Gesellschaft\\n9783641029791\\tMystery\\n9783641083496\\tPolitik & Gesellschaft\\n9783641039813\\tKrimi & Thriller\\n9783453419476\\tFrauenunterhaltung\\n9783570550632\\t(Zeit-) Geschichte\\tBiographien & Autobiographien\\n9783328103936\\tRomane & Erzählungen\\n9783641083069\\tPolitik & Gesellschaft\\n9783442470181\\tKrimi & Thriller\\n9783442742837\\tKrimi & Thriller\\n9783630874944\\tRomane & Erzählungen\\tKlassiker & Lyrik\\n9783442177516\\tGesundheit & Ernährung\\n9783791354903\\tKunst\\n9783453419551\\tFrauenunterhaltung\\n9783453435148\\tKrimi & Thriller\\n9783453271241\\tFantasy und Science Fiction\\tAbenteuer\\n9783442392780\\tEssen & Trinken\\n9783641094324\\tFantasy\\tRomantasy\\n9783453410732\\tKrimi & Thriller\\n9783734161391\\tFantasy\\n9783641130480\\tKrimi & Thriller\\n9783641042486\\tSpiritualität & Religion\\n9783442746132\\tRomane & Erzählungen\\n9783570164389\\tAbenteuer\\tLiebe, Beziehung und Freundschaft\\n9783453285477\\tAbenteuer, Reisen, fremde Kulturen\\n9783442748440\\tRomane & Erzählungen\\n9783844502343\\tAbenteuer\\tEchtes Leben, Realistischer Roman\\n9783764530860\\tFantasy\\tRomantasy\\n9783453419759\\tFrauenunterhaltung\\n9783641170554\\tInfotainment & erzählendes Sachbuch\\n9783641135218\\tKrimi & Thriller\\tFamilie\\tKinderbuch & Jugendbuch\\n9783442159031\\tGanzheitliche Psychologie\\n9783641130527\\tPsychologie\\n9783734101618\\tFrauenunterhaltung\\n9783641082987\\tFrauenunterhaltung\\n9783453421974\\tFrauenunterhaltung\\n9783442268573\\tFantasy\\n9783517097213\\tFitness & Sport\\n9783641034245\\tRomane & Erzählungen\\n9783778782743\\tEnergieheilung\\tKörper & Seele\\n9783442736409\\tRomane & Erzählungen\\n9783336547906\\tRomane & Erzählungen\\n9783734106309\\tFrauenunterhaltung\\n9783442221622\\tRomane & Erzählungen\\n9783442314805\\tRomane & Erzählungen\\n9783453359703\\tFrauenunterhaltung\\n9783837170351\\tRomane & Erzählungen\\tFantasy\\tKlassiker & Lyrik\\n9783641110000\\tRatgeber Partnerschaft & Sexualität\\n9783442340187\\tGanzheitliche Psychologie\\tKörper & Seele\\n9783844517965\\tEchtes Leben, Realistischer Roman\\tAbenteuer\\tGeister- und Gruselgeschichten\\n9783641067441\\tFantasy\\n9783579080246\\tTheologie\\n9783442478897\\tFrauenunterhaltung\\n9783453521865\\tScience Fiction\\n9783453271296\\tBiographien & Autobiographien\\n9783442375967\\tFrauenunterhaltung\\n9783442743094\\tKrimi & Thriller\\n9783453875340\\tScience Fiction\\n9783641164348\\tPolitik & Gesellschaft\\n9783641035686\\tScience Fiction\\n9783809416432\\tWissen & Nachschlagewerke\\n9783641178765\\tFrauenunterhaltung\\n9783442164516\\tGanzheitliche Psychologie\\n9783641111144\\tEchtes Leben, Realistischer Roman\\tGeschichte, Politik\\tHistorische Romane, Zeitgeschichte\\n9783579086996\\tSpiritualität & Religion\\tPolitik & Gesellschaft\\tSterben, Tod und Trauer\\n9783641127527\\tFrauenunterhaltung\\n9783837179798\\tRomane & Erzählungen\\n9783809438526\\tEssen & Trinken\\n9783442221677\\tWeisheiten der Welt\\tLebenshilfe & Psychologie\\n9783442370504\\tFrauenunterhaltung\\n9783778771853\\tÜbernatürliches\\n9783517089287\\tRatgeber Partnerschaft & Sexualität\\n9783896676054\\tRomane & Erzählungen\\n9783421047182\\tRomane & Erzählungen\\n9783844502275\\tRomane & Erzählungen\\n9783641152833\\tGesundheit & Ernährung\\n9783453407442\\tFrauenunterhaltung\\n9783641099459\\tKrimi & Thriller\\n9783764506803\\tKrimi & Thriller\\n9783453316997\\tScience Fiction\\n9783466346554\\tLebenshilfe & Psychologie\\n9783442362851\\tKrimi & Thriller\\n9783641138868\\tScience Fiction\\n9783442205486\\tFrauenunterhaltung\\n9783844501483\\tKrimi & Thriller\\n9783442171354\\tGanzheitliche Psychologie\\n9783867177788\\tRomane & Erzählungen\\tSachbuch Philosophie\\n9783837134247\\tMärchen, Sagen\\tAbenteuer\\tEchtes Leben, Realistischer Roman\\n9783442393299\\tNatur, Wissenschaft, Technik\\n9783453132269\\tLebenshilfe & Psychologie\\n9783844508949\\tKrimi & Thriller\\n9783442176212\\tEltern & Familie\\n9783641166182\\tKrimi & Thriller\\n9783442476169\\tKrimi & Thriller\\n9783778791479\\tEnergieheilung\\n9783844503135\\tKrimi & Thriller\\n9783517092553\\tGesundheit & Ernährung\\n9783328101451\\tKrimi & Thriller\\n9783442139125\\tRomane & Erzählungen\\n9783453700925\\tGanzheitliche Psychologie\\n9783778775066\\tGanzheitliche Psychologie\\tÜbernatürliches\\n9783809438540\\tFreizeit & Hobby\\n9783442480173\\tKrimi & Thriller\\n9783328100478\\tRomane & Erzählungen\\n9783809436379\\tFitness & Sport\\tGesundheit & Ernährung\\n9783764505820\\tFrauenunterhaltung\\tErotik\\n9783328100850\\tKrimi & Thriller\\n9783894803087\\tKrimi & Thriller\\n9783791381411\\tKunst\\n9783453419674\\tKrimi & Thriller\\n9783442740208\\tKrimi & Thriller\\n9783442487424\\tFrauenunterhaltung\\n9783442391875\\tRatgeber Partnerschaft & Sexualität\\n9783453291386\\tFrauenunterhaltung\\n9783466344291\\tGesundheit & Ernährung\\n9783844511321\\tRomane & Erzählungen\\n9783641129941\\tKunst & Kultur\\n9783641095161\\tRomane & Erzählungen\\tKommunikation & Beruf\\n9783424200928\\tLebenshilfe & Psychologie\\n9783453676589\\tHorror\\n9783442730643\\tRomane & Erzählungen\\n9783442458677\\tRomane & Erzählungen\\n9783809026884\\tRomane & Erzählungen\\n9783641055998\\tSpiritualität & Religion\\tTheologie\\n9783641061654\\tFrauenunterhaltung\\n9783453604780\\tInfotainment & erzählendes Sachbuch\\n9783867177177\\tEchtes Leben, Realistischer Roman\\tTiergeschichten\\tLiebe, Beziehung und Freundschaft\\n9783453422155\\tFrauenunterhaltung\\n9783641050481\\tNatur, Wissenschaft, Technik\\n9783442734337\\tRomane & Erzählungen\\n9783837174489\\tKrimi & Thriller\\n9783641110093\\tEchtes Leben, Realistischer Roman\\tRomane & Erzählungen\\n9783424631722\\tPsychologie\\n9783453316256\\tFantasy\\tScience Fiction\\n9783442730933\\tRomane & Erzählungen\\n9783570175354\\tSchulgeschichten\\n9783734105340\\tKrimi & Thriller\\n9783837125818\\tRomane & Erzählungen\\tNatur, Tiere, Umwelt, Mensch\\tMärchen, Sagen\\n9783328100102\\tKrimi & Thriller\\n9783442482566\\tKrimi & Thriller\\tFrauenunterhaltung\\n9783641166373\\tBiographien & Autobiographien\\n9783844506068\\tKlassiker & Lyrik\\n9783442222421\\tFitness & Sport\\n9783791383491\\tFotografie\\n9783641141219\\tFantasy und Science Fiction\\tAbenteuer\\tGeister- und Gruselgeschichten\\n9783641161170\\tKrimi & Thriller\\n9783328100621\\tPolitik & Gesellschaft\\n9783453319417\\tFantasy\\tScience Fiction\\n9783844503555\\tRomane & Erzählungen\\n9783867177726\\tKrimi & Thriller\\n9783641139124\\tSchicksalsberichte\\n9783570154205\\tKinderbuch & Jugendbuch\\tEchtes Leben, Realistischer Roman\\tBeschäftigung, Malen, Rätseln\\n9783442743476\\tRomane & Erzählungen\\n9783896674838\\tKrimi & Thriller\\n9783809438168\\tBeschäftigung, Malen, Rätseln\\n9783570380437\\tFantasy und Science Fiction\\tEchtes Leben, Realistischer Roman\\n9783641168209\\tFantasy\\n9783641112134\\tKrimi & Thriller\\n9783630621210\\tRomane & Erzählungen\\n9783453438170\\tRomane & Erzählungen\\n9783442482160\\tKrimi & Thriller\\n9783570312094\\tLiebe, Beziehung und Freundschaft\\tFantasy und Science Fiction\\n9783424151992\\tKörper & Seele\\tGanzheitlich Leben\\tNaturheilweisen\\n9783453471627\\tHistorische Romane\\n9783837130706\\tRomane & Erzählungen\\n9783641077433\\tScience Fiction\\n9783641087104\\tFrauenunterhaltung\\n9783442159529\\tBiographien & Autobiographien\\n9783442488339\\tKrimi & Thriller\\n9783734161667\\tFantasy\\n9783453358812\\tFrauenunterhaltung\\n9783791383040\\tDesign\\n9783791383811\\tFotografie\\n9783442383078\\tRomane & Erzählungen\\tFrauenunterhaltung\\n9783442485888\\tKrimi & Thriller\\n9783641093860\\tSpiritualität & Religion\\n9783641125158\\tRomane & Erzählungen\\n9783442155583\\tPsychologie\\n9783453470644\\tFantasy\\n9783453420298\\tRomane & Erzählungen\\n9783791372105\\tKunst, Musik\\n9783641133535\\tScience Fiction\\n9783844513028\\tRomane & Erzählungen\\n9783442478248\\tKrimi & Thriller\\n9783641151218\\tKinderbuch & Jugendbuch\\n9783641151393\\tKrimi & Thriller\\n9783641123512\\tRomance\\n9783641086381\\tRomane & Erzählungen\\n9783570163603\\tEchtes Leben, Realistischer Roman\\tFantasy und Science Fiction\\tLiebe, Beziehung und Freundschaft\\n9783791353593\\tKunst\\n9783453200609\\tPsychologie\\n9783641094218\\tFantasy und Science Fiction\\tKrimis und Thriller\\n9783442715206\\tRomane & Erzählungen\\n9783809027003\\tKrimi & Thriller\\n9783641074029\\tBiographien & Autobiographien\\n'"
      ]
     },
     "execution_count": 171,
     "metadata": {},
     "output_type": "execute_result"
    }
   ],
   "source": [
    "submission_format"
   ]
  },
  {
   "cell_type": "code",
   "execution_count": 172,
   "metadata": {},
   "outputs": [],
   "source": [
    "submission_file = open(\"../../data/svm_test_set_submission_sub_task_b.txt\",'w',encoding=\"utf-8\")"
   ]
  },
  {
   "cell_type": "code",
   "execution_count": 173,
   "metadata": {},
   "outputs": [],
   "source": [
    "submission_file.writelines(submission_format)"
   ]
  },
  {
   "cell_type": "code",
   "execution_count": 174,
   "metadata": {},
   "outputs": [],
   "source": [
    "submission_file.close()"
   ]
  },
  {
   "cell_type": "code",
   "execution_count": 154,
   "metadata": {},
   "outputs": [
    {
     "data": {
      "text/plain": [
       "4157"
      ]
     },
     "execution_count": 154,
     "metadata": {},
     "output_type": "execute_result"
    }
   ],
   "source": [
    "len(np.unique(test_book_df.isbn))"
   ]
  },
  {
   "cell_type": "code",
   "execution_count": null,
   "metadata": {},
   "outputs": [],
   "source": []
  }
 ],
 "metadata": {
  "kernelspec": {
   "display_name": "deeplearning_36",
   "language": "python",
   "name": "deeplearning_36"
  },
  "language_info": {
   "codemirror_mode": {
    "name": "ipython",
    "version": 3
   },
   "file_extension": ".py",
   "mimetype": "text/x-python",
   "name": "python",
   "nbconvert_exporter": "python",
   "pygments_lexer": "ipython3",
   "version": "3.6.8"
  }
 },
 "nbformat": 4,
 "nbformat_minor": 2
}
